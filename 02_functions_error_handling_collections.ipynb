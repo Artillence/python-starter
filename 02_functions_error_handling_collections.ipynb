{
 "cells": [
  {
   "cell_type": "markdown",
   "id": "ea886bcc-515a-4ecf-b0a6-9a18b88da6c6",
   "metadata": {},
   "source": [
    "# Functions\n",
    "\n",
    "A **function** is a reusable block of code that performs a specific task.\n",
    "\n",
    "## Why use functions?\n",
    "- Organize code into logical sections\n",
    "- Avoid repetition\n",
    "- Make your code easier to test and reuse\n",
    "\n",
    "## Function Syntax:\n",
    "\n",
    "```python\n",
    "def function_name(parameters):\n",
    "    # code block\n",
    "    return result\n",
    "```"
   ]
  },
  {
   "cell_type": "code",
   "execution_count": 1,
   "id": "ca954691-23d0-43fc-868f-11b79ea7444d",
   "metadata": {},
   "outputs": [
    {
     "name": "stdout",
     "output_type": "stream",
     "text": [
      "Hello, Anna!\n"
     ]
    }
   ],
   "source": [
    "# Example: Greet the user\n",
    "def greet(name):\n",
    "    print(f\"Hello, {name}!\")\n",
    "\n",
    "greet(\"Anna\")"
   ]
  },
  {
   "cell_type": "markdown",
   "id": "9aa45e76-62dc-4e00-9c9a-5ad040a69a34",
   "metadata": {},
   "source": [
    "# Built-in Functions in Python\n",
    "\n",
    "Python comes with many **built-in functions** that you can use right away — no imports needed.\n",
    "\n",
    "Here are a few commonly used ones:\n",
    "\n",
    "- `print()` – displays output\n",
    "- `len()` – returns the number of elements in a sequence\n",
    "- `type()` – shows the data type of a value\n",
    "- `range()` – generates a sequence of numbers\n",
    "- `sum()` – returns the sum of all elements in an iterable\n",
    "\n",
    "[Python Built-in Functions](https://docs.python.org/3/library/functions.html)\n"
   ]
  },
  {
   "cell_type": "markdown",
   "id": "0c84c5e0-143f-4f40-8534-7474735922e4",
   "metadata": {},
   "source": [
    "### Exercise:\n",
    "\n",
    "Write a function that takes a number and returns its square."
   ]
  },
  {
   "cell_type": "code",
   "execution_count": null,
   "id": "ab053c57-01b8-494c-ba6f-7826b3ca8b12",
   "metadata": {},
   "outputs": [],
   "source": [
    "def # ...\n",
    "\n",
    "print(...)"
   ]
  },
  {
   "cell_type": "code",
   "execution_count": 3,
   "id": "d5cbf9fa-8dd9-4cdd-aa79-a3e602be6871",
   "metadata": {
    "jupyter": {
     "source_hidden": true
    }
   },
   "outputs": [
    {
     "name": "stdout",
     "output_type": "stream",
     "text": [
      "25\n"
     ]
    }
   ],
   "source": [
    "# Solution:\n",
    "\n",
    "def square(x):\n",
    "    return x * x\n",
    "\n",
    "print(square(5))\n"
   ]
  },
  {
   "cell_type": "markdown",
   "id": "62fa0862-faff-447e-9f42-cba286904509",
   "metadata": {},
   "source": [
    "# Default Parameters\n",
    "\n",
    "You can give default values to function parameters."
   ]
  },
  {
   "cell_type": "code",
   "execution_count": 5,
   "id": "a391ea5e-2203-463d-a189-5ab133efd3ff",
   "metadata": {},
   "outputs": [
    {
     "name": "stdout",
     "output_type": "stream",
     "text": [
      "Hello, friend!\n",
      "Hello, David!\n"
     ]
    }
   ],
   "source": [
    "def greet(name=\"friend\"):\n",
    "    print(f\"Hello, {name}!\")\n",
    "\n",
    "greet()            # Uses default\n",
    "greet(\"David\")     # Overrides default"
   ]
  },
  {
   "cell_type": "markdown",
   "id": "26e0ae33-590d-40b8-8424-a317181bfd48",
   "metadata": {},
   "source": [
    "## Anti-pattern: Mutable Default Parameters\n",
    "\n",
    "Using a **mutable object** (like a list or dict) as a default can lead to unexpected behavior."
   ]
  },
  {
   "cell_type": "code",
   "execution_count": 7,
   "id": "dd134c72-c467-4ee4-8a78-d9e56efbaaaf",
   "metadata": {},
   "outputs": [
    {
     "name": "stdout",
     "output_type": "stream",
     "text": [
      "[1]\n",
      "[1, 2]\n"
     ]
    }
   ],
   "source": [
    "def append_item(item, container=[]):\n",
    "    container.append(item)\n",
    "    return container\n",
    "\n",
    "print(append_item(1))  # [1]\n",
    "print(append_item(2))  # [1, 2] ← Not what you expect!"
   ]
  },
  {
   "cell_type": "markdown",
   "id": "047360f6-80e7-48db-b456-6d31b34bc6c8",
   "metadata": {},
   "source": [
    "**Correct way:**"
   ]
  },
  {
   "cell_type": "code",
   "execution_count": 9,
   "id": "a8f0cca5-ae85-4fbc-9ed4-386b86780a8b",
   "metadata": {},
   "outputs": [
    {
     "name": "stdout",
     "output_type": "stream",
     "text": [
      "[1]\n",
      "[2]\n"
     ]
    }
   ],
   "source": [
    "def append_item(item, container=None):\n",
    "    if container is None:\n",
    "        container = []\n",
    "    container.append(item)\n",
    "    return container\n",
    "\n",
    "print(append_item(1))  # [1]\n",
    "print(append_item(2))  # [2]"
   ]
  },
  {
   "cell_type": "markdown",
   "id": "1ccaced6-b2f6-4ad2-a316-e88981429692",
   "metadata": {},
   "source": [
    "# Lambda (Anonymous) Functions\n",
    "\n",
    "A **lambda function** is a short, throwaway function defined without a name.\n",
    "\n",
    "Syntax:\n",
    "```python\n",
    "lambda parameters: expression\n",
    "```"
   ]
  },
  {
   "cell_type": "code",
   "execution_count": 10,
   "id": "b5397e98-8da4-4e78-b0fb-cd2588ca8c4b",
   "metadata": {},
   "outputs": [
    {
     "name": "stdout",
     "output_type": "stream",
     "text": [
      "8\n",
      "[1, 4, 9, 16]\n"
     ]
    }
   ],
   "source": [
    "double = lambda x: x * 2\n",
    "print(double(4))  # 8\n",
    "\n",
    "# Used often with functions like map(), filter()\n",
    "numbers = [1, 2, 3, 4]\n",
    "squared = list(map(lambda x: x**2, numbers))\n",
    "print(squared)"
   ]
  },
  {
   "cell_type": "markdown",
   "id": "917e867a-1fec-4396-82fe-e3bb3876c85a",
   "metadata": {},
   "source": [
    "# Recursive Functions\n",
    "\n",
    "A **recursive function** is one that calls itself to solve smaller instances of a problem.\n",
    "\n",
    "Example: Factorial calculation"
   ]
  },
  {
   "cell_type": "code",
   "execution_count": 11,
   "id": "8cb0c112-1127-4106-b02f-9c5eaeeac7fb",
   "metadata": {},
   "outputs": [
    {
     "name": "stdout",
     "output_type": "stream",
     "text": [
      "120\n"
     ]
    }
   ],
   "source": [
    "def factorial(n):\n",
    "    if n == 0:\n",
    "        return 1\n",
    "    else:\n",
    "        return n * factorial(n - 1)\n",
    "\n",
    "print(factorial(5))  # 120"
   ]
  },
  {
   "cell_type": "markdown",
   "id": "269262e3-0123-4d2c-bb33-aacbea00c993",
   "metadata": {},
   "source": [
    "# Higher-Order Functions\n",
    "\n",
    "A function is **higher-order** if it takes another function as an argument or returns a function.\n",
    "\n",
    "Python has many built-in higher-order functions: `map()`, `filter()`, `sorted()`, etc.\n"
   ]
  },
  {
   "cell_type": "code",
   "execution_count": 12,
   "id": "b24ed872-9bf5-443d-b9b9-213c1c2b8c94",
   "metadata": {},
   "outputs": [
    {
     "name": "stdout",
     "output_type": "stream",
     "text": [
      "HELLO\n",
      "hello\n"
     ]
    }
   ],
   "source": [
    "def shout(text):\n",
    "    return text.upper()\n",
    "\n",
    "def whisper(text):\n",
    "    return text.lower()\n",
    "\n",
    "def speak(func, message):\n",
    "    return func(message)\n",
    "\n",
    "print(speak(shout, \"hello\"))\n",
    "print(speak(whisper, \"HELLO\"))"
   ]
  },
  {
   "cell_type": "markdown",
   "id": "520cb8b8-b626-4d80-ad6b-95148904bd01",
   "metadata": {},
   "source": [
    "# Pure vs. Impure Functions\n",
    "\n",
    "A **pure function**:\n",
    "- Depends only on its inputs\n",
    "- Produces no side effects (doesn't modify external state)\n",
    "\n",
    "An **impure function**:\n",
    "- May rely on or modify external variables\n",
    "- Can produce side effects (e.g., printing, file I/O)\n"
   ]
  },
  {
   "cell_type": "code",
   "execution_count": 15,
   "id": "cc8b6f3b-3f75-4f4d-9f66-91a2f0622ce9",
   "metadata": {},
   "outputs": [
    {
     "name": "stdout",
     "output_type": "stream",
     "text": [
      "7\n",
      "5\n",
      "10\n"
     ]
    }
   ],
   "source": [
    "# Pure function\n",
    "def add(a, b):\n",
    "    return a + b\n",
    "\n",
    "# Impure function\n",
    "total = 0\n",
    "\n",
    "def add_to_total(x):\n",
    "    global total\n",
    "    total += x\n",
    "    return total\n",
    "\n",
    "print(add(3, 4))        # always 7\n",
    "print(add_to_total(5))  # depends on external state\n",
    "print(add_to_total(5))  # depends on external state"
   ]
  },
  {
   "cell_type": "markdown",
   "id": "8fbd9f37-9f49-4506-8630-9acbafa60063",
   "metadata": {},
   "source": [
    "---\n",
    "\n",
    "## Introduction to Error Handling\n",
    "\n",
    "### Understanding Exceptions\n",
    "\n",
    "In Python, an error is an issue that occurs during the execution of a program. Errors can be syntax errors or exceptions. Exceptions are errors that occur at runtime and can be handled to prevent the program from crashing."
   ]
  },
  {
   "cell_type": "code",
   "execution_count": 16,
   "id": "9a4efd16-3e9b-42c7-97b1-9915e45da1f6",
   "metadata": {},
   "outputs": [
    {
     "ename": "ZeroDivisionError",
     "evalue": "division by zero",
     "output_type": "error",
     "traceback": [
      "\u001b[31m---------------------------------------------------------------------------\u001b[39m",
      "\u001b[31mZeroDivisionError\u001b[39m                         Traceback (most recent call last)",
      "\u001b[36mCell\u001b[39m\u001b[36m \u001b[39m\u001b[32mIn[16]\u001b[39m\u001b[32m, line 2\u001b[39m\n\u001b[32m      1\u001b[39m \u001b[38;5;66;03m# Example of a runtime error (exception)\u001b[39;00m\n\u001b[32m----> \u001b[39m\u001b[32m2\u001b[39m \u001b[38;5;28mprint\u001b[39m(\u001b[32;43m10\u001b[39;49m\u001b[43m \u001b[49m\u001b[43m/\u001b[49m\u001b[43m \u001b[49m\u001b[32;43m0\u001b[39;49m)  \u001b[38;5;66;03m# This will raise a ZeroDivisionError\u001b[39;00m\n",
      "\u001b[31mZeroDivisionError\u001b[39m: division by zero"
     ]
    }
   ],
   "source": [
    "# Example of a runtime error (exception)\n",
    "print(10 / 0)  # This will raise a ZeroDivisionError"
   ]
  },
  {
   "cell_type": "markdown",
   "id": "5bab5704-77e4-423c-ba9b-536267213c4b",
   "metadata": {},
   "source": [
    "### Built-in Exceptions\n",
    "\n",
    "Python provides many built-in exceptions, such as `ZeroDivisionError`, `TypeError`, `ValueError`, `KeyError`, and [more](https://docs.python.org/3/library/exceptions.html#exception-hierarchy)."
   ]
  },
  {
   "cell_type": "code",
   "execution_count": 3,
   "id": "a507aca4-df14-4ab4-b3e8-eef98e619391",
   "metadata": {},
   "outputs": [
    {
     "ename": "ValueError",
     "evalue": "invalid literal for int() with base 10: 'a'",
     "output_type": "error",
     "traceback": [
      "\u001b[1;31m---------------------------------------------------------------------------\u001b[0m",
      "\u001b[1;31mValueError\u001b[0m                                Traceback (most recent call last)",
      "Cell \u001b[1;32mIn[3], line 2\u001b[0m\n\u001b[0;32m      1\u001b[0m \u001b[38;5;66;03m# Examples of built-in exceptions\u001b[39;00m\n\u001b[1;32m----> 2\u001b[0m \u001b[38;5;28;43mint\u001b[39;49m\u001b[43m(\u001b[49m\u001b[38;5;124;43m'\u001b[39;49m\u001b[38;5;124;43ma\u001b[39;49m\u001b[38;5;124;43m'\u001b[39;49m\u001b[43m)\u001b[49m  \u001b[38;5;66;03m# Raises ValueError\u001b[39;00m\n",
      "\u001b[1;31mValueError\u001b[0m: invalid literal for int() with base 10: 'a'"
     ]
    }
   ],
   "source": [
    "# Examples of built-in exceptions\n",
    "int('a')  # Raises ValueError"
   ]
  },
  {
   "cell_type": "code",
   "execution_count": 4,
   "id": "8ac21f2a-0986-42af-b885-d6afe6965fd4",
   "metadata": {},
   "outputs": [
    {
     "ename": "IndexError",
     "evalue": "list index out of range",
     "output_type": "error",
     "traceback": [
      "\u001b[1;31m---------------------------------------------------------------------------\u001b[0m",
      "\u001b[1;31mIndexError\u001b[0m                                Traceback (most recent call last)",
      "Cell \u001b[1;32mIn[4], line 1\u001b[0m\n\u001b[1;32m----> 1\u001b[0m \u001b[43m[\u001b[49m\u001b[38;5;241;43m1\u001b[39;49m\u001b[43m,\u001b[49m\u001b[43m \u001b[49m\u001b[38;5;241;43m2\u001b[39;49m\u001b[43m,\u001b[49m\u001b[43m \u001b[49m\u001b[38;5;241;43m3\u001b[39;49m\u001b[43m]\u001b[49m\u001b[43m[\u001b[49m\u001b[38;5;241;43m5\u001b[39;49m\u001b[43m]\u001b[49m  \u001b[38;5;66;03m# Raises IndexError\u001b[39;00m\n",
      "\u001b[1;31mIndexError\u001b[0m: list index out of range"
     ]
    }
   ],
   "source": [
    "[1, 2, 3][5]  # Raises IndexError"
   ]
  },
  {
   "cell_type": "markdown",
   "id": "c82526e7-45cb-4af9-bd66-8b7a2d47d67b",
   "metadata": {},
   "source": [
    "### Raising Exceptions\n",
    "\n",
    "You can raise exceptions using the `raise` statement."
   ]
  },
  {
   "cell_type": "code",
   "execution_count": 7,
   "id": "0e612374-f372-414c-b8c6-23d6f3a62528",
   "metadata": {},
   "outputs": [
    {
     "ename": "ValueError",
     "evalue": "This is a custom error message",
     "output_type": "error",
     "traceback": [
      "\u001b[1;31m---------------------------------------------------------------------------\u001b[0m",
      "\u001b[1;31mValueError\u001b[0m                                Traceback (most recent call last)",
      "Cell \u001b[1;32mIn[7], line 2\u001b[0m\n\u001b[0;32m      1\u001b[0m \u001b[38;5;66;03m# Example of raising an exception\u001b[39;00m\n\u001b[1;32m----> 2\u001b[0m \u001b[38;5;28;01mraise\u001b[39;00m \u001b[38;5;167;01mValueError\u001b[39;00m(\u001b[38;5;124m\"\u001b[39m\u001b[38;5;124mThis is a custom error message\u001b[39m\u001b[38;5;124m\"\u001b[39m)\n\u001b[0;32m      4\u001b[0m \u001b[38;5;28mprint\u001b[39m(\u001b[38;5;124m\"\u001b[39m\u001b[38;5;124mThis code does not run\u001b[39m\u001b[38;5;124m\"\u001b[39m)\n",
      "\u001b[1;31mValueError\u001b[0m: This is a custom error message"
     ]
    }
   ],
   "source": [
    "# Example of raising an exception\n",
    "raise ValueError(\"This is a custom error message\")\n",
    "\n",
    "print(\"This code does not run\")"
   ]
  },
  {
   "cell_type": "markdown",
   "id": "cdcdf955-d99d-4f6b-a141-f4a25b8f2e04",
   "metadata": {},
   "source": [
    "## Handling Exceptions\n",
    "\n",
    "### The `try` Statement\n",
    "\n",
    "To handle exceptions, use the `try` statement to wrap the code that might raise an exception."
   ]
  },
  {
   "cell_type": "code",
   "execution_count": 8,
   "id": "10f7f28f-bb8c-4d26-ae19-128b9ddc7b84",
   "metadata": {},
   "outputs": [
    {
     "name": "stdout",
     "output_type": "stream",
     "text": [
      "Cannot divide by zero\n",
      "This code runs\n"
     ]
    }
   ],
   "source": [
    "try:\n",
    "    # Code that might raise an exception\n",
    "    result = 10 / 0\n",
    "    print(\"This code does not run\")\n",
    "except ZeroDivisionError:\n",
    "    print(\"Cannot divide by zero\")\n",
    "\n",
    "print(\"This code runs\")"
   ]
  },
  {
   "cell_type": "markdown",
   "id": "5fe2c835-f20e-4fe4-baef-8a132070be20",
   "metadata": {},
   "source": [
    "### The `except` Block\n",
    "\n",
    "The `except` block catches and handles the exception."
   ]
  },
  {
   "cell_type": "code",
   "execution_count": 9,
   "id": "ec199f74-3217-41d5-bdb4-0383b99b5421",
   "metadata": {},
   "outputs": [
    {
     "name": "stdout",
     "output_type": "stream",
     "text": [
      "Cannot convert string to integer\n"
     ]
    }
   ],
   "source": [
    "try:\n",
    "    result = int('a')\n",
    "except ValueError:\n",
    "    print(\"Cannot convert string to integer\")"
   ]
  },
  {
   "cell_type": "markdown",
   "id": "82c25ef3-348a-4079-a948-076edc5723fb",
   "metadata": {},
   "source": [
    "### Multiple `except` Blocks\n",
    "\n",
    "You can use multiple `except` blocks to handle different exceptions."
   ]
  },
  {
   "cell_type": "code",
   "execution_count": 10,
   "id": "1989dbd2-1b04-4148-94ef-9fc632d81e02",
   "metadata": {},
   "outputs": [
    {
     "name": "stdout",
     "output_type": "stream",
     "text": [
      "ValueError: Cannot convert string to integer\n"
     ]
    }
   ],
   "source": [
    "try:\n",
    "    result = int('a')\n",
    "except ValueError:\n",
    "    print(\"ValueError: Cannot convert string to integer\")\n",
    "except TypeError:\n",
    "    print(\"TypeError: Invalid type\")"
   ]
  },
  {
   "cell_type": "markdown",
   "id": "6412101b-cca5-4710-96b9-2535476d6def",
   "metadata": {},
   "source": [
    "In some situations, you may want to print or log the exception without actually halting execution. To save the exact error message along with the stack trace, you can use Python's `traceback` module.\n",
    "\n",
    "The [traceback](https://docs.python.org/3/library/traceback.html) module in Python provides a way to extract, format, and print stack traces of Python programs. This is particularly useful when you're dealing with exceptions and want to get more detailed information about where an error occurred."
   ]
  },
  {
   "cell_type": "code",
   "execution_count": 17,
   "id": "45f9885d-3a4b-4f1c-beb8-32a2d27db08d",
   "metadata": {},
   "outputs": [
    {
     "name": "stdout",
     "output_type": "stream",
     "text": [
      "Traceback (most recent call last):\n",
      "  File \"C:\\Users\\gregk\\AppData\\Local\\Temp\\ipykernel_12048\\1764533044.py\", line 9, in main\n",
      "    risky_function()\n",
      "  File \"C:\\Users\\gregk\\AppData\\Local\\Temp\\ipykernel_12048\\1764533044.py\", line 5, in risky_function\n",
      "    return 1 / 0\n",
      "           ~~^~~\n",
      "ZeroDivisionError: division by zero\n",
      "\n"
     ]
    }
   ],
   "source": [
    "import traceback\n",
    "\n",
    "def risky_function():\n",
    "    # This function will intentionally raise a ZeroDivisionError\n",
    "    return 1 / 0\n",
    "\n",
    "def main():\n",
    "    try:\n",
    "        risky_function()\n",
    "    except ZeroDivisionError as e:\n",
    "        print(traceback.format_exc())\n",
    "\n",
    "main()\n"
   ]
  },
  {
   "cell_type": "markdown",
   "id": "b1f6f09c-2d9c-4bf2-8132-5880e9a868d8",
   "metadata": {},
   "source": [
    "### Re-Raising Exceptions as Different Exceptions\n",
    "\n",
    "Sometimes, you may need to catch an exception, perform some actions (e.g., logging or additional processing), and then re-raise it as a different type of exception. This can be useful for abstracting away implementation details and providing a more meaningful error context.\n",
    "\n",
    "#### Example: Re-Raising Exceptions"
   ]
  },
  {
   "cell_type": "code",
   "execution_count": 18,
   "id": "037b8ada-0aba-4dbc-922e-d6714f481c3a",
   "metadata": {},
   "outputs": [
    {
     "name": "stdout",
     "output_type": "stream",
     "text": [
      "Logging original error: An error occurred with the data\n",
      "Handled custom error: A custom error occurred during processing\n",
      "Original exception: An error occurred with the data\n"
     ]
    }
   ],
   "source": [
    "class CustomError(Exception):\n",
    "    \"\"\"A custom exception type.\"\"\"\n",
    "    pass\n",
    "\n",
    "class AnotherError(Exception):\n",
    "    \"\"\"Another custom exception type.\"\"\"\n",
    "    pass\n",
    "\n",
    "def process_data(data):\n",
    "    if data == \"bad\":\n",
    "        raise ValueError(\"An error occurred with the data\")\n",
    "\n",
    "def main():\n",
    "    try:\n",
    "        process_data(\"bad\")\n",
    "    except ValueError as e:\n",
    "        # Log the original exception (could also perform other actions)\n",
    "        print(f\"Logging original error: {e}\")\n",
    "        # Re-raise a different exception with a custom message\n",
    "        raise CustomError(\"A custom error occurred during processing\") from e\n",
    "\n",
    "try:\n",
    "    main()\n",
    "except CustomError as e:\n",
    "    print(f\"Handled custom error: {e}\")\n",
    "    print(f\"Original exception: {e.__cause__}\")"
   ]
  },
  {
   "cell_type": "markdown",
   "id": "e8d9af82-1e60-47b3-90be-2ab14b2a2621",
   "metadata": {},
   "source": [
    "**Explanation:**\n",
    "\n",
    "- `process_data` raises a `ValueError`.\n",
    "- In the `main` function, the `ValueError` is caught, and a `CustomError` is raised instead, using the `raise ... from e` syntax to retain the context of the original exception.\n",
    "- `e.__cause__` provides access to the original `ValueError`.\n",
    "\n",
    "### Re-Raising the same Exception\n",
    "\n",
    "You can also re-raise an exception in the `except` block:"
   ]
  },
  {
   "cell_type": "code",
   "execution_count": 19,
   "id": "09fb9595-345d-421b-81f4-7eef7db30b59",
   "metadata": {},
   "outputs": [
    {
     "name": "stdout",
     "output_type": "stream",
     "text": [
      "Caught an exception: division by zero\n"
     ]
    },
    {
     "ename": "ZeroDivisionError",
     "evalue": "division by zero",
     "output_type": "error",
     "traceback": [
      "\u001b[31m---------------------------------------------------------------------------\u001b[39m",
      "\u001b[31mZeroDivisionError\u001b[39m                         Traceback (most recent call last)",
      "\u001b[36mCell\u001b[39m\u001b[36m \u001b[39m\u001b[32mIn[19]\u001b[39m\u001b[32m, line 11\u001b[39m\n\u001b[32m      8\u001b[39m         \u001b[38;5;66;03m# Re-raise the same exception\u001b[39;00m\n\u001b[32m      9\u001b[39m         \u001b[38;5;28;01mraise\u001b[39;00m\n\u001b[32m---> \u001b[39m\u001b[32m11\u001b[39m result = \u001b[43mdivide_numbers\u001b[49m\u001b[43m(\u001b[49m\u001b[32;43m10\u001b[39;49m\u001b[43m,\u001b[49m\u001b[43m \u001b[49m\u001b[32;43m0\u001b[39;49m\u001b[43m)\u001b[49m\n",
      "\u001b[36mCell\u001b[39m\u001b[36m \u001b[39m\u001b[32mIn[19]\u001b[39m\u001b[32m, line 3\u001b[39m, in \u001b[36mdivide_numbers\u001b[39m\u001b[34m(a, b)\u001b[39m\n\u001b[32m      1\u001b[39m \u001b[38;5;28;01mdef\u001b[39;00m\u001b[38;5;250m \u001b[39m\u001b[34mdivide_numbers\u001b[39m(a, b):\n\u001b[32m      2\u001b[39m     \u001b[38;5;28;01mtry\u001b[39;00m:\n\u001b[32m----> \u001b[39m\u001b[32m3\u001b[39m         result = \u001b[43ma\u001b[49m\u001b[43m \u001b[49m\u001b[43m/\u001b[49m\u001b[43m \u001b[49m\u001b[43mb\u001b[49m\n\u001b[32m      4\u001b[39m         \u001b[38;5;28;01mreturn\u001b[39;00m result\n\u001b[32m      5\u001b[39m     \u001b[38;5;28;01mexcept\u001b[39;00m \u001b[38;5;167;01mZeroDivisionError\u001b[39;00m \u001b[38;5;28;01mas\u001b[39;00m e:\n\u001b[32m      6\u001b[39m         \u001b[38;5;66;03m# Handle the ZeroDivisionError\u001b[39;00m\n",
      "\u001b[31mZeroDivisionError\u001b[39m: division by zero"
     ]
    }
   ],
   "source": [
    "def divide_numbers(a, b):\n",
    "    try:\n",
    "        result = a / b\n",
    "        return result\n",
    "    except ZeroDivisionError as e:\n",
    "        # Handle the ZeroDivisionError\n",
    "        print(f\"Caught an exception: {e}\")\n",
    "        # Re-raise the same exception\n",
    "        raise\n",
    "\n",
    "result = divide_numbers(10, 0)"
   ]
  },
  {
   "cell_type": "markdown",
   "id": "4ac20bb2-b1f0-47fc-8380-5ff4a9c0eef2",
   "metadata": {},
   "source": [
    "### Exception Chaining\n",
    "\n",
    "When re-raising exceptions, Python allows you to chain exceptions to maintain the context of the original exception. This is done using the `raise ... from ...` syntax, as shown in the previous example. \n",
    "\n",
    "#### Example: Exception Chaining"
   ]
  },
  {
   "cell_type": "code",
   "execution_count": 20,
   "id": "60b44046-5699-464d-8fba-0d9835a53804",
   "metadata": {},
   "outputs": [
    {
     "name": "stdout",
     "output_type": "stream",
     "text": [
      "Logging original ZeroDivisionError: division by zero\n",
      "Handled ValueError: Failed to perform division\n",
      "Original exception: division by zero\n"
     ]
    }
   ],
   "source": [
    "def divide(a, b):\n",
    "    try:\n",
    "        return a / b\n",
    "    except ZeroDivisionError as e:\n",
    "        # Handle or log the original exception\n",
    "        print(f\"Logging original ZeroDivisionError: {e}\")\n",
    "        # Re-raise a new exception with additional context\n",
    "        raise ValueError(\"Failed to perform division\") from e\n",
    "\n",
    "try:\n",
    "    result = divide(10, 0)\n",
    "except ValueError as e:\n",
    "    print(f\"Handled ValueError: {e}\")\n",
    "    print(f\"Original exception: {e.__cause__}\")"
   ]
  },
  {
   "cell_type": "markdown",
   "id": "c24d2408-cf99-4eab-abbf-caef92364f24",
   "metadata": {},
   "source": [
    "**Explanation:**\n",
    "\n",
    "- `divide` catches `ZeroDivisionError` and re-raises it as a `ValueError`.\n",
    "- The `ValueError` retains the context of the `ZeroDivisionError`, which can be accessed through `e.__cause__`."
   ]
  },
  {
   "cell_type": "markdown",
   "id": "db3ead0d-ffd1-4b06-894b-e28f4efc9cb0",
   "metadata": {},
   "source": [
    "### The `else` Block\n",
    "\n",
    "The `else` block is executed if no exceptions are raised in the `try` block."
   ]
  },
  {
   "cell_type": "code",
   "execution_count": 21,
   "id": "3b202df6-7a09-45b9-adc1-4c59f4a331d3",
   "metadata": {},
   "outputs": [
    {
     "name": "stdout",
     "output_type": "stream",
     "text": [
      "Conversion successful: 10\n"
     ]
    }
   ],
   "source": [
    "try:\n",
    "    result = int('10')\n",
    "except ValueError:\n",
    "    print(\"Cannot convert string to integer\")\n",
    "else:\n",
    "    print(\"Conversion successful:\", result)"
   ]
  },
  {
   "cell_type": "markdown",
   "id": "c4a07d62-5ecb-4bb1-b070-cf16923b7a3a",
   "metadata": {},
   "source": [
    "Practical example:"
   ]
  },
  {
   "cell_type": "code",
   "execution_count": 22,
   "id": "a5241fbb-99c7-49a5-ab82-3789f86ae07a",
   "metadata": {},
   "outputs": [
    {
     "name": "stdout",
     "output_type": "stream",
     "text": [
      "Error: The file was not found.\n",
      "End of script.\n"
     ]
    }
   ],
   "source": [
    "try:\n",
    "    # Try to open and read the file\n",
    "    with open('myfile.txt', 'r') as file:\n",
    "        content = file.read()\n",
    "except FileNotFoundError:\n",
    "    # Handle the case where the file does not exist\n",
    "    print(\"Error: The file was not found.\")\n",
    "except IOError:\n",
    "    # Handle other I/O errors\n",
    "    print(\"Error: An I/O error occurred.\")\n",
    "else:\n",
    "    # This block will execute if no exceptions were raised\n",
    "    # Process the file content\n",
    "    print(\"File content successfully read. Processing content...\")\n",
    "    # Example processing: count the number of lines in the file\n",
    "    num_lines = len(content.splitlines())\n",
    "    print(f\"The file has {num_lines} lines.\")\n",
    "\n",
    "# Output message indicating the end of the script\n",
    "print(\"End of script.\")\n"
   ]
  },
  {
   "cell_type": "markdown",
   "id": "3e0f1cfc-7cde-4155-88b6-d58a218af210",
   "metadata": {},
   "source": [
    "### The `finally` Block\n",
    "\n",
    "The `finally` block is always executed, regardless of whether an exception was raised or not. This is particularly useful for resource cleanup tasks such as closing files or releasing locks."
   ]
  },
  {
   "cell_type": "code",
   "execution_count": 15,
   "id": "a4645bd4-ab91-461a-bf14-8904e83cf534",
   "metadata": {},
   "outputs": [
    {
     "name": "stdout",
     "output_type": "stream",
     "text": [
      "Cannot divide by zero\n",
      "This will always execute\n"
     ]
    }
   ],
   "source": [
    "try:\n",
    "    result = 10 / 0\n",
    "except ZeroDivisionError:\n",
    "    print(\"Cannot divide by zero\")\n",
    "finally:\n",
    "    print(\"This will always execute\")"
   ]
  },
  {
   "cell_type": "markdown",
   "id": "65ab96e0-0a29-4193-aed1-98b79153c5d4",
   "metadata": {},
   "source": [
    "A more practical example:"
   ]
  },
  {
   "cell_type": "code",
   "execution_count": 16,
   "id": "9630bb45-b5c8-44a8-a89b-437f63c68447",
   "metadata": {},
   "outputs": [
    {
     "name": "stdout",
     "output_type": "stream",
     "text": [
      "File content successfully read.\n",
      "File closed.\n"
     ]
    }
   ],
   "source": [
    "def read_file(file_path):\n",
    "    try:\n",
    "        # Try to open and read the file\n",
    "        file = open(file_path, 'r')\n",
    "        content = file.read()\n",
    "        print(\"File content successfully read.\")\n",
    "        return content\n",
    "    except FileNotFoundError:\n",
    "        # Handle the case where the file does not exist\n",
    "        print(f\"Error: The file at {file_path} was not found.\")\n",
    "    except Exception as e:\n",
    "        # Handle any other exceptions that may occur\n",
    "        print(f\"An error occurred: {e}\")\n",
    "    finally:\n",
    "        # This block will always execute, regardless of whether an exception was raised or not\n",
    "        try:\n",
    "            file.close()\n",
    "            print(\"File closed.\")\n",
    "        except NameError:\n",
    "            # Handle the case where 'file' was never opened\n",
    "            print(\"File was never opened, so it cannot be closed.\")\n",
    "        except Exception as e:\n",
    "            # Handle any other exceptions that may occur during file closing\n",
    "            print(f\"An error occurred while closing the file: {e}\")\n",
    "\n",
    "# Example usage\n",
    "file_path = \"myfile.txt\"\n",
    "content = read_file(file_path)\n"
   ]
  },
  {
   "cell_type": "markdown",
   "id": "09202945-7684-4942-a015-2fcd78b6d34a",
   "metadata": {},
   "source": [
    "**Note on file handling using context managers**\n",
    "\n",
    "Python provides a more concise and reliable way to handle files using the `with` statement, which simplifies file handling and ensures that files are properly closed without needing explicit exception handling for closing the file. This method automatically takes care of closing the file even if an error occurs.\n",
    "\n",
    "Here’s how you can use the `with` statement for file handling:"
   ]
  },
  {
   "cell_type": "code",
   "execution_count": 17,
   "id": "2470c4d0-9ab7-4418-88e2-199d7a1c8e60",
   "metadata": {},
   "outputs": [
    {
     "name": "stdout",
     "output_type": "stream",
     "text": [
      "Error: The file at example.txt was not found.\n"
     ]
    }
   ],
   "source": [
    "def read_file(file_path):\n",
    "    try:\n",
    "        # Using 'with' statement to open and read the file\n",
    "        with open(file_path, 'r') as file:\n",
    "            content = file.read()\n",
    "            print(\"File content successfully read.\")\n",
    "            return content\n",
    "    except FileNotFoundError:\n",
    "        # Handle the case where the file does not exist\n",
    "        print(f\"Error: The file at {file_path} was not found.\")\n",
    "    except Exception as e:\n",
    "        # Handle any other exceptions that may occur\n",
    "        print(f\"An error occurred: {e}\")\n",
    "\n",
    "# Example usage\n",
    "file_path = \"example.txt\"\n",
    "content = read_file(file_path)\n"
   ]
  },
  {
   "cell_type": "markdown",
   "id": "8816fc79-09fc-436d-81fe-f080e12c6399",
   "metadata": {},
   "source": [
    "## Custom Exceptions\n",
    "\n",
    "### Creating Custom Exceptions\n",
    "\n",
    "You can create custom exceptions by defining a new class that inherits from the `Exception` class."
   ]
  },
  {
   "cell_type": "code",
   "execution_count": 23,
   "id": "65afb18c-7910-4eac-9e1a-714c65a8657d",
   "metadata": {},
   "outputs": [
    {
     "ename": "CustomError",
     "evalue": "This is a custom error",
     "output_type": "error",
     "traceback": [
      "\u001b[31m---------------------------------------------------------------------------\u001b[39m",
      "\u001b[31mCustomError\u001b[39m                               Traceback (most recent call last)",
      "\u001b[36mCell\u001b[39m\u001b[36m \u001b[39m\u001b[32mIn[23]\u001b[39m\u001b[32m, line 5\u001b[39m\n\u001b[32m      2\u001b[39m     \u001b[38;5;28;01mpass\u001b[39;00m\n\u001b[32m      4\u001b[39m \u001b[38;5;66;03m# Raising a custom exception\u001b[39;00m\n\u001b[32m----> \u001b[39m\u001b[32m5\u001b[39m \u001b[38;5;28;01mraise\u001b[39;00m CustomError(\u001b[33m\"\u001b[39m\u001b[33mThis is a custom error\u001b[39m\u001b[33m\"\u001b[39m)\n",
      "\u001b[31mCustomError\u001b[39m: This is a custom error"
     ]
    }
   ],
   "source": [
    "class CustomError(Exception):\n",
    "    pass\n",
    "\n",
    "# Raising a custom exception\n",
    "raise CustomError(\"This is a custom error\")"
   ]
  },
  {
   "cell_type": "markdown",
   "id": "89db03e4-61c1-4223-8036-6c08d092b4ca",
   "metadata": {},
   "source": [
    "### Using Custom Exceptions\n",
    "\n",
    "Custom exceptions can be used just like built-in exceptions."
   ]
  },
  {
   "cell_type": "code",
   "execution_count": 24,
   "id": "489fb550-d49d-4c4a-a4a9-8179b17258d1",
   "metadata": {},
   "outputs": [
    {
     "name": "stdout",
     "output_type": "stream",
     "text": [
      "This is a custom error\n"
     ]
    }
   ],
   "source": [
    "try:\n",
    "    raise CustomError(\"This is a custom error\")\n",
    "except CustomError as e:\n",
    "    print(e)"
   ]
  },
  {
   "cell_type": "markdown",
   "id": "0c24e05f-7fbb-4abb-8d18-99ecfc2be8dc",
   "metadata": {},
   "source": [
    "### Exercise\n",
    "\n",
    "Create a function `safe_divide(a, b)` that divides two numbers but returns `\"Error\"` if b is zero."
   ]
  },
  {
   "cell_type": "code",
   "execution_count": null,
   "id": "df893960-5784-4bca-ab62-8a799dcc1732",
   "metadata": {},
   "outputs": [],
   "source": [
    "def # ...\n",
    "\n",
    "print(safe_divide(10, 2))\n",
    "print(safe_divide(10, 0))"
   ]
  },
  {
   "cell_type": "code",
   "execution_count": 25,
   "id": "c07e631f-77bf-4431-9c22-6946791f1700",
   "metadata": {
    "jupyter": {
     "source_hidden": true
    }
   },
   "outputs": [
    {
     "name": "stdout",
     "output_type": "stream",
     "text": [
      "5.0\n",
      "Error: Division by zero\n"
     ]
    }
   ],
   "source": [
    "# Solution:\n",
    "\n",
    "def safe_divide(a, b):\n",
    "    try:\n",
    "        return a / b\n",
    "    except ZeroDivisionError:\n",
    "        return \"Error: Division by zero\"\n",
    "\n",
    "print(safe_divide(10, 2))\n",
    "print(safe_divide(10, 0))"
   ]
  },
  {
   "cell_type": "markdown",
   "id": "cdd74f79-8cf7-49b9-b6a6-64a07d06f54a",
   "metadata": {},
   "source": [
    "---\n",
    "\n",
    "# Python Collection Types (Built-ins)\n",
    "\n",
    "Python has several built-in collection types:\n",
    "\n",
    "| Type      | Ordered | Mutable | Duplicates Allowed | Syntax Example         |\n",
    "|-----------|---------|---------|---------------------|-------------------------|\n",
    "| `list`    | ✅      | ✅      | ✅                  | `[1, 2, 3]`             |\n",
    "| `tuple`   | ✅      | ❌      | ✅                  | `(1, 2, 3)`             |\n",
    "| `set`     | ❌      | ✅      | ❌                  | `{1, 2, 3}`             |\n",
    "| `dict`    | ✅      | ✅      | ❌ (unique keys)    | `{\"a\": 1, \"b\": 2}`      |\n"
   ]
  },
  {
   "cell_type": "code",
   "execution_count": 26,
   "id": "98033d5b-39ba-4b0a-a884-768e47a6b18d",
   "metadata": {},
   "outputs": [
    {
     "name": "stdout",
     "output_type": "stream",
     "text": [
      "green\n",
      "10\n",
      "{'apple', 'banana'}\n",
      "Alice\n"
     ]
    }
   ],
   "source": [
    "# List\n",
    "colors = [\"red\", \"green\", \"blue\"]\n",
    "print(colors[1])\n",
    "\n",
    "# Tuple\n",
    "point = (10, 20)\n",
    "print(point[0])\n",
    "\n",
    "# Set\n",
    "fruits = {\"apple\", \"banana\", \"apple\"}\n",
    "print(fruits)  # no duplicates\n",
    "\n",
    "# Dictionary\n",
    "person = {\"name\": \"Alice\", \"age\": 30}\n",
    "print(person[\"name\"])"
   ]
  },
  {
   "cell_type": "markdown",
   "id": "7205e5e4-92c9-4913-9d11-95732112193d",
   "metadata": {},
   "source": [
    "# Iterating through Collections\n",
    "\n",
    "Use `for` or `while` loops to process multiple elements.\n",
    "\n",
    "- `for` is used for known-size iteration\n",
    "- `while` is used for condition-based iteration\n"
   ]
  },
  {
   "cell_type": "code",
   "execution_count": 28,
   "id": "1fefbdd5-0c30-4198-b298-8b094124b52d",
   "metadata": {},
   "outputs": [
    {
     "name": "stdout",
     "output_type": "stream",
     "text": [
      "Color: red\n",
      "Color: green\n",
      "Color: blue\n"
     ]
    }
   ],
   "source": [
    "# List loop\n",
    "colors = [\"red\", \"green\", \"blue\"]\n",
    "for color in colors:\n",
    "    print(\"Color:\", color)\n"
   ]
  },
  {
   "cell_type": "code",
   "execution_count": 29,
   "id": "474501c3-9587-442a-9230-58dd5103b47d",
   "metadata": {},
   "outputs": [
    {
     "name": "stdout",
     "output_type": "stream",
     "text": [
      "name → Alice\n",
      "age → 30\n"
     ]
    }
   ],
   "source": [
    "# Dictionary loop\n",
    "person = {\"name\": \"Alice\", \"age\": 30}\n",
    "for key, value in person.items():\n",
    "    print(key, \"→\", value)\n"
   ]
  },
  {
   "cell_type": "code",
   "execution_count": 30,
   "id": "b6320d4b-0016-47a9-8958-e198dfc89ee7",
   "metadata": {},
   "outputs": [
    {
     "name": "stdout",
     "output_type": "stream",
     "text": [
      "10\n",
      "20\n",
      "30\n"
     ]
    }
   ],
   "source": [
    "# While loop over a list\n",
    "i = 0\n",
    "numbers = [10, 20, 30]\n",
    "while i < len(numbers):\n",
    "    print(numbers[i])\n",
    "    i += 1\n"
   ]
  },
  {
   "cell_type": "markdown",
   "id": "f77d93ec-fef1-41bf-9523-77c72b9d247f",
   "metadata": {},
   "source": [
    "# Useful Built-in Functions\n",
    "\n",
    "## Common for lists, sets, and dicts:\n",
    "- `len()` – number of items\n",
    "- `sum()` – total (only numeric values)\n",
    "- `max()` / `min()` – highest / lowest value\n"
   ]
  },
  {
   "cell_type": "code",
   "execution_count": 31,
   "id": "98d0a21f-8f11-4280-b155-487a7295b82d",
   "metadata": {},
   "outputs": [
    {
     "name": "stdout",
     "output_type": "stream",
     "text": [
      "Length: 3\n",
      "Sum: 30\n",
      "Max: 15\n"
     ]
    }
   ],
   "source": [
    "numbers = [5, 10, 15]\n",
    "\n",
    "print(\"Length:\", len(numbers))\n",
    "print(\"Sum:\", sum(numbers))\n",
    "print(\"Max:\", max(numbers))\n"
   ]
  },
  {
   "cell_type": "markdown",
   "id": "32f3048b-4c30-4342-a87f-67a32e0939b6",
   "metadata": {},
   "source": [
    "# Dictionary Methods\n",
    "\n",
    "- `dict.keys()` → list of keys  \n",
    "- `dict.values()` → list of values  \n",
    "- `dict.items()` → list of (key, value) pairs"
   ]
  },
  {
   "cell_type": "code",
   "execution_count": 33,
   "id": "5c371e76-6f9f-4a18-8ee7-9c09992c3928",
   "metadata": {},
   "outputs": [
    {
     "name": "stdout",
     "output_type": "stream",
     "text": [
      "Keys: dict_keys(['Anna', 'Ben', 'Cara'])\n",
      "Values: dict_values([90, 85, 88])\n",
      "Items: dict_items([('Anna', 90), ('Ben', 85), ('Cara', 88)])\n"
     ]
    }
   ],
   "source": [
    "grades = {\"Anna\": 90, \"Ben\": 85, \"Cara\": 88}\n",
    "\n",
    "print(\"Keys:\", grades.keys())\n",
    "print(\"Values:\", grades.values())\n",
    "print(\"Items:\", grades.items())\n"
   ]
  },
  {
   "cell_type": "markdown",
   "id": "2ae331b4-eb16-4bcd-93f2-d868fffe6402",
   "metadata": {},
   "source": [
    "# List Methods\n",
    "\n",
    "- `append(x)` – add item\n",
    "- `sort()` – sort in-place\n",
    "- `del list[i]` – delete item at index\n",
    "- `remove(x)` – remove by value"
   ]
  },
  {
   "cell_type": "code",
   "execution_count": 34,
   "id": "459eed81-0a03-467e-92ad-b6bc5b6634a6",
   "metadata": {},
   "outputs": [
    {
     "name": "stdout",
     "output_type": "stream",
     "text": [
      "After append: [4, 2, 7, 5]\n",
      "After sort: [2, 4, 5, 7]\n",
      "After delete: [2, 5, 7]\n"
     ]
    }
   ],
   "source": [
    "numbers = [4, 2, 7]\n",
    "\n",
    "numbers.append(5)\n",
    "print(\"After append:\", numbers)\n",
    "\n",
    "numbers.sort()\n",
    "print(\"After sort:\", numbers)\n",
    "\n",
    "del numbers[1]\n",
    "print(\"After delete:\", numbers)"
   ]
  },
  {
   "cell_type": "markdown",
   "id": "fddfff1c-6f8e-4588-8cf4-b98f155a9322",
   "metadata": {},
   "source": [
    "## Exercise 1: Iterate and Print\n",
    "- Create a list of your 5 favorite movies\n",
    "- Print each one on a new line using a `for` loop"
   ]
  },
  {
   "cell_type": "code",
   "execution_count": null,
   "id": "453ae66d-d89e-4ec3-b2e5-91a129e28b48",
   "metadata": {},
   "outputs": [],
   "source": [
    "movies = # ...\n",
    "\n",
    "# ..."
   ]
  },
  {
   "cell_type": "code",
   "execution_count": 36,
   "id": "d1499ade-b5ac-435f-a0da-720a05265832",
   "metadata": {
    "jupyter": {
     "source_hidden": true
    }
   },
   "outputs": [
    {
     "name": "stdout",
     "output_type": "stream",
     "text": [
      "🎬 Inception\n",
      "🎬 The Matrix\n",
      "🎬 Interstellar\n",
      "🎬 Gladiator\n",
      "🎬 Tenet\n"
     ]
    }
   ],
   "source": [
    "# Solution:\n",
    "\n",
    "movies = [\"Inception\", \"The Matrix\", \"Interstellar\", \"Gladiator\", \"Tenet\"]\n",
    "\n",
    "for movie in movies:\n",
    "    print(\"🎬\", movie)\n"
   ]
  },
  {
   "cell_type": "markdown",
   "id": "805faf29-f285-44a0-b686-f23835a98fa7",
   "metadata": {},
   "source": [
    "## Exercise 2: Find the Best Grade\n",
    "- Create a dictionary of students and their grades\n",
    "- Use `.items()` to find the top student\n",
    "\n",
    "| Student  | Grade |\n",
    "|----------|-------|\n",
    "| Anna     | 88    |\n",
    "| Ben      | 92    |\n",
    "| Cara     | 85    |\n",
    "| Charlie  | 75    |\n"
   ]
  },
  {
   "cell_type": "code",
   "execution_count": null,
   "id": "4bfdeca0-395a-4962-80ac-abfc2a90fdd3",
   "metadata": {},
   "outputs": [],
   "source": [
    "grades = # ...\n",
    "\n",
    "# ..."
   ]
  },
  {
   "cell_type": "code",
   "execution_count": 40,
   "id": "396edbe8-618c-4a94-90e6-705216821328",
   "metadata": {
    "jupyter": {
     "source_hidden": true
    }
   },
   "outputs": [
    {
     "name": "stdout",
     "output_type": "stream",
     "text": [
      "Top student: Ben\n",
      "Top grade: 92\n"
     ]
    }
   ],
   "source": [
    "# Solution:\n",
    "\n",
    "grades = {\n",
    "    \"Anna\": 88,\n",
    "    \"Ben\": 92,\n",
    "    \"Cara\": 85,\n",
    "    \"Charlie\": 75,\n",
    "}\n",
    "\n",
    "top_student = None\n",
    "\n",
    "for student in grades.items():\n",
    "    if top_student is None or student[1] > top_student[1]:\n",
    "        top_student = student\n",
    "\n",
    "print(\"Top student:\", top_student[0])\n",
    "print(\"Top grade:\", top_student[1])"
   ]
  },
  {
   "cell_type": "markdown",
   "id": "e1f15199-9df0-4f59-bbf2-890125afa45e",
   "metadata": {},
   "source": [
    "---\n",
    "\n",
    "# Practice Lab - Mini Projects\n",
    "\n",
    "## Mini Project 1: Student Grades Analyzer\n",
    "\n",
    "You’re building a small app to analyze student grades. You'll use:\n",
    "\n",
    " - Functions\n",
    " - Dictionaries\n",
    " - Loops\n",
    " - Built-in functions like `sum()`, `len()`, `max()`\n",
    "\n",
    "---\n",
    "\n",
    "### Features to implement:\n",
    "1. Store student names and grades in a dictionary.\n",
    "2. Calculate the average grade.\n",
    "3. Find the student with the highest grade.\n",
    "4. Allow the user to search for a student by name.\n",
    "\n",
    "Use the student data from the last exercise."
   ]
  },
  {
   "cell_type": "code",
   "execution_count": null,
   "id": "91bd3adf-47b4-4ac8-a661-535465852d97",
   "metadata": {},
   "outputs": [],
   "source": [
    "# Step 1: Initial data\n",
    "grades = # ...\n",
    "\n",
    "# Step 2: Functions\n",
    "def average(grades_dict):\n",
    "    # ...\n",
    "\n",
    "# ...\n",
    "\n",
    "# Step 3: Outputs\n",
    "\n",
    "# Step 4: Search\n",
    "name = input(...)\n",
    "# ..."
   ]
  },
  {
   "cell_type": "code",
   "execution_count": 44,
   "id": "524257f9-c9ce-4fee-b316-c3b6a4b4594f",
   "metadata": {
    "jupyter": {
     "source_hidden": true
    }
   },
   "outputs": [
    {
     "name": "stdout",
     "output_type": "stream",
     "text": [
      "Average grade: 85.75\n",
      "Top student: Ben with grade 92\n"
     ]
    },
    {
     "name": "stdin",
     "output_type": "stream",
     "text": [
      "Enter a student's name to look up their grade:  Cara\n"
     ]
    },
    {
     "name": "stdout",
     "output_type": "stream",
     "text": [
      "Result: 78\n"
     ]
    }
   ],
   "source": [
    "# Solution:\n",
    "\n",
    "# Step 1: Initial data\n",
    "grades = {\n",
    "    \"Anna\": 85,\n",
    "    \"Ben\": 92,\n",
    "    \"Cara\": 78,\n",
    "    \"David\": 88\n",
    "}\n",
    "\n",
    "# Step 2: Functions\n",
    "def average(grades_dict):\n",
    "    return sum(grades_dict.values()) / len(grades_dict)\n",
    "\n",
    "def best_student(grades_dict):\n",
    "    return max(grades_dict.items(), key=lambda item: item[1])\n",
    "\n",
    "def find_grade(name):\n",
    "    return grades.get(name, \"Student not found.\")\n",
    "\n",
    "# Step 3: Outputs\n",
    "print(\"Average grade:\", round(average(grades), 2))\n",
    "\n",
    "top = best_student(grades)\n",
    "print(\"Top student:\", top[0], \"with grade\", top[1])\n",
    "\n",
    "# Step 4: Search\n",
    "name = input(\"Enter a student's name to look up their grade: \")\n",
    "print(\"Result:\", find_grade(name))"
   ]
  },
  {
   "cell_type": "markdown",
   "id": "c7813645-cabb-430c-9532-750161ae9662",
   "metadata": {},
   "source": [
    "# Mini Project 2: Inventory Tracker\n",
    "\n",
    "You're creating a basic inventory system to manage stock of items in a shop.\n",
    "\n",
    "---\n",
    "\n",
    "### Features to implement:\n",
    "1. Store product names and quantities using a dictionary.\n",
    "2. Functions to:\n",
    "   - Add a product\n",
    "   - Update stock\n",
    "   - Remove a product\n",
    "   - Print all inventory items\n",
    "3. A loop to let the user choose what to do.\n"
   ]
  },
  {
   "cell_type": "code",
   "execution_count": null,
   "id": "6a74a0a6-2d79-45d6-86cd-e0b1576d7d4f",
   "metadata": {},
   "outputs": [],
   "source": [
    "inventory = {}\n",
    "\n",
    "def add_product(name, quantity):\n",
    "    # ...\n",
    "\n",
    "def remove_product(name):\n",
    "    # ...\n",
    "\n",
    "def update_stock(name, quantity):\n",
    "    # ...\n",
    "\n",
    "def print_inventory():\n",
    "    # ...\n",
    "\n",
    "# Menu loop\n",
    "while True:\n",
    "    print(\"\\n--- Inventory Menu ---\")\n",
    "    print(\"1. Add product\")\n",
    "    print(\"2. Update stock\")\n",
    "    print(\"3. Remove product\")\n",
    "    print(\"4. View inventory\")\n",
    "    print(\"5. Exit\")\n",
    "\n",
    "    choice = input(\"Choose an option (1-5): \")\n",
    "\n",
    "    if choice == \"1\":\n",
    "        # ...\n",
    "    elif choice == \"2\":\n",
    "        # ...\n",
    "    # ...\n",
    "    elif choice == \"5\":\n",
    "        print(\"Goodbye!\")\n",
    "        break\n",
    "    else:\n",
    "        print(\"Invalid choice.\")"
   ]
  },
  {
   "cell_type": "code",
   "execution_count": 46,
   "id": "eda67ee2-4e97-48d4-beb9-011eedb51f93",
   "metadata": {
    "jupyter": {
     "source_hidden": true
    }
   },
   "outputs": [
    {
     "name": "stdout",
     "output_type": "stream",
     "text": [
      "\n",
      "--- Inventory Menu ---\n",
      "1. Add product\n",
      "2. Update stock\n",
      "3. Remove product\n",
      "4. View inventory\n",
      "5. Exit\n"
     ]
    },
    {
     "name": "stdin",
     "output_type": "stream",
     "text": [
      "Choose an option (1-5):  1\n",
      "Product name:  Apple\n",
      "Quantity to add:  10\n"
     ]
    },
    {
     "name": "stdout",
     "output_type": "stream",
     "text": [
      "\n",
      "--- Inventory Menu ---\n",
      "1. Add product\n",
      "2. Update stock\n",
      "3. Remove product\n",
      "4. View inventory\n",
      "5. Exit\n"
     ]
    },
    {
     "name": "stdin",
     "output_type": "stream",
     "text": [
      "Choose an option (1-5):  1\n",
      "Product name:  Banana\n",
      "Quantity to add:  12\n"
     ]
    },
    {
     "name": "stdout",
     "output_type": "stream",
     "text": [
      "\n",
      "--- Inventory Menu ---\n",
      "1. Add product\n",
      "2. Update stock\n",
      "3. Remove product\n",
      "4. View inventory\n",
      "5. Exit\n"
     ]
    },
    {
     "name": "stdin",
     "output_type": "stream",
     "text": [
      "Choose an option (1-5):  4\n"
     ]
    },
    {
     "name": "stdout",
     "output_type": "stream",
     "text": [
      "Apple: 10 pcs\n",
      "Banana: 12 pcs\n",
      "\n",
      "--- Inventory Menu ---\n",
      "1. Add product\n",
      "2. Update stock\n",
      "3. Remove product\n",
      "4. View inventory\n",
      "5. Exit\n"
     ]
    },
    {
     "name": "stdin",
     "output_type": "stream",
     "text": [
      "Choose an option (1-5):  5\n"
     ]
    },
    {
     "name": "stdout",
     "output_type": "stream",
     "text": [
      "Goodbye!\n"
     ]
    }
   ],
   "source": [
    "# Solution:\n",
    "\n",
    "inventory = {}\n",
    "\n",
    "def add_product(name, quantity):\n",
    "    inventory[name] = inventory.get(name, 0) + quantity\n",
    "\n",
    "def remove_product(name):\n",
    "    if name in inventory:\n",
    "        del inventory[name]\n",
    "\n",
    "def update_stock(name, quantity):\n",
    "    if name in inventory:\n",
    "        inventory[name] = quantity\n",
    "\n",
    "def print_inventory():\n",
    "    if not inventory:\n",
    "        print(\"Inventory is empty.\")\n",
    "    else:\n",
    "        for item, qty in inventory.items():\n",
    "            print(f\"{item}: {qty} pcs\")\n",
    "\n",
    "# Menu loop\n",
    "while True:\n",
    "    print(\"\\n--- Inventory Menu ---\")\n",
    "    print(\"1. Add product\")\n",
    "    print(\"2. Update stock\")\n",
    "    print(\"3. Remove product\")\n",
    "    print(\"4. View inventory\")\n",
    "    print(\"5. Exit\")\n",
    "    \n",
    "    choice = input(\"Choose an option (1-5): \")\n",
    "\n",
    "    if choice == \"1\":\n",
    "        name = input(\"Product name: \")\n",
    "        qty = int(input(\"Quantity to add: \"))\n",
    "        add_product(name, qty)\n",
    "    elif choice == \"2\":\n",
    "        name = input(\"Product name: \")\n",
    "        qty = int(input(\"New quantity: \"))\n",
    "        update_stock(name, qty)\n",
    "    elif choice == \"3\":\n",
    "        name = input(\"Product name to remove: \")\n",
    "        remove_product(name)\n",
    "    elif choice == \"4\":\n",
    "        print_inventory()\n",
    "    elif choice == \"5\":\n",
    "        print(\"Goodbye!\")\n",
    "        break\n",
    "    else:\n",
    "        print(\"Invalid choice.\")\n"
   ]
  },
  {
   "cell_type": "code",
   "execution_count": null,
   "id": "28ad24c3-a0e2-4da3-b0fb-6e5370d381fd",
   "metadata": {},
   "outputs": [],
   "source": []
  }
 ],
 "metadata": {
  "kernelspec": {
   "display_name": "Python 3 (ipykernel)",
   "language": "python",
   "name": "python3"
  },
  "language_info": {
   "codemirror_mode": {
    "name": "ipython",
    "version": 3
   },
   "file_extension": ".py",
   "mimetype": "text/x-python",
   "name": "python",
   "nbconvert_exporter": "python",
   "pygments_lexer": "ipython3",
   "version": "3.12.9"
  }
 },
 "nbformat": 4,
 "nbformat_minor": 5
}
