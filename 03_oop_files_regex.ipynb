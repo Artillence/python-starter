{
 "cells": [
  {
   "cell_type": "markdown",
   "id": "506d5190-16f9-4873-9507-a706648966fd",
   "metadata": {},
   "source": [
    "# Object-Oriented Programming: Classes and Objects\n",
    "\n",
    "OOP allows you to model real-world entities using classes.\n",
    "\n",
    "A **class** defines the structure and behavior.  \n",
    "An **object** is a concrete instance of a class.\n"
   ]
  },
  {
   "cell_type": "code",
   "execution_count": 1,
   "id": "664a1c4e-1a25-4f59-b759-be251b1f0494",
   "metadata": {},
   "outputs": [
    {
     "name": "stdout",
     "output_type": "stream",
     "text": [
      "Rex says woof!\n"
     ]
    }
   ],
   "source": [
    "# A simple class\n",
    "class Dog:\n",
    "    def __init__(self, name, age):\n",
    "        self.name = name\n",
    "        self.age = age\n",
    "\n",
    "    def bark(self):\n",
    "        print(f\"{self.name} says woof!\")\n",
    "\n",
    "# Creating an object\n",
    "my_dog = Dog(\"Rex\", 5)\n",
    "my_dog.bark()\n"
   ]
  },
  {
   "cell_type": "markdown",
   "id": "7e8cb56d-d4bf-4124-b6f9-d1370ef487e2",
   "metadata": {},
   "source": [
    "## Key Concepts:\n",
    "- `__init__`: constructor (called when the object is created)\n",
    "- `self`: refers to the instance itself\n",
    "- attributes: stored data (e.g. name, age)\n",
    "- methods: functions inside the class"
   ]
  },
  {
   "cell_type": "markdown",
   "id": "bbe34c96-0fa0-4aae-aa22-42879bc87540",
   "metadata": {},
   "source": [
    "## Common Dunder Methods in Python\n",
    "\n",
    "\"Dunder\" methods (short for **double underscore**) allow custom behavior for Python's built-in operators and functions.\n",
    "\n",
    "Here are some of the most commonly used dunder methods:\n",
    "\n",
    "| Method        | Triggered by                | Purpose                             |\n",
    "|---------------|-----------------------------|-------------------------------------|\n",
    "| `__init__`    | `ClassName(...)`            | Constructor, initializes object     |\n",
    "| `__str__`     | `str(obj)` or `print(obj)`  | Human-readable string representation|\n",
    "| `__repr__`    | `repr(obj)` or REPL         | Debugging-friendly representation   |\n",
    "| `__len__`     | `len(obj)`                  | Length of object                    |\n",
    "| `__eq__`      | `obj1 == obj2`              | Equality comparison                 |\n",
    "| `__lt__`      | `obj1 < obj2`               | Less-than comparison                |\n",
    "| `__add__`     | `obj1 + obj2`               | Addition behavior                   |\n",
    "\n",
    "Full list: [Python Data Model Docs](https://docs.python.org/3/reference/datamodel.html)"
   ]
  },
  {
   "cell_type": "code",
   "execution_count": 3,
   "id": "65e9fcad-2163-40ae-a56a-9ca21b7316e7",
   "metadata": {},
   "outputs": [
    {
     "name": "stdout",
     "output_type": "stream",
     "text": [
      "Python 101 (250 pages)\n",
      "Pages: 250\n",
      "True\n"
     ]
    }
   ],
   "source": [
    "class Book:\n",
    "    def __init__(self, title, pages):\n",
    "        self.title = title\n",
    "        self.pages = pages\n",
    "\n",
    "    def __str__(self):\n",
    "        return f\"{self.title} ({self.pages} pages)\"\n",
    "\n",
    "    def __len__(self):\n",
    "        return self.pages\n",
    "\n",
    "    def __eq__(self, other):\n",
    "        return self.pages == other.pages\n",
    "\n",
    "b1 = Book(\"Python 101\", 250)\n",
    "b2 = Book(\"Fluent Python\", 250)\n",
    "\n",
    "print(str(b1))           # Calls __str__\n",
    "print(\"Pages:\", len(b1)) # Calls __len__\n",
    "print(b1 == b2)          # Calls __eq__"
   ]
  },
  {
   "cell_type": "markdown",
   "id": "6bb67a86-7bab-4299-a701-6f768b07f925",
   "metadata": {},
   "source": [
    "## Inheritance\n",
    "\n",
    "Inheritance allows one class (child) to reuse the properties and methods of another (parent).\n",
    "\n",
    "This helps avoid code duplication and supports hierarchical relationships.\n",
    "\n",
    "### Key points:\n",
    "- Use `class SubClass(ParentClass):` to define inheritance.\n",
    "- Use `super().__init__()` to call the parent’s constructor.\n",
    "- You can override parent methods in the child class."
   ]
  },
  {
   "cell_type": "code",
   "execution_count": 4,
   "id": "436eb89a-f920-419b-ae00-62c1893275c2",
   "metadata": {},
   "outputs": [
    {
     "name": "stdout",
     "output_type": "stream",
     "text": [
      "Generic vehicle started.\n",
      "Toyota Corolla engine started.\n"
     ]
    }
   ],
   "source": [
    "class Vehicle:\n",
    "    def __init__(self, brand):\n",
    "        self.brand = brand\n",
    "\n",
    "    def start(self):\n",
    "        print(f\"{self.brand} vehicle started.\")\n",
    "\n",
    "class Car(Vehicle):  # Car inherits from Vehicle\n",
    "    def __init__(self, brand, model):\n",
    "        super().__init__(brand)  # Call parent constructor\n",
    "        self.model = model\n",
    "\n",
    "    def start(self):\n",
    "        print(f\"{self.brand} {self.model} engine started.\")\n",
    "\n",
    "v = Vehicle(\"Generic\")\n",
    "v.start()\n",
    "\n",
    "c = Car(\"Toyota\", \"Corolla\")\n",
    "c.start()\n"
   ]
  },
  {
   "cell_type": "markdown",
   "id": "e76c431f-7f3c-46d6-913d-0d92055f11d0",
   "metadata": {},
   "source": [
    "### Exercise: Build Your Own Animal Class\n",
    "\n",
    "Create two classes: `Animal` and `Dog`.\n",
    "\n",
    "- `Animal` should have:\n",
    "  - `name` and `species` attributes\n",
    "  - `speak()` method that prints a generic sound\n",
    "\n",
    "- `Dog` should:\n",
    "  - Inherit from `Animal`\n",
    "  - Override the `speak()` method to print \"Woof!\"\n",
    "  - Use `__str__` to return a string like: `\"Dog named Max\"`\n",
    "\n",
    "Test your classes by creating and printing a `Dog` object."
   ]
  },
  {
   "cell_type": "code",
   "execution_count": null,
   "id": "c5a30f93-6760-4130-ba1c-0c0b5bdb17d0",
   "metadata": {},
   "outputs": [],
   "source": [
    "class # ...\n",
    "\n",
    "# ...\n",
    "\n",
    "# Test\n",
    "d = Dog(\"Max\")\n",
    "d.speak()\n",
    "print(d)"
   ]
  },
  {
   "cell_type": "code",
   "execution_count": 6,
   "id": "4ffbb38c-b6ee-4add-b2b0-842cdce87aaa",
   "metadata": {
    "jupyter": {
     "source_hidden": true
    }
   },
   "outputs": [
    {
     "name": "stdout",
     "output_type": "stream",
     "text": [
      "Woof!\n",
      "Dog named Max\n"
     ]
    }
   ],
   "source": [
    "# Solution:\n",
    "\n",
    "class Animal:\n",
    "    def __init__(self, name, species):\n",
    "        self.name = name\n",
    "        self.species = species\n",
    "\n",
    "    def speak(self):\n",
    "        print(\"Some generic animal sound.\")\n",
    "\n",
    "    def __str__(self):\n",
    "        return f\"{self.species} named {self.name}\"\n",
    "\n",
    "class Dog(Animal):\n",
    "    def __init__(self, name):\n",
    "        super().__init__(name, \"Dog\")\n",
    "\n",
    "    def speak(self):\n",
    "        print(\"Woof!\")\n",
    "\n",
    "# Test\n",
    "d = Dog(\"Max\")\n",
    "d.speak()\n",
    "print(d)"
   ]
  },
  {
   "cell_type": "markdown",
   "id": "99e1e1aa-d21d-46e5-b272-788b92a9b806",
   "metadata": {
    "jp-MarkdownHeadingCollapsed": true,
    "jupyter": {
     "source_hidden": true
    }
   },
   "source": [
    "### 3. Multiple Inheritance\n",
    "\n",
    "#### Understanding Inheritance\n",
    "\n",
    "Inheritance allows a class to inherit attributes and methods from another class. Multiple inheritance extends this concept, allowing a class to inherit from more than one base class.\n",
    "\n",
    "#### Basics of Multiple Inheritance\n",
    "\n",
    "**Example:**"
   ]
  },
  {
   "cell_type": "code",
   "execution_count": 17,
   "id": "f1c0c54b-5b43-4d23-beba-6293d3ab8d37",
   "metadata": {},
   "outputs": [
    {
     "name": "stdout",
     "output_type": "stream",
     "text": [
      "Method from Base1\n",
      "Method from Base2\n"
     ]
    }
   ],
   "source": [
    "class Base1:\n",
    "    def method1(self):\n",
    "        print(\"Method from Base1\")\n",
    "\n",
    "class Base2:\n",
    "    def method2(self):\n",
    "        print(\"Method from Base2\")\n",
    "\n",
    "class Derived(Base1, Base2):\n",
    "    pass\n",
    "\n",
    "obj = Derived()\n",
    "obj.method1()\n",
    "obj.method2()"
   ]
  },
  {
   "cell_type": "markdown",
   "id": "284f514b-eb05-4d18-ae29-01fcf427f40d",
   "metadata": {},
   "source": [
    "#### Method Resolution Order (MRO)\n",
    "\n",
    "The Method Resolution Order (MRO) determines the order in which base classes are searched when executing a method. Python uses the [C3 linearization algorithm](https://en.wikipedia.org/wiki/C3_linearization) for this.\n",
    "\n",
    "The following example demonstrates Python's MRO using [diamond problem](https://en.wikipedia.org/wiki/Multiple_inheritance#The_diamond_problem):"
   ]
  },
  {
   "cell_type": "code",
   "execution_count": 21,
   "id": "8b09e6ec-ab9a-4561-9fe2-2c532d9c07cc",
   "metadata": {},
   "outputs": [
    {
     "name": "stdout",
     "output_type": "stream",
     "text": [
      "Method from B\n",
      "[<class '__main__.D'>, <class '__main__.B'>, <class '__main__.C'>, <class '__main__.A'>, <class 'object'>]\n"
     ]
    }
   ],
   "source": [
    "class A:\n",
    "    def method(self):\n",
    "        print(\"Method from A\")\n",
    "\n",
    "class B(A):\n",
    "    def method(self):\n",
    "        print(\"Method from B\")\n",
    "\n",
    "class C(A):\n",
    "    def method(self):\n",
    "        print(\"Method from C\")\n",
    "\n",
    "class D(B, C):\n",
    "    pass\n",
    "\n",
    "d = D()\n",
    "d.method()\n",
    "print(D.mro())"
   ]
  },
  {
   "cell_type": "markdown",
   "id": "96c9eb1d-991a-46b9-81c9-007e88e32d1a",
   "metadata": {},
   "source": [
    "#### The C3 linearization algorithm\n",
    "\n",
    "The C3 linearization algorithm is used in object-oriented programming to determine the method resolution order (MRO) in languages that support multiple inheritance, such as Python. It ensures that the order of method inheritance is both consistent and predictable. The algorithm is designed to maintain three key properties:\n",
    "\n",
    "1. **Preservation of Local Precedence Order:** The order of classes in the MRO of a class should respect the order of its immediate superclasses.\n",
    "2. **Monotonicity:** The MRO must be linear, meaning if class A is a subclass of class B, then B must appear before A in the MRO.\n",
    "3. **Resolution of Ties:** When multiple classes are candidates for the next position in the MRO, the earliest one in the linearizations of the classes involved is chosen.\n",
    "\n",
    "C3 linearization works by combining the MROs of the parent classes in a specific way. The algorithm proceeds as follows:\n",
    "\n",
    "1. **Start with the current class.**\n",
    "2. **Iterate over each parent class in the order they are listed in the class definition.**\n",
    "3. **For each parent class, merge its MRO with the MROs of its ancestors.**\n",
    "4. **Select the first class in the merged lists that does not appear later in any of the lists (to maintain the precedence order).**\n",
    "5. **Repeat until all classes are processed.**\n",
    "\n",
    "This method ensures that all dependencies and inheritance relationships are respected while resolving ambiguities that can arise from multiple inheritance."
   ]
  },
  {
   "cell_type": "markdown",
   "id": "cc795e5c-943f-4b0c-b31c-7ca16b1f3fcd",
   "metadata": {},
   "source": [
    "---\n",
    "\n",
    "# File Handling in Python\n",
    "\n",
    "Python provides built-in support for working with files. You can:\n",
    "\n",
    "- Open files using the `open()` function\n",
    "- Read or write using methods like `.read()`, `.write()`, etc.\n",
    "- Use context managers (`with`) to handle file closing automatically\n",
    "\n",
    "## Common File Handling Methods\n",
    "\n",
    "| Method             | Purpose                               | Notes                                                   |\n",
    "|--------------------|----------------------------------------|----------------------------------------------------------|\n",
    "| `open(file, mode)` | Opens a file                          | Modes: `'r'`, `'w'`, `'a'`, `'rb'`, `'wb'`, etc.         |\n",
    "| `read()`           | Reads the whole file as a string      | Returns one string with all contents                    |\n",
    "| `readline()`       | Reads the next line                   | Use in loops or multiple calls                          |\n",
    "| `readlines()`      | Reads all lines into a list           | Each line is a string in a list                         |\n",
    "| `write(string)`    | Writes a string to the file           | Overwrites in `'w'` mode, appends in `'a'`              |\n",
    "| `writelines(list)` | Writes multiple strings to the file   | Doesn’t add newline automatically                      |\n",
    "| `close()`          | Closes the file manually              | Automatically done with `with open(...) as ...`         |\n",
    "\n",
    "## File Open Modes\n",
    "\n",
    "| Mode  | Meaning                        |\n",
    "|-------|--------------------------------|\n",
    "| `'r'` | Read (default)                 |\n",
    "| `'w'` | Write (overwrite if exists)    |\n",
    "| `'a'` | Append (write at end)          |\n",
    "| `'b'` | Binary mode (combine with r/w) |\n",
    "| `'x'` | Create (fail if exists)        |\n",
    "\n",
    "Combine modes like:\n",
    "- `'rb'` = read binary\n",
    "- `'wb'` = write binary\n",
    "\n",
    "## Official Python Documentation\n",
    "\n",
    "You can find the full documentation here:  \n",
    " - https://docs.python.org/3/library/functions.html#open  \n",
    " - https://docs.python.org/3/tutorial/inputoutput.html#reading-and-writing-files\n",
    "\n",
    "These pages cover everything about file handling, built-in functions, and best practices."
   ]
  },
  {
   "cell_type": "code",
   "execution_count": 9,
   "id": "d4d01d36-8108-42c2-9c56-220c60fb42b6",
   "metadata": {},
   "outputs": [
    {
     "name": "stdout",
     "output_type": "stream",
     "text": [
      "Hello, file!\n",
      "Second line.\n"
     ]
    }
   ],
   "source": [
    "# Example: writing and reading a file\n",
    "\n",
    "with open(\"example.txt\", \"w\") as f:\n",
    "    f.write(\"Hello, file!\\n\")\n",
    "    f.write(\"Second line.\")\n",
    "\n",
    "with open(\"example.txt\", \"r\") as f:\n",
    "    content = f.read()\n",
    "    print(content)\n"
   ]
  },
  {
   "cell_type": "code",
   "execution_count": 10,
   "id": "8312926e-49de-4a78-8685-6d6f18f4a19d",
   "metadata": {},
   "outputs": [
    {
     "name": "stdout",
     "output_type": "stream",
     "text": [
      "Number of lines: 2\n",
      "First line: Hello, file!\n",
      "\n"
     ]
    }
   ],
   "source": [
    "# Read all lines from a file into a list\n",
    "with open(\"example.txt\", \"r\") as f:\n",
    "    lines = f.readlines()\n",
    "    print(\"Number of lines:\", len(lines))\n",
    "    print(\"First line:\", lines[0])\n"
   ]
  },
  {
   "cell_type": "markdown",
   "id": "82187dbe-8323-4a1e-8b91-343c8ffdb69c",
   "metadata": {},
   "source": [
    "---\n",
    "\n",
    "# Regular Expressions in Python\n",
    "\n",
    "A **regular expression (regex)** is a pattern used to search, match, or manipulate strings.\n",
    "\n",
    "Python uses the `re` module to work with regular expressions.\n"
   ]
  },
  {
   "cell_type": "code",
   "execution_count": 11,
   "id": "e5161368-8412-4a5f-9a0c-c4bdbbc3975d",
   "metadata": {},
   "outputs": [],
   "source": [
    "import re"
   ]
  },
  {
   "cell_type": "markdown",
   "id": "a8d76ac2-41ae-4432-a98d-a6aa13777bbf",
   "metadata": {},
   "source": [
    "# Common Regex Functions in the `re` Module\n",
    "\n",
    "| Function         | Purpose                                             |\n",
    "|------------------|-----------------------------------------------------|\n",
    "| `re.search()`     | Searches for the **first match** of the pattern in the string. Returns a match object or `None`. |\n",
    "| `re.match()`      | Checks for a match **only at the beginning** of the string. |\n",
    "| `re.fullmatch()`  | Checks if the **entire string** matches the pattern. |\n",
    "| `re.findall()`    | Returns **all non-overlapping matches** as a list of strings. |\n",
    "| `re.finditer()`   | Returns **an iterator** yielding match objects. |\n",
    "| `re.sub()`        | Replaces matches with a specified string. |\n",
    "| `re.split()`      | Splits the string using the pattern as a delimiter. |\n",
    "\n",
    "---\n",
    "\n",
    "## Parameters\n",
    "\n",
    "Most functions take these key parameters:\n",
    "- `pattern`: the regex pattern (string or compiled)\n",
    "- `string`: the input text\n",
    "- `flags`: optional settings like `re.IGNORECASE` or `re.MULTILINE`\n",
    "\n",
    "## Useful Regex Resources\n",
    "\n",
    "- Official Python Regex Documentation: [https://docs.python.org/3/library/re.html](https://docs.python.org/3/library/re.html)\n",
    "- Online Regex Tester and Visualizer: [https://regexr.com](https://regexr.com)\n"
   ]
  },
  {
   "cell_type": "code",
   "execution_count": null,
   "id": "7f1f743d-6687-44a7-bd88-58d90f7a290e",
   "metadata": {},
   "outputs": [],
   "source": [
    "# Search example\n",
    "text = \"Please contact us at hello@example.com\"\n",
    "match = re.search(r\"\\w+@\\w+\\.\\w+\", text)\n",
    "if match:\n",
    "    print(\"Found email:\", match.group())\n",
    "\n",
    "# Replace digits\n",
    "print(re.sub(r\"\\d\", \"*\", \"My PIN is 1234\"))\n",
    "\n",
    "# Find all words\n",
    "words = re.findall(r\"\\w+\", \"This is a test.\")\n",
    "print(\"Words:\", words)"
   ]
  },
  {
   "cell_type": "markdown",
   "id": "434b8b5f-0886-4a54-8879-226ff199f850",
   "metadata": {},
   "source": [
    "# What is an r-string (Raw String)?\n",
    "\n",
    "In Python, strings starting with `r` or `R` are called **raw strings**.\n",
    "\n",
    "They treat backslashes (`\\`) **as literal characters**, rather than escape characters.\n",
    "\n",
    "This is extremely useful when writing **regular expressions**, which often contain many backslashes.\n"
   ]
  },
  {
   "cell_type": "code",
   "execution_count": 14,
   "id": "20a37963-768d-4f5a-9568-7ec2e303b4ae",
   "metadata": {},
   "outputs": [
    {
     "name": "stdout",
     "output_type": "stream",
     "text": [
      "Wrong: \\d+\\.\\d+\n",
      "Correct: \\d+\\.\\d+\n"
     ]
    },
    {
     "name": "stderr",
     "output_type": "stream",
     "text": [
      "<>:2: SyntaxWarning: invalid escape sequence '\\d'\n",
      "<>:2: SyntaxWarning: invalid escape sequence '\\d'\n",
      "C:\\Users\\gregk\\AppData\\Local\\Temp\\ipykernel_13812\\3815947229.py:2: SyntaxWarning: invalid escape sequence '\\d'\n",
      "  pattern = \"\\d+\\.\\d+\"     # This might not work as expected!\n"
     ]
    }
   ],
   "source": [
    "# Example without raw string (error-prone)\n",
    "pattern = \"\\d+\\.\\d+\"     # This might not work as expected!\n",
    "print(\"Wrong:\", pattern)\n",
    "\n",
    "# Example with raw string (correct)\n",
    "pattern = r\"\\d+\\.\\d+\"\n",
    "print(\"Correct:\", pattern)"
   ]
  },
  {
   "cell_type": "markdown",
   "id": "9ce22f73-0b7b-43d5-a673-d55710099e42",
   "metadata": {},
   "source": [
    "## Exercise: Email Validator and Extractor\n",
    "\n",
    "Write a small program that:\n",
    "\n",
    "1. Asks the user to enter a sentence.\n",
    "2. Uses a regular expression to extract **all valid email addresses**.\n",
    "3. Prints the list of matches or says \"No emails found\".\n",
    "\n",
    "Bonus:\n",
    "- Ignore case using `re.IGNORECASE`\n"
   ]
  },
  {
   "cell_type": "code",
   "execution_count": null,
   "id": "13ca45f5-fc76-4355-ab76-5b0d45e4321a",
   "metadata": {},
   "outputs": [],
   "source": [
    "sentence = input(\"...\")\n",
    "\n",
    "# ..."
   ]
  },
  {
   "cell_type": "code",
   "execution_count": 12,
   "id": "a4dc1cfa-eaf8-4a3e-a54b-5d8e64488347",
   "metadata": {
    "jupyter": {
     "source_hidden": true
    }
   },
   "outputs": [
    {
     "name": "stdin",
     "output_type": "stream",
     "text": [
      "Enter a sentence containing email addresses:  asd@asd.com\n"
     ]
    },
    {
     "name": "stdout",
     "output_type": "stream",
     "text": [
      "Found emails:\n",
      "- asd@asd.com\n"
     ]
    }
   ],
   "source": [
    "# Solution:\n",
    "\n",
    "sentence = input(\"Enter a sentence containing email addresses: \")\n",
    "\n",
    "emails = re.findall(r\"\\b\\w+[\\w\\.-]*@\\w+\\.\\w{2,}\\b\", sentence, flags=re.IGNORECASE)\n",
    "\n",
    "if emails:\n",
    "    print(\"Found emails:\")\n",
    "    for email in emails:\n",
    "        print(\"-\", email)\n",
    "else:\n",
    "    print(\"No emails found.\")\n"
   ]
  },
  {
   "cell_type": "markdown",
   "id": "e4c466f0-ec21-42fc-8cfd-be8363b5233d",
   "metadata": {},
   "source": [
    "---\n",
    "\n",
    "# Mini Project: File-Based Contact Manager\n",
    "\n",
    "You’ll build a mini contact manager that:\n",
    " -  Uses a `Contact` class  \n",
    " -  Stores contacts in a file  \n",
    " -  Validates email using regex  \n",
    " -  Reads contacts back from the file\n",
    "\n",
    "---\n",
    "\n",
    "### Features:\n",
    "1. Ask user for:\n",
    "   - name\n",
    "   - email\n",
    "   - phone\n",
    "\n",
    "2. Validate email format using regex\n",
    "\n",
    "3. Save valid contact to `contacts.txt` in a formatted line\n",
    "\n",
    "4. Read and display all saved contacts\n"
   ]
  },
  {
   "cell_type": "code",
   "execution_count": null,
   "id": "5f105a4c-a3cd-4234-bec0-1a74017a6b1d",
   "metadata": {},
   "outputs": [],
   "source": [
    "import re\n",
    "\n",
    "class Contact:\n",
    "    # ...\n",
    "\n",
    "def is_valid_email(email):\n",
    "    return # ...\n",
    "\n",
    "# Input\n",
    "# ...\n",
    "\n",
    "# Show all contacts\n",
    "# ..."
   ]
  },
  {
   "cell_type": "code",
   "execution_count": 16,
   "id": "20c03b2c-98a2-4f33-aedc-c83e9b99dc59",
   "metadata": {},
   "outputs": [
    {
     "name": "stdin",
     "output_type": "stream",
     "text": [
      "Name:  hello\n",
      "Email:  asd@asd.com\n",
      "Phone:  01234567889\n"
     ]
    },
    {
     "name": "stdout",
     "output_type": "stream",
     "text": [
      "\n",
      "Saved contact!\n",
      "\n",
      "All contacts:\n",
      "hello | asd@asd.com | 01234567889\n"
     ]
    }
   ],
   "source": [
    "# Solution:\n",
    "\n",
    "import re\n",
    "\n",
    "class Contact:\n",
    "    def __init__(self, name, email, phone):\n",
    "        self.name = name\n",
    "        self.email = email\n",
    "        self.phone = phone\n",
    "\n",
    "    def __str__(self):\n",
    "        return f\"{self.name} | {self.email} | {self.phone}\"\n",
    "\n",
    "def is_valid_email(email):\n",
    "    return re.fullmatch(r\"\\w+[\\w\\.-]*@\\w+\\.\\w{2,}\", email)\n",
    "\n",
    "# Input\n",
    "name = input(\"Name: \")\n",
    "email = input(\"Email: \")\n",
    "phone = input(\"Phone: \")\n",
    "\n",
    "if is_valid_email(email):\n",
    "    contact = Contact(name, email, phone)\n",
    "\n",
    "    with open(\"contacts.txt\", \"a\") as f:\n",
    "        f.write(str(contact) + \"\\n\")\n",
    "\n",
    "    print(\"\\nSaved contact!\\n\")\n",
    "else:\n",
    "    print(\"Invalid email format.\")\n",
    "\n",
    "# Show all contacts\n",
    "print(\"All contacts:\")\n",
    "with open(\"contacts.txt\", \"r\") as f:\n",
    "    for line in f:\n",
    "        print(line.strip())\n"
   ]
  },
  {
   "cell_type": "code",
   "execution_count": null,
   "id": "29238a9d-3338-4be1-865d-dda41c07675c",
   "metadata": {},
   "outputs": [],
   "source": []
  }
 ],
 "metadata": {
  "kernelspec": {
   "display_name": "Python 3 (ipykernel)",
   "language": "python",
   "name": "python3"
  },
  "language_info": {
   "codemirror_mode": {
    "name": "ipython",
    "version": 3
   },
   "file_extension": ".py",
   "mimetype": "text/x-python",
   "name": "python",
   "nbconvert_exporter": "python",
   "pygments_lexer": "ipython3",
   "version": "3.12.9"
  }
 },
 "nbformat": 4,
 "nbformat_minor": 5
}
