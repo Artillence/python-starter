{
 "cells": [
  {
   "cell_type": "markdown",
   "id": "fc1b1220-037d-481f-b238-52b96f421e7e",
   "metadata": {},
   "source": [
    "# Decorators\n",
    "\n",
    "## What are Decorators?\n",
    "\n",
    "A decorator is a function that takes another function or class and extends or alters its behavior. Decorators provide a flexible way to inject code into existing functions or methods.\n",
    "\n",
    "## Function Decorators\n",
    "\n",
    "Function decorators are used to modify or extend the behavior of functions or methods. They are applied using the `@decorator_name` syntax.\n",
    "\n",
    "**Example:**"
   ]
  },
  {
   "cell_type": "code",
   "execution_count": 1,
   "id": "164f85da-df4d-47bc-ae5c-45d98ff99b7b",
   "metadata": {},
   "outputs": [
    {
     "name": "stdout",
     "output_type": "stream",
     "text": [
      "Something is happening before the function is called.\n",
      "Hello!\n",
      "Something is happening after the function is called.\n"
     ]
    }
   ],
   "source": [
    "def my_decorator(func):\n",
    "    def wrapper():\n",
    "        print(\"Something is happening before the function is called.\")\n",
    "        func()\n",
    "        print(\"Something is happening after the function is called.\")\n",
    "    return wrapper\n",
    "\n",
    "@my_decorator\n",
    "def say_hello():\n",
    "    print(\"Hello!\")\n",
    "\n",
    "say_hello()"
   ]
  },
  {
   "cell_type": "markdown",
   "id": "1adbd317-dc2d-4007-9af0-f453d0aff53c",
   "metadata": {},
   "source": [
    "### Example of a Decorator with Parameters\n",
    "\n",
    "Let’s say you want to create a decorator that logs messages with varying levels of importance (e.g., `info`, `warning`, `error`). You can achieve this by adding parameters to your decorator.\n",
    "\n",
    "Here’s how you can implement it:"
   ]
  },
  {
   "cell_type": "code",
   "execution_count": 2,
   "id": "e8756ec3-d7d7-46bd-ba88-db606069a4d2",
   "metadata": {},
   "outputs": [
    {
     "name": "stdout",
     "output_type": "stream",
     "text": [
      "[INFO] - Something is happening before the function is called.\n",
      "Hello, Alice!\n",
      "[INFO] - Something is happening after the function is called.\n",
      "[WARNING] - Something is happening before the function is called.\n",
      "Goodbye, Bob!\n",
      "[WARNING] - Something is happening after the function is called.\n"
     ]
    }
   ],
   "source": [
    "def log(level):\n",
    "    def decorator(func):\n",
    "        def wrapper(*args, **kwargs):\n",
    "            print(f\"[{level.upper()}] - Something is happening before the function is called.\")\n",
    "            result = func(*args, **kwargs)\n",
    "            print(f\"[{level.upper()}] - Something is happening after the function is called.\")\n",
    "            return result\n",
    "        return wrapper\n",
    "    return decorator\n",
    "\n",
    "@log(\"info\")\n",
    "def say_hello(name):\n",
    "    print(f\"Hello, {name}!\")\n",
    "\n",
    "@log(\"warning\")\n",
    "def say_goodbye(name):\n",
    "    print(f\"Goodbye, {name}!\")\n",
    "\n",
    "say_hello(\"Alice\")\n",
    "say_goodbye(\"Bob\")"
   ]
  },
  {
   "cell_type": "markdown",
   "id": "60c31e4e-42de-462e-802e-2af52b9dae23",
   "metadata": {},
   "source": [
    "### Practice Example: Logging Execution Time with Custom Messages\n",
    "\n",
    "In this exercise, you'll create a function decorator that logs the execution time of the decorated function. The decorator should accept a parameter to customize the log message.\n",
    "\n",
    "#### Step-by-Step Instructions:\n",
    "\n",
    "1. **Create the Decorator Function:**\n",
    "   - The decorator should be a function that takes a string parameter `message`.\n",
    "   - Inside the decorator, define an inner decorator function that takes the function to be decorated.\n",
    "   - The inner decorator should define a wrapper function that calculates the execution time of the original function and prints the custom message along with the execution time.\n",
    "\n",
    "2. **Use the Decorator:**\n",
    "   - Apply the decorator to a sample function that performs a sleep.\n",
    "\n",
    "3. **Test the Decorator:**\n",
    "   - Call the decorated function and observe the output.\n",
    "\n",
    "#### Example Implementation:"
   ]
  },
  {
   "cell_type": "code",
   "execution_count": null,
   "id": "575495eb-a110-4888-a7d9-81d81c151ae8",
   "metadata": {},
   "outputs": [],
   "source": [
    "import time\n",
    "\n",
    "# Use `time.time()` to get the current time in seconds (it returns a float number representing the exact time).\n",
    "\n",
    "# Step 1: Create the decorator function with a parameter\n",
    "def log_execution_time(\n",
    "    # ...\n",
    "\n",
    "# Step 3: Test the decorator\n",
    "@log_execution_time(message=\"Starting long-running task\")\n",
    "def long_running_task():\n",
    "    time.sleep(2)\n",
    "    return \"Long task completed\"\n",
    "\n",
    "@log_execution_time(message=\"Starting short-running task\")\n",
    "def quick_task():\n",
    "    time.sleep(0.5)\n",
    "    return \"Quick task completed\"\n",
    "\n",
    "# Test the decorated functions\n",
    "print(long_running_task())\n",
    "print(quick_task())\n",
    "\n",
    "#### Expected Output:\n",
    "# Starting long-running task - Execution time: 2.0019 seconds\n",
    "# Long task completed\n",
    "# Starting short-running task - Execution time: 0.5026 seconds\n",
    "# Quick task completed"
   ]
  },
  {
   "cell_type": "code",
   "execution_count": 4,
   "id": "39a00df1-74d8-4c7a-8d98-b1515759de09",
   "metadata": {
    "jupyter": {
     "source_hidden": true
    }
   },
   "outputs": [
    {
     "name": "stdout",
     "output_type": "stream",
     "text": [
      "Starting long-running task - Execution time: 2.0012 seconds\n",
      "Long task completed\n",
      "Starting short-running task - Execution time: 0.5049 seconds\n",
      "Quick task completed\n"
     ]
    }
   ],
   "source": [
    "# Solution\n",
    "\n",
    "import time\n",
    "\n",
    "# Step 1: Create the decorator function with a parameter\n",
    "def log_execution_time(message):\n",
    "    def decorator(func):\n",
    "        def wrapper(*args, **kwargs):\n",
    "            start_time = time.time()\n",
    "            result = func(*args, **kwargs)\n",
    "            end_time = time.time()\n",
    "            execution_time = end_time - start_time\n",
    "            print(f\"{message} - Execution time: {execution_time:.4f} seconds\")\n",
    "            return result\n",
    "        return wrapper\n",
    "    return decorator\n",
    "\n",
    "# Step 2: Use the decorator on a sample function\n",
    "@log_execution_time(\"Factorial computation\")\n",
    "def factorial(n):\n",
    "    if n == 0:\n",
    "        return 1\n",
    "    else:\n",
    "        return n * factorial(n - 1)\n",
    "\n",
    "# Step 3: Test the decorator\n",
    "@log_execution_time(message=\"Starting long-running task\")\n",
    "def long_running_task():\n",
    "    time.sleep(2)\n",
    "    return \"Long task completed\"\n",
    "\n",
    "@log_execution_time(message=\"Starting short-running task\")\n",
    "def quick_task():\n",
    "    time.sleep(0.5)\n",
    "    return \"Quick task completed\"\n",
    "\n",
    "# Test the decorated functions\n",
    "print(long_running_task())\n",
    "print(quick_task())"
   ]
  },
  {
   "cell_type": "markdown",
   "id": "b66a4619-5067-4ea9-bcf7-8aec2907e221",
   "metadata": {},
   "source": [
    "### Class Decorators\n",
    "\n",
    "Class decorators are similar to function decorators but are used to modify or extend the behavior of classes.\n",
    "\n",
    "**Example:**"
   ]
  },
  {
   "cell_type": "code",
   "execution_count": 3,
   "id": "35041ad3-1cca-41d6-bc49-71c45fc7e301",
   "metadata": {},
   "outputs": [
    {
     "name": "stdout",
     "output_type": "stream",
     "text": [
      "MyClass instance created.\n",
      "This is a new method added by the decorator.\n"
     ]
    }
   ],
   "source": [
    "def class_decorator(cls):\n",
    "    class NewClass(cls):\n",
    "        def new_method(self):\n",
    "            print(\"This is a new method added by the decorator.\")\n",
    "    return NewClass\n",
    "\n",
    "@class_decorator\n",
    "class MyClass:\n",
    "    def __init__(self):\n",
    "        print(\"MyClass instance created.\")\n",
    "\n",
    "obj = MyClass()\n",
    "obj.new_method()"
   ]
  },
  {
   "cell_type": "markdown",
   "id": "e1448224-f23a-4f9f-9617-1d890777791b",
   "metadata": {},
   "source": [
    "Class decorators can also have parameters:"
   ]
  },
  {
   "cell_type": "code",
   "execution_count": 4,
   "id": "f39b277c-dcbe-4fbf-b291-1077b686756a",
   "metadata": {},
   "outputs": [
    {
     "name": "stdout",
     "output_type": "stream",
     "text": [
      "MyClass instance created.\n",
      "This is a new method added by the decorator with parameters: Parameter 1, Parameter 2\n"
     ]
    }
   ],
   "source": [
    "def class_decorator_with_params(param1, param2):\n",
    "    def decorator(cls):\n",
    "        class NewClass(cls):\n",
    "            def new_method(self):\n",
    "                print(f\"This is a new method added by the decorator with parameters: {param1}, {param2}\")\n",
    "        return NewClass\n",
    "    return decorator\n",
    "\n",
    "@class_decorator_with_params(\"Parameter 1\", \"Parameter 2\")\n",
    "class MyClass:\n",
    "    def __init__(self):\n",
    "        print(\"MyClass instance created.\")\n",
    "\n",
    "obj = MyClass()\n",
    "obj.new_method()"
   ]
  },
  {
   "cell_type": "markdown",
   "id": "1278eadd-57bb-464c-bd9a-455f824ef912",
   "metadata": {},
   "source": [
    "In this example, `class_decorator_with_params` is a decorator that takes two parameters (`param1` and `param2`). Inside this decorator, we define another function `decorator` which is the actual decorator function that takes the class `cls` as an argument. The `NewClass` inside `decorator` extends the original class and adds a new method that uses the parameters passed to the outer decorator.\n",
    "\n",
    "When `@class_decorator_with_params(\"Parameter 1\", \"Parameter 2\")` is used, it decorates `MyClass`, resulting in a new class that includes the `new_method` method with the given parameters."
   ]
  },
  {
   "cell_type": "markdown",
   "id": "33cf4513-a8ad-4b2b-b988-56c1ebd70a84",
   "metadata": {},
   "source": [
    "### Practice Example\n",
    "\n",
    "#### Task Description\n",
    "Write a class decorator named `prepend_str` that takes a single parameter, `message`, and uses it to modify the `__str__` method of any class it decorates. The modified `__str__` method should prepend the `message` to the original string representation of the class.\n",
    "\n",
    "#### Instructions\n",
    "1. Define a class decorator named `prepend_str` that accepts a parameter `message`.\n",
    "2. The decorator should override the `__str__` method of the class it decorates.\n",
    "3. The new `__str__` method should prepend the `message` to the original `__str__` output of the class.\n",
    "\n",
    "#### Example Implementation:"
   ]
  },
  {
   "cell_type": "code",
   "execution_count": null,
   "id": "f8821fac-5eeb-4b60-8006-64b7dadb1e14",
   "metadata": {},
   "outputs": [],
   "source": [
    "# Create the decorator function with a parameter\n",
    "def prepend_str( # ...\n",
    "    # ...\n",
    "\n",
    "# Example decorated class:\n",
    "\n",
    "@prepend_str(\"Info: \")\n",
    "class Person:\n",
    "    def __init__(self, name, age):\n",
    "        self.name = name\n",
    "        self.age = age\n",
    "\n",
    "    def __str__(self):\n",
    "        return f'{self.name} is {self.age} years old'\n",
    "\n",
    "p = Person(\"Alice\", 30)\n",
    "print(p)\n",
    "\n",
    "# Expected output:\n",
    "# Info: Alice is 30 years old"
   ]
  },
  {
   "cell_type": "code",
   "execution_count": 22,
   "id": "693d3bb7-0b8b-40d1-97c9-8aa7575fbbdb",
   "metadata": {
    "jupyter": {
     "source_hidden": true
    }
   },
   "outputs": [
    {
     "name": "stdout",
     "output_type": "stream",
     "text": [
      "Info: Alice is 30 years old\n"
     ]
    }
   ],
   "source": [
    "# Solution\n",
    "\n",
    "def prepend_str(message):\n",
    "    def decorator(cls):\n",
    "        # Save the original __str__ method\n",
    "        original_str = cls.__str__\n",
    "\n",
    "        # Define the new __str__ method\n",
    "        def new_str(self):\n",
    "            return f\"{message}{original_str(self)}\"\n",
    "\n",
    "        # Set the new __str__ method to the class\n",
    "        cls.__str__ = new_str\n",
    "        return cls\n",
    "    return decorator\n",
    "\n",
    "# Example class to be decorated\n",
    "@prepend_str(\"Info: \")\n",
    "class Person:\n",
    "    def __init__(self, name, age):\n",
    "        self.name = name\n",
    "        self.age = age\n",
    "\n",
    "    def __str__(self):\n",
    "        return f'{self.name} is {self.age} years old'\n",
    "\n",
    "# Test the implementation\n",
    "p = Person(\"Alice\", 30)\n",
    "print(p)  # Output should be: Info: Alice is 30 years old"
   ]
  },
  {
   "cell_type": "markdown",
   "id": "2f558f85-0200-4f7c-ac22-0c768d4cf954",
   "metadata": {},
   "source": [
    "### Practical Examples and Use Cases\n",
    "\n",
    "- **Logging**: Automatically log function calls and return values.\n",
    "- **Access Control**: Restrict access to certain methods or functions.\n",
    "- **Memoization**: Cache the results of expensive function calls.\n",
    "\n",
    "(Remember?) Another common example is the `functools` module's `lru_cache` [decorator](https://docs.python.org/3/library/functools.html#functools.lru_cache):"
   ]
  },
  {
   "cell_type": "code",
   "execution_count": 16,
   "id": "d0356b00-149f-4674-91d5-e0d1fce2b144",
   "metadata": {},
   "outputs": [
    {
     "name": "stdout",
     "output_type": "stream",
     "text": [
      "9227465\n",
      "CacheInfo(hits=33, misses=36, maxsize=10, currsize=10)\n"
     ]
    }
   ],
   "source": [
    "import functools\n",
    "\n",
    "# Define a function to compute a value (e.g., Fibonacci numbers)\n",
    "@functools.lru_cache(maxsize=10)\n",
    "def fib(n):\n",
    "    if n < 2:\n",
    "        return n\n",
    "    return fib(n-1) + fib(n-2)\n",
    "\n",
    "# Test the LRU cache\n",
    "print(fib(35)) # Should print 9227465\n",
    "\n",
    "# The LRU cache should have stored the most recent calls up to the max size specified.\n",
    "print(fib.cache_info())  # Prints cache info such as hits, misses, maxsize, and current size\n"
   ]
  },
  {
   "cell_type": "markdown",
   "id": "cc795e5c-943f-4b0c-b31c-7ca16b1f3fcd",
   "metadata": {},
   "source": [
    "---\n",
    "\n",
    "# File Handling in Python\n",
    "\n",
    "Python provides built-in support for working with files. You can:\n",
    "\n",
    "- Open files using the `open()` function\n",
    "- Read or write using methods like `.read()`, `.write()`, etc.\n",
    "- Use context managers (`with`) to handle file closing automatically\n",
    "\n",
    "## Common File Handling Methods\n",
    "\n",
    "| Method             | Purpose                               | Notes                                                   |\n",
    "|--------------------|----------------------------------------|----------------------------------------------------------|\n",
    "| `open(file, mode)` | Opens a file                          | Modes: `'r'`, `'w'`, `'a'`, `'rb'`, `'wb'`, etc.         |\n",
    "| `read()`           | Reads the whole file as a string      | Returns one string with all contents                    |\n",
    "| `readline()`       | Reads the next line                   | Use in loops or multiple calls                          |\n",
    "| `readlines()`      | Reads all lines into a list           | Each line is a string in a list                         |\n",
    "| `write(string)`    | Writes a string to the file           | Overwrites in `'w'` mode, appends in `'a'`              |\n",
    "| `writelines(list)` | Writes multiple strings to the file   | Doesn’t add newline automatically                      |\n",
    "| `close()`          | Closes the file manually              | Automatically done with `with open(...) as ...`         |\n",
    "\n",
    "## File Open Modes\n",
    "\n",
    "| Mode  | Meaning                        |\n",
    "|-------|--------------------------------|\n",
    "| `'r'` | Read (default)                 |\n",
    "| `'w'` | Write (overwrite if exists)    |\n",
    "| `'a'` | Append (write at end)          |\n",
    "| `'b'` | Binary mode (combine with r/w) |\n",
    "| `'x'` | Create (fail if exists)        |\n",
    "\n",
    "Combine modes like:\n",
    "- `'rb'` = read binary\n",
    "- `'wb'` = write binary\n",
    "\n",
    "## Official Python Documentation\n",
    "\n",
    "You can find the full documentation here:  \n",
    " - https://docs.python.org/3/library/functions.html#open  \n",
    " - https://docs.python.org/3/tutorial/inputoutput.html#reading-and-writing-files\n",
    "\n",
    "These pages cover everything about file handling, built-in functions, and best practices."
   ]
  },
  {
   "cell_type": "code",
   "execution_count": 9,
   "id": "d4d01d36-8108-42c2-9c56-220c60fb42b6",
   "metadata": {},
   "outputs": [
    {
     "name": "stdout",
     "output_type": "stream",
     "text": [
      "Hello, file!\n",
      "Second line.\n"
     ]
    }
   ],
   "source": [
    "# Example: writing and reading a file\n",
    "\n",
    "with open(\"example.txt\", \"w\") as f:\n",
    "    f.write(\"Hello, file!\\n\")\n",
    "    f.write(\"Second line.\")\n",
    "\n",
    "with open(\"example.txt\", \"r\") as f:\n",
    "    content = f.read()\n",
    "    print(content)\n"
   ]
  },
  {
   "cell_type": "code",
   "execution_count": 10,
   "id": "8312926e-49de-4a78-8685-6d6f18f4a19d",
   "metadata": {},
   "outputs": [
    {
     "name": "stdout",
     "output_type": "stream",
     "text": [
      "Number of lines: 2\n",
      "First line: Hello, file!\n",
      "\n"
     ]
    }
   ],
   "source": [
    "# Read all lines from a file into a list\n",
    "with open(\"example.txt\", \"r\") as f:\n",
    "    lines = f.readlines()\n",
    "    print(\"Number of lines:\", len(lines))\n",
    "    print(\"First line:\", lines[0])\n"
   ]
  },
  {
   "cell_type": "markdown",
   "id": "fcec077d-514c-4254-85ec-7076d3369fd3",
   "metadata": {},
   "source": [
    "## Directory Listing with `os.listdir()`\n",
    "\n",
    "The `os.listdir(path)` function returns a list of entries (files and directories) in the directory given by `path`. If `path` is not specified, it uses the current working directory. It does not return paths recursively.\n",
    "\n",
    "Example:\n",
    "```python\n",
    "import os\n",
    "print(os.listdir('.'))  # Lists files in the current directory\n",
    "```"
   ]
  },
  {
   "cell_type": "markdown",
   "id": "950a8738-fcd5-4fab-a2e8-f111d1138db4",
   "metadata": {},
   "source": [
    "### Exercise: List all `.txt` files in a directory\n",
    "\n",
    "Write a function `list_txt_files(path)` that takes a directory path and returns a list of all `.txt` files inside that directory (non-recursive)."
   ]
  },
  {
   "cell_type": "code",
   "execution_count": null,
   "id": "3ef909f5-0f2c-4a28-af54-fd0849cf6e21",
   "metadata": {},
   "outputs": [],
   "source": [
    "import os\n",
    "\n",
    "def list_txt_files(path):\n",
    "    # Hint: iterate over os.listdir(path), check if file ends with '.txt'\n",
    "    pass"
   ]
  },
  {
   "cell_type": "code",
   "execution_count": null,
   "id": "9875d4e3-0fea-4fe3-8790-24a1c3ae2f52",
   "metadata": {
    "jupyter": {
     "source_hidden": true
    }
   },
   "outputs": [],
   "source": [
    "# Solution:\n",
    "\n",
    "import os\n",
    "\n",
    "def list_txt_files(path):\n",
    "    return [f for f in os.listdir(path) if f.endswith('.txt') and os.path.isfile(os.path.join(path, f))]"
   ]
  },
  {
   "cell_type": "markdown",
   "id": "f95eadab-91f0-42b6-8fd9-e34b857e592a",
   "metadata": {},
   "source": [
    "## Walking Through Directories with `os.walk()`\n",
    "\n",
    "The `os.walk(top)` function generates the file names in a directory tree, walking top-down. It yields a 3-tuple `(dirpath, dirnames, filenames)` for each directory in the tree.\n",
    "\n",
    "Example:\n",
    "```python\n",
    "for root, dirs, files in os.walk('.'):\n",
    "    print(\"In:\", root)\n",
    "    print(\"Files:\", files)\n",
    "```"
   ]
  },
  {
   "cell_type": "markdown",
   "id": "1e33264a-1130-4498-a4af-ae609f33de19",
   "metadata": {},
   "source": [
    "### Exercise: Find all `.py` files recursively\n",
    "\n",
    "Write a function `find_python_files(root)` that recursively finds all `.py` files starting from the `root` directory. Return a list of their full paths."
   ]
  },
  {
   "cell_type": "code",
   "execution_count": null,
   "id": "316c2659-cfac-47e4-bedd-4ab35d282880",
   "metadata": {},
   "outputs": [],
   "source": [
    "import os\n",
    "\n",
    "def find_python_files(root):\n",
    "    # Hint: Use os.walk and os.path.join to build full paths\n",
    "    pass"
   ]
  },
  {
   "cell_type": "code",
   "execution_count": null,
   "id": "623954a9-21d3-4a01-8d0d-1591cbe9663e",
   "metadata": {
    "jupyter": {
     "source_hidden": true
    }
   },
   "outputs": [],
   "source": [
    "# Solution:\n",
    "\n",
    "import os\n",
    "\n",
    "def find_python_files(root):\n",
    "    result = []\n",
    "    for dirpath, _, filenames in os.walk(root):\n",
    "        for file in filenames:\n",
    "            if file.endswith('.py'):\n",
    "                result.append(os.path.join(dirpath, file))\n",
    "    return result"
   ]
  },
  {
   "cell_type": "markdown",
   "id": "64e802f3-c987-4b6e-9ff2-fb228a3f3723",
   "metadata": {},
   "source": [
    "## Creating Files with `open(..., 'w')`\n",
    "\n",
    "To create a new file, use the built-in `open()` function with mode `'w'` (write). If the file doesn't exist, it will be created. If it exists, it will be overwritten.\n",
    "\n",
    "Example:\n",
    "```python\n",
    "with open(\"example.txt\", \"w\") as f:\n",
    "    f.write(\"Hello, world!\")\n",
    "```"
   ]
  },
  {
   "cell_type": "markdown",
   "id": "8d94732f-5bef-4639-bbeb-8ff258cc8653",
   "metadata": {},
   "source": [
    "### Exercise: Create numbered files\n",
    "\n",
    "Write a function `create_numbered_files(n)` that creates `n` files named `file_1.txt`, `file_2.txt`, ..., `file_n.txt` in the current directory. Each file should contain the line \"This is file number X\"."
   ]
  },
  {
   "cell_type": "code",
   "execution_count": null,
   "id": "19a6edd2-e61d-4ae3-b3e8-f4eb4e334f79",
   "metadata": {},
   "outputs": [],
   "source": [
    "def create_numbered_files(n):\n",
    "    # Hint: use a loop, and open(f\"file_{i}.txt\", 'w') to write to each\n",
    "    pass"
   ]
  },
  {
   "cell_type": "code",
   "execution_count": null,
   "id": "fc298728-a859-48cb-bf71-50cd7c5a4fa7",
   "metadata": {
    "jupyter": {
     "source_hidden": true
    }
   },
   "outputs": [],
   "source": [
    "# Solution:\n",
    "\n",
    "def create_numbered_files(n):\n",
    "    for i in range(1, n + 1):\n",
    "        with open(f\"file_{i}.txt\", \"w\") as f:\n",
    "            f.write(f\"This is file number {i}\")"
   ]
  },
  {
   "cell_type": "markdown",
   "id": "1239bf53-1130-4afd-91b4-01db4bf2f5b8",
   "metadata": {},
   "source": [
    "## Deleting Files with `os.remove()`\n",
    "\n",
    "The `os.remove(path)` function deletes the file at the specified path. Be careful — this is permanent.\n",
    "\n",
    "Example:\n",
    "```python\n",
    "os.remove(\"example.txt\")\n",
    "```"
   ]
  },
  {
   "cell_type": "markdown",
   "id": "bd85738b-3ff1-4e94-a4d3-933511ec9251",
   "metadata": {},
   "source": [
    "### Exercise: Delete all `.log` files\n",
    "\n",
    "Write a function `delete_log_files(path)` that deletes all `.log` files in the specified directory (non-recursive)."
   ]
  },
  {
   "cell_type": "code",
   "execution_count": null,
   "id": "beb84aba-aefb-4e1b-b62f-d438005f01c9",
   "metadata": {},
   "outputs": [],
   "source": [
    "import os\n",
    "\n",
    "def delete_log_files(path):\n",
    "    # Hint: use os.listdir and os.remove\n",
    "    pass"
   ]
  },
  {
   "cell_type": "code",
   "execution_count": null,
   "id": "65abf872-d70a-489a-891e-9315ed00b8e4",
   "metadata": {
    "jupyter": {
     "source_hidden": true
    }
   },
   "outputs": [],
   "source": [
    "# Solution:\n",
    "\n",
    "import os\n",
    "\n",
    "def delete_log_files(path):\n",
    "    for file in os.listdir(path):\n",
    "        if file.endswith(\".log\"):\n",
    "            full_path = os.path.join(path, file)\n",
    "            if os.path.isfile(full_path):\n",
    "                os.remove(full_path)"
   ]
  },
  {
   "cell_type": "markdown",
   "id": "74813b2f-261b-4c42-9624-110780ad5aea",
   "metadata": {},
   "source": [
    "## Renaming Files with `os.rename()`\n",
    "\n",
    "Use `os.rename(src, dst)` to rename or move a file or directory from `src` to `dst`.\n",
    "\n",
    "Example:\n",
    "```python\n",
    "os.rename(\"old_name.txt\", \"new_name.txt\")\n",
    "```"
   ]
  },
  {
   "cell_type": "markdown",
   "id": "cf9c06f6-eb7b-4bbf-94cb-95b69e8a82ec",
   "metadata": {},
   "source": [
    "### Exercise: Rename all `.txt` files to `.md`\n",
    "\n",
    "Write a function `convert_txt_to_md(path)` that renames every `.txt` file in the given directory (non-recursive) to have the `.md` extension instead."
   ]
  },
  {
   "cell_type": "code",
   "execution_count": null,
   "id": "4f425a91-9880-4bfb-9467-15468fb00cc0",
   "metadata": {},
   "outputs": [],
   "source": [
    "import os\n",
    "\n",
    "def convert_txt_to_md(path):\n",
    "    # Hint: iterate over files, use os.rename with os.path.splitext\n",
    "    pass"
   ]
  },
  {
   "cell_type": "code",
   "execution_count": null,
   "id": "e0af228f-af6a-408b-bd1e-13e64e0bd5a3",
   "metadata": {
    "jupyter": {
     "source_hidden": true
    }
   },
   "outputs": [],
   "source": [
    "# Solution:\n",
    "\n",
    "import os\n",
    "\n",
    "def convert_txt_to_md(path):\n",
    "    for file in os.listdir(path):\n",
    "        if file.endswith(\".txt\"):\n",
    "            base = os.path.splitext(file)[0]\n",
    "            old_path = os.path.join(path, file)\n",
    "            new_path = os.path.join(path, base + \".md\")\n",
    "            os.rename(old_path, new_path)"
   ]
  },
  {
   "cell_type": "markdown",
   "id": "4359d99c-93a2-4dfe-941d-6868495c553d",
   "metadata": {},
   "source": [
    "## Checking File and Directory Existence with `os.path`\n",
    "\n",
    "To prevent errors, use `os.path` functions:\n",
    "- `os.path.exists(path)` checks if a path exists.\n",
    "- `os.path.isfile(path)` checks if it's a file.\n",
    "- `os.path.isdir(path)` checks if it's a directory.\n",
    "\n",
    "Example:\n",
    "```python\n",
    "import os\n",
    "print(os.path.exists(\"example.txt\"))\n",
    "```"
   ]
  },
  {
   "cell_type": "markdown",
   "id": "c5d7baa6-9d71-4b88-ae60-1e4873c47232",
   "metadata": {},
   "source": [
    "### Exercise: Safe File Writer\n",
    "\n",
    "Write a function `safe_write(path, content)` that writes `content` to `path` **only if the file does not already exist**."
   ]
  },
  {
   "cell_type": "code",
   "execution_count": null,
   "id": "a3d3e9f1-8938-4e94-917a-f010a459263d",
   "metadata": {},
   "outputs": [],
   "source": [
    "import os\n",
    "\n",
    "def safe_write(path, content):\n",
    "    # Hint: Use os.path.exists before writing\n",
    "    pass"
   ]
  },
  {
   "cell_type": "code",
   "execution_count": null,
   "id": "ed9d81be-2513-46f5-b794-45b1ebaf8001",
   "metadata": {
    "jupyter": {
     "source_hidden": true
    }
   },
   "outputs": [],
   "source": [
    "# Solution:\n",
    "\n",
    "import os\n",
    "\n",
    "def safe_write(path, content):\n",
    "    if not os.path.exists(path):\n",
    "        with open(path, \"w\") as f:\n",
    "            f.write(content)"
   ]
  },
  {
   "cell_type": "markdown",
   "id": "b11bc62d-312f-4874-9a0c-fa115a48634c",
   "metadata": {},
   "source": [
    "## Object-Oriented File Handling with `pathlib`\n",
    "\n",
    "`pathlib` offers a modern alternative to `os.path` and `os`:\n",
    "- `Path(path)` creates a Path object.\n",
    "- `path.glob(\"*.txt\")` finds files by pattern (lazy).\n",
    "- `path.exists()`, `is_file()`, and `is_dir()` are built-in methods.\n",
    "\n",
    "Example:\n",
    "```python\n",
    "from pathlib import Path\n",
    "for txt in Path(\".\").glob(\"*.txt\"):\n",
    "    print(txt.name)\n",
    "```"
   ]
  },
  {
   "cell_type": "markdown",
   "id": "5cf4e8ff-a8c0-4497-9fa3-e40e4e950c93",
   "metadata": {},
   "source": [
    "### Exercise: Count Python Files\n",
    "\n",
    "Write a function `count_py_files(path)` that returns the number of `.py` files in a directory using `pathlib`."
   ]
  },
  {
   "cell_type": "code",
   "execution_count": null,
   "id": "7fdd61b9-745b-4999-866a-8f4240d575dc",
   "metadata": {},
   "outputs": [],
   "source": [
    "from pathlib import Path\n",
    "\n",
    "def count_py_files(path):\n",
    "    # Hint: Use Path(path).glob('*.py')\n",
    "    pass"
   ]
  },
  {
   "cell_type": "code",
   "execution_count": null,
   "id": "d9b2fcf8-50f0-4579-bdc1-bd651a8ac546",
   "metadata": {
    "jupyter": {
     "source_hidden": true
    }
   },
   "outputs": [],
   "source": [
    "# Solution:\n",
    "\n",
    "from pathlib import Path\n",
    "\n",
    "def count_py_files(path):\n",
    "    return len(list(Path(path).glob(\"*.py\")))"
   ]
  },
  {
   "cell_type": "markdown",
   "id": "a7f88f50-e69f-4de6-9e8b-b3f07961e7ab",
   "metadata": {},
   "source": [
    "## Creating Nested Directories with `os.makedirs()`\n",
    "\n",
    "Use `os.makedirs(path, exist_ok=True)` to create directories and any necessary parents.\n",
    "\n",
    "Example:\n",
    "```python\n",
    "import os\n",
    "os.makedirs(\"logs/2025/April\", exist_ok=True)\n",
    "```"
   ]
  },
  {
   "cell_type": "markdown",
   "id": "70c0690a-28fe-455a-a606-8100c9467984",
   "metadata": {},
   "source": [
    "### Exercise: Create Year/Month Structure\n",
    "\n",
    "Write a function `make_log_folder(year, month)` that creates a nested folder like `logs/2025/April` using `os.makedirs()`."
   ]
  },
  {
   "cell_type": "code",
   "execution_count": null,
   "id": "515cc42a-e14f-43e8-b743-0ba6506a3337",
   "metadata": {},
   "outputs": [],
   "source": [
    "import os\n",
    "\n",
    "def make_log_folder(year, month):\n",
    "    # Hint: build the path string, then call os.makedirs with exist_ok=True\n",
    "    pass"
   ]
  },
  {
   "cell_type": "code",
   "execution_count": null,
   "id": "d8242235-51e7-49c9-8187-361906cf7756",
   "metadata": {
    "jupyter": {
     "source_hidden": true
    }
   },
   "outputs": [],
   "source": [
    "# Solution:\n",
    "\n",
    "import os\n",
    "\n",
    "def make_log_folder(year, month):\n",
    "    path = os.path.join(\"logs\", str(year), month)\n",
    "    os.makedirs(path, exist_ok=True)"
   ]
  },
  {
   "cell_type": "markdown",
   "id": "445fc3e5-83f5-46f8-86df-3aaefcbd77ae",
   "metadata": {},
   "source": [
    "## Moving and Copying Files with `shutil`\n",
    "\n",
    "Use `shutil.move(src, dst)` to move or rename files.\n",
    "Use `shutil.copy(src, dst)` to copy files.\n",
    "\n",
    "Example:\n",
    "```python\n",
    "import shutil\n",
    "shutil.move(\"file.txt\", \"archive/file.txt\")\n",
    "```"
   ]
  },
  {
   "cell_type": "markdown",
   "id": "60f308cf-5abc-4f9f-9772-26dd3ff3cd98",
   "metadata": {},
   "source": [
    "### Exercise: Archive CSV Files\n",
    "\n",
    "Write a function `archive_csv_files(src_dir, dest_dir)` that moves all `.csv` files from `src_dir` to `dest_dir`."
   ]
  },
  {
   "cell_type": "code",
   "execution_count": null,
   "id": "c2aa64a5-5b2d-4ee7-8449-37ab9011b75b",
   "metadata": {},
   "outputs": [],
   "source": [
    "import os\n",
    "import shutil\n",
    "\n",
    "def archive_csv_files(src_dir, dest_dir):\n",
    "    # Hint: use os.listdir and shutil.move\n",
    "    pass"
   ]
  },
  {
   "cell_type": "code",
   "execution_count": null,
   "id": "553ee448-f51b-4530-bc72-8d8997cfc90a",
   "metadata": {
    "jupyter": {
     "source_hidden": true
    }
   },
   "outputs": [],
   "source": [
    "# Solution:\n",
    "\n",
    "import os\n",
    "import shutil\n",
    "\n",
    "def archive_csv_files(src_dir, dest_dir):\n",
    "    for file in os.listdir(src_dir):\n",
    "        if file.endswith(\".csv\"):\n",
    "            full_src = os.path.join(src_dir, file)\n",
    "            full_dest = os.path.join(dest_dir, file)\n",
    "            shutil.move(full_src, full_dest)"
   ]
  },
  {
   "cell_type": "markdown",
   "id": "0ed87056-1c4c-4bbf-8bc7-1a784e66329c",
   "metadata": {},
   "source": [
    "## Temporary Files with `tempfile`\n",
    "\n",
    "Use the `tempfile` module to create temporary files and directories that are automatically cleaned up.\n",
    "\n",
    "Example:\n",
    "```python\n",
    "import tempfile\n",
    "with tempfile.NamedTemporaryFile(delete=False) as tf:\n",
    "    tf.write(b\"Temporary data\")\n",
    "    print(tf.name)\n",
    "```"
   ]
  },
  {
   "cell_type": "markdown",
   "id": "d3b2b588-1b59-423b-bff3-b6e906934071",
   "metadata": {},
   "source": [
    "### Exercise: Write Temp File\n",
    "\n",
    "Write a function `write_temp_message(msg)` that creates a temp file, writes `msg` into it, and returns the file path."
   ]
  },
  {
   "cell_type": "code",
   "execution_count": null,
   "id": "b839e30e-af08-4084-9a5d-8bdca8f7f46e",
   "metadata": {},
   "outputs": [],
   "source": [
    "import tempfile\n",
    "\n",
    "def write_temp_message(msg):\n",
    "    # Hint: open tempfile.NamedTemporaryFile(delete=False)\n",
    "    pass"
   ]
  },
  {
   "cell_type": "code",
   "execution_count": null,
   "id": "69ff3388-2c88-4c4d-89b2-fdc2c215e779",
   "metadata": {
    "jupyter": {
     "source_hidden": true
    }
   },
   "outputs": [],
   "source": [
    "# Solution:\n",
    "\n",
    "import tempfile\n",
    "\n",
    "def write_temp_message(msg):\n",
    "    with tempfile.NamedTemporaryFile(mode='w', delete=False) as tf:\n",
    "        tf.write(msg)\n",
    "        return tf.name"
   ]
  },
  {
   "cell_type": "markdown",
   "id": "095491c2-eeab-4db7-bd82-13df970b4a44",
   "metadata": {},
   "source": [
    "## Handling Errors with `try` / `except`\n",
    "\n",
    "Use `try`/`except` blocks to catch and handle errors like missing files or permission issues.\n",
    "\n",
    "Example:\n",
    "```python\n",
    "try:\n",
    "    os.remove(\"nonexistent.txt\")\n",
    "except FileNotFoundError:\n",
    "    print(\"File not found\")\n",
    "```"
   ]
  },
  {
   "cell_type": "markdown",
   "id": "4c9b7270-ee60-4a10-bd23-a60671509a10",
   "metadata": {},
   "source": [
    "### Exercise: Safe Delete\n",
    "\n",
    "Write a function `safe_delete(path)` that tries to delete the file, but prints a message if it doesn't exist."
   ]
  },
  {
   "cell_type": "code",
   "execution_count": null,
   "id": "587ca0ed-28d4-47d0-b575-e27d999d3566",
   "metadata": {},
   "outputs": [],
   "source": [
    "import os\n",
    "\n",
    "def safe_delete(path):\n",
    "    # Hint: wrap os.remove in try/except\n",
    "    pass"
   ]
  },
  {
   "cell_type": "code",
   "execution_count": null,
   "id": "eb83e8d2-04fa-49e4-a25a-aaf53cd5f54a",
   "metadata": {
    "jupyter": {
     "source_hidden": true
    }
   },
   "outputs": [],
   "source": [
    "# Solution:\n",
    "\n",
    "import os\n",
    "\n",
    "def safe_delete(path):\n",
    "    try:\n",
    "        os.remove(path)\n",
    "    except FileNotFoundError:\n",
    "        print(\"File does not exist:\", path)"
   ]
  },
  {
   "cell_type": "markdown",
   "id": "a75d7fb7-e36e-49d3-906c-c7ebcd60377b",
   "metadata": {},
   "source": [
    "## File Metadata with `os.stat()`\n",
    "\n",
    "`os.stat(path)` returns metadata like size, creation, and modification times.\n",
    "\n",
    "Example:\n",
    "```python\n",
    "info = os.stat(\"example.txt\")\n",
    "print(info.st_size, info.st_mtime)\n",
    "```"
   ]
  },
  {
   "cell_type": "markdown",
   "id": "de0dbd79-ba34-4540-8436-971fea7f78c8",
   "metadata": {},
   "source": [
    "### Exercise: List File Sizes\n",
    "\n",
    "Write a function `list_file_sizes(path)` that returns a dictionary of `{filename: size}` for each file in the given directory."
   ]
  },
  {
   "cell_type": "code",
   "execution_count": null,
   "id": "ed1911b9-5a84-46f9-9a5c-913ccfd632e4",
   "metadata": {},
   "outputs": [],
   "source": [
    "import os\n",
    "\n",
    "def list_file_sizes(path):\n",
    "    # Hint: os.listdir + os.path.getsize or os.stat\n",
    "    pass"
   ]
  },
  {
   "cell_type": "code",
   "execution_count": null,
   "id": "a3e4afee-2fe7-414c-8880-7940341a5939",
   "metadata": {
    "jupyter": {
     "source_hidden": true
    }
   },
   "outputs": [],
   "source": [
    "# Solution:\n",
    "\n",
    "import os\n",
    "\n",
    "def list_file_sizes(path):\n",
    "    sizes = {}\n",
    "    for file in os.listdir(path):\n",
    "        full_path = os.path.join(path, file)\n",
    "        if os.path.isfile(full_path):\n",
    "            sizes[file] = os.stat(full_path).st_size\n",
    "    return sizes"
   ]
  },
  {
   "cell_type": "markdown",
   "id": "82187dbe-8323-4a1e-8b91-343c8ffdb69c",
   "metadata": {},
   "source": [
    "---\n",
    "\n",
    "# Regular Expressions in Python\n",
    "\n",
    "A **regular expression (regex)** is a pattern used to search, match, or manipulate strings.\n",
    "\n",
    "Python uses the `re` module to work with regular expressions.\n"
   ]
  },
  {
   "cell_type": "code",
   "execution_count": 11,
   "id": "e5161368-8412-4a5f-9a0c-c4bdbbc3975d",
   "metadata": {},
   "outputs": [],
   "source": [
    "import re"
   ]
  },
  {
   "cell_type": "markdown",
   "id": "a8d76ac2-41ae-4432-a98d-a6aa13777bbf",
   "metadata": {},
   "source": [
    "# Common Regex Functions in the `re` Module\n",
    "\n",
    "| Function         | Purpose                                             |\n",
    "|------------------|-----------------------------------------------------|\n",
    "| `re.search()`     | Searches for the **first match** of the pattern in the string. Returns a match object or `None`. |\n",
    "| `re.match()`      | Checks for a match **only at the beginning** of the string. |\n",
    "| `re.fullmatch()`  | Checks if the **entire string** matches the pattern. |\n",
    "| `re.findall()`    | Returns **all non-overlapping matches** as a list of strings. |\n",
    "| `re.finditer()`   | Returns **an iterator** yielding match objects. |\n",
    "| `re.sub()`        | Replaces matches with a specified string. |\n",
    "| `re.split()`      | Splits the string using the pattern as a delimiter. |\n",
    "\n",
    "---\n",
    "\n",
    "## Parameters\n",
    "\n",
    "Most functions take these key parameters:\n",
    "- `pattern`: the regex pattern (string or compiled)\n",
    "- `string`: the input text\n",
    "- `flags`: optional settings like `re.IGNORECASE` or `re.MULTILINE`\n",
    "\n",
    "## Useful Regex Resources\n",
    "\n",
    "- Official Python Regex Documentation: [https://docs.python.org/3/library/re.html](https://docs.python.org/3/library/re.html)\n",
    "- Online Regex Tester and Visualizer: [https://regexr.com](https://regexr.com)\n"
   ]
  },
  {
   "cell_type": "code",
   "execution_count": null,
   "id": "7f1f743d-6687-44a7-bd88-58d90f7a290e",
   "metadata": {},
   "outputs": [],
   "source": [
    "# Search example\n",
    "text = \"Please contact us at hello@example.com\"\n",
    "match = re.search(r\"\\w+@\\w+\\.\\w+\", text)\n",
    "if match:\n",
    "    print(\"Found email:\", match.group())\n",
    "\n",
    "# Replace digits\n",
    "print(re.sub(r\"\\d\", \"*\", \"My PIN is 1234\"))\n",
    "\n",
    "# Find all words\n",
    "words = re.findall(r\"\\w+\", \"This is a test.\")\n",
    "print(\"Words:\", words)"
   ]
  },
  {
   "cell_type": "markdown",
   "id": "434b8b5f-0886-4a54-8879-226ff199f850",
   "metadata": {},
   "source": [
    "# What is an r-string (Raw String)?\n",
    "\n",
    "In Python, strings starting with `r` or `R` are called **raw strings**.\n",
    "\n",
    "They treat backslashes (`\\`) **as literal characters**, rather than escape characters.\n",
    "\n",
    "This is extremely useful when writing **regular expressions**, which often contain many backslashes.\n"
   ]
  },
  {
   "cell_type": "code",
   "execution_count": 14,
   "id": "20a37963-768d-4f5a-9568-7ec2e303b4ae",
   "metadata": {},
   "outputs": [
    {
     "name": "stdout",
     "output_type": "stream",
     "text": [
      "Wrong: \\d+\\.\\d+\n",
      "Correct: \\d+\\.\\d+\n"
     ]
    },
    {
     "name": "stderr",
     "output_type": "stream",
     "text": [
      "<>:2: SyntaxWarning: invalid escape sequence '\\d'\n",
      "<>:2: SyntaxWarning: invalid escape sequence '\\d'\n",
      "C:\\Users\\gregk\\AppData\\Local\\Temp\\ipykernel_13812\\3815947229.py:2: SyntaxWarning: invalid escape sequence '\\d'\n",
      "  pattern = \"\\d+\\.\\d+\"     # This might not work as expected!\n"
     ]
    }
   ],
   "source": [
    "# Example without raw string (error-prone)\n",
    "pattern = \"\\d+\\.\\d+\"     # This might not work as expected!\n",
    "print(\"Wrong:\", pattern)\n",
    "\n",
    "# Example with raw string (correct)\n",
    "pattern = r\"\\d+\\.\\d+\"\n",
    "print(\"Correct:\", pattern)"
   ]
  },
  {
   "cell_type": "code",
   "execution_count": 1,
   "id": "60a44d35-e8b1-42f7-bf8c-85e87e912915",
   "metadata": {},
   "outputs": [
    {
     "name": "stdout",
     "output_type": "stream",
     "text": [
      "C:\\new_folder\n",
      "C:\\new_folder\n"
     ]
    }
   ],
   "source": [
    "\n",
    "print(\"C:\\\\new_folder\")  # Normal string, needs escaping\n",
    "print(r\"C:\\new_folder\")  # Raw string, backslashes are treated literally\n"
   ]
  },
  {
   "cell_type": "markdown",
   "id": "1e04d26d-7f4c-4df1-954a-891fb724e363",
   "metadata": {},
   "source": [
    "### Exercise: Create a raw string path\n",
    "Write a raw string representing the path `D:\\test_folder\\my_file.txt` and print it."
   ]
  },
  {
   "cell_type": "code",
   "execution_count": null,
   "id": "67f9427f-9754-444b-a251-dc8ed5bcc262",
   "metadata": {},
   "outputs": [],
   "source": []
  },
  {
   "cell_type": "code",
   "execution_count": null,
   "id": "a62b9868-bc54-4faf-ab86-d020eda5b24e",
   "metadata": {
    "jupyter": {
     "source_hidden": true
    }
   },
   "outputs": [],
   "source": [
    "# Solution:\n",
    "\n",
    "path = r\"D:\\test_folder\\my_file.txt\"\n",
    "print(path)"
   ]
  },
  {
   "cell_type": "markdown",
   "id": "b701cac4-f69c-4baa-ae3f-7c315296c15e",
   "metadata": {},
   "source": [
    "## `re.search()`\n",
    "\n",
    "`re.search(pattern, string)` searches the entire string for the first location where the pattern matches.\n",
    "\n",
    "```python\n",
    "import re\n",
    "match = re.search(r\"\\d+\", \"User123\")\n",
    "print(match.group())  # Output: 123\n",
    "```"
   ]
  },
  {
   "cell_type": "markdown",
   "id": "eb8ac8b6-b2c1-42ac-b3b7-fc2449d4820b",
   "metadata": {},
   "source": [
    "### Exercise: Find first number in string\n",
    "Use `re.search()` to find the first number in the string `\"Order ID: A21B47C19\"`. Print the matched number."
   ]
  },
  {
   "cell_type": "code",
   "execution_count": null,
   "id": "1b3f2c60-e9a6-4f25-8827-2ac55075fe44",
   "metadata": {},
   "outputs": [],
   "source": [
    "import re\n",
    "\n"
   ]
  },
  {
   "cell_type": "code",
   "execution_count": null,
   "id": "6f858784-20ab-4963-8025-16908415ea33",
   "metadata": {
    "jupyter": {
     "source_hidden": true
    }
   },
   "outputs": [],
   "source": [
    "# Solution:\n",
    "\n",
    "match = re.search(r\"\\d+\", \"Order ID: A21B47C19\")\n",
    "print(match.group())"
   ]
  },
  {
   "cell_type": "markdown",
   "id": "062e795a-43d3-495a-affa-d348ca2492a2",
   "metadata": {},
   "source": [
    "## `re.match()`\n",
    "\n",
    "`re.match(pattern, string)` checks for a match only at the beginning of the string.\n",
    "\n",
    "```python\n",
    "re.match(r\"\\d+\", \"123abc\")  # Match\n",
    "re.match(r\"\\d+\", \"abc123\")  # No match\n",
    "```"
   ]
  },
  {
   "cell_type": "markdown",
   "id": "1c149f58-4a3e-4b42-a8fe-3086052ba8ff",
   "metadata": {},
   "source": [
    "### Exercise: Validate code start\n",
    "Check if the string `\"2023Report.pdf\"` starts with a 4-digit number using `re.match()`. Print \"Valid\" or \"Invalid\"."
   ]
  },
  {
   "cell_type": "code",
   "execution_count": null,
   "id": "fc664ed7-8358-4d15-9d35-4f1f7bdda42d",
   "metadata": {},
   "outputs": [],
   "source": [
    "import re\n",
    "\n"
   ]
  },
  {
   "cell_type": "code",
   "execution_count": null,
   "id": "97b52c83-e053-48dc-801d-34847fda2e27",
   "metadata": {
    "jupyter": {
     "source_hidden": true
    }
   },
   "outputs": [],
   "source": [
    "# Solution:\n",
    "\n",
    "if re.match(r\"\\d{4}\", \"2023Report.pdf\"):\n",
    "    print(\"Valid\")\n",
    "else:\n",
    "    print(\"Invalid\")"
   ]
  },
  {
   "cell_type": "markdown",
   "id": "4d9dc0be-5009-4767-9d79-89cb2adcf50d",
   "metadata": {},
   "source": [
    "## `re.fullmatch()`\n",
    "\n",
    "`re.fullmatch(pattern, string)` checks if the whole string matches the pattern.\n",
    "\n",
    "```python\n",
    "re.fullmatch(r\"\\d+\", \"123\")     # Match\n",
    "re.fullmatch(r\"\\d+\", \"123abc\")  # No match\n",
    "```"
   ]
  },
  {
   "cell_type": "markdown",
   "id": "d0217cf6-e51e-481b-8cc5-f2aa30c03308",
   "metadata": {},
   "source": [
    "### Exercise: Full match for hex color\n",
    "Check if a string is a valid 6-digit hex color code (like `\"FFA07A\"`) using `re.fullmatch()`. It should contain only hexadecimal digits (0-9, A-F)."
   ]
  },
  {
   "cell_type": "code",
   "execution_count": null,
   "id": "2961ed10-cfb5-4ce0-884f-36284923bf16",
   "metadata": {},
   "outputs": [],
   "source": [
    "import re\n",
    "\n"
   ]
  },
  {
   "cell_type": "code",
   "execution_count": null,
   "id": "795d2e1b-77df-459c-b1de-e93c883c6e5c",
   "metadata": {
    "jupyter": {
     "source_hidden": true
    }
   },
   "outputs": [],
   "source": [
    "# Solution:\n",
    "\n",
    "color = \"FFA07A\"\n",
    "if re.fullmatch(r\"[A-F0-9]{6}\", color, re.IGNORECASE):\n",
    "    print(\"Valid color code\")\n",
    "else:\n",
    "    print(\"Invalid\")"
   ]
  },
  {
   "cell_type": "markdown",
   "id": "17afb9af-113f-44e0-a31a-03dfed927096",
   "metadata": {},
   "source": [
    "## `re.findall()`\n",
    "\n",
    "`re.findall(pattern, string)` returns all non-overlapping matches of the pattern as a list.\n",
    "\n",
    "```python\n",
    "re.findall(r\"\\d+\", \"X12Y34Z56\")  # ['12', '34', '56']\n",
    "```"
   ]
  },
  {
   "cell_type": "markdown",
   "id": "4424d7f0-4d6e-4f62-8633-70927fa91afa",
   "metadata": {},
   "source": [
    "### Exercise: Extract all hashtags\n",
    "Find all hashtags (starting with `#` followed by letters or digits) from `\"Some #text with #multiple #Tags123 in it\"`."
   ]
  },
  {
   "cell_type": "code",
   "execution_count": null,
   "id": "02ac4c5a-7fef-4a4c-9ac9-c1cb175270e9",
   "metadata": {},
   "outputs": [],
   "source": [
    "import re\n",
    "\n"
   ]
  },
  {
   "cell_type": "code",
   "execution_count": null,
   "id": "c6a2c746-0a1a-4d7e-8250-03ac92df9c99",
   "metadata": {
    "jupyter": {
     "source_hidden": true
    }
   },
   "outputs": [],
   "source": [
    "# Solution:\n",
    "\n",
    "text = \"Some #text with #multiple #Tags123 in it\"\n",
    "print(re.findall(r\"#\\w+\", text))"
   ]
  },
  {
   "cell_type": "markdown",
   "id": "08455d21-ff65-44ae-9410-7a294ab52d39",
   "metadata": {},
   "source": [
    "## `re.finditer()`\n",
    "\n",
    "`re.finditer(pattern, string)` returns an iterator yielding match objects over all matches.\n",
    "\n",
    "```python\n",
    "matches = re.finditer(r\"\\d+\", \"abc123def456\")\n",
    "for match in matches:\n",
    "    print(match.group(), \"at\", match.start())\n",
    "```"
   ]
  },
  {
   "cell_type": "markdown",
   "id": "8b691958-1d16-4efe-9c27-3689589d8b23",
   "metadata": {},
   "source": [
    "### Exercise: Find word positions\n",
    "Use `re.finditer()` to print each word in `\"Look at these words\"` and its starting position."
   ]
  },
  {
   "cell_type": "code",
   "execution_count": null,
   "id": "81e09c27-ca2e-4677-86f1-a5e6eaf8d120",
   "metadata": {},
   "outputs": [],
   "source": [
    "import re\n",
    "\n"
   ]
  },
  {
   "cell_type": "code",
   "execution_count": null,
   "id": "3e762794-27b0-4188-9c65-6a9c4c5b8999",
   "metadata": {
    "jupyter": {
     "source_hidden": true
    }
   },
   "outputs": [],
   "source": [
    "# Solution:\n",
    "\n",
    "text = \"Look at these words\"\n",
    "for match in re.finditer(r\"\\w+\", text):\n",
    "    print(f\"{match.group()} starts at {match.start()}\")"
   ]
  },
  {
   "cell_type": "markdown",
   "id": "8839f147-70f0-43c9-a154-234a8df6eb31",
   "metadata": {},
   "source": [
    "## `re.sub()`\n",
    "\n",
    "`re.sub(pattern, repl, string)` replaces all occurrences of the pattern with `repl`.\n",
    "\n",
    "```python\n",
    "re.sub(r\"\\d+\", \"#\", \"a1b22c333\")  # Output: 'a#b#c#'\n",
    "```"
   ]
  },
  {
   "cell_type": "markdown",
   "id": "785e9e06-99b6-418c-b883-02b24a64961a",
   "metadata": {},
   "source": [
    "### Exercise: Clean phone number\n",
    "Replace all non-digit characters from the phone number `\"+36 (30) 123-4567\"` with an empty string."
   ]
  },
  {
   "cell_type": "code",
   "execution_count": null,
   "id": "fe8cd533-373d-4983-93e7-8f509d3f64fc",
   "metadata": {},
   "outputs": [],
   "source": [
    "import re\n",
    "\n"
   ]
  },
  {
   "cell_type": "code",
   "execution_count": null,
   "id": "c1d4eae1-45f2-45b9-b113-0ed9ccc45254",
   "metadata": {
    "jupyter": {
     "source_hidden": true
    }
   },
   "outputs": [],
   "source": [
    "# Solution:\n",
    "\n",
    "phone = \"+36 (30) 123-4567\"\n",
    "cleaned = re.sub(r\"\\D+\", \"\", phone)\n",
    "print(cleaned)"
   ]
  },
  {
   "cell_type": "markdown",
   "id": "f2524552-0faa-47a5-8803-9c97f6be5c83",
   "metadata": {},
   "source": [
    "## `re.split()`\n",
    "\n",
    "`re.split(pattern, string)` splits the string by occurrences of the pattern.\n",
    "\n",
    "```python\n",
    "re.split(r\",\\s*\", \"apple, banana,orange\")  # ['apple', 'banana', 'orange']\n",
    "```"
   ]
  },
  {
   "cell_type": "markdown",
   "id": "0becb582-73d2-4c68-a14e-7584c3739102",
   "metadata": {},
   "source": [
    "### Exercise: Split sentences\n",
    "Split the text `\"Hello. How are you? Fine!\"` into separate sentences."
   ]
  },
  {
   "cell_type": "code",
   "execution_count": null,
   "id": "dd7ac561-cbab-43d8-ac23-7847253a3c57",
   "metadata": {},
   "outputs": [],
   "source": [
    "import re\n",
    "\n"
   ]
  },
  {
   "cell_type": "code",
   "execution_count": null,
   "id": "6d9e5c09-b58d-40b8-898d-5118400f5295",
   "metadata": {
    "jupyter": {
     "source_hidden": true
    }
   },
   "outputs": [],
   "source": [
    "# Solution:\n",
    "\n",
    "text = \"Hello. How are you? Fine!\"\n",
    "sentences = re.split(r\"[.!?]\\s*\", text)\n",
    "print([s for s in sentences if s])"
   ]
  },
  {
   "cell_type": "markdown",
   "id": "ec96475b-9a6b-4644-a691-54bf2450b23e",
   "metadata": {},
   "source": [
    "## `str.join()`\n",
    "\n",
    "`str.join(iterable)` joins elements of an iterable using the string as a separator.\n",
    "\n",
    "```python\n",
    "\"-\".join([\"2024\", \"04\", \"14\"])  # Output: '2024-04-14'\n",
    "```"
   ]
  },
  {
   "cell_type": "markdown",
   "id": "fc28c71b-6de6-4d68-8f71-111209956c5f",
   "metadata": {},
   "source": [
    "### Exercise: Join name parts\n",
    "You have a list of name parts `[\"John\", \"F.\", \"Kennedy\"]`. Join them into a full name separated by spaces."
   ]
  },
  {
   "cell_type": "code",
   "execution_count": null,
   "id": "cd14e350-5e36-4185-8f91-53a37668664e",
   "metadata": {},
   "outputs": [],
   "source": []
  },
  {
   "cell_type": "code",
   "execution_count": null,
   "id": "fc6c02b7-c2b0-456d-be4c-93dda10687df",
   "metadata": {
    "jupyter": {
     "source_hidden": true
    }
   },
   "outputs": [],
   "source": [
    "# Solution:\n",
    "\n",
    "name_parts = [\"John\", \"F.\", \"Kennedy\"]\n",
    "full_name = \" \".join(name_parts)\n",
    "print(full_name)"
   ]
  },
  {
   "cell_type": "markdown",
   "id": "9ce22f73-0b7b-43d5-a673-d55710099e42",
   "metadata": {},
   "source": [
    "## Exercise: Email Validator and Extractor\n",
    "\n",
    "Write a small program that:\n",
    "\n",
    "1. Asks the user to enter a sentence.\n",
    "2. Uses a regular expression to extract **all valid email addresses**.\n",
    "3. Prints the list of matches or says \"No emails found\".\n",
    "\n",
    "Bonus:\n",
    "- Ignore case using `re.IGNORECASE`\n"
   ]
  },
  {
   "cell_type": "code",
   "execution_count": null,
   "id": "13ca45f5-fc76-4355-ab76-5b0d45e4321a",
   "metadata": {},
   "outputs": [],
   "source": [
    "sentence = input(\"...\")\n",
    "\n",
    "# ..."
   ]
  },
  {
   "cell_type": "code",
   "execution_count": 12,
   "id": "a4dc1cfa-eaf8-4a3e-a54b-5d8e64488347",
   "metadata": {
    "jupyter": {
     "source_hidden": true
    }
   },
   "outputs": [
    {
     "name": "stdin",
     "output_type": "stream",
     "text": [
      "Enter a sentence containing email addresses:  asd@asd.com\n"
     ]
    },
    {
     "name": "stdout",
     "output_type": "stream",
     "text": [
      "Found emails:\n",
      "- asd@asd.com\n"
     ]
    }
   ],
   "source": [
    "# Solution:\n",
    "\n",
    "sentence = input(\"Enter a sentence containing email addresses: \")\n",
    "\n",
    "emails = re.findall(r\"\\b\\w+[\\w\\.-]*@\\w+\\.\\w{2,}\\b\", sentence, flags=re.IGNORECASE)\n",
    "\n",
    "if emails:\n",
    "    print(\"Found emails:\")\n",
    "    for email in emails:\n",
    "        print(\"-\", email)\n",
    "else:\n",
    "    print(\"No emails found.\")\n"
   ]
  },
  {
   "cell_type": "markdown",
   "id": "e4c466f0-ec21-42fc-8cfd-be8363b5233d",
   "metadata": {},
   "source": [
    "---\n",
    "\n",
    "# Mini Project: File-Based Contact Manager\n",
    "\n",
    "You’ll build a mini contact manager that:\n",
    " -  Uses a `Contact` class  \n",
    " -  Stores contacts in a file  \n",
    " -  Validates email using regex  \n",
    " -  Reads contacts back from the file\n",
    "\n",
    "---\n",
    "\n",
    "### Features:\n",
    "1. Ask user for:\n",
    "   - name\n",
    "   - email\n",
    "   - phone\n",
    "\n",
    "2. Validate email format using regex\n",
    "\n",
    "3. Save valid contact to `contacts.txt` in a formatted line\n",
    "\n",
    "4. Read and display all saved contacts\n"
   ]
  },
  {
   "cell_type": "code",
   "execution_count": null,
   "id": "5f105a4c-a3cd-4234-bec0-1a74017a6b1d",
   "metadata": {},
   "outputs": [],
   "source": [
    "import re\n",
    "\n",
    "class Contact:\n",
    "    # ...\n",
    "\n",
    "def is_valid_email(email):\n",
    "    return # ...\n",
    "\n",
    "# Input\n",
    "# ...\n",
    "\n",
    "# Show all contacts\n",
    "# ..."
   ]
  },
  {
   "cell_type": "code",
   "execution_count": 16,
   "id": "20c03b2c-98a2-4f33-aedc-c83e9b99dc59",
   "metadata": {
    "jupyter": {
     "source_hidden": true
    }
   },
   "outputs": [
    {
     "name": "stdin",
     "output_type": "stream",
     "text": [
      "Name:  hello\n",
      "Email:  asd@asd.com\n",
      "Phone:  01234567889\n"
     ]
    },
    {
     "name": "stdout",
     "output_type": "stream",
     "text": [
      "\n",
      "Saved contact!\n",
      "\n",
      "All contacts:\n",
      "hello | asd@asd.com | 01234567889\n"
     ]
    }
   ],
   "source": [
    "# Solution:\n",
    "\n",
    "import re\n",
    "\n",
    "class Contact:\n",
    "    def __init__(self, name, email, phone):\n",
    "        self.name = name\n",
    "        self.email = email\n",
    "        self.phone = phone\n",
    "\n",
    "    def __str__(self):\n",
    "        return f\"{self.name} | {self.email} | {self.phone}\"\n",
    "\n",
    "def is_valid_email(email):\n",
    "    return re.fullmatch(r\"\\w+[\\w\\.-]*@\\w+\\.\\w{2,}\", email)\n",
    "\n",
    "# Input\n",
    "name = input(\"Name: \")\n",
    "email = input(\"Email: \")\n",
    "phone = input(\"Phone: \")\n",
    "\n",
    "if is_valid_email(email):\n",
    "    contact = Contact(name, email, phone)\n",
    "\n",
    "    with open(\"contacts.txt\", \"a\") as f:\n",
    "        f.write(str(contact) + \"\\n\")\n",
    "\n",
    "    print(\"\\nSaved contact!\\n\")\n",
    "else:\n",
    "    print(\"Invalid email format.\")\n",
    "\n",
    "# Show all contacts\n",
    "print(\"All contacts:\")\n",
    "with open(\"contacts.txt\", \"r\") as f:\n",
    "    for line in f:\n",
    "        print(line.strip())\n"
   ]
  },
  {
   "cell_type": "markdown",
   "id": "9c4e1518-875d-4913-9ce8-d61e2b55fdd7",
   "metadata": {},
   "source": [
    "---"
   ]
  },
  {
   "cell_type": "markdown",
   "id": "336102c6-5282-40f0-9741-e8fb0d5a7a98",
   "metadata": {},
   "source": [
    "\n",
    "## Working with JSON in Python: Creating JSON\n",
    "\n",
    "To create JSON data from Python objects, use the `json` module. The function `json.dumps()` converts Python dictionaries (and other serializable objects) into a JSON-formatted string.\n",
    "\n",
    "Example:\n",
    "```python\n",
    "import json\n",
    "\n",
    "person = {\n",
    "    \"name\": \"Alice\",\n",
    "    \"age\": 30,\n",
    "    \"hobbies\": [\"reading\", \"cycling\"]\n",
    "}\n",
    "\n",
    "json_string = json.dumps(person, indent=2)\n",
    "print(json_string)\n",
    "```\n",
    "\n",
    "This will produce a nicely indented JSON string from the dictionary. You can also use `json.dump()` to write directly to a file.\n"
   ]
  },
  {
   "cell_type": "markdown",
   "id": "9af69803-55d9-401a-9b8b-714175519053",
   "metadata": {},
   "source": [
    "### Exercise: Convert list of books to JSON string\n",
    "You are given a list of dictionaries, where each dictionary represents a book with \"title\" and \"author\" fields. Convert the list to a JSON-formatted string and print it, with indentation of 4 spaces."
   ]
  },
  {
   "cell_type": "code",
   "execution_count": null,
   "id": "c46cee6a-7e3e-482d-9458-d780b9089461",
   "metadata": {},
   "outputs": [],
   "source": [
    "import json\n",
    "\n",
    "books = [\n",
    "    {\"title\": \"Python 101\", \"author\": \"John Doe\"},\n",
    "    {\"title\": \"Advanced Python\", \"author\": \"Jane Smith\"}\n",
    "]\n",
    "\n",
    "# Use json.dumps(...) to convert the data"
   ]
  },
  {
   "cell_type": "code",
   "execution_count": null,
   "id": "6eecbbd7-8696-4c02-9512-08f213d9e70f",
   "metadata": {
    "jupyter": {
     "source_hidden": true
    }
   },
   "outputs": [],
   "source": [
    "# Solution:\n",
    "\n",
    "import json\n",
    "\n",
    "books = [\n",
    "    {\"title\": \"Python 101\", \"author\": \"John Doe\"},\n",
    "    {\"title\": \"Advanced Python\", \"author\": \"Jane Smith\"}\n",
    "]\n",
    "\n",
    "json_data = json.dumps(books, indent=4)\n",
    "print(json_data)"
   ]
  },
  {
   "cell_type": "markdown",
   "id": "aae48f5c-a237-4362-9f14-620a26e2f75c",
   "metadata": {},
   "source": [
    "\n",
    "## Working with JSON in Python: Parsing JSON\n",
    "\n",
    "To parse JSON into Python objects, use the `json.loads()` function, which takes a JSON string and returns a Python dictionary or list, depending on the structure.\n",
    "\n",
    "Example:\n",
    "```python\n",
    "import json\n",
    "\n",
    "data = '{\"name\": \"Bob\", \"age\": 25}'\n",
    "parsed = json.loads(data)\n",
    "print(parsed[\"name\"])  # Bob\n",
    "```\n",
    "\n",
    "To parse JSON from a file, use `json.load(file_object)`.\n"
   ]
  },
  {
   "cell_type": "markdown",
   "id": "f5871507-3955-40c8-ae99-6cc768a76092",
   "metadata": {},
   "source": [
    "### Exercise: Parse a JSON string and access data\n",
    "You are given a JSON string representing a user profile. Parse the string and print the user's email."
   ]
  },
  {
   "cell_type": "code",
   "execution_count": null,
   "id": "a77387f0-37ef-41cd-8512-fd8e6a8ac498",
   "metadata": {},
   "outputs": [],
   "source": [
    "import json\n",
    "\n",
    "user_json = '{\"username\": \"bunny42\", \"email\": \"bunny@example.com\", \"active\": true}'\n",
    "\n",
    "# Use json.loads(...) and access the \"email\" field"
   ]
  },
  {
   "cell_type": "code",
   "execution_count": null,
   "id": "829397a0-3e1a-4a40-9220-84d03e099fa0",
   "metadata": {
    "jupyter": {
     "source_hidden": true
    }
   },
   "outputs": [],
   "source": [
    "# Solution:\n",
    "\n",
    "import json\n",
    "\n",
    "user_json = '{\"username\": \"bunny42\", \"email\": \"bunny@example.com\", \"active\": true}'\n",
    "user = json.loads(user_json)\n",
    "print(user[\"email\"])"
   ]
  },
  {
   "cell_type": "markdown",
   "id": "1557b300-928e-4d7f-aad5-3cb9974f2a6e",
   "metadata": {},
   "source": [
    "\n",
    "## Working with JSONL (JSON Lines)\n",
    "\n",
    "JSONL or JSON Lines is a format where each line is a valid JSON object. It is often used for logs or streaming data. You can read/write it line-by-line using standard file operations.\n",
    "\n",
    "Example:\n",
    "```python\n",
    "with open(\"data.jsonl\", \"w\") as f:\n",
    "    for i in range(3):\n",
    "        f.write(json.dumps({\"index\": i}) + \"\\n\")\n",
    "```\n",
    "\n",
    "Reading:\n",
    "```python\n",
    "with open(\"data.jsonl\") as f:\n",
    "    for line in f:\n",
    "        obj = json.loads(line)\n",
    "        print(obj)\n",
    "```\n"
   ]
  },
  {
   "cell_type": "markdown",
   "id": "f56bd892-c71c-4f74-8d4a-578671d6005a",
   "metadata": {},
   "source": [
    "### Exercise: Write and read JSONL\n",
    "Create a JSONL file called `events.jsonl` with three events. Each event should be a dictionary with \"type\" and \"timestamp\". Then, read it back and print the \"type\" of each event."
   ]
  },
  {
   "cell_type": "code",
   "execution_count": null,
   "id": "0acdf4db-ed2b-4280-bb6b-57d2d4768cdc",
   "metadata": {},
   "outputs": [],
   "source": [
    "import json\n",
    "\n",
    "events = [\n",
    "    {\"type\": \"click\", \"timestamp\": \"2024-01-01T10:00:00\"},\n",
    "    {\"type\": \"scroll\", \"timestamp\": \"2024-01-01T10:01:00\"},\n",
    "    {\"type\": \"click\", \"timestamp\": \"2024-01-01T10:02:00\"},\n",
    "]\n",
    "\n",
    "# Write JSONL and read it back"
   ]
  },
  {
   "cell_type": "code",
   "execution_count": null,
   "id": "9ee3ad6e-abb2-480e-b3db-14b90d3a554a",
   "metadata": {
    "jupyter": {
     "source_hidden": true
    }
   },
   "outputs": [],
   "source": [
    "# Solution:\n",
    "\n",
    "import json\n",
    "\n",
    "events = [\n",
    "    {\"type\": \"click\", \"timestamp\": \"2024-01-01T10:00:00\"},\n",
    "    {\"type\": \"scroll\", \"timestamp\": \"2024-01-01T10:01:00\"},\n",
    "    {\"type\": \"click\", \"timestamp\": \"2024-01-01T10:02:00\"},\n",
    "]\n",
    "\n",
    "with open(\"events.jsonl\", \"w\") as f:\n",
    "    for event in events:\n",
    "        f.write(json.dumps(event) + \"\\n\")\n",
    "\n",
    "with open(\"events.jsonl\") as f:\n",
    "    for line in f:\n",
    "        event = json.loads(line)\n",
    "        print(event[\"type\"])"
   ]
  },
  {
   "cell_type": "markdown",
   "id": "cd0ed4da-8f43-46dc-93df-0199b01775e9",
   "metadata": {},
   "source": [
    "\n",
    "## Creating XML in Python\n",
    "\n",
    "Use the `xml.etree.ElementTree` module to build XML structures. You can create elements using `Element()`, add children with `SubElement()`, and convert to string with `tostring()`.\n",
    "\n",
    "Example:\n",
    "```python\n",
    "import xml.etree.ElementTree as ET\n",
    "\n",
    "root = ET.Element(\"user\")\n",
    "name = ET.SubElement(root, \"name\")\n",
    "name.text = \"Alice\"\n",
    "\n",
    "xml_str = ET.tostring(root, encoding=\"unicode\")\n",
    "print(xml_str)\n",
    "```\n"
   ]
  },
  {
   "cell_type": "markdown",
   "id": "2f8a9df7-2bb0-4b02-a795-9afa9e6527a6",
   "metadata": {},
   "source": [
    "### Exercise: Create XML for a product\n",
    "Create an XML structure for a `<product>` with child elements `<name>`, `<price>`, and `<in_stock>`. Fill in sample values and print the XML string."
   ]
  },
  {
   "cell_type": "code",
   "execution_count": null,
   "id": "d41f7c6b-2a42-4388-bd46-6065c75f862b",
   "metadata": {},
   "outputs": [],
   "source": [
    "import xml.etree.ElementTree as ET\n",
    "\n",
    "# Create the product element and its children using SubElement"
   ]
  },
  {
   "cell_type": "code",
   "execution_count": null,
   "id": "c3aef470-21cc-4a33-93c4-d0048f436d6e",
   "metadata": {
    "jupyter": {
     "source_hidden": true
    }
   },
   "outputs": [],
   "source": [
    "# Solution:\n",
    "\n",
    "import xml.etree.ElementTree as ET\n",
    "\n",
    "product = ET.Element(\"product\")\n",
    "ET.SubElement(product, \"name\").text = \"Wireless Mouse\"\n",
    "ET.SubElement(product, \"price\").text = \"29.99\"\n",
    "ET.SubElement(product, \"in_stock\").text = \"yes\"\n",
    "\n",
    "xml_str = ET.tostring(product, encoding=\"unicode\")\n",
    "print(xml_str)"
   ]
  },
  {
   "cell_type": "markdown",
   "id": "e648082d-5bc0-4a0c-8467-f621db3d9c41",
   "metadata": {},
   "source": [
    "\n",
    "## Parsing XML in Python\n",
    "\n",
    "You can parse XML using `xml.etree.ElementTree.parse()` or `ET.fromstring()` if the XML data is in a string. You can access elements using `.find()`, `.findall()`, or by iterating over children.\n",
    "\n",
    "Example:\n",
    "```python\n",
    "import xml.etree.ElementTree as ET\n",
    "\n",
    "xml_data = \"<user><name>Bob</name><age>25</age></user>\"\n",
    "root = ET.fromstring(xml_data)\n",
    "\n",
    "print(root.find(\"name\").text)  # Bob\n",
    "```\n"
   ]
  },
  {
   "cell_type": "markdown",
   "id": "4d029a83-8abb-427e-bba0-8eb885b2ffa8",
   "metadata": {},
   "source": [
    "### Exercise: Parse XML string and extract values\n",
    "Given an XML string representing an order, extract and print the value of the `<total>` element."
   ]
  },
  {
   "cell_type": "code",
   "execution_count": null,
   "id": "fd800aaf-0848-4d40-91ac-091173ed81b5",
   "metadata": {},
   "outputs": [],
   "source": [
    "import xml.etree.ElementTree as ET\n",
    "\n",
    "order_xml = \"\"\"\n",
    "<order>\n",
    "    <id>1234</id>\n",
    "    <total>199.99</total>\n",
    "    <currency>USD</currency>\n",
    "</order>\n",
    "\"\"\"\n",
    "\n",
    "# Use ET.fromstring(...) and .find(...) to access and print the total"
   ]
  },
  {
   "cell_type": "code",
   "execution_count": null,
   "id": "d35c83c4-25cb-4334-8eba-9c99ec57a64c",
   "metadata": {
    "jupyter": {
     "source_hidden": true
    }
   },
   "outputs": [],
   "source": [
    "# Solution:\n",
    "\n",
    "import xml.etree.ElementTree as ET\n",
    "\n",
    "order_xml = \"\"\"\n",
    "<order>\n",
    "    <id>1234</id>\n",
    "    <total>199.99</total>\n",
    "    <currency>USD</currency>\n",
    "</order>\n",
    "\"\"\"\n",
    "\n",
    "root = ET.fromstring(order_xml)\n",
    "print(root.find(\"total\").text)"
   ]
  },
  {
   "cell_type": "markdown",
   "id": "30382ca7-46a3-491f-8d5d-a608850938bb",
   "metadata": {},
   "source": [
    "---"
   ]
  },
  {
   "cell_type": "markdown",
   "id": "99db1bce-809d-4972-b42f-d15547432448",
   "metadata": {},
   "source": [
    "## FastAPI Basics\n",
    "\n",
    "FastAPI is a modern, fast (high-performance) web framework for building APIs with Python 3.7+ based on standard Python type hints. It automatically generates OpenAPI documentation and provides a Swagger UI interface.\n",
    "\n",
    "A basic FastAPI app defines routes using Python functions and decorators like `@app.get()` or `@app.post()`. FastAPI also runs with an ASGI server like `uvicorn`.\n",
    "\n",
    "Example:\n",
    "```python\n",
    "from fastapi import FastAPI\n",
    "\n",
    "app = FastAPI()\n",
    "\n",
    "@app.get(\"/\")\n",
    "def read_root():\n",
    "    return {\"Hello\": \"World\"}\n",
    "```\n",
    "Run with:\n",
    "```bash\n",
    "uvicorn main:app --reload\n",
    "```\n",
    "Visit `http://127.0.0.1:8000/docs` for the Swagger UI."
   ]
  },
  {
   "cell_type": "code",
   "execution_count": 2,
   "id": "a8a218a5-0afc-4ffa-87f8-da751023cc74",
   "metadata": {
    "collapsed": true,
    "jupyter": {
     "outputs_hidden": true
    }
   },
   "outputs": [
    {
     "name": "stdout",
     "output_type": "stream",
     "text": [
      "Collecting fastapi[standard]\n",
      "  Downloading fastapi-0.115.12-py3-none-any.whl.metadata (27 kB)\n",
      "Collecting starlette<0.47.0,>=0.40.0 (from fastapi[standard])\n",
      "  Downloading starlette-0.46.2-py3-none-any.whl.metadata (6.2 kB)\n",
      "Collecting pydantic!=1.8,!=1.8.1,!=2.0.0,!=2.0.1,!=2.1.0,<3.0.0,>=1.7.4 (from fastapi[standard])\n",
      "  Downloading pydantic-2.11.3-py3-none-any.whl.metadata (65 kB)\n",
      "Requirement already satisfied: typing-extensions>=4.8.0 in c:\\tmp\\python_starter\\dot\\wpy64-31290\\python\\lib\\site-packages (from fastapi[standard]) (4.13.2)\n",
      "Collecting fastapi-cli>=0.0.5 (from fastapi-cli[standard]>=0.0.5; extra == \"standard\"->fastapi[standard])\n",
      "  Downloading fastapi_cli-0.0.7-py3-none-any.whl.metadata (6.2 kB)\n",
      "Requirement already satisfied: httpx>=0.23.0 in c:\\tmp\\python_starter\\dot\\wpy64-31290\\python\\lib\\site-packages (from fastapi[standard]) (0.28.1)\n",
      "Requirement already satisfied: jinja2>=3.1.5 in c:\\tmp\\python_starter\\dot\\wpy64-31290\\python\\lib\\site-packages (from fastapi[standard]) (3.1.6)\n",
      "Collecting python-multipart>=0.0.18 (from fastapi[standard])\n",
      "  Downloading python_multipart-0.0.20-py3-none-any.whl.metadata (1.8 kB)\n",
      "Collecting email-validator>=2.0.0 (from fastapi[standard])\n",
      "  Using cached email_validator-2.2.0-py3-none-any.whl.metadata (25 kB)\n",
      "Collecting uvicorn>=0.12.0 (from uvicorn[standard]>=0.12.0; extra == \"standard\"->fastapi[standard])\n",
      "  Downloading uvicorn-0.34.1-py3-none-any.whl.metadata (6.5 kB)\n",
      "Collecting dnspython>=2.0.0 (from email-validator>=2.0.0->fastapi[standard])\n",
      "  Downloading dnspython-2.7.0-py3-none-any.whl.metadata (5.8 kB)\n",
      "Requirement already satisfied: idna>=2.0.0 in c:\\tmp\\python_starter\\dot\\wpy64-31290\\python\\lib\\site-packages (from email-validator>=2.0.0->fastapi[standard]) (3.10)\n",
      "Collecting typer>=0.12.3 (from fastapi-cli>=0.0.5->fastapi-cli[standard]>=0.0.5; extra == \"standard\"->fastapi[standard])\n",
      "  Downloading typer-0.15.2-py3-none-any.whl.metadata (15 kB)\n",
      "Collecting rich-toolkit>=0.11.1 (from fastapi-cli>=0.0.5->fastapi-cli[standard]>=0.0.5; extra == \"standard\"->fastapi[standard])\n",
      "  Downloading rich_toolkit-0.14.1-py3-none-any.whl.metadata (999 bytes)\n",
      "Requirement already satisfied: anyio in c:\\tmp\\python_starter\\dot\\wpy64-31290\\python\\lib\\site-packages (from httpx>=0.23.0->fastapi[standard]) (4.9.0)\n",
      "Requirement already satisfied: certifi in c:\\tmp\\python_starter\\dot\\wpy64-31290\\python\\lib\\site-packages (from httpx>=0.23.0->fastapi[standard]) (2025.1.31)\n",
      "Requirement already satisfied: httpcore==1.* in c:\\tmp\\python_starter\\dot\\wpy64-31290\\python\\lib\\site-packages (from httpx>=0.23.0->fastapi[standard]) (1.0.8)\n",
      "Requirement already satisfied: h11<0.15,>=0.13 in c:\\tmp\\python_starter\\dot\\wpy64-31290\\python\\lib\\site-packages (from httpcore==1.*->httpx>=0.23.0->fastapi[standard]) (0.14.0)\n",
      "Requirement already satisfied: MarkupSafe>=2.0 in c:\\tmp\\python_starter\\dot\\wpy64-31290\\python\\lib\\site-packages (from jinja2>=3.1.5->fastapi[standard]) (3.0.2)\n",
      "Collecting annotated-types>=0.6.0 (from pydantic!=1.8,!=1.8.1,!=2.0.0,!=2.0.1,!=2.1.0,<3.0.0,>=1.7.4->fastapi[standard])\n",
      "  Using cached annotated_types-0.7.0-py3-none-any.whl.metadata (15 kB)\n",
      "Collecting pydantic-core==2.33.1 (from pydantic!=1.8,!=1.8.1,!=2.0.0,!=2.0.1,!=2.1.0,<3.0.0,>=1.7.4->fastapi[standard])\n",
      "  Downloading pydantic_core-2.33.1-cp312-cp312-win_amd64.whl.metadata (6.9 kB)\n",
      "Collecting typing-inspection>=0.4.0 (from pydantic!=1.8,!=1.8.1,!=2.0.0,!=2.0.1,!=2.1.0,<3.0.0,>=1.7.4->fastapi[standard])\n",
      "  Downloading typing_inspection-0.4.0-py3-none-any.whl.metadata (2.6 kB)\n",
      "Requirement already satisfied: click>=7.0 in c:\\tmp\\python_starter\\dot\\wpy64-31290\\python\\lib\\site-packages (from uvicorn>=0.12.0->uvicorn[standard]>=0.12.0; extra == \"standard\"->fastapi[standard]) (8.1.8)\n",
      "Requirement already satisfied: colorama>=0.4 in c:\\tmp\\python_starter\\dot\\wpy64-31290\\python\\lib\\site-packages (from uvicorn[standard]>=0.12.0; extra == \"standard\"->fastapi[standard]) (0.4.6)\n",
      "Collecting httptools>=0.6.3 (from uvicorn[standard]>=0.12.0; extra == \"standard\"->fastapi[standard])\n",
      "  Downloading httptools-0.6.4-cp312-cp312-win_amd64.whl.metadata (3.7 kB)\n",
      "Collecting python-dotenv>=0.13 (from uvicorn[standard]>=0.12.0; extra == \"standard\"->fastapi[standard])\n",
      "  Downloading python_dotenv-1.1.0-py3-none-any.whl.metadata (24 kB)\n",
      "Requirement already satisfied: pyyaml>=5.1 in c:\\tmp\\python_starter\\dot\\wpy64-31290\\python\\lib\\site-packages (from uvicorn[standard]>=0.12.0; extra == \"standard\"->fastapi[standard]) (6.0.2)\n",
      "Collecting watchfiles>=0.13 (from uvicorn[standard]>=0.12.0; extra == \"standard\"->fastapi[standard])\n",
      "  Downloading watchfiles-1.0.5-cp312-cp312-win_amd64.whl.metadata (5.0 kB)\n",
      "Collecting websockets>=10.4 (from uvicorn[standard]>=0.12.0; extra == \"standard\"->fastapi[standard])\n",
      "  Downloading websockets-15.0.1-cp312-cp312-win_amd64.whl.metadata (7.0 kB)\n",
      "Requirement already satisfied: sniffio>=1.1 in c:\\tmp\\python_starter\\dot\\wpy64-31290\\python\\lib\\site-packages (from anyio->httpx>=0.23.0->fastapi[standard]) (1.3.1)\n",
      "Collecting rich>=13.7.1 (from rich-toolkit>=0.11.1->fastapi-cli>=0.0.5->fastapi-cli[standard]>=0.0.5; extra == \"standard\"->fastapi[standard])\n",
      "  Downloading rich-14.0.0-py3-none-any.whl.metadata (18 kB)\n",
      "Collecting shellingham>=1.3.0 (from typer>=0.12.3->fastapi-cli>=0.0.5->fastapi-cli[standard]>=0.0.5; extra == \"standard\"->fastapi[standard])\n",
      "  Using cached shellingham-1.5.4-py2.py3-none-any.whl.metadata (3.5 kB)\n",
      "Collecting markdown-it-py>=2.2.0 (from rich>=13.7.1->rich-toolkit>=0.11.1->fastapi-cli>=0.0.5->fastapi-cli[standard]>=0.0.5; extra == \"standard\"->fastapi[standard])\n",
      "  Using cached markdown_it_py-3.0.0-py3-none-any.whl.metadata (6.9 kB)\n",
      "Requirement already satisfied: pygments<3.0.0,>=2.13.0 in c:\\tmp\\python_starter\\dot\\wpy64-31290\\python\\lib\\site-packages (from rich>=13.7.1->rich-toolkit>=0.11.1->fastapi-cli>=0.0.5->fastapi-cli[standard]>=0.0.5; extra == \"standard\"->fastapi[standard]) (2.19.1)\n",
      "Collecting mdurl~=0.1 (from markdown-it-py>=2.2.0->rich>=13.7.1->rich-toolkit>=0.11.1->fastapi-cli>=0.0.5->fastapi-cli[standard]>=0.0.5; extra == \"standard\"->fastapi[standard])\n",
      "  Using cached mdurl-0.1.2-py3-none-any.whl.metadata (1.6 kB)\n",
      "Using cached email_validator-2.2.0-py3-none-any.whl (33 kB)\n",
      "Downloading fastapi_cli-0.0.7-py3-none-any.whl (10 kB)\n",
      "Downloading pydantic-2.11.3-py3-none-any.whl (443 kB)\n",
      "Downloading pydantic_core-2.33.1-cp312-cp312-win_amd64.whl (2.0 MB)\n",
      "   ---------------------------------------- 0.0/2.0 MB ? eta -:--:--\n",
      "   -------------------------------- ------- 1.6/2.0 MB 8.4 MB/s eta 0:00:01\n",
      "   ---------------------------------------- 2.0/2.0 MB 8.3 MB/s eta 0:00:00\n",
      "Downloading python_multipart-0.0.20-py3-none-any.whl (24 kB)\n",
      "Downloading starlette-0.46.2-py3-none-any.whl (72 kB)\n",
      "Downloading uvicorn-0.34.1-py3-none-any.whl (62 kB)\n",
      "Downloading fastapi-0.115.12-py3-none-any.whl (95 kB)\n",
      "Using cached annotated_types-0.7.0-py3-none-any.whl (13 kB)\n",
      "Downloading dnspython-2.7.0-py3-none-any.whl (313 kB)\n",
      "Downloading httptools-0.6.4-cp312-cp312-win_amd64.whl (88 kB)\n",
      "Downloading python_dotenv-1.1.0-py3-none-any.whl (20 kB)\n",
      "Downloading rich_toolkit-0.14.1-py3-none-any.whl (24 kB)\n",
      "Downloading typer-0.15.2-py3-none-any.whl (45 kB)\n",
      "Downloading typing_inspection-0.4.0-py3-none-any.whl (14 kB)\n",
      "Downloading watchfiles-1.0.5-cp312-cp312-win_amd64.whl (291 kB)\n",
      "Downloading websockets-15.0.1-cp312-cp312-win_amd64.whl (176 kB)\n",
      "Downloading rich-14.0.0-py3-none-any.whl (243 kB)\n",
      "Using cached shellingham-1.5.4-py2.py3-none-any.whl (9.8 kB)\n",
      "Using cached markdown_it_py-3.0.0-py3-none-any.whl (87 kB)\n",
      "Using cached mdurl-0.1.2-py3-none-any.whl (10.0 kB)\n",
      "Installing collected packages: websockets, typing-inspection, shellingham, python-multipart, python-dotenv, pydantic-core, mdurl, httptools, dnspython, annotated-types, watchfiles, uvicorn, starlette, pydantic, markdown-it-py, email-validator, rich, fastapi, typer, rich-toolkit, fastapi-cli\n",
      "Successfully installed annotated-types-0.7.0 dnspython-2.7.0 email-validator-2.2.0 fastapi-0.115.12 fastapi-cli-0.0.7 httptools-0.6.4 markdown-it-py-3.0.0 mdurl-0.1.2 pydantic-2.11.3 pydantic-core-2.33.1 python-dotenv-1.1.0 python-multipart-0.0.20 rich-14.0.0 rich-toolkit-0.14.1 shellingham-1.5.4 starlette-0.46.2 typer-0.15.2 typing-inspection-0.4.0 uvicorn-0.34.1 watchfiles-1.0.5 websockets-15.0.1\n"
     ]
    },
    {
     "name": "stderr",
     "output_type": "stream",
     "text": [
      "\n",
      "[notice] A new release of pip is available: 24.3.1 -> 25.0.1\n",
      "[notice] To update, run: python.exe -m pip install --upgrade pip\n"
     ]
    }
   ],
   "source": [
    "!pip install \"fastapi[standard]\""
   ]
  },
  {
   "cell_type": "markdown",
   "id": "7a3c6859-2a97-4ff7-a7b8-090a6fbd73d3",
   "metadata": {},
   "source": [
    "### Exercise: Hello Endpoint with Parameter\n",
    "Create a FastAPI app with a route at `/hello/{name}` that takes a `name` path parameter and returns a JSON response saying \"Hello, {name}!\""
   ]
  },
  {
   "cell_type": "code",
   "execution_count": null,
   "id": "d18081b7-b1ea-4f85-ab51-a2916600ecb7",
   "metadata": {},
   "outputs": [],
   "source": [
    "from fastapi import FastAPI\n",
    "\n",
    "app = FastAPI()\n",
    "\n",
    "# Hints:\n",
    "# - Use @app.get()\n",
    "# - Use a function parameter to get the path variable"
   ]
  },
  {
   "cell_type": "code",
   "execution_count": null,
   "id": "05c8eb7c-c1cb-4599-b57a-05f66e9454a1",
   "metadata": {
    "jupyter": {
     "source_hidden": true
    }
   },
   "outputs": [],
   "source": [
    "# Solution:\n",
    "\n",
    "from fastapi import FastAPI\n",
    "\n",
    "app = FastAPI()\n",
    "\n",
    "@app.get(\"/hello/{name}\")\n",
    "def say_hello(name: str):\n",
    "    return {\"message\": f\"Hello, {name}!\"}"
   ]
  },
  {
   "cell_type": "code",
   "execution_count": null,
   "id": "a6fc60f3-418f-46cf-990c-93df288b9718",
   "metadata": {},
   "outputs": [],
   "source": [
    "# Request to test:\n",
    "import requests\n",
    "print(requests.get(\"http://127.0.0.1:8000/hello/Alice\").json())"
   ]
  },
  {
   "cell_type": "markdown",
   "id": "ba9b5b64-2264-44ec-8ad8-2a3ad05eff73",
   "metadata": {},
   "source": [
    "## FastAPI GET and POST Methods\n",
    "\n",
    "FastAPI uses decorators like `@app.get()` and `@app.post()` to define route behavior. For POST, you can define a request body using Pydantic models to automatically validate and parse input data.\n",
    "\n",
    "Example:\n",
    "```python\n",
    "from fastapi import FastAPI\n",
    "from pydantic import BaseModel\n",
    "\n",
    "app = FastAPI()\n",
    "\n",
    "class Item(BaseModel):\n",
    "    name: str\n",
    "    price: float\n",
    "\n",
    "@app.post(\"/items/\")\n",
    "def create_item(item: Item):\n",
    "    return {\"name\": item.name, \"price\": item.price}\n",
    "```"
   ]
  },
  {
   "cell_type": "markdown",
   "id": "12d98b60-ca17-4bdc-8b15-08f8cb758cbb",
   "metadata": {},
   "source": [
    "### Exercise: Create a User\n",
    "Define a POST endpoint `/user/` that accepts a JSON payload with `username` (string) and `age` (int), and returns the same data along with a greeting message."
   ]
  },
  {
   "cell_type": "code",
   "execution_count": null,
   "id": "dea32ed2-ec6f-4b86-ab9a-d3a6920c9de4",
   "metadata": {},
   "outputs": [],
   "source": [
    "from fastapi import FastAPI\n",
    "from pydantic import BaseModel\n",
    "\n",
    "app = FastAPI()\n",
    "\n",
    "# Hints:\n",
    "# - Create a Pydantic model named User\n",
    "# - Use @app.post(\"/user/\") with a function that accepts a User instance"
   ]
  },
  {
   "cell_type": "code",
   "execution_count": null,
   "id": "cf32cc9e-6c92-4301-9c7d-01f3a0d8e400",
   "metadata": {
    "jupyter": {
     "source_hidden": true
    }
   },
   "outputs": [],
   "source": [
    "# Solution:\n",
    "\n",
    "from fastapi import FastAPI\n",
    "from pydantic import BaseModel\n",
    "\n",
    "app = FastAPI()\n",
    "\n",
    "class User(BaseModel):\n",
    "    username: str\n",
    "    age: int\n",
    "\n",
    "@app.post(\"/user/\")\n",
    "def create_user(user: User):\n",
    "    return {\n",
    "        \"username\": user.username,\n",
    "        \"age\": user.age,\n",
    "        \"greeting\": f\"Welcome, {user.username}!\"\n",
    "    }"
   ]
  },
  {
   "cell_type": "code",
   "execution_count": null,
   "id": "a2e3c66d-0fde-40cb-b29e-7a92cfb0a521",
   "metadata": {},
   "outputs": [],
   "source": [
    "# Request to test:\n",
    "import requests\n",
    "response = requests.post(\"http://127.0.0.1:8000/user/\", json={\"username\": \"bob\", \"age\": 30})\n",
    "print(response.json())"
   ]
  },
  {
   "cell_type": "markdown",
   "id": "a7221b5b-da0a-499f-9beb-154bc463c57b",
   "metadata": {},
   "source": [
    "## Bearer Token Authentication\n",
    "\n",
    "FastAPI supports dependency injection for security. For Bearer token authentication, use `fastapi.security.HTTPBearer` to extract and verify tokens.\n",
    "\n",
    "Example:\n",
    "```python\n",
    "from fastapi import Depends, HTTPException\n",
    "from fastapi.security import HTTPBearer, HTTPAuthorizationCredentials\n",
    "\n",
    "security = HTTPBearer()\n",
    "\n",
    "def verify_token(credentials: HTTPAuthorizationCredentials = Depends(security)):\n",
    "    if credentials.credentials != \"secrettoken123\":\n",
    "        raise HTTPException(status_code=403, detail=\"Invalid token\")\n",
    "```\n",
    "Use `Depends(verify_token)` in your route to protect it."
   ]
  },
  {
   "cell_type": "markdown",
   "id": "5f4b0cb5-682b-4a25-947f-b4a0aec3c182",
   "metadata": {},
   "source": [
    "### Exercise: Protected Endpoint\n",
    "Create a GET route `/secure-data` that only allows access with the Bearer token `supersecrettoken`. Return a message `\"Access granted\"` if token is valid."
   ]
  },
  {
   "cell_type": "code",
   "execution_count": null,
   "id": "4e31a8ad-ddb2-4b2a-b451-7d95869e46b0",
   "metadata": {},
   "outputs": [],
   "source": [
    "from fastapi import FastAPI, Depends, HTTPException\n",
    "from fastapi.security import HTTPBearer, HTTPAuthorizationCredentials\n",
    "\n",
    "app = FastAPI()\n",
    "\n",
    "# Hints:\n",
    "# - Create a security dependency with HTTPBearer\n",
    "# - Raise HTTPException if credentials are invalid\n",
    "# - Use Depends in the route"
   ]
  },
  {
   "cell_type": "code",
   "execution_count": null,
   "id": "0e3ca65a-d1ed-4880-ac4f-ae48444c092d",
   "metadata": {
    "jupyter": {
     "source_hidden": true
    }
   },
   "outputs": [],
   "source": [
    "# Solution:\n",
    "\n",
    "from fastapi import FastAPI, Depends, HTTPException\n",
    "from fastapi.security import HTTPBearer, HTTPAuthorizationCredentials\n",
    "\n",
    "app = FastAPI()\n",
    "security = HTTPBearer()\n",
    "\n",
    "def verify_token(credentials: HTTPAuthorizationCredentials = Depends(security)):\n",
    "    if credentials.credentials != \"supersecrettoken\":\n",
    "        raise HTTPException(status_code=403, detail=\"Invalid token\")\n",
    "\n",
    "@app.get(\"/secure-data\")\n",
    "def get_secure_data(token: HTTPAuthorizationCredentials = Depends(verify_token)):\n",
    "    return {\"message\": \"Access granted\"}"
   ]
  },
  {
   "cell_type": "code",
   "execution_count": null,
   "id": "386792ea-2e6b-4e52-90a3-22c3d27a807a",
   "metadata": {},
   "outputs": [],
   "source": [
    "# Request to test:\n",
    "import requests\n",
    "\n",
    "headers = {\"Authorization\": \"Bearer supersecrettoken\"}\n",
    "print(requests.get(\"http://127.0.0.1:8000/secure-data\", headers=headers).json())"
   ]
  },
  {
   "cell_type": "markdown",
   "id": "50a74874-afd5-4141-8f87-5703df50293d",
   "metadata": {},
   "source": [
    "## Swagger UI API Documentation\n",
    "\n",
    "FastAPI automatically generates OpenAPI documentation and serves it via Swagger UI at `/docs`. The docs are based on function signatures and Pydantic models. You can customize them with `summary`, `description`, and `tags`.\n",
    "\n",
    "Example:\n",
    "```python\n",
    "@app.get(\"/items/\", summary=\"Get items\", description=\"Retrieves a list of items\", tags=[\"items\"])\n",
    "def get_items():\n",
    "    return [...]\n",
    "```"
   ]
  },
  {
   "cell_type": "markdown",
   "id": "5907868b-8e29-4cd4-a2cd-baea625aeb9d",
   "metadata": {},
   "source": [
    "### Exercise: Add Swagger Metadata\n",
    "Create a GET route `/status` that returns `{\"status\": \"ok\"}` and appears in Swagger UI under the tag `\"system\"`, with summary `\"System status\"` and description `\"Check if the service is alive\"`."
   ]
  },
  {
   "cell_type": "code",
   "execution_count": null,
   "id": "b8e202bf-cfa6-4d4e-a011-95a7cdf0de7f",
   "metadata": {},
   "outputs": [],
   "source": [
    "from fastapi import FastAPI\n",
    "\n",
    "app = FastAPI()\n",
    "\n",
    "# Hints:\n",
    "# - Use @app.get with `summary`, `description`, and `tags`"
   ]
  },
  {
   "cell_type": "code",
   "execution_count": null,
   "id": "0419269a-043e-4b3d-874a-6d27a3d6e274",
   "metadata": {
    "jupyter": {
     "source_hidden": true
    }
   },
   "outputs": [],
   "source": [
    "# Solution:\n",
    "\n",
    "from fastapi import FastAPI\n",
    "\n",
    "app = FastAPI()\n",
    "\n",
    "@app.get(\"/status\", summary=\"System status\", description=\"Check if the service is alive\", tags=[\"system\"])\n",
    "def system_status():\n",
    "    return {\"status\": \"ok\"}"
   ]
  },
  {
   "cell_type": "code",
   "execution_count": null,
   "id": "1f75eb52-5932-4279-a63e-8349d99bb2b2",
   "metadata": {},
   "outputs": [],
   "source": [
    "# Request to test:\n",
    "import requests\n",
    "print(requests.get(\"http://127.0.0.1:8000/status\").json())"
   ]
  },
  {
   "cell_type": "markdown",
   "id": "c758a576-cc4e-41af-a8ec-6f0b53726c37",
   "metadata": {},
   "source": [
    "# Introduction to HTML\n",
    "\n",
    "HTML (HyperText Markup Language) is the standard language used to create and structure content on the web. While Python handles the **logic** and **data processing** in web applications, **HTML is what the user sees in the browser**.\n",
    "\n",
    "---\n",
    "\n",
    "### Basic HTML Structure:\n",
    "```html\n",
    "<!DOCTYPE html>\n",
    "<html>\n",
    "  <head>\n",
    "    <title>My First Page</title>\n",
    "  </head>\n",
    "  <body>\n",
    "    <h1>Hello, world!</h1>\n",
    "    <p>This page is rendered using HTML.</p>\n",
    "  </body>\n",
    "</html>\n",
    "```\n",
    "\n",
    "---\n",
    "\n",
    "### Common HTML Elements:\n",
    "\n",
    "```html\n",
    "<p>This is a <b>bold</b> word.</p>\n",
    "<p>This is an <i>italic</i> word.</p>\n",
    "<p>This is an <u>underlined</u> word.</p>\n",
    "\n",
    "<a href=\"https://www.python.org\">Visit Python.org</a>\n",
    "\n",
    "<img src=\"https://www.python.org/static/community_logos/python-logo.png\" alt=\"Python Logo\" width=\"200\">\n",
    "\n",
    "<div>This is a block element.</div>\n",
    "<span>This is an inline element.</span>\n",
    "```\n",
    "\n",
    "- `<a>` — hyperlink  \n",
    "- `<b>` — bold text  \n",
    "- `<i>` — italic text  \n",
    "- `<u>` — underlined text  \n",
    "- `<img>` — image (with `src` and `alt` attributes)  \n",
    "- `<div>` — block-level container  \n",
    "- `<span>` — inline container  \n",
    "\n",
    "---\n",
    "\n",
    "### Minimal Styling (Inline Style Example):\n",
    "\n",
    "```html\n",
    "<p style=\"color: blue; font-size: 18px;\">This is styled text.</p>\n",
    "<div style=\"background-color: lightgray; padding: 10px;\">\n",
    "  This is a styled container.\n",
    "</div>\n",
    "```\n",
    "\n",
    "- Use `style=\"...\"` to apply CSS directly to an element  \n",
    "- You can style color, size, spacing, borders, backgrounds, etc.\n",
    "\n",
    "---\n",
    "\n",
    "### Forms (User Input Example):\n",
    "\n",
    "```html\n",
    "<form action=\"/submit\" method=\"POST\">\n",
    "  <label for=\"username\">Username:</label>\n",
    "  <input type=\"text\" id=\"username\" name=\"username\"><br><br>\n",
    "\n",
    "  <label for=\"password\">Password:</label>\n",
    "  <input type=\"password\" id=\"password\" name=\"password\"><br><br>\n",
    "\n",
    "  <input type=\"submit\" value=\"Login\">\n",
    "</form>\n",
    "```\n",
    "\n",
    "- `<form>` — collects input and sends it to the server\n",
    "- `action=\"/submit\"` — where the form is submitted (handled by Python)\n",
    "- `method=\"POST\"` — how the data is sent\n",
    "- `<input type=\"text\">` — text field  \n",
    "- `<input type=\"password\">` — password field  \n",
    "- `<input type=\"submit\">` — submit button  \n",
    "\n",
    "---\n",
    "\n",
    "### HTML + Python\n",
    "\n",
    "In Python web frameworks like **Flask** or **Django**, you’ll:\n",
    "- Use HTML templates to define what your pages look like\n",
    "- Use Python to insert real data into those pages\n",
    "- Handle form submissions using Python backends"
   ]
  },
  {
   "cell_type": "markdown",
   "id": "316c6067-ccc8-40b7-a2ba-363b7772b1e9",
   "metadata": {},
   "source": [
    "---\n",
    "\n",
    "# Introduction to Flask (Python)\n",
    "\n",
    "Flask is a lightweight, easy-to-use web framework for Python. It’s designed to get you up and running with web applications quickly, without a lot of boilerplate code. Flask is especially great for small to medium-sized projects, APIs, and prototypes."
   ]
  },
  {
   "cell_type": "code",
   "execution_count": 19,
   "id": "9637f293-af64-41d1-88e1-a7bbc93beea8",
   "metadata": {},
   "outputs": [
    {
     "name": "stdout",
     "output_type": "stream",
     "text": [
      "Requirement already satisfied: Flask==3.1.0 in c:\\tmp\\python_starter\\dot\\wpy64-31290\\python\\lib\\site-packages (3.1.0)\n",
      "Requirement already satisfied: Werkzeug>=3.1 in c:\\tmp\\python_starter\\dot\\wpy64-31290\\python\\lib\\site-packages (from Flask==3.1.0) (3.1.3)\n",
      "Requirement already satisfied: Jinja2>=3.1.2 in c:\\tmp\\python_starter\\dot\\wpy64-31290\\python\\lib\\site-packages (from Flask==3.1.0) (3.1.6)\n",
      "Requirement already satisfied: itsdangerous>=2.2 in c:\\tmp\\python_starter\\dot\\wpy64-31290\\python\\lib\\site-packages (from Flask==3.1.0) (2.2.0)\n",
      "Requirement already satisfied: click>=8.1.3 in c:\\tmp\\python_starter\\dot\\wpy64-31290\\python\\lib\\site-packages (from Flask==3.1.0) (8.1.8)\n",
      "Requirement already satisfied: blinker>=1.9 in c:\\tmp\\python_starter\\dot\\wpy64-31290\\python\\lib\\site-packages (from Flask==3.1.0) (1.9.0)\n",
      "Requirement already satisfied: colorama in c:\\tmp\\python_starter\\dot\\wpy64-31290\\python\\lib\\site-packages (from click>=8.1.3->Flask==3.1.0) (0.4.6)\n",
      "Requirement already satisfied: MarkupSafe>=2.0 in c:\\tmp\\python_starter\\dot\\wpy64-31290\\python\\lib\\site-packages (from Jinja2>=3.1.2->Flask==3.1.0) (3.0.2)\n"
     ]
    },
    {
     "name": "stderr",
     "output_type": "stream",
     "text": [
      "\n",
      "[notice] A new release of pip is available: 24.3.1 -> 25.0.1\n",
      "[notice] To update, run: python.exe -m pip install --upgrade pip\n"
     ]
    }
   ],
   "source": [
    "!pip install Flask==3.1.0"
   ]
  },
  {
   "cell_type": "code",
   "execution_count": 23,
   "id": "d18c60bb-ed4f-469e-b2d2-4893d203adc0",
   "metadata": {},
   "outputs": [
    {
     "name": "stdout",
     "output_type": "stream",
     "text": [
      " * Serving Flask app '__main__'\n",
      " * Debug mode: off\n"
     ]
    },
    {
     "name": "stderr",
     "output_type": "stream",
     "text": [
      "WARNING: This is a development server. Do not use it in a production deployment. Use a production WSGI server instead.\n",
      " * Running on all addresses (0.0.0.0)\n",
      " * Running on http://127.0.0.1:5000\n",
      " * Running on http://192.168.35.107:5000\n",
      "Press CTRL+C to quit\n"
     ]
    }
   ],
   "source": [
    "from flask import Flask\n",
    "\n",
    "app = Flask(__name__)\n",
    "\n",
    "@app.route('/')\n",
    "def hello():\n",
    "    return \"Hello from Flask inside JupyterLab!\"\n",
    "\n",
    "app.run(host=\"0.0.0.0\", port=5000)"
   ]
  },
  {
   "cell_type": "markdown",
   "id": "be293f4d-4aed-4f32-b908-69289c04a7b1",
   "metadata": {},
   "source": [
    "### Flask Variable Routes\n",
    "\n",
    "In Flask, you can define routes with variable parts by using angle brackets (`< >`). These allow you to capture values from the URL and pass them as arguments to your view functions. You can also specify data types like `<int:post_id>` or `<string:username>`.\n",
    "\n",
    "Example:\n",
    "\n",
    "```python\n",
    "@app.route('/user/<username>')\n",
    "def show_user_profile(username):\n",
    "    return f'User {username}'\n",
    "```"
   ]
  },
  {
   "cell_type": "markdown",
   "id": "515f8e7e-984c-4524-b140-bc962d5edda6",
   "metadata": {},
   "source": [
    "### Exercise: Personalized Greeting\n",
    "\n",
    "Create a route `/hello/<name>` that returns a message like `\"Hello, Alice!\"`, where `name` is taken from the URL. If the name is `\"admin\"`, return `\"Welcome, administrator!\"` instead."
   ]
  },
  {
   "cell_type": "code",
   "execution_count": null,
   "id": "569d7548-3c80-43a2-9037-fa435fb86c50",
   "metadata": {},
   "outputs": [],
   "source": [
    "# Hint: Use an if-else statement to check if the name equals \"admin\""
   ]
  },
  {
   "cell_type": "code",
   "execution_count": null,
   "id": "b9d8e8fc-2fae-4d48-829a-fc52ceee8c09",
   "metadata": {
    "jupyter": {
     "source_hidden": true
    }
   },
   "outputs": [],
   "source": [
    "# Solution:\n",
    "\n",
    "from flask import Flask\n",
    "app = Flask(__name__)\n",
    "\n",
    "@app.route('/hello/<name>')\n",
    "def greet(name):\n",
    "    if name == \"admin\":\n",
    "        return \"Welcome, administrator!\"\n",
    "    return f\"Hello, {name}!\"\n",
    "\n",
    "app.run(port=5000)"
   ]
  },
  {
   "cell_type": "markdown",
   "id": "110348e0-c84f-4a6a-a2db-3a8dbc85c01d",
   "metadata": {},
   "source": [
    "### HTTP Methods\n",
    "\n",
    "Flask allows you to restrict which HTTP methods a route can handle (like GET, POST, etc.). You can specify them using the `methods` parameter in the `@app.route()` decorator.\n",
    "\n",
    "Example:\n",
    "\n",
    "```python\n",
    "@app.route('/submit', methods=['POST'])\n",
    "def submit():\n",
    "    return 'Form submitted!'\n",
    "```"
   ]
  },
  {
   "cell_type": "markdown",
   "id": "c4703df3-cacd-468d-9a8f-47d39fce2b6b",
   "metadata": {},
   "source": [
    "### Exercise: Counter with POST\n",
    "\n",
    "Create a route `/counter` that only accepts POST requests. When called, it should return `\"Counter incremented {cntr}!\"` where `cntr` is the current call count. If accessed using GET, it should return `\"Method not allowed\"` with status code 405.\n",
    "\n",
    "#### Hint: to test the code, use the following snippet in a new notebook:\n",
    "```python\n",
    "import requests\n",
    "\n",
    "url = 'http://localhost:5000/counter'\n",
    "\n",
    "response = requests.post(url)\n",
    "\n",
    "print(f\"Status code: {response.status_code}\")\n",
    "print(f\"Response text: {response.text}\")\n",
    "```"
   ]
  },
  {
   "cell_type": "code",
   "execution_count": 25,
   "id": "5c33277b-fa64-4520-ab40-27234a9dc51b",
   "metadata": {},
   "outputs": [],
   "source": [
    "# Hint: Use an if-statement to check request.method inside the function"
   ]
  },
  {
   "cell_type": "code",
   "execution_count": 29,
   "id": "eaf251d3-0cc7-442c-b24f-597e71912c2c",
   "metadata": {
    "jupyter": {
     "source_hidden": true
    }
   },
   "outputs": [
    {
     "name": "stdout",
     "output_type": "stream",
     "text": [
      " * Serving Flask app '__main__'\n",
      " * Debug mode: off\n"
     ]
    },
    {
     "name": "stderr",
     "output_type": "stream",
     "text": [
      "WARNING: This is a development server. Do not use it in a production deployment. Use a production WSGI server instead.\n",
      " * Running on http://127.0.0.1:5000\n",
      "Press CTRL+C to quit\n",
      "127.0.0.1 - - [15/Apr/2025 01:12:43] \"POST /counter HTTP/1.1\" 200 -\n",
      "127.0.0.1 - - [15/Apr/2025 01:12:47] \"POST /counter HTTP/1.1\" 200 -\n",
      "127.0.0.1 - - [15/Apr/2025 01:12:51] \"GET /counter HTTP/1.1\" 405 -\n",
      "127.0.0.1 - - [15/Apr/2025 01:12:56] \"POST /counter HTTP/1.1\" 200 -\n"
     ]
    }
   ],
   "source": [
    "# Solution:\n",
    "\n",
    "from flask import Flask, request\n",
    "app = Flask(__name__)\n",
    "\n",
    "cntr = 0\n",
    "\n",
    "@app.route('/counter', methods=['GET', 'POST'])\n",
    "def counter():\n",
    "    global cntr\n",
    "    if request.method == 'POST':\n",
    "        cntr += 1\n",
    "        return f\"Counter incremented {cntr}!\"\n",
    "    return \"Method not allowed\", 405\n",
    "\n",
    "app.run(port=5000)"
   ]
  },
  {
   "cell_type": "markdown",
   "id": "3e7a5bdf-73ef-4766-a6f7-6d4c275a81b1",
   "metadata": {},
   "source": [
    "### Rendering Templates\n",
    "\n",
    "Flask uses the Jinja2 template engine to render HTML templates with dynamic content. You use the `render_template()` function to pass variables to templates.\n",
    "\n",
    "Example:\n",
    "\n",
    "```python\n",
    "from flask import render_template\n",
    "\n",
    "@app.route('/profile/<username>')\n",
    "def profile(username):\n",
    "    return render_template('profile.html', name=username)\n",
    "```\n",
    "\n",
    "In `profile.html`:\n",
    "\n",
    "```html\n",
    "<h1>Welcome, {{ name }}</h1>\n",
    "```"
   ]
  },
  {
   "cell_type": "markdown",
   "id": "c34bf746-2311-4ca2-89cd-fa0c18ba321b",
   "metadata": {},
   "source": [
    "### Exercise: Dynamic Product Page\n",
    "\n",
    "Create a route `/product/<name>` that renders a template called `product.html` showing `\"Product: <name>\"`. Pass the name to the template."
   ]
  },
  {
   "cell_type": "code",
   "execution_count": null,
   "id": "c748f0fc-2313-4420-b41e-6d0a0a3b850e",
   "metadata": {},
   "outputs": [],
   "source": [
    "# Hint: Create a simple product.html template with {{ name }} placeholder"
   ]
  },
  {
   "cell_type": "code",
   "execution_count": null,
   "id": "88c66fba-ce74-4ba1-9dd4-17b647c1c835",
   "metadata": {
    "jupyter": {
     "source_hidden": true
    }
   },
   "outputs": [],
   "source": [
    "# Solution:\n",
    "\n",
    "from flask import Flask, render_template\n",
    "app = Flask(__name__)\n",
    "\n",
    "@app.route('/product/<name>')\n",
    "def product(name):\n",
    "    return render_template('product.html', name=name)\n",
    "\n",
    "# Contents of templates/product.html:\n",
    "# <h1>Product: {{ name }}</h1>\n"
   ]
  },
  {
   "cell_type": "markdown",
   "id": "3d798f96-cba4-4290-b388-8d3f0da28dce",
   "metadata": {},
   "source": [
    "### Login Form\n",
    "\n",
    "To create a login form in Flask, you use a combination of HTML forms, POST requests, and backend logic to validate credentials.\n",
    "\n",
    "Example:\n",
    "\n",
    "```python\n",
    "@app.route('/login', methods=['GET', 'POST'])\n",
    "def login():\n",
    "    if request.method == 'POST':\n",
    "        username = request.form['username']\n",
    "        password = request.form['password']\n",
    "        if username == 'admin' and password == 'secret':\n",
    "            return 'Login successful'\n",
    "    return render_template('login.html')\n",
    "```\n",
    "\n",
    "In `login.html`:\n",
    "\n",
    "```html\n",
    "<form method=\"post\">\n",
    "  <input type=\"text\" name=\"username\">\n",
    "  <input type=\"password\" name=\"password\">\n",
    "  <input type=\"submit\">\n",
    "</form>\n",
    "```"
   ]
  },
  {
   "cell_type": "markdown",
   "id": "5fe91549-1e92-4d40-be57-fd95c939c74a",
   "metadata": {},
   "source": [
    "### Exercise: Custom Login Handler\n",
    "\n",
    "Create a `/signin` route that accepts GET and POST. Render a form on GET. On POST, check if the username is `\"user\"` and the password is `\"1234\"`, and return `\"Welcome, user!\"`. Otherwise, return `\"Invalid credentials\"`."
   ]
  },
  {
   "cell_type": "code",
   "execution_count": null,
   "id": "d2803684-0a52-4221-bb23-cc2e353eede7",
   "metadata": {},
   "outputs": [],
   "source": [
    "# Hint: Use request.form to access submitted username and password"
   ]
  },
  {
   "cell_type": "code",
   "execution_count": null,
   "id": "7800f4b3-d141-4f40-a94e-38c4a20e1117",
   "metadata": {
    "jupyter": {
     "source_hidden": true
    }
   },
   "outputs": [],
   "source": [
    "# Solution:\n",
    "\n",
    "from flask import Flask, request, render_template\n",
    "app = Flask(__name__)\n",
    "\n",
    "@app.route('/signin', methods=['GET', 'POST'])\n",
    "def signin():\n",
    "    if request.method == 'POST':\n",
    "        username = request.form.get('username')\n",
    "        password = request.form.get('password')\n",
    "        if username == 'user' and password == '1234':\n",
    "            return \"Welcome, user!\"\n",
    "        else:\n",
    "            return \"Invalid credentials\"\n",
    "    return render_template('login.html')\n",
    "\n",
    "# Contents of templates/login.html:\n",
    "# <form method=\"post\">\n",
    "#   <input type=\"text\" name=\"username\">\n",
    "#   <input type=\"password\" name=\"password\">\n",
    "#   <input type=\"submit\" value=\"Login\">\n",
    "# </form>\n"
   ]
  },
  {
   "cell_type": "markdown",
   "id": "48dd551b-50b7-4df4-8314-c4d423415314",
   "metadata": {},
   "source": [
    "### Cookie Handling\n",
    "\n",
    "In Flask, you can use `request.cookies` to read cookies and `make_response()` with `set_cookie()` to set them. Cookies are useful for remembering user preferences or managing sessions.\n",
    "\n",
    "Example:\n",
    "```python\n",
    "from flask import request, make_response\n",
    "\n",
    "@app.route('/setcookie')\n",
    "def set_cookie():\n",
    "    resp = make_response(\"Cookie is set\")\n",
    "    resp.set_cookie('username', 'alice')\n",
    "    return resp\n",
    "\n",
    "@app.route('/getcookie')\n",
    "def get_cookie():\n",
    "    username = request.cookies.get('username')\n",
    "    return f'Hello, {username}'\n",
    "```"
   ]
  },
  {
   "cell_type": "markdown",
   "id": "6c1c49cf-4c95-43b4-95c5-f8377b310975",
   "metadata": {},
   "source": [
    "### Exercise: Remember Me Cookie\n",
    "Create a route `/remember/<name>` that sets a cookie `remembered_name` to the given name. Then, create another route `/whoami` that reads the cookie and returns `\"You are <name>\"`, or `\"I don't know you\"` if no cookie is found."
   ]
  },
  {
   "cell_type": "code",
   "execution_count": null,
   "id": "36b37953-7ec8-4d7b-a0ee-e798dd64be2f",
   "metadata": {},
   "outputs": [],
   "source": [
    "# Hint: Use request.cookies.get and response.set_cookie"
   ]
  },
  {
   "cell_type": "code",
   "execution_count": null,
   "id": "451543bc-def6-4a74-9318-96fbc3bbcd2b",
   "metadata": {
    "jupyter": {
     "source_hidden": true
    }
   },
   "outputs": [],
   "source": [
    "# Solution:\n",
    "\n",
    "from flask import Flask, request, make_response\n",
    "app = Flask(__name__)\n",
    "\n",
    "@app.route('/remember/<name>')\n",
    "def remember(name):\n",
    "    resp = make_response(f\"Remembering {name}\")\n",
    "    resp.set_cookie('remembered_name', name)\n",
    "    return resp\n",
    "\n",
    "@app.route('/whoami')\n",
    "def whoami():\n",
    "    name = request.cookies.get('remembered_name')\n",
    "    if name:\n",
    "        return f\"You are {name}\"\n",
    "    return \"I don't know you\"\n"
   ]
  },
  {
   "cell_type": "markdown",
   "id": "52ff8e01-de5a-4dd1-8ecb-51f61c70667e",
   "metadata": {},
   "source": [
    "### Redirects\n",
    "\n",
    "Flask provides the `redirect()` function to redirect users to another route. This is often used after form submission or access control.\n",
    "\n",
    "Example:\n",
    "```python\n",
    "from flask import redirect, url_for\n",
    "\n",
    "@app.route('/')\n",
    "def index():\n",
    "    return redirect(url_for('welcome'))\n",
    "\n",
    "@app.route('/welcome')\n",
    "def welcome():\n",
    "    return \"Welcome!\"\n",
    "```"
   ]
  },
  {
   "cell_type": "markdown",
   "id": "4d2d7225-a1c8-41be-b72c-57afce5d81f3",
   "metadata": {},
   "source": [
    "### Exercise: Redirect Old Profile URL\n",
    "Create a route `/old-profile/<username>` that redirects to `/user/<username>`. Implement the `/user/<username>` route to show `\"Profile of <username>\"`."
   ]
  },
  {
   "cell_type": "code",
   "execution_count": null,
   "id": "7c786873-a8f5-4839-8db9-7b01c02acdb1",
   "metadata": {},
   "outputs": [],
   "source": [
    "# Hint: Use redirect() and url_for() with parameters"
   ]
  },
  {
   "cell_type": "code",
   "execution_count": null,
   "id": "5d0955e3-b2ba-4a7b-80c4-2c4380abfe33",
   "metadata": {
    "jupyter": {
     "source_hidden": true
    }
   },
   "outputs": [],
   "source": [
    "# Solution:\n",
    "\n",
    "from flask import Flask, redirect, url_for\n",
    "app = Flask(__name__)\n",
    "\n",
    "@app.route('/old-profile/<username>')\n",
    "def old_profile(username):\n",
    "    return redirect(url_for('user_profile', username=username))\n",
    "\n",
    "@app.route('/user/<username>')\n",
    "def user_profile(username):\n",
    "    return f\"Profile of {username}\"\n"
   ]
  },
  {
   "cell_type": "markdown",
   "id": "7ab69143-b1f1-4ca4-856c-07cf7aedc03f",
   "metadata": {},
   "source": [
    "### Complex Exercise: User System with Login Protection\n",
    "\n",
    "Build a small user system with the following:\n",
    "\n",
    "1. A `/register` route with a form to register new users. Save the users in a global dictionary with their username and password.\n",
    "2. Extend the `/signin` route to check the global dictionary for login credentials.\n",
    "3. After login, store a cookie `logged_in_user` with the username.\n",
    "4. A `/dashboard` route that only renders for logged in users (i.e., the cookie exists). If the cookie is missing, redirect to `/signin`."
   ]
  },
  {
   "cell_type": "code",
   "execution_count": null,
   "id": "ae445cb0-0247-4afc-8ffe-c0bbf2e84071",
   "metadata": {},
   "outputs": [],
   "source": [
    "# Hint:\n",
    "# - Use global dict USERS = {} to store credentials\n",
    "# - Use request.form in /register and /signin\n",
    "# - Set cookie on successful login\n",
    "# - Check cookie in /dashboard and use redirect if missing"
   ]
  },
  {
   "cell_type": "code",
   "execution_count": null,
   "id": "00aed905-c6ed-4779-bb7a-d3983b5577f9",
   "metadata": {
    "jupyter": {
     "source_hidden": true
    }
   },
   "outputs": [],
   "source": [
    "# Solution:\n",
    "\n",
    "from flask import Flask, request, render_template, redirect, url_for, make_response\n",
    "\n",
    "app = Flask(__name__)\n",
    "USERS = {}\n",
    "\n",
    "@app.route('/register', methods=['GET', 'POST'])\n",
    "def register():\n",
    "    if request.method == 'POST':\n",
    "        username = request.form.get('username')\n",
    "        password = request.form.get('password')\n",
    "        if username in USERS:\n",
    "            return \"Username already exists\"\n",
    "        USERS[username] = password\n",
    "        return redirect(url_for('signin'))\n",
    "    return render_template('register.html')\n",
    "\n",
    "@app.route('/signin', methods=['GET', 'POST'])\n",
    "def signin():\n",
    "    if request.method == 'POST':\n",
    "        username = request.form.get('username')\n",
    "        password = request.form.get('password')\n",
    "        if USERS.get(username) == password:\n",
    "            resp = make_response(redirect(url_for('dashboard')))\n",
    "            resp.set_cookie('logged_in_user', username)\n",
    "            return resp\n",
    "        return \"Invalid credentials\"\n",
    "    return render_template('login.html')\n",
    "\n",
    "@app.route('/dashboard')\n",
    "def dashboard():\n",
    "    user = request.cookies.get('logged_in_user')\n",
    "    if not user:\n",
    "        return redirect(url_for('signin'))\n",
    "    return f\"Welcome to your dashboard, {user}!\"\n",
    "\n",
    "# Contents of templates/register.html:\n",
    "# <form method=\"post\">\n",
    "#   <input type=\"text\" name=\"username\" placeholder=\"Username\" required>\n",
    "#   <input type=\"password\" name=\"password\" placeholder=\"Password\" required>\n",
    "#   <input type=\"submit\" value=\"Register\">\n",
    "# </form>\n",
    "\n",
    "# Contents of templates/login.html:\n",
    "# <form method=\"post\">\n",
    "#   <input type=\"text\" name=\"username\" placeholder=\"Username\" required>\n",
    "#   <input type=\"password\" name=\"password\" placeholder=\"Password\" required>\n",
    "#   <input type=\"submit\" value=\"Login\">\n",
    "# </form>\n"
   ]
  },
  {
   "cell_type": "code",
   "execution_count": null,
   "id": "7df5dbe6-07a3-496b-abf7-7ce3044d2a88",
   "metadata": {},
   "outputs": [],
   "source": []
  },
  {
   "cell_type": "markdown",
   "id": "62835519-306b-470d-bc04-11ad5463feca",
   "metadata": {},
   "source": [
    "---\n",
    "\n",
    "## Flask-Login\n",
    "\n",
    "```bash\n",
    "pip install flask flask-login\n",
    "```\n",
    "\n",
    "```python\n",
    "from flask import Flask, render_template, redirect, url_for, request\n",
    "from flask_login import LoginManager, UserMixin, login_user, login_required, logout_user, current_user\n",
    "\n",
    "app = Flask(__name__)\n",
    "app.secret_key = 'your-secret-key'\n",
    "\n",
    "login_manager = LoginManager()\n",
    "login_manager.init_app(app)\n",
    "login_manager.login_view = 'login'  # Redirect here if @login_required fails\n",
    "\n",
    "# Dummy user store\n",
    "users = {'john': {'password': 'secret'}}\n",
    "\n",
    "class User(UserMixin):\n",
    "    def __init__(self, username):\n",
    "        self.id = username\n",
    "\n",
    "@login_manager.user_loader\n",
    "def load_user(user_id):\n",
    "    return User(user_id) if user_id in users else None\n",
    "\n",
    "@app.route('/login', methods=['GET', 'POST'])\n",
    "def login():\n",
    "    if request.method == 'POST':\n",
    "        username = request.form['username']\n",
    "        password = request.form['password']\n",
    "        if username in users and users[username]['password'] == password:\n",
    "            user = User(username)\n",
    "            login_user(user)\n",
    "            return redirect(url_for('dashboard'))\n",
    "        return 'Invalid credentials', 401\n",
    "    return '''\n",
    "        <form method=\"post\">\n",
    "            Username: <input name=\"username\">\n",
    "            Password: <input name=\"password\" type=\"password\">\n",
    "            <input type=\"submit\" value=\"Login\">\n",
    "        </form>\n",
    "    '''\n",
    "\n",
    "@app.route('/dashboard')\n",
    "@login_required\n",
    "def dashboard():\n",
    "    return f'Welcome, {current_user.id}!'\n",
    "\n",
    "@app.route('/logout')\n",
    "@login_required\n",
    "def logout():\n",
    "    logout_user()\n",
    "    return 'Logged out'\n",
    "\n",
    "app.run(host=\"0.0.0.0\", port=5000)\n",
    "```\n"
   ]
  },
  {
   "cell_type": "code",
   "execution_count": null,
   "id": "6f50ed58-e4ca-4f3b-9c07-a589576367ed",
   "metadata": {},
   "outputs": [],
   "source": []
  },
  {
   "cell_type": "code",
   "execution_count": null,
   "id": "b8dfd06b-df97-4ce9-8a9d-db4116e346c8",
   "metadata": {},
   "outputs": [],
   "source": []
  }
 ],
 "metadata": {
  "kernelspec": {
   "display_name": "Python 3 (ipykernel)",
   "language": "python",
   "name": "python3"
  },
  "language_info": {
   "codemirror_mode": {
    "name": "ipython",
    "version": 3
   },
   "file_extension": ".py",
   "mimetype": "text/x-python",
   "name": "python",
   "nbconvert_exporter": "python",
   "pygments_lexer": "ipython3",
   "version": "3.12.9"
  }
 },
 "nbformat": 4,
 "nbformat_minor": 5
}
