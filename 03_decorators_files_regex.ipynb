{
 "cells": [
  {
   "cell_type": "markdown",
   "id": "fc1b1220-037d-481f-b238-52b96f421e7e",
   "metadata": {},
   "source": [
    "# Decorators\n",
    "\n",
    "## What are Decorators?\n",
    "\n",
    "A decorator is a function that takes another function or class and extends or alters its behavior. Decorators provide a flexible way to inject code into existing functions or methods.\n",
    "\n",
    "## Function Decorators\n",
    "\n",
    "Function decorators are used to modify or extend the behavior of functions or methods. They are applied using the `@decorator_name` syntax.\n",
    "\n",
    "**Example:**"
   ]
  },
  {
   "cell_type": "code",
   "execution_count": 1,
   "id": "164f85da-df4d-47bc-ae5c-45d98ff99b7b",
   "metadata": {},
   "outputs": [
    {
     "name": "stdout",
     "output_type": "stream",
     "text": [
      "Something is happening before the function is called.\n",
      "Hello!\n",
      "Something is happening after the function is called.\n"
     ]
    }
   ],
   "source": [
    "def my_decorator(func):\n",
    "    def wrapper():\n",
    "        print(\"Something is happening before the function is called.\")\n",
    "        func()\n",
    "        print(\"Something is happening after the function is called.\")\n",
    "    return wrapper\n",
    "\n",
    "@my_decorator\n",
    "def say_hello():\n",
    "    print(\"Hello!\")\n",
    "\n",
    "say_hello()"
   ]
  },
  {
   "cell_type": "markdown",
   "id": "1adbd317-dc2d-4007-9af0-f453d0aff53c",
   "metadata": {},
   "source": [
    "### Example of a Decorator with Parameters\n",
    "\n",
    "Let’s say you want to create a decorator that logs messages with varying levels of importance (e.g., `info`, `warning`, `error`). You can achieve this by adding parameters to your decorator.\n",
    "\n",
    "Here’s how you can implement it:"
   ]
  },
  {
   "cell_type": "code",
   "execution_count": 2,
   "id": "e8756ec3-d7d7-46bd-ba88-db606069a4d2",
   "metadata": {},
   "outputs": [
    {
     "name": "stdout",
     "output_type": "stream",
     "text": [
      "[INFO] - Something is happening before the function is called.\n",
      "Hello, Alice!\n",
      "[INFO] - Something is happening after the function is called.\n",
      "[WARNING] - Something is happening before the function is called.\n",
      "Goodbye, Bob!\n",
      "[WARNING] - Something is happening after the function is called.\n"
     ]
    }
   ],
   "source": [
    "def log(level):\n",
    "    def decorator(func):\n",
    "        def wrapper(*args, **kwargs):\n",
    "            print(f\"[{level.upper()}] - Something is happening before the function is called.\")\n",
    "            result = func(*args, **kwargs)\n",
    "            print(f\"[{level.upper()}] - Something is happening after the function is called.\")\n",
    "            return result\n",
    "        return wrapper\n",
    "    return decorator\n",
    "\n",
    "@log(\"info\")\n",
    "def say_hello(name):\n",
    "    print(f\"Hello, {name}!\")\n",
    "\n",
    "@log(\"warning\")\n",
    "def say_goodbye(name):\n",
    "    print(f\"Goodbye, {name}!\")\n",
    "\n",
    "say_hello(\"Alice\")\n",
    "say_goodbye(\"Bob\")"
   ]
  },
  {
   "cell_type": "markdown",
   "id": "60c31e4e-42de-462e-802e-2af52b9dae23",
   "metadata": {},
   "source": [
    "### Practice Example: Logging Execution Time with Custom Messages\n",
    "\n",
    "In this exercise, you'll create a function decorator that logs the execution time of the decorated function. The decorator should accept a parameter to customize the log message.\n",
    "\n",
    "#### Step-by-Step Instructions:\n",
    "\n",
    "1. **Create the Decorator Function:**\n",
    "   - The decorator should be a function that takes a string parameter `message`.\n",
    "   - Inside the decorator, define an inner decorator function that takes the function to be decorated.\n",
    "   - The inner decorator should define a wrapper function that calculates the execution time of the original function and prints the custom message along with the execution time.\n",
    "\n",
    "2. **Use the Decorator:**\n",
    "   - Apply the decorator to a sample function that performs a sleep.\n",
    "\n",
    "3. **Test the Decorator:**\n",
    "   - Call the decorated function and observe the output.\n",
    "\n",
    "#### Example Implementation:"
   ]
  },
  {
   "cell_type": "code",
   "execution_count": null,
   "id": "575495eb-a110-4888-a7d9-81d81c151ae8",
   "metadata": {},
   "outputs": [],
   "source": [
    "import time\n",
    "\n",
    "# Use `time.time()` to get the current time in seconds (it returns a float number representing the exact time).\n",
    "\n",
    "# Step 1: Create the decorator function with a parameter\n",
    "def log_execution_time(\n",
    "    # ...\n",
    "\n",
    "# Step 3: Test the decorator\n",
    "@log_execution_time(message=\"Starting long-running task\")\n",
    "def long_running_task():\n",
    "    time.sleep(2)\n",
    "    return \"Long task completed\"\n",
    "\n",
    "@log_execution_time(message=\"Starting short-running task\")\n",
    "def quick_task():\n",
    "    time.sleep(0.5)\n",
    "    return \"Quick task completed\"\n",
    "\n",
    "# Test the decorated functions\n",
    "print(long_running_task())\n",
    "print(quick_task())\n",
    "\n",
    "#### Expected Output:\n",
    "# Starting long-running task - Execution time: 2.0019 seconds\n",
    "# Long task completed\n",
    "# Starting short-running task - Execution time: 0.5026 seconds\n",
    "# Quick task completed"
   ]
  },
  {
   "cell_type": "code",
   "execution_count": 4,
   "id": "39a00df1-74d8-4c7a-8d98-b1515759de09",
   "metadata": {
    "jupyter": {
     "source_hidden": true
    }
   },
   "outputs": [
    {
     "name": "stdout",
     "output_type": "stream",
     "text": [
      "Starting long-running task - Execution time: 2.0012 seconds\n",
      "Long task completed\n",
      "Starting short-running task - Execution time: 0.5049 seconds\n",
      "Quick task completed\n"
     ]
    }
   ],
   "source": [
    "# Solution\n",
    "\n",
    "import time\n",
    "\n",
    "# Step 1: Create the decorator function with a parameter\n",
    "def log_execution_time(message):\n",
    "    def decorator(func):\n",
    "        def wrapper(*args, **kwargs):\n",
    "            start_time = time.time()\n",
    "            result = func(*args, **kwargs)\n",
    "            end_time = time.time()\n",
    "            execution_time = end_time - start_time\n",
    "            print(f\"{message} - Execution time: {execution_time:.4f} seconds\")\n",
    "            return result\n",
    "        return wrapper\n",
    "    return decorator\n",
    "\n",
    "# Step 2: Use the decorator on a sample function\n",
    "@log_execution_time(\"Factorial computation\")\n",
    "def factorial(n):\n",
    "    if n == 0:\n",
    "        return 1\n",
    "    else:\n",
    "        return n * factorial(n - 1)\n",
    "\n",
    "# Step 3: Test the decorator\n",
    "@log_execution_time(message=\"Starting long-running task\")\n",
    "def long_running_task():\n",
    "    time.sleep(2)\n",
    "    return \"Long task completed\"\n",
    "\n",
    "@log_execution_time(message=\"Starting short-running task\")\n",
    "def quick_task():\n",
    "    time.sleep(0.5)\n",
    "    return \"Quick task completed\"\n",
    "\n",
    "# Test the decorated functions\n",
    "print(long_running_task())\n",
    "print(quick_task())"
   ]
  },
  {
   "cell_type": "markdown",
   "id": "b66a4619-5067-4ea9-bcf7-8aec2907e221",
   "metadata": {},
   "source": [
    "### Class Decorators\n",
    "\n",
    "Class decorators are similar to function decorators but are used to modify or extend the behavior of classes.\n",
    "\n",
    "**Example:**"
   ]
  },
  {
   "cell_type": "code",
   "execution_count": 3,
   "id": "35041ad3-1cca-41d6-bc49-71c45fc7e301",
   "metadata": {},
   "outputs": [
    {
     "name": "stdout",
     "output_type": "stream",
     "text": [
      "MyClass instance created.\n",
      "This is a new method added by the decorator.\n"
     ]
    }
   ],
   "source": [
    "def class_decorator(cls):\n",
    "    class NewClass(cls):\n",
    "        def new_method(self):\n",
    "            print(\"This is a new method added by the decorator.\")\n",
    "    return NewClass\n",
    "\n",
    "@class_decorator\n",
    "class MyClass:\n",
    "    def __init__(self):\n",
    "        print(\"MyClass instance created.\")\n",
    "\n",
    "obj = MyClass()\n",
    "obj.new_method()"
   ]
  },
  {
   "cell_type": "markdown",
   "id": "e1448224-f23a-4f9f-9617-1d890777791b",
   "metadata": {},
   "source": [
    "Class decorators can also have parameters:"
   ]
  },
  {
   "cell_type": "code",
   "execution_count": 4,
   "id": "f39b277c-dcbe-4fbf-b291-1077b686756a",
   "metadata": {},
   "outputs": [
    {
     "name": "stdout",
     "output_type": "stream",
     "text": [
      "MyClass instance created.\n",
      "This is a new method added by the decorator with parameters: Parameter 1, Parameter 2\n"
     ]
    }
   ],
   "source": [
    "def class_decorator_with_params(param1, param2):\n",
    "    def decorator(cls):\n",
    "        class NewClass(cls):\n",
    "            def new_method(self):\n",
    "                print(f\"This is a new method added by the decorator with parameters: {param1}, {param2}\")\n",
    "        return NewClass\n",
    "    return decorator\n",
    "\n",
    "@class_decorator_with_params(\"Parameter 1\", \"Parameter 2\")\n",
    "class MyClass:\n",
    "    def __init__(self):\n",
    "        print(\"MyClass instance created.\")\n",
    "\n",
    "obj = MyClass()\n",
    "obj.new_method()"
   ]
  },
  {
   "cell_type": "markdown",
   "id": "1278eadd-57bb-464c-bd9a-455f824ef912",
   "metadata": {},
   "source": [
    "In this example, `class_decorator_with_params` is a decorator that takes two parameters (`param1` and `param2`). Inside this decorator, we define another function `decorator` which is the actual decorator function that takes the class `cls` as an argument. The `NewClass` inside `decorator` extends the original class and adds a new method that uses the parameters passed to the outer decorator.\n",
    "\n",
    "When `@class_decorator_with_params(\"Parameter 1\", \"Parameter 2\")` is used, it decorates `MyClass`, resulting in a new class that includes the `new_method` method with the given parameters."
   ]
  },
  {
   "cell_type": "markdown",
   "id": "33cf4513-a8ad-4b2b-b988-56c1ebd70a84",
   "metadata": {},
   "source": [
    "### Practice Example\n",
    "\n",
    "#### Task Description\n",
    "Write a class decorator named `prepend_str` that takes a single parameter, `message`, and uses it to modify the `__str__` method of any class it decorates. The modified `__str__` method should prepend the `message` to the original string representation of the class.\n",
    "\n",
    "#### Instructions\n",
    "1. Define a class decorator named `prepend_str` that accepts a parameter `message`.\n",
    "2. The decorator should override the `__str__` method of the class it decorates.\n",
    "3. The new `__str__` method should prepend the `message` to the original `__str__` output of the class.\n",
    "\n",
    "#### Example Implementation:"
   ]
  },
  {
   "cell_type": "code",
   "execution_count": null,
   "id": "f8821fac-5eeb-4b60-8006-64b7dadb1e14",
   "metadata": {},
   "outputs": [],
   "source": [
    "# Create the decorator function with a parameter\n",
    "def prepend_str( # ...\n",
    "    # ...\n",
    "\n",
    "# Example decorated class:\n",
    "\n",
    "@prepend_str(\"Info: \")\n",
    "class Person:\n",
    "    def __init__(self, name, age):\n",
    "        self.name = name\n",
    "        self.age = age\n",
    "\n",
    "    def __str__(self):\n",
    "        return f'{self.name} is {self.age} years old'\n",
    "\n",
    "p = Person(\"Alice\", 30)\n",
    "print(p)\n",
    "\n",
    "# Expected output:\n",
    "# Info: Alice is 30 years old"
   ]
  },
  {
   "cell_type": "code",
   "execution_count": 22,
   "id": "693d3bb7-0b8b-40d1-97c9-8aa7575fbbdb",
   "metadata": {
    "jupyter": {
     "source_hidden": true
    }
   },
   "outputs": [
    {
     "name": "stdout",
     "output_type": "stream",
     "text": [
      "Info: Alice is 30 years old\n"
     ]
    }
   ],
   "source": [
    "# Solution\n",
    "\n",
    "def prepend_str(message):\n",
    "    def decorator(cls):\n",
    "        # Save the original __str__ method\n",
    "        original_str = cls.__str__\n",
    "\n",
    "        # Define the new __str__ method\n",
    "        def new_str(self):\n",
    "            return f\"{message}{original_str(self)}\"\n",
    "\n",
    "        # Set the new __str__ method to the class\n",
    "        cls.__str__ = new_str\n",
    "        return cls\n",
    "    return decorator\n",
    "\n",
    "# Example class to be decorated\n",
    "@prepend_str(\"Info: \")\n",
    "class Person:\n",
    "    def __init__(self, name, age):\n",
    "        self.name = name\n",
    "        self.age = age\n",
    "\n",
    "    def __str__(self):\n",
    "        return f'{self.name} is {self.age} years old'\n",
    "\n",
    "# Test the implementation\n",
    "p = Person(\"Alice\", 30)\n",
    "print(p)  # Output should be: Info: Alice is 30 years old"
   ]
  },
  {
   "cell_type": "markdown",
   "id": "2f558f85-0200-4f7c-ac22-0c768d4cf954",
   "metadata": {},
   "source": [
    "### Practical Examples and Use Cases\n",
    "\n",
    "- **Logging**: Automatically log function calls and return values.\n",
    "- **Access Control**: Restrict access to certain methods or functions.\n",
    "- **Memoization**: Cache the results of expensive function calls.\n",
    "\n",
    "(Remember?) Another common example is the `functools` module's `lru_cache` [decorator](https://docs.python.org/3/library/functools.html#functools.lru_cache):"
   ]
  },
  {
   "cell_type": "code",
   "execution_count": 16,
   "id": "d0356b00-149f-4674-91d5-e0d1fce2b144",
   "metadata": {},
   "outputs": [
    {
     "name": "stdout",
     "output_type": "stream",
     "text": [
      "9227465\n",
      "CacheInfo(hits=33, misses=36, maxsize=10, currsize=10)\n"
     ]
    }
   ],
   "source": [
    "import functools\n",
    "\n",
    "# Define a function to compute a value (e.g., Fibonacci numbers)\n",
    "@functools.lru_cache(maxsize=10)\n",
    "def fib(n):\n",
    "    if n < 2:\n",
    "        return n\n",
    "    return fib(n-1) + fib(n-2)\n",
    "\n",
    "# Test the LRU cache\n",
    "print(fib(35)) # Should print 9227465\n",
    "\n",
    "# The LRU cache should have stored the most recent calls up to the max size specified.\n",
    "print(fib.cache_info())  # Prints cache info such as hits, misses, maxsize, and current size\n"
   ]
  },
  {
   "cell_type": "markdown",
   "id": "cc795e5c-943f-4b0c-b31c-7ca16b1f3fcd",
   "metadata": {},
   "source": [
    "---\n",
    "\n",
    "# File Handling in Python\n",
    "\n",
    "Python provides built-in support for working with files. You can:\n",
    "\n",
    "- Open files using the `open()` function\n",
    "- Read or write using methods like `.read()`, `.write()`, etc.\n",
    "- Use context managers (`with`) to handle file closing automatically\n",
    "\n",
    "## Common File Handling Methods\n",
    "\n",
    "| Method             | Purpose                               | Notes                                                   |\n",
    "|--------------------|----------------------------------------|----------------------------------------------------------|\n",
    "| `open(file, mode)` | Opens a file                          | Modes: `'r'`, `'w'`, `'a'`, `'rb'`, `'wb'`, etc.         |\n",
    "| `read()`           | Reads the whole file as a string      | Returns one string with all contents                    |\n",
    "| `readline()`       | Reads the next line                   | Use in loops or multiple calls                          |\n",
    "| `readlines()`      | Reads all lines into a list           | Each line is a string in a list                         |\n",
    "| `write(string)`    | Writes a string to the file           | Overwrites in `'w'` mode, appends in `'a'`              |\n",
    "| `writelines(list)` | Writes multiple strings to the file   | Doesn’t add newline automatically                      |\n",
    "| `close()`          | Closes the file manually              | Automatically done with `with open(...) as ...`         |\n",
    "\n",
    "## File Open Modes\n",
    "\n",
    "| Mode  | Meaning                        |\n",
    "|-------|--------------------------------|\n",
    "| `'r'` | Read (default)                 |\n",
    "| `'w'` | Write (overwrite if exists)    |\n",
    "| `'a'` | Append (write at end)          |\n",
    "| `'b'` | Binary mode (combine with r/w) |\n",
    "| `'x'` | Create (fail if exists)        |\n",
    "\n",
    "Combine modes like:\n",
    "- `'rb'` = read binary\n",
    "- `'wb'` = write binary\n",
    "\n",
    "## Official Python Documentation\n",
    "\n",
    "You can find the full documentation here:  \n",
    " - https://docs.python.org/3/library/functions.html#open  \n",
    " - https://docs.python.org/3/tutorial/inputoutput.html#reading-and-writing-files\n",
    "\n",
    "These pages cover everything about file handling, built-in functions, and best practices."
   ]
  },
  {
   "cell_type": "code",
   "execution_count": 9,
   "id": "d4d01d36-8108-42c2-9c56-220c60fb42b6",
   "metadata": {},
   "outputs": [
    {
     "name": "stdout",
     "output_type": "stream",
     "text": [
      "Hello, file!\n",
      "Second line.\n"
     ]
    }
   ],
   "source": [
    "# Example: writing and reading a file\n",
    "\n",
    "with open(\"example.txt\", \"w\") as f:\n",
    "    f.write(\"Hello, file!\\n\")\n",
    "    f.write(\"Second line.\")\n",
    "\n",
    "with open(\"example.txt\", \"r\") as f:\n",
    "    content = f.read()\n",
    "    print(content)\n"
   ]
  },
  {
   "cell_type": "code",
   "execution_count": 10,
   "id": "8312926e-49de-4a78-8685-6d6f18f4a19d",
   "metadata": {},
   "outputs": [
    {
     "name": "stdout",
     "output_type": "stream",
     "text": [
      "Number of lines: 2\n",
      "First line: Hello, file!\n",
      "\n"
     ]
    }
   ],
   "source": [
    "# Read all lines from a file into a list\n",
    "with open(\"example.txt\", \"r\") as f:\n",
    "    lines = f.readlines()\n",
    "    print(\"Number of lines:\", len(lines))\n",
    "    print(\"First line:\", lines[0])\n"
   ]
  },
  {
   "cell_type": "markdown",
   "id": "82187dbe-8323-4a1e-8b91-343c8ffdb69c",
   "metadata": {},
   "source": [
    "---\n",
    "\n",
    "# Regular Expressions in Python\n",
    "\n",
    "A **regular expression (regex)** is a pattern used to search, match, or manipulate strings.\n",
    "\n",
    "Python uses the `re` module to work with regular expressions.\n"
   ]
  },
  {
   "cell_type": "code",
   "execution_count": 11,
   "id": "e5161368-8412-4a5f-9a0c-c4bdbbc3975d",
   "metadata": {},
   "outputs": [],
   "source": [
    "import re"
   ]
  },
  {
   "cell_type": "markdown",
   "id": "a8d76ac2-41ae-4432-a98d-a6aa13777bbf",
   "metadata": {},
   "source": [
    "# Common Regex Functions in the `re` Module\n",
    "\n",
    "| Function         | Purpose                                             |\n",
    "|------------------|-----------------------------------------------------|\n",
    "| `re.search()`     | Searches for the **first match** of the pattern in the string. Returns a match object or `None`. |\n",
    "| `re.match()`      | Checks for a match **only at the beginning** of the string. |\n",
    "| `re.fullmatch()`  | Checks if the **entire string** matches the pattern. |\n",
    "| `re.findall()`    | Returns **all non-overlapping matches** as a list of strings. |\n",
    "| `re.finditer()`   | Returns **an iterator** yielding match objects. |\n",
    "| `re.sub()`        | Replaces matches with a specified string. |\n",
    "| `re.split()`      | Splits the string using the pattern as a delimiter. |\n",
    "\n",
    "---\n",
    "\n",
    "## Parameters\n",
    "\n",
    "Most functions take these key parameters:\n",
    "- `pattern`: the regex pattern (string or compiled)\n",
    "- `string`: the input text\n",
    "- `flags`: optional settings like `re.IGNORECASE` or `re.MULTILINE`\n",
    "\n",
    "## Useful Regex Resources\n",
    "\n",
    "- Official Python Regex Documentation: [https://docs.python.org/3/library/re.html](https://docs.python.org/3/library/re.html)\n",
    "- Online Regex Tester and Visualizer: [https://regexr.com](https://regexr.com)\n"
   ]
  },
  {
   "cell_type": "code",
   "execution_count": null,
   "id": "7f1f743d-6687-44a7-bd88-58d90f7a290e",
   "metadata": {},
   "outputs": [],
   "source": [
    "# Search example\n",
    "text = \"Please contact us at hello@example.com\"\n",
    "match = re.search(r\"\\w+@\\w+\\.\\w+\", text)\n",
    "if match:\n",
    "    print(\"Found email:\", match.group())\n",
    "\n",
    "# Replace digits\n",
    "print(re.sub(r\"\\d\", \"*\", \"My PIN is 1234\"))\n",
    "\n",
    "# Find all words\n",
    "words = re.findall(r\"\\w+\", \"This is a test.\")\n",
    "print(\"Words:\", words)"
   ]
  },
  {
   "cell_type": "markdown",
   "id": "434b8b5f-0886-4a54-8879-226ff199f850",
   "metadata": {},
   "source": [
    "# What is an r-string (Raw String)?\n",
    "\n",
    "In Python, strings starting with `r` or `R` are called **raw strings**.\n",
    "\n",
    "They treat backslashes (`\\`) **as literal characters**, rather than escape characters.\n",
    "\n",
    "This is extremely useful when writing **regular expressions**, which often contain many backslashes.\n"
   ]
  },
  {
   "cell_type": "code",
   "execution_count": 14,
   "id": "20a37963-768d-4f5a-9568-7ec2e303b4ae",
   "metadata": {},
   "outputs": [
    {
     "name": "stdout",
     "output_type": "stream",
     "text": [
      "Wrong: \\d+\\.\\d+\n",
      "Correct: \\d+\\.\\d+\n"
     ]
    },
    {
     "name": "stderr",
     "output_type": "stream",
     "text": [
      "<>:2: SyntaxWarning: invalid escape sequence '\\d'\n",
      "<>:2: SyntaxWarning: invalid escape sequence '\\d'\n",
      "C:\\Users\\gregk\\AppData\\Local\\Temp\\ipykernel_13812\\3815947229.py:2: SyntaxWarning: invalid escape sequence '\\d'\n",
      "  pattern = \"\\d+\\.\\d+\"     # This might not work as expected!\n"
     ]
    }
   ],
   "source": [
    "# Example without raw string (error-prone)\n",
    "pattern = \"\\d+\\.\\d+\"     # This might not work as expected!\n",
    "print(\"Wrong:\", pattern)\n",
    "\n",
    "# Example with raw string (correct)\n",
    "pattern = r\"\\d+\\.\\d+\"\n",
    "print(\"Correct:\", pattern)"
   ]
  },
  {
   "cell_type": "markdown",
   "id": "9ce22f73-0b7b-43d5-a673-d55710099e42",
   "metadata": {},
   "source": [
    "## Exercise: Email Validator and Extractor\n",
    "\n",
    "Write a small program that:\n",
    "\n",
    "1. Asks the user to enter a sentence.\n",
    "2. Uses a regular expression to extract **all valid email addresses**.\n",
    "3. Prints the list of matches or says \"No emails found\".\n",
    "\n",
    "Bonus:\n",
    "- Ignore case using `re.IGNORECASE`\n"
   ]
  },
  {
   "cell_type": "code",
   "execution_count": null,
   "id": "13ca45f5-fc76-4355-ab76-5b0d45e4321a",
   "metadata": {},
   "outputs": [],
   "source": [
    "sentence = input(\"...\")\n",
    "\n",
    "# ..."
   ]
  },
  {
   "cell_type": "code",
   "execution_count": 12,
   "id": "a4dc1cfa-eaf8-4a3e-a54b-5d8e64488347",
   "metadata": {
    "jupyter": {
     "source_hidden": true
    }
   },
   "outputs": [
    {
     "name": "stdin",
     "output_type": "stream",
     "text": [
      "Enter a sentence containing email addresses:  asd@asd.com\n"
     ]
    },
    {
     "name": "stdout",
     "output_type": "stream",
     "text": [
      "Found emails:\n",
      "- asd@asd.com\n"
     ]
    }
   ],
   "source": [
    "# Solution:\n",
    "\n",
    "sentence = input(\"Enter a sentence containing email addresses: \")\n",
    "\n",
    "emails = re.findall(r\"\\b\\w+[\\w\\.-]*@\\w+\\.\\w{2,}\\b\", sentence, flags=re.IGNORECASE)\n",
    "\n",
    "if emails:\n",
    "    print(\"Found emails:\")\n",
    "    for email in emails:\n",
    "        print(\"-\", email)\n",
    "else:\n",
    "    print(\"No emails found.\")\n"
   ]
  },
  {
   "cell_type": "markdown",
   "id": "e4c466f0-ec21-42fc-8cfd-be8363b5233d",
   "metadata": {},
   "source": [
    "---\n",
    "\n",
    "# Mini Project: File-Based Contact Manager\n",
    "\n",
    "You’ll build a mini contact manager that:\n",
    " -  Uses a `Contact` class  \n",
    " -  Stores contacts in a file  \n",
    " -  Validates email using regex  \n",
    " -  Reads contacts back from the file\n",
    "\n",
    "---\n",
    "\n",
    "### Features:\n",
    "1. Ask user for:\n",
    "   - name\n",
    "   - email\n",
    "   - phone\n",
    "\n",
    "2. Validate email format using regex\n",
    "\n",
    "3. Save valid contact to `contacts.txt` in a formatted line\n",
    "\n",
    "4. Read and display all saved contacts\n"
   ]
  },
  {
   "cell_type": "code",
   "execution_count": null,
   "id": "5f105a4c-a3cd-4234-bec0-1a74017a6b1d",
   "metadata": {},
   "outputs": [],
   "source": [
    "import re\n",
    "\n",
    "class Contact:\n",
    "    # ...\n",
    "\n",
    "def is_valid_email(email):\n",
    "    return # ...\n",
    "\n",
    "# Input\n",
    "# ...\n",
    "\n",
    "# Show all contacts\n",
    "# ..."
   ]
  },
  {
   "cell_type": "code",
   "execution_count": 16,
   "id": "20c03b2c-98a2-4f33-aedc-c83e9b99dc59",
   "metadata": {},
   "outputs": [
    {
     "name": "stdin",
     "output_type": "stream",
     "text": [
      "Name:  hello\n",
      "Email:  asd@asd.com\n",
      "Phone:  01234567889\n"
     ]
    },
    {
     "name": "stdout",
     "output_type": "stream",
     "text": [
      "\n",
      "Saved contact!\n",
      "\n",
      "All contacts:\n",
      "hello | asd@asd.com | 01234567889\n"
     ]
    }
   ],
   "source": [
    "# Solution:\n",
    "\n",
    "import re\n",
    "\n",
    "class Contact:\n",
    "    def __init__(self, name, email, phone):\n",
    "        self.name = name\n",
    "        self.email = email\n",
    "        self.phone = phone\n",
    "\n",
    "    def __str__(self):\n",
    "        return f\"{self.name} | {self.email} | {self.phone}\"\n",
    "\n",
    "def is_valid_email(email):\n",
    "    return re.fullmatch(r\"\\w+[\\w\\.-]*@\\w+\\.\\w{2,}\", email)\n",
    "\n",
    "# Input\n",
    "name = input(\"Name: \")\n",
    "email = input(\"Email: \")\n",
    "phone = input(\"Phone: \")\n",
    "\n",
    "if is_valid_email(email):\n",
    "    contact = Contact(name, email, phone)\n",
    "\n",
    "    with open(\"contacts.txt\", \"a\") as f:\n",
    "        f.write(str(contact) + \"\\n\")\n",
    "\n",
    "    print(\"\\nSaved contact!\\n\")\n",
    "else:\n",
    "    print(\"Invalid email format.\")\n",
    "\n",
    "# Show all contacts\n",
    "print(\"All contacts:\")\n",
    "with open(\"contacts.txt\", \"r\") as f:\n",
    "    for line in f:\n",
    "        print(line.strip())\n"
   ]
  },
  {
   "cell_type": "markdown",
   "id": "5d990aa1-d878-4da8-be67-e0476949337e",
   "metadata": {},
   "source": [
    "---\n",
    "\n",
    "# Introduction to Flask (Python)\n",
    "\n",
    "Flask is a lightweight, easy-to-use web framework for Python. It’s designed to get you up and running with web applications quickly, without a lot of boilerplate code. Flask is especially great for small to medium-sized projects, APIs, and prototypes."
   ]
  },
  {
   "cell_type": "code",
   "execution_count": 19,
   "id": "5257397a-2f8e-4b72-95d9-b8b9fa468027",
   "metadata": {},
   "outputs": [
    {
     "name": "stdout",
     "output_type": "stream",
     "text": [
      "Requirement already satisfied: Flask==3.1.0 in c:\\tmp\\python_starter\\dot\\wpy64-31290\\python\\lib\\site-packages (3.1.0)\n",
      "Requirement already satisfied: Werkzeug>=3.1 in c:\\tmp\\python_starter\\dot\\wpy64-31290\\python\\lib\\site-packages (from Flask==3.1.0) (3.1.3)\n",
      "Requirement already satisfied: Jinja2>=3.1.2 in c:\\tmp\\python_starter\\dot\\wpy64-31290\\python\\lib\\site-packages (from Flask==3.1.0) (3.1.6)\n",
      "Requirement already satisfied: itsdangerous>=2.2 in c:\\tmp\\python_starter\\dot\\wpy64-31290\\python\\lib\\site-packages (from Flask==3.1.0) (2.2.0)\n",
      "Requirement already satisfied: click>=8.1.3 in c:\\tmp\\python_starter\\dot\\wpy64-31290\\python\\lib\\site-packages (from Flask==3.1.0) (8.1.8)\n",
      "Requirement already satisfied: blinker>=1.9 in c:\\tmp\\python_starter\\dot\\wpy64-31290\\python\\lib\\site-packages (from Flask==3.1.0) (1.9.0)\n",
      "Requirement already satisfied: colorama in c:\\tmp\\python_starter\\dot\\wpy64-31290\\python\\lib\\site-packages (from click>=8.1.3->Flask==3.1.0) (0.4.6)\n",
      "Requirement already satisfied: MarkupSafe>=2.0 in c:\\tmp\\python_starter\\dot\\wpy64-31290\\python\\lib\\site-packages (from Jinja2>=3.1.2->Flask==3.1.0) (3.0.2)\n"
     ]
    },
    {
     "name": "stderr",
     "output_type": "stream",
     "text": [
      "\n",
      "[notice] A new release of pip is available: 24.3.1 -> 25.0.1\n",
      "[notice] To update, run: python.exe -m pip install --upgrade pip\n"
     ]
    }
   ],
   "source": [
    "!pip install Flask==3.1.0"
   ]
  },
  {
   "cell_type": "code",
   "execution_count": 23,
   "id": "29238a9d-3338-4be1-865d-dda41c07675c",
   "metadata": {},
   "outputs": [
    {
     "name": "stdout",
     "output_type": "stream",
     "text": [
      " * Serving Flask app '__main__'\n",
      " * Debug mode: off\n"
     ]
    },
    {
     "name": "stderr",
     "output_type": "stream",
     "text": [
      "WARNING: This is a development server. Do not use it in a production deployment. Use a production WSGI server instead.\n",
      " * Running on all addresses (0.0.0.0)\n",
      " * Running on http://127.0.0.1:5000\n",
      " * Running on http://192.168.35.107:5000\n",
      "Press CTRL+C to quit\n"
     ]
    }
   ],
   "source": [
    "from flask import Flask\n",
    "\n",
    "app = Flask(__name__)\n",
    "\n",
    "@app.route('/')\n",
    "def hello():\n",
    "    return \"Hello from Flask inside JupyterLab!\"\n",
    "\n",
    "app.run(host=\"0.0.0.0\", port=5000)"
   ]
  },
  {
   "cell_type": "markdown",
   "id": "4cd7abfc-5922-4fcf-8887-2fa59269445a",
   "metadata": {},
   "source": [
    "### Flask Variable Routes\n",
    "\n",
    "In Flask, you can define routes with variable parts by using angle brackets (`< >`). These allow you to capture values from the URL and pass them as arguments to your view functions. You can also specify data types like `<int:post_id>` or `<string:username>`.\n",
    "\n",
    "Example:\n",
    "\n",
    "```python\n",
    "@app.route('/user/<username>')\n",
    "def show_user_profile(username):\n",
    "    return f'User {username}'\n",
    "```"
   ]
  },
  {
   "cell_type": "markdown",
   "id": "7d3e637c-d75b-487c-b7f2-33dba3bb6c73",
   "metadata": {},
   "source": [
    "### Exercise: Personalized Greeting\n",
    "\n",
    "Create a route `/hello/<name>` that returns a message like `\"Hello, Alice!\"`, where `name` is taken from the URL. If the name is `\"admin\"`, return `\"Welcome, administrator!\"` instead."
   ]
  },
  {
   "cell_type": "code",
   "execution_count": null,
   "id": "91ec71bd-9141-4d8d-abc2-61d51818ae05",
   "metadata": {},
   "outputs": [],
   "source": [
    "# Hint: Use an if-else statement to check if the name equals \"admin\""
   ]
  },
  {
   "cell_type": "code",
   "execution_count": null,
   "id": "c326f3bf-8186-486e-b7fa-50a3aded8e80",
   "metadata": {
    "jupyter": {
     "source_hidden": true
    }
   },
   "outputs": [],
   "source": [
    "# Solution:\n",
    "\n",
    "from flask import Flask\n",
    "app = Flask(__name__)\n",
    "\n",
    "@app.route('/hello/<name>')\n",
    "def greet(name):\n",
    "    if name == \"admin\":\n",
    "        return \"Welcome, administrator!\"\n",
    "    return f\"Hello, {name}!\"\n",
    "\n",
    "app.run(port=5000)"
   ]
  },
  {
   "cell_type": "markdown",
   "id": "72e18369-6c88-48e3-a752-faac107e6524",
   "metadata": {},
   "source": [
    "### HTTP Methods\n",
    "\n",
    "Flask allows you to restrict which HTTP methods a route can handle (like GET, POST, etc.). You can specify them using the `methods` parameter in the `@app.route()` decorator.\n",
    "\n",
    "Example:\n",
    "\n",
    "```python\n",
    "@app.route('/submit', methods=['POST'])\n",
    "def submit():\n",
    "    return 'Form submitted!'\n",
    "```"
   ]
  },
  {
   "cell_type": "markdown",
   "id": "dde0d875-e7ca-4b95-8d42-733c358e1ea8",
   "metadata": {},
   "source": [
    "### Exercise: Counter with POST\n",
    "\n",
    "Create a route `/counter` that only accepts POST requests. When called, it should return `\"Counter incremented {cntr}!\"` where `cntr` is the current call count. If accessed using GET, it should return `\"Method not allowed\"` with status code 405.\n",
    "\n",
    "#### Hint: to test the code, use the following snippet in a new notebook:\n",
    "```python\n",
    "import requests\n",
    "\n",
    "url = 'http://localhost:5000/counter'\n",
    "\n",
    "response = requests.post(url)\n",
    "\n",
    "print(f\"Status code: {response.status_code}\")\n",
    "print(f\"Response text: {response.text}\")\n",
    "```"
   ]
  },
  {
   "cell_type": "code",
   "execution_count": 25,
   "id": "16a04b0e-5622-4fe4-8b93-fe201fa7964f",
   "metadata": {},
   "outputs": [],
   "source": [
    "# Hint: Use an if-statement to check request.method inside the function"
   ]
  },
  {
   "cell_type": "code",
   "execution_count": 29,
   "id": "333ab70e-0965-4fdf-94fd-ff87732a482f",
   "metadata": {
    "jupyter": {
     "source_hidden": true
    }
   },
   "outputs": [
    {
     "name": "stdout",
     "output_type": "stream",
     "text": [
      " * Serving Flask app '__main__'\n",
      " * Debug mode: off\n"
     ]
    },
    {
     "name": "stderr",
     "output_type": "stream",
     "text": [
      "WARNING: This is a development server. Do not use it in a production deployment. Use a production WSGI server instead.\n",
      " * Running on http://127.0.0.1:5000\n",
      "Press CTRL+C to quit\n",
      "127.0.0.1 - - [15/Apr/2025 01:12:43] \"POST /counter HTTP/1.1\" 200 -\n",
      "127.0.0.1 - - [15/Apr/2025 01:12:47] \"POST /counter HTTP/1.1\" 200 -\n",
      "127.0.0.1 - - [15/Apr/2025 01:12:51] \"GET /counter HTTP/1.1\" 405 -\n",
      "127.0.0.1 - - [15/Apr/2025 01:12:56] \"POST /counter HTTP/1.1\" 200 -\n"
     ]
    }
   ],
   "source": [
    "# Solution:\n",
    "\n",
    "from flask import Flask, request\n",
    "app = Flask(__name__)\n",
    "\n",
    "cntr = 0\n",
    "\n",
    "@app.route('/counter', methods=['GET', 'POST'])\n",
    "def counter():\n",
    "    global cntr\n",
    "    if request.method == 'POST':\n",
    "        cntr += 1\n",
    "        return f\"Counter incremented {cntr}!\"\n",
    "    return \"Method not allowed\", 405\n",
    "\n",
    "app.run(port=5000)"
   ]
  },
  {
   "cell_type": "markdown",
   "id": "bdee8ab5-accb-487c-94ac-4cf80eb2ebc4",
   "metadata": {},
   "source": [
    "### Rendering Templates\n",
    "\n",
    "Flask uses the Jinja2 template engine to render HTML templates with dynamic content. You use the `render_template()` function to pass variables to templates.\n",
    "\n",
    "Example:\n",
    "\n",
    "```python\n",
    "from flask import render_template\n",
    "\n",
    "@app.route('/profile/<username>')\n",
    "def profile(username):\n",
    "    return render_template('profile.html', name=username)\n",
    "```\n",
    "\n",
    "In `profile.html`:\n",
    "\n",
    "```html\n",
    "<h1>Welcome, {{ name }}</h1>\n",
    "```"
   ]
  },
  {
   "cell_type": "markdown",
   "id": "44fb8fd4-ced9-4490-aea1-246797741bac",
   "metadata": {},
   "source": [
    "### Exercise: Dynamic Product Page\n",
    "\n",
    "Create a route `/product/<name>` that renders a template called `product.html` showing `\"Product: <name>\"`. Pass the name to the template."
   ]
  },
  {
   "cell_type": "code",
   "execution_count": null,
   "id": "8030401d-0a3e-45f5-989a-d19aab9c11c0",
   "metadata": {},
   "outputs": [],
   "source": [
    "# Hint: Create a simple product.html template with {{ name }} placeholder"
   ]
  },
  {
   "cell_type": "code",
   "execution_count": null,
   "id": "18a6e61a-1f4f-4751-8cd8-713ff1cf5744",
   "metadata": {
    "jupyter": {
     "source_hidden": true
    }
   },
   "outputs": [],
   "source": [
    "# Solution:\n",
    "\n",
    "from flask import Flask, render_template\n",
    "app = Flask(__name__)\n",
    "\n",
    "@app.route('/product/<name>')\n",
    "def product(name):\n",
    "    return render_template('product.html', name=name)\n",
    "\n",
    "# Contents of templates/product.html:\n",
    "# <h1>Product: {{ name }}</h1>\n"
   ]
  },
  {
   "cell_type": "markdown",
   "id": "a51eb1dd-fb5e-4c25-9c7d-d8e405c74538",
   "metadata": {},
   "source": [
    "### Login Form\n",
    "\n",
    "To create a login form in Flask, you use a combination of HTML forms, POST requests, and backend logic to validate credentials.\n",
    "\n",
    "Example:\n",
    "\n",
    "```python\n",
    "@app.route('/login', methods=['GET', 'POST'])\n",
    "def login():\n",
    "    if request.method == 'POST':\n",
    "        username = request.form['username']\n",
    "        password = request.form['password']\n",
    "        if username == 'admin' and password == 'secret':\n",
    "            return 'Login successful'\n",
    "    return render_template('login.html')\n",
    "```\n",
    "\n",
    "In `login.html`:\n",
    "\n",
    "```html\n",
    "<form method=\"post\">\n",
    "  <input type=\"text\" name=\"username\">\n",
    "  <input type=\"password\" name=\"password\">\n",
    "  <input type=\"submit\">\n",
    "</form>\n",
    "```"
   ]
  },
  {
   "cell_type": "markdown",
   "id": "94676bf5-73cd-46c7-86ab-fbcaf06a97cb",
   "metadata": {},
   "source": [
    "### Exercise: Custom Login Handler\n",
    "\n",
    "Create a `/signin` route that accepts GET and POST. Render a form on GET. On POST, check if the username is `\"user\"` and the password is `\"1234\"`, and return `\"Welcome, user!\"`. Otherwise, return `\"Invalid credentials\"`."
   ]
  },
  {
   "cell_type": "code",
   "execution_count": null,
   "id": "8fdb32f2-87e4-489b-ab94-77a3a5f95730",
   "metadata": {},
   "outputs": [],
   "source": [
    "# Hint: Use request.form to access submitted username and password"
   ]
  },
  {
   "cell_type": "code",
   "execution_count": null,
   "id": "bc6453f7-e455-4b7d-b0d3-42cbcaee68aa",
   "metadata": {
    "jupyter": {
     "source_hidden": true
    }
   },
   "outputs": [],
   "source": [
    "# Solution:\n",
    "\n",
    "from flask import Flask, request, render_template\n",
    "app = Flask(__name__)\n",
    "\n",
    "@app.route('/signin', methods=['GET', 'POST'])\n",
    "def signin():\n",
    "    if request.method == 'POST':\n",
    "        username = request.form.get('username')\n",
    "        password = request.form.get('password')\n",
    "        if username == 'user' and password == '1234':\n",
    "            return \"Welcome, user!\"\n",
    "        else:\n",
    "            return \"Invalid credentials\"\n",
    "    return render_template('login.html')\n",
    "\n",
    "# Contents of templates/login.html:\n",
    "# <form method=\"post\">\n",
    "#   <input type=\"text\" name=\"username\">\n",
    "#   <input type=\"password\" name=\"password\">\n",
    "#   <input type=\"submit\" value=\"Login\">\n",
    "# </form>\n"
   ]
  }
 ],
 "metadata": {
  "kernelspec": {
   "display_name": "Python 3 (ipykernel)",
   "language": "python",
   "name": "python3"
  },
  "language_info": {
   "codemirror_mode": {
    "name": "ipython",
    "version": 3
   },
   "file_extension": ".py",
   "mimetype": "text/x-python",
   "name": "python",
   "nbconvert_exporter": "python",
   "pygments_lexer": "ipython3",
   "version": "3.12.9"
  }
 },
 "nbformat": 4,
 "nbformat_minor": 5
}
