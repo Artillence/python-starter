{
 "cells": [
  {
   "cell_type": "markdown",
   "id": "6db01a8e-1d24-4bff-b6cb-6bf528614273",
   "metadata": {},
   "source": [
    "---\n",
    "\n",
    "# Working with SQLite in Python\n",
    "\n",
    "We'll use Python's built-in `sqlite3` module.\n",
    "\n",
    "## Step 1: Connect to a database (file or memory)"
   ]
  },
  {
   "cell_type": "code",
   "execution_count": null,
   "id": "92dada07-2e83-4e5b-92f2-8e1c11b6a124",
   "metadata": {},
   "outputs": [],
   "source": [
    "import sqlite3\n",
    "\n",
    "conn = sqlite3.connect(\"people.db\")  # or \":memory:\"\n",
    "cursor = conn.cursor()"
   ]
  },
  {
   "cell_type": "markdown",
   "id": "5212f3cf-a751-490a-8f63-3698bc5f74f7",
   "metadata": {},
   "source": [
    "## Step 2: Create a table"
   ]
  },
  {
   "cell_type": "code",
   "execution_count": null,
   "id": "6e38ba5b-7a91-4caf-9b31-fc5e0b008f7c",
   "metadata": {},
   "outputs": [],
   "source": [
    "cursor.execute(\"\"\"\n",
    "CREATE TABLE IF NOT EXISTS users (\n",
    "    id INTEGER PRIMARY KEY,\n",
    "    name TEXT,\n",
    "    age INTEGER\n",
    ")\n",
    "\"\"\")"
   ]
  },
  {
   "cell_type": "markdown",
   "id": "101b1045-4fdb-4af2-94d2-f6c26cd00a33",
   "metadata": {},
   "source": [
    "## Step 3: Insert and query data"
   ]
  },
  {
   "cell_type": "code",
   "execution_count": null,
   "id": "aa700491-7401-45c6-94a1-453cdd9c4ea9",
   "metadata": {},
   "outputs": [],
   "source": [
    "cursor.execute(\"INSERT INTO users (name, age) VALUES (?, ?)\", (\"Alice\", 30))\n",
    "conn.commit()\n",
    "\n",
    "cursor.execute(\"SELECT * FROM users\")\n",
    "for row in cursor.fetchall():\n",
    "    print(row)"
   ]
  },
  {
   "cell_type": "markdown",
   "id": "7f74b8f2-47fe-4086-9c6d-8c8d90b70576",
   "metadata": {},
   "source": [
    "### Exercise\n",
    "- Insert multiple users using a loop.\n",
    "- Query all users above a certain age.\n",
    "- Count how many users are in the table."
   ]
  },
  {
   "cell_type": "code",
   "execution_count": null,
   "id": "27fba228-6d76-4bb7-aa22-245067981cb3",
   "metadata": {},
   "outputs": [],
   "source": []
  }
 ],
 "metadata": {
  "kernelspec": {
   "display_name": "Python 3 (ipykernel)",
   "language": "python",
   "name": "python3"
  },
  "language_info": {
   "codemirror_mode": {
    "name": "ipython",
    "version": 3
   },
   "file_extension": ".py",
   "mimetype": "text/x-python",
   "name": "python",
   "nbconvert_exporter": "python",
   "pygments_lexer": "ipython3",
   "version": "3.12.9"
  }
 },
 "nbformat": 4,
 "nbformat_minor": 5
}
