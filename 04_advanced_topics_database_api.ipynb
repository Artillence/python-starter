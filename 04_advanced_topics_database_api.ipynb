{
 "cells": [
  {
   "cell_type": "markdown",
   "id": "5a8a662c-9af5-4fe2-8783-d4bd86bd560e",
   "metadata": {},
   "source": [
    "# SQLite Basic Setup and Usage\n",
    "\n",
    "SQLite is a lightweight, file-based database system built into Python via the `sqlite3` module. You can connect to a database using `sqlite3.connect()` and then create a cursor to execute SQL statements.\n",
    "\n",
    "```python\n",
    "import sqlite3\n",
    "\n",
    "# Connect to (or create) a database file\n",
    "conn = sqlite3.connect(\"example.db\")\n",
    "cursor = conn.cursor()\n",
    "\n",
    "# Always close the connection when done\n",
    "conn.close()\n",
    "```\n",
    "\n",
    "Use `\":memory:\"` to create a temporary, in-memory database that disappears after the program ends.\n",
    "\n",
    "```python\n",
    "conn = sqlite3.connect(\":memory:\")\n",
    "```"
   ]
  },
  {
   "cell_type": "markdown",
   "id": "6a1d5de2-7fde-4dcb-a854-980c153854b0",
   "metadata": {},
   "source": [
    "### Exercise: Create a temporary in-memory database\n",
    "\n",
    "Create a SQLite in-memory database. Then print the connection object to verify that it's created. Finally, close the connection."
   ]
  },
  {
   "cell_type": "code",
   "execution_count": null,
   "id": "8d37a346-4caf-4351-9658-e3562d8879b6",
   "metadata": {},
   "outputs": [],
   "source": [
    "import sqlite3\n",
    "\n",
    "# Connect to an in-memory database\n",
    "\n",
    "# Print the connection object\n",
    "\n",
    "# Close the connection"
   ]
  },
  {
   "cell_type": "code",
   "execution_count": null,
   "id": "bf8d5052-4a61-4d5f-b698-e483e20a9dc2",
   "metadata": {
    "jupyter": {
     "source_hidden": true
    }
   },
   "outputs": [],
   "source": [
    "# Solution:\n",
    "\n",
    "import sqlite3\n",
    "\n",
    "conn = sqlite3.connect(\":memory:\")\n",
    "print(conn)\n",
    "conn.close()"
   ]
  },
  {
   "cell_type": "markdown",
   "id": "7ea1f928-a26f-461a-acc9-4176e11bb8ff",
   "metadata": {},
   "source": [
    "### Creating Tables\n",
    "\n",
    "Tables in SQLite are created with the SQL `CREATE TABLE` statement. Each column is defined with a name and data type.\n",
    "\n",
    "```python\n",
    "cursor.execute(\"\"\"\n",
    "CREATE TABLE users (\n",
    "    id INTEGER PRIMARY KEY,\n",
    "    name TEXT,\n",
    "    age INTEGER\n",
    ")\n",
    "\"\"\")\n",
    "```\n",
    "\n",
    "Run `CREATE TABLE IF NOT EXISTS` to avoid errors if the table already exists."
   ]
  },
  {
   "cell_type": "markdown",
   "id": "b93a2111-dcf6-49ba-b631-c7f1239b3a79",
   "metadata": {},
   "source": [
    "### Exercise: Create a products table\n",
    "\n",
    "Create a table named `products` with the following columns:\n",
    "- `id` (INTEGER, primary key)\n",
    "- `name` (TEXT)\n",
    "- `price` (REAL)\n",
    "Make sure your code doesn't raise an error if the table already exists."
   ]
  },
  {
   "cell_type": "code",
   "execution_count": null,
   "id": "55181915-0a47-4c23-848b-eb2f8983dfae",
   "metadata": {},
   "outputs": [],
   "source": [
    "import sqlite3\n",
    "\n",
    "conn = sqlite3.connect(\":memory:\")\n",
    "cursor = conn.cursor()\n",
    "\n",
    "# Create the table 'products' with the specified schema\n",
    "\n",
    "conn.close()"
   ]
  },
  {
   "cell_type": "code",
   "execution_count": null,
   "id": "95dd85e4-e198-4fb1-bd7b-3bd001db4618",
   "metadata": {
    "jupyter": {
     "source_hidden": true
    }
   },
   "outputs": [],
   "source": [
    "# Solution:\n",
    "\n",
    "import sqlite3\n",
    "\n",
    "conn = sqlite3.connect(\":memory:\")\n",
    "cursor = conn.cursor()\n",
    "\n",
    "cursor.execute(\"\"\"\n",
    "CREATE TABLE IF NOT EXISTS products (\n",
    "    id INTEGER PRIMARY KEY,\n",
    "    name TEXT,\n",
    "    price REAL\n",
    ")\n",
    "\"\"\")\n",
    "\n",
    "conn.close()"
   ]
  },
  {
   "cell_type": "markdown",
   "id": "0a3279bb-5a02-4700-84dd-28734a0aba5d",
   "metadata": {},
   "source": [
    "### Inserting Data into Tables\n",
    "\n",
    "To insert data into a table, use the SQL `INSERT INTO` statement with parameter placeholders (`?`) to prevent SQL injection.\n",
    "\n",
    "```python\n",
    "cursor.execute(\"INSERT INTO users (name, age) VALUES (?, ?)\", (\"Alice\", 30))\n",
    "conn.commit()\n",
    "```\n",
    "\n",
    "You can also use `executemany()` to insert multiple rows:\n",
    "\n",
    "```python\n",
    "users = [(\"Bob\", 25), (\"Charlie\", 22)]\n",
    "cursor.executemany(\"INSERT INTO users (name, age) VALUES (?, ?)\", users)\n",
    "```"
   ]
  },
  {
   "cell_type": "markdown",
   "id": "3705bab2-8f76-4021-96f2-845b1b4d4a31",
   "metadata": {},
   "source": [
    "### Exercise: Insert sample products\n",
    "\n",
    "Insert the following rows into a `products` table:\n",
    "- (\"Laptop\", 899.99)\n",
    "- (\"Mouse\", 19.99)\n",
    "- (\"Keyboard\", 49.50)\n",
    "\n",
    "Use `executemany()` and don't forget to commit the changes."
   ]
  },
  {
   "cell_type": "code",
   "execution_count": null,
   "id": "a7ffec17-d289-4ca6-8687-f0a87280e22e",
   "metadata": {},
   "outputs": [],
   "source": [
    "import sqlite3\n",
    "\n",
    "conn = sqlite3.connect(\":memory:\")\n",
    "cursor = conn.cursor()\n",
    "\n",
    "cursor.execute(\"\"\"\n",
    "CREATE TABLE products (\n",
    "    id INTEGER PRIMARY KEY,\n",
    "    name TEXT,\n",
    "    price REAL\n",
    ")\n",
    "\"\"\")\n",
    "\n",
    "# Insert the product list using executemany\n",
    "\n",
    "conn.close()"
   ]
  },
  {
   "cell_type": "code",
   "execution_count": null,
   "id": "5d35fcdb-d80f-43ca-a179-f89d0b0387a0",
   "metadata": {
    "jupyter": {
     "source_hidden": true
    }
   },
   "outputs": [],
   "source": [
    "# Solution:\n",
    "\n",
    "import sqlite3\n",
    "\n",
    "conn = sqlite3.connect(\":memory:\")\n",
    "cursor = conn.cursor()\n",
    "\n",
    "cursor.execute(\"\"\"\n",
    "CREATE TABLE products (\n",
    "    id INTEGER PRIMARY KEY,\n",
    "    name TEXT,\n",
    "    price REAL\n",
    ")\n",
    "\"\"\")\n",
    "\n",
    "products = [\n",
    "    (\"Laptop\", 899.99),\n",
    "    (\"Mouse\", 19.99),\n",
    "    (\"Keyboard\", 49.50)\n",
    "]\n",
    "\n",
    "cursor.executemany(\"INSERT INTO products (name, price) VALUES (?, ?)\", products)\n",
    "conn.commit()\n",
    "\n",
    "conn.close()"
   ]
  },
  {
   "cell_type": "markdown",
   "id": "7183de0f-3d37-4b5c-96a6-ab2a2a05570f",
   "metadata": {},
   "source": [
    "### Querying Data from Tables\n",
    "\n",
    "Use the `SELECT` SQL command to retrieve data. You can fetch rows using `.fetchone()`, `.fetchall()`, or iterate over the cursor.\n",
    "\n",
    "```python\n",
    "cursor.execute(\"SELECT * FROM users\")\n",
    "rows = cursor.fetchall()\n",
    "\n",
    "for row in rows:\n",
    "    print(row)\n",
    "```\n",
    "\n",
    "Add a `WHERE` clause to filter results:\n",
    "\n",
    "```python\n",
    "cursor.execute(\"SELECT * FROM users WHERE age > 25\")\n",
    "```"
   ]
  },
  {
   "cell_type": "markdown",
   "id": "c72b3c96-902e-48e1-8c97-f16fcc7811c2",
   "metadata": {},
   "source": [
    "### Exercise: Query affordable products\n",
    "\n",
    "From the `products` table, select and print the names of all products that cost less than 100. Use a loop to print them one by one."
   ]
  },
  {
   "cell_type": "code",
   "execution_count": null,
   "id": "e1a6c20d-1f50-46d4-b452-b98f9c172816",
   "metadata": {},
   "outputs": [],
   "source": [
    "import sqlite3\n",
    "\n",
    "conn = sqlite3.connect(\":memory:\")\n",
    "cursor = conn.cursor()\n",
    "\n",
    "cursor.execute(\"\"\"\n",
    "CREATE TABLE products (\n",
    "    id INTEGER PRIMARY KEY,\n",
    "    name TEXT,\n",
    "    price REAL\n",
    ")\n",
    "\"\"\")\n",
    "\n",
    "products = [\n",
    "    (\"Laptop\", 899.99),\n",
    "    (\"Mouse\", 19.99),\n",
    "    (\"Keyboard\", 49.50),\n",
    "    (\"Monitor\", 199.99)\n",
    "]\n",
    "\n",
    "cursor.executemany(\"INSERT INTO products (name, price) VALUES (?, ?)\", products)\n",
    "conn.commit()\n",
    "\n",
    "# Query for products with price < 100 and print their names\n",
    "\n",
    "conn.close()"
   ]
  },
  {
   "cell_type": "code",
   "execution_count": null,
   "id": "dceb1ef1-88d4-4441-b1e7-1b3652634ddc",
   "metadata": {
    "jupyter": {
     "source_hidden": true
    }
   },
   "outputs": [],
   "source": [
    "# Solution:\n",
    "\n",
    "import sqlite3\n",
    "\n",
    "conn = sqlite3.connect(\":memory:\")\n",
    "cursor = conn.cursor()\n",
    "\n",
    "cursor.execute(\"\"\"\n",
    "CREATE TABLE products (\n",
    "    id INTEGER PRIMARY KEY,\n",
    "    name TEXT,\n",
    "    price REAL\n",
    ")\n",
    "\"\"\")\n",
    "\n",
    "products = [\n",
    "    (\"Laptop\", 899.99),\n",
    "    (\"Mouse\", 19.99),\n",
    "    (\"Keyboard\", 49.50),\n",
    "    (\"Monitor\", 199.99)\n",
    "]\n",
    "\n",
    "cursor.executemany(\"INSERT INTO products (name, price) VALUES (?, ?)\", products)\n",
    "conn.commit()\n",
    "\n",
    "cursor.execute(\"SELECT name FROM products WHERE price < 100\")\n",
    "rows = cursor.fetchall()\n",
    "for row in rows:\n",
    "    print(row[0])\n",
    "\n",
    "conn.close()"
   ]
  },
  {
   "cell_type": "markdown",
   "id": "eb9f1067-1368-4d89-a27d-7854d23cccbf",
   "metadata": {},
   "source": [
    "---"
   ]
  },
  {
   "cell_type": "markdown",
   "id": "86a59101-3b70-4129-be99-3029c51e50ff",
   "metadata": {},
   "source": [
    "# SQLAlchemy\n",
    "\n",
    "SQLAlchemy is a Python SQL toolkit and Object Relational Mapper (ORM) that allows you to interact with relational databases in a more Pythonic way.\n",
    "\n",
    "To get started, you need to install SQLAlchemy:\n",
    "```bash\n",
    "pip install sqlalchemy\n",
    "```\n",
    "\n",
    "We’ll use an in-memory SQLite database (`sqlite:///:memory:`) for demonstration. SQLAlchemy supports multiple backends such as PostgreSQL, MySQL, and Oracle — you just need to change the connection URL.\n",
    "\n",
    "**Example:**\n",
    "```python\n",
    "from sqlalchemy import create_engine\n",
    "from sqlalchemy.orm import declarative_base, sessionmaker\n",
    "\n",
    "# Setup SQLite engine and session\n",
    "engine = create_engine(\"sqlite:///:memory:\", echo=True)\n",
    "Base = declarative_base()\n",
    "Session = sessionmaker(bind=engine)\n",
    "session = Session()\n",
    "```\n",
    "\n",
    "This sets up everything needed to begin working with SQLAlchemy ORM."
   ]
  },
  {
   "cell_type": "markdown",
   "id": "df282862-23bb-4fbc-b34e-d8d8f2666c2f",
   "metadata": {},
   "source": [
    "### Exercise: Setup a Persistent SQLite Database\n",
    "\n",
    "Create an SQLAlchemy engine connected to a persistent SQLite file named `people.db`. Then, create a session using a sessionmaker and assign it to a variable named `session`."
   ]
  },
  {
   "cell_type": "code",
   "execution_count": null,
   "id": "516be921-57c3-4c49-ba2c-68e6da582937",
   "metadata": {},
   "outputs": [],
   "source": [
    "from sqlalchemy import create_engine\n",
    "from sqlalchemy.orm import sessionmaker\n",
    "\n",
    "# Set up your engine and session here using 'sqlite:///people.db'"
   ]
  },
  {
   "cell_type": "code",
   "execution_count": null,
   "id": "12e152bf-2ba4-4b2e-b0e6-601892eb0768",
   "metadata": {
    "jupyter": {
     "source_hidden": true
    }
   },
   "outputs": [],
   "source": [
    "# Solution:\n",
    "\n",
    "from sqlalchemy import create_engine\n",
    "from sqlalchemy.orm import sessionmaker\n",
    "\n",
    "engine = create_engine(\"sqlite:///people.db\", echo=True)\n",
    "Session = sessionmaker(bind=engine)\n",
    "session = Session()"
   ]
  },
  {
   "cell_type": "markdown",
   "id": "617fdb3b-ccdc-4fc4-bdde-c01214fb2fa3",
   "metadata": {},
   "source": [
    "SQLAlchemy uses classes to define database tables. These classes inherit from a `Base` created using `declarative_base()`.\n",
    "\n",
    "**Basic fields:**\n",
    "- `Column(Integer, primary_key=True)`\n",
    "- `Column(String)`\n",
    "- `Column(Boolean)`\n",
    "- `Column(Float)`\n",
    "\n",
    "**Example:**\n",
    "```python\n",
    "from sqlalchemy import Column, Integer, String\n",
    "\n",
    "class User(Base):\n",
    "    __tablename__ = \"users\"\n",
    "    id = Column(Integer, primary_key=True)\n",
    "    name = Column(String)\n",
    "    age = Column(Integer)\n",
    "```\n",
    "\n",
    "Always call `Base.metadata.create_all(engine)` after defining your models to actually create the tables."
   ]
  },
  {
   "cell_type": "markdown",
   "id": "98d3d906-b4af-4df1-9e96-94accea23051",
   "metadata": {},
   "source": [
    "### Exercise: Define a Book Model\n",
    "\n",
    "Define a model named `Book` with the following fields:\n",
    "- `id`: Integer, primary key\n",
    "- `title`: String\n",
    "- `pages`: Integer\n",
    "\n",
    "Then, use `Base.metadata.create_all(engine)` to create the table."
   ]
  },
  {
   "cell_type": "code",
   "execution_count": null,
   "id": "7efff6cb-19e2-4c21-907a-25a80a753a3b",
   "metadata": {},
   "outputs": [],
   "source": [
    "from sqlalchemy import Column, Integer, String\n",
    "\n",
    "# Define your model here\n",
    "# Don’t forget to call Base.metadata.create_all(engine)"
   ]
  },
  {
   "cell_type": "code",
   "execution_count": null,
   "id": "3a65d6df-0e50-479c-a08e-33a27117cfa3",
   "metadata": {
    "jupyter": {
     "source_hidden": true
    }
   },
   "outputs": [],
   "source": [
    "# Solution:\n",
    "\n",
    "from sqlalchemy import Column, Integer, String\n",
    "\n",
    "class Book(Base):\n",
    "    __tablename__ = \"books\"\n",
    "    id = Column(Integer, primary_key=True)\n",
    "    title = Column(String)\n",
    "    pages = Column(Integer)\n",
    "\n",
    "Base.metadata.create_all(engine)"
   ]
  },
  {
   "cell_type": "markdown",
   "id": "a5f552e1-cc94-4a62-a325-018fc8b23837",
   "metadata": {},
   "source": [
    "To insert data, create an instance of your model and use the session:\n",
    "\n",
    "**Example:**\n",
    "```python\n",
    "new_user = User(name=\"Alice\", age=30)\n",
    "session.add(new_user)\n",
    "session.commit()\n",
    "```\n",
    "\n",
    "You can add multiple objects with `session.add_all([...])`.\n",
    "\n",
    "Note: Remember to commit the session for the changes to persist."
   ]
  },
  {
   "cell_type": "markdown",
   "id": "b2f15040-f269-4ca5-b9ae-d34fa4432661",
   "metadata": {},
   "source": [
    "### Exercise: Add a Book Record\n",
    "\n",
    "Create and insert a `Book` instance with the title `\"1984\"` and `328` pages into the database. Commit the session."
   ]
  },
  {
   "cell_type": "code",
   "execution_count": null,
   "id": "c1c3902f-b11f-42c7-8640-e3c9e804e76d",
   "metadata": {},
   "outputs": [],
   "source": [
    "# Create the book and insert it using session.add / session.commit"
   ]
  },
  {
   "cell_type": "code",
   "execution_count": null,
   "id": "6fdbdce7-066b-45cd-b735-ac0ad66766ab",
   "metadata": {
    "jupyter": {
     "source_hidden": true
    }
   },
   "outputs": [],
   "source": [
    "# Solution:\n",
    "\n",
    "book = Book(title=\"1984\", pages=328)\n",
    "session.add(book)\n",
    "session.commit()"
   ]
  },
  {
   "cell_type": "markdown",
   "id": "b24e36f4-29de-4b9b-a249-94b2300280b2",
   "metadata": {},
   "source": [
    "You can read data using the session's `query()` method:\n",
    "\n",
    "**Example:**\n",
    "```python\n",
    "user = session.query(User).filter_by(name=\"Alice\").first()\n",
    "print(user.id, user.name, user.age)\n",
    "```\n",
    "\n",
    "You can also use `all()`, `first()`, or filters like `filter(User.age > 20)` for more advanced queries."
   ]
  },
  {
   "cell_type": "markdown",
   "id": "caa90f99-e6bb-46d8-9d38-c2db8d199906",
   "metadata": {},
   "source": [
    "### Exercise: Query a Book\n",
    "\n",
    "Query the first book with the title `\"1984\"` and print its `id` and `pages`."
   ]
  },
  {
   "cell_type": "code",
   "execution_count": null,
   "id": "67236006-784b-4dd1-86cf-f5f036bb95f8",
   "metadata": {},
   "outputs": [],
   "source": [
    "# Use session.query(Book)... to find and print the book details"
   ]
  },
  {
   "cell_type": "code",
   "execution_count": null,
   "id": "d94b2d1f-bcce-4bb8-9663-6bb182d50d73",
   "metadata": {
    "jupyter": {
     "source_hidden": true
    }
   },
   "outputs": [],
   "source": [
    "# Solution:\n",
    "\n",
    "book = session.query(Book).filter_by(title=\"1984\").first()\n",
    "print(book.id, book.pages)"
   ]
  },
  {
   "cell_type": "markdown",
   "id": "593f6911-810f-45a1-85b0-b4844c885e0d",
   "metadata": {},
   "source": [
    "To update a record:\n",
    "1. Query the object.\n",
    "2. Modify its attributes.\n",
    "3. Commit the session.\n",
    "\n",
    "**Example:**\n",
    "```python\n",
    "user = session.query(User).filter_by(name=\"Alice\").first()\n",
    "user.age = 31\n",
    "session.commit()\n",
    "```\n",
    "\n",
    "The change takes effect after `session.commit()`."
   ]
  },
  {
   "cell_type": "markdown",
   "id": "e69a71a1-d35b-401b-93b1-45bd602b84f2",
   "metadata": {},
   "source": [
    "### Exercise: Update Book Pages\n",
    "\n",
    "Update the pages of the book titled `\"1984\"` to `350`, then commit the change."
   ]
  },
  {
   "cell_type": "code",
   "execution_count": null,
   "id": "b4da7131-d8df-4f04-8f84-a71f9cf555bb",
   "metadata": {},
   "outputs": [],
   "source": [
    "# Query the book, change the pages, and commit"
   ]
  },
  {
   "cell_type": "code",
   "execution_count": null,
   "id": "82ad9672-5393-4d66-b2ac-d295171e8ad3",
   "metadata": {
    "jupyter": {
     "source_hidden": true
    }
   },
   "outputs": [],
   "source": [
    "# Solution:\n",
    "\n",
    "book = session.query(Book).filter_by(title=\"1984\").first()\n",
    "book.pages = 350\n",
    "session.commit()"
   ]
  },
  {
   "cell_type": "markdown",
   "id": "22fce192-a546-49fa-b649-0b48ca96f68b",
   "metadata": {},
   "source": [
    "To delete a record:\n",
    "1. Query the object.\n",
    "2. Call `session.delete(object)`.\n",
    "3. Commit the session.\n",
    "\n",
    "**Example:**\n",
    "```python\n",
    "user = session.query(User).filter_by(name=\"Alice\").first()\n",
    "session.delete(user)\n",
    "session.commit()\n",
    "```\n",
    "This removes the user from the database."
   ]
  },
  {
   "cell_type": "markdown",
   "id": "319a32f0-25a2-43ed-ab87-ae335826a93f",
   "metadata": {},
   "source": [
    "### Exercise: Delete a Book\n",
    "\n",
    "Delete the book with the title `\"1984\"` from the database and commit the change."
   ]
  },
  {
   "cell_type": "code",
   "execution_count": null,
   "id": "421a7fd8-5a75-4b06-9632-72729123768a",
   "metadata": {},
   "outputs": [],
   "source": [
    "# Query the book, delete it, and commit"
   ]
  },
  {
   "cell_type": "code",
   "execution_count": null,
   "id": "9c850a46-1819-45de-a0bd-fa0bd11a2d00",
   "metadata": {
    "jupyter": {
     "source_hidden": true
    }
   },
   "outputs": [],
   "source": [
    "# Solution:\n",
    "\n",
    "book = session.query(Book).filter_by(title=\"1984\").first()\n",
    "session.delete(book)\n",
    "session.commit()"
   ]
  },
  {
   "cell_type": "markdown",
   "id": "e40926e6-21b9-437e-abd9-2914e4f7588e",
   "metadata": {},
   "source": [
    "---"
   ]
  },
  {
   "cell_type": "markdown",
   "id": "5460de3e-63b1-479c-b4ee-c9c9f2e80e5d",
   "metadata": {},
   "source": [
    "\n",
    "# Reading System Resources with `psutil`\n",
    "\n",
    "The `psutil` (Python system and process utilities) library allows us to monitor system resources in a platform-independent way. It can be installed with `pip install psutil`.\n",
    "\n",
    "#### Disk Usage\n",
    "You can read disk usage with:\n",
    "```python\n",
    "import psutil\n",
    "psutil.disk_usage('/')\n",
    "```\n",
    "This returns a named tuple with total, used, free, and percent values.\n",
    "\n",
    "#### CPU Usage\n",
    "CPU usage percentage (over all cores) can be accessed with:\n",
    "```python\n",
    "psutil.cpu_percent(interval=1)\n",
    "```\n",
    "This waits for 1 second and returns the percentage of CPU used during that period.\n",
    "\n",
    "#### Memory Usage\n",
    "For memory info:\n",
    "```python\n",
    "psutil.virtual_memory()\n",
    "```\n",
    "This provides values such as total, available, used, and percent.\n",
    "\n",
    "These values can be accessed individually and stored for later processing. For example:\n",
    "```python\n",
    "mem_info = psutil.virtual_memory()\n",
    "used = mem_info.used\n",
    "```\n",
    "Try using these APIs to collect and manipulate system usage statistics.\n"
   ]
  },
  {
   "cell_type": "markdown",
   "id": "6fbccc5b-c0a2-456b-b820-019dccc95dbd",
   "metadata": {},
   "source": [
    "### Exercise: Collect and display system stats\n",
    "Read disk, CPU, and memory usage information and print them all out with descriptive labels. Make sure to use `psutil` and avoid platform-specific calls. Use the `/` path for disk usage to ensure cross-platform compatibility."
   ]
  },
  {
   "cell_type": "code",
   "execution_count": null,
   "id": "cf6b0290-ae97-4fb5-a5ce-a12cc3c75fd7",
   "metadata": {},
   "outputs": [],
   "source": [
    "# You might find these functions useful:\n",
    "# - psutil.disk_usage('/')\n",
    "# - psutil.cpu_percent(interval=1)\n",
    "# - psutil.virtual_memory()"
   ]
  },
  {
   "cell_type": "code",
   "execution_count": null,
   "id": "dfd9582d-f65a-4748-90d5-dc618fe82a71",
   "metadata": {
    "jupyter": {
     "source_hidden": true
    }
   },
   "outputs": [],
   "source": [
    "# Solution:\n",
    "\n",
    "import psutil\n",
    "\n",
    "disk = psutil.disk_usage('/')\n",
    "cpu = psutil.cpu_percent(interval=1)\n",
    "memory = psutil.virtual_memory()\n",
    "\n",
    "print(f\"Disk Usage: {disk.percent}%\")\n",
    "print(f\"CPU Usage: {cpu}%\")\n",
    "print(f\"Memory Usage: {memory.percent}%\")"
   ]
  },
  {
   "cell_type": "markdown",
   "id": "bc2d3b20-08e5-4a25-9ca3-f6852fbce73d",
   "metadata": {},
   "source": [
    "\n",
    "### Writing JSON Lines (`.jsonl`) Files\n",
    "\n",
    "A JSONL file stores one JSON object per line. This is useful for logging time-series data like system statistics. Use Python’s `json` module to serialize dictionaries:\n",
    "\n",
    "```python\n",
    "import json\n",
    "\n",
    "data = {\"cpu\": 42.5, \"mem\": 76.3}\n",
    "with open(\"stats.jsonl\", \"a\") as f:\n",
    "    f.write(json.dumps(data) + \"\\n\")\n",
    "```\n",
    "\n",
    "Make sure to open the file in append mode (`'a'`) and write each entry followed by a newline.\n",
    "\n",
    "This format is easily parsable line-by-line and suitable for logging.\n"
   ]
  },
  {
   "cell_type": "markdown",
   "id": "1035e77b-88b7-4014-a2fa-31fb23581732",
   "metadata": {},
   "source": [
    "### Exercise: Log a single system usage snapshot\n",
    "Read the current CPU, memory, and disk usage. Create a dictionary with the values and append it as a JSON object to a file called `system_log.jsonl`."
   ]
  },
  {
   "cell_type": "code",
   "execution_count": null,
   "id": "34469b53-91f0-4b97-bf05-9ced1a69e67a",
   "metadata": {},
   "outputs": [],
   "source": [
    "# Use:\n",
    "# - json.dumps(your_dict)\n",
    "# - open('system_log.jsonl', 'a')"
   ]
  },
  {
   "cell_type": "code",
   "execution_count": null,
   "id": "49735710-997d-4858-9a9e-c96066ceb4e8",
   "metadata": {
    "jupyter": {
     "source_hidden": true
    }
   },
   "outputs": [],
   "source": [
    "# Solution:\n",
    "\n",
    "import psutil\n",
    "import json\n",
    "\n",
    "data = {\n",
    "    \"cpu\": psutil.cpu_percent(interval=1),\n",
    "    \"memory\": psutil.virtual_memory().percent,\n",
    "    \"disk\": psutil.disk_usage('/').percent\n",
    "}\n",
    "\n",
    "with open(\"system_log.jsonl\", \"a\") as f:\n",
    "    f.write(json.dumps(data) + \"\\n\")"
   ]
  },
  {
   "cell_type": "markdown",
   "id": "dee441e6-9e07-46ae-8ce2-3e2ba78cfbbc",
   "metadata": {},
   "source": [
    "\n",
    "### Creating a Standalone Monitoring Script\n",
    "\n",
    "You can build a small monitoring tool using a `while True` loop and `time.sleep()` for timing. This simulates a daemon-like behavior:\n",
    "\n",
    "```python\n",
    "import time\n",
    "\n",
    "while True:\n",
    "    # collect and store stats\n",
    "    time.sleep(1)\n",
    "```\n",
    "\n",
    "Make sure to include a way to break the loop (e.g. `KeyboardInterrupt` with `try`/`except`) when running in an interactive environment.\n"
   ]
  },
  {
   "cell_type": "markdown",
   "id": "7f9857b5-1fad-4cae-9094-b5d869879f05",
   "metadata": {},
   "source": [
    "### Exercise: System Monitor Logger\n",
    "Create a standalone script that logs CPU, memory, and disk usage to `system_log.jsonl` every second, continuously. Include a `try`/`except KeyboardInterrupt` block so the user can stop the loop with Ctrl+C."
   ]
  },
  {
   "cell_type": "code",
   "execution_count": null,
   "id": "256f9e57-588c-4b12-969b-85f51e73e9cf",
   "metadata": {},
   "outputs": [],
   "source": [
    "# You will need:\n",
    "# - while True\n",
    "# - try/except KeyboardInterrupt\n",
    "# - time.sleep(1)\n",
    "# - append logs to file each second"
   ]
  },
  {
   "cell_type": "code",
   "execution_count": null,
   "id": "169c5d36-daa5-4369-88be-418f6e85df14",
   "metadata": {
    "jupyter": {
     "source_hidden": true
    }
   },
   "outputs": [],
   "source": [
    "# Solution:\n",
    "\n",
    "import psutil\n",
    "import json\n",
    "import time\n",
    "\n",
    "try:\n",
    "    while True:\n",
    "        data = {\n",
    "            \"cpu\": psutil.cpu_percent(interval=1),\n",
    "            \"memory\": psutil.virtual_memory().percent,\n",
    "            \"disk\": psutil.disk_usage('/').percent\n",
    "        }\n",
    "        with open(\"system_log.jsonl\", \"a\") as f:\n",
    "            f.write(json.dumps(data) + \"\\n\")\n",
    "        time.sleep(1)\n",
    "except KeyboardInterrupt:\n",
    "    print(\"Logging stopped.\")"
   ]
  },
  {
   "cell_type": "markdown",
   "id": "f5053026-814a-4f2d-8432-1ede244b09b1",
   "metadata": {},
   "source": [
    "---"
   ]
  },
  {
   "cell_type": "markdown",
   "id": "ade5f652-d0c3-4256-be7f-890b1f4d347b",
   "metadata": {},
   "source": [
    "## Using `matplotlib` Basics\n",
    "\n",
    "`matplotlib.pyplot` is the most commonly used module for plotting in Python. It provides a simple interface for creating a wide range of static, animated, and interactive visualizations.\n",
    "\n",
    "To get started with a simple line chart:\n",
    "\n",
    "```python\n",
    "import matplotlib.pyplot as plt\n",
    "\n",
    "x = [0, 1, 2, 3]\n",
    "y = [0, 1, 4, 9]\n",
    "\n",
    "plt.plot(x, y)\n",
    "plt.title(\"Basic Line Plot\")\n",
    "plt.xlabel(\"X-axis\")\n",
    "plt.ylabel(\"Y-axis\")\n",
    "plt.show()\n",
    "```\n",
    "\n",
    "- `plt.plot()` draws a line between data points.\n",
    "- `plt.title()`, `plt.xlabel()`, and `plt.ylabel()` add labels to the plot.\n",
    "- `plt.show()` displays the plot.\n",
    "\n",
    "The default backend on Windows will render a popup window, but this also works in Jupyter notebooks (you may add `%matplotlib inline` to render inline)."
   ]
  },
  {
   "cell_type": "markdown",
   "id": "f310ee5f-476e-41b8-9fb0-55c3966692b7",
   "metadata": {},
   "source": [
    "### Exercise: Basic Line Plot of Cubes\n",
    "Plot the cube values of numbers from 0 to 4. Label the axes and add a title \"Cubic Values\"."
   ]
  },
  {
   "cell_type": "code",
   "execution_count": null,
   "id": "32017c67-fef0-488e-b389-ad8b18ef70de",
   "metadata": {},
   "outputs": [],
   "source": [
    "import matplotlib.pyplot as plt\n",
    "\n",
    "x = list(range(5))\n",
    "y = [i ** 3 for i in x]\n",
    "\n",
    "# Use plt.plot(), plt.title(), etc.\n",
    "# Display the plot using plt.show()"
   ]
  },
  {
   "cell_type": "code",
   "execution_count": null,
   "id": "ae952a10-aeb2-4d9d-b2bd-9927e728d97a",
   "metadata": {
    "jupyter": {
     "source_hidden": true
    }
   },
   "outputs": [],
   "source": [
    "# Solution:\n",
    "\n",
    "import matplotlib.pyplot as plt\n",
    "\n",
    "x = list(range(5))\n",
    "y = [i ** 3 for i in x]\n",
    "\n",
    "plt.plot(x, y)\n",
    "plt.title(\"Cubic Values\")\n",
    "plt.xlabel(\"X-axis\")\n",
    "plt.ylabel(\"Y-axis\")\n",
    "plt.show()"
   ]
  },
  {
   "cell_type": "markdown",
   "id": "10377a2e-dea6-481f-a72a-d383ab5f917b",
   "metadata": {},
   "source": [
    "## Creating Charts with Multiple Lines and a Legend\n",
    "\n",
    "You can plot multiple lines by calling `plt.plot()` multiple times before `plt.show()`. Use `label=` to create a legend.\n",
    "\n",
    "```python\n",
    "x = [0, 1, 2, 3, 4]\n",
    "y1 = [i for i in x]\n",
    "y2 = [i**2 for i in x]\n",
    "\n",
    "plt.plot(x, y1, label=\"Linear\")\n",
    "plt.plot(x, y2, label=\"Quadratic\")\n",
    "plt.title(\"Multiple Lines\")\n",
    "plt.xlabel(\"X\")\n",
    "plt.ylabel(\"Y\")\n",
    "plt.legend()\n",
    "plt.show()\n",
    "```\n",
    "\n",
    "- `plt.legend()` displays the legend based on the `label=` parameter in `plt.plot()`."
   ]
  },
  {
   "cell_type": "markdown",
   "id": "a52a537d-5f14-4dc3-90b4-610d9889bb89",
   "metadata": {},
   "source": [
    "### Exercise: Multiple Trigonometric Lines\n",
    "Plot two lines: `sin(x)` and `cos(x)` for x values from 0 to 2π (use 100 points). Add appropriate labels and a legend."
   ]
  },
  {
   "cell_type": "code",
   "execution_count": null,
   "id": "937ed791-5f54-4f0d-99de-e7917d98f387",
   "metadata": {},
   "outputs": [],
   "source": [
    "import matplotlib.pyplot as plt\n",
    "import numpy as np\n",
    "\n",
    "x = np.linspace(0, 2 * np.pi, 100)\n",
    "y1 = np.sin(x)\n",
    "y2 = np.cos(x)\n",
    "\n",
    "# Plot both lines and add a legend\n",
    "# Use plt.legend() and plt.show()"
   ]
  },
  {
   "cell_type": "code",
   "execution_count": null,
   "id": "cf386c21-6e83-4e20-b8b0-e7cfd5dfb7fd",
   "metadata": {
    "jupyter": {
     "source_hidden": true
    }
   },
   "outputs": [],
   "source": [
    "# Solution:\n",
    "\n",
    "import matplotlib.pyplot as plt\n",
    "import numpy as np\n",
    "\n",
    "x = np.linspace(0, 2 * np.pi, 100)\n",
    "y1 = np.sin(x)\n",
    "y2 = np.cos(x)\n",
    "\n",
    "plt.plot(x, y1, label=\"sin(x)\")\n",
    "plt.plot(x, y2, label=\"cos(x)\")\n",
    "plt.title(\"Sine and Cosine\")\n",
    "plt.xlabel(\"x\")\n",
    "plt.ylabel(\"y\")\n",
    "plt.legend()\n",
    "plt.show()"
   ]
  },
  {
   "cell_type": "markdown",
   "id": "c3205e1f-feac-4c77-908b-36a9e17db168",
   "metadata": {},
   "source": [
    "## Creating Subplots\n",
    "\n",
    "To create multiple plots in the same figure, use `plt.subplot(nrows, ncols, index)`.\n",
    "\n",
    "```python\n",
    "x = [0, 1, 2, 3, 4]\n",
    "y1 = [i for i in x]\n",
    "y2 = [i**2 for i in x]\n",
    "\n",
    "plt.subplot(1, 2, 1)  # 1 row, 2 columns, 1st plot\n",
    "plt.plot(x, y1)\n",
    "plt.title(\"Linear\")\n",
    "\n",
    "plt.subplot(1, 2, 2)  # 1 row, 2 columns, 2nd plot\n",
    "plt.plot(x, y2)\n",
    "plt.title(\"Quadratic\")\n",
    "\n",
    "plt.tight_layout()\n",
    "plt.show()\n",
    "```\n",
    "\n",
    "- `tight_layout()` adjusts spacing to prevent overlap."
   ]
  },
  {
   "cell_type": "markdown",
   "id": "bb6dbad2-a873-4c34-8472-c3f7a6ad37aa",
   "metadata": {},
   "source": [
    "### Exercise: Subplots of Linear and Cubic\n",
    "Create a figure with 2 rows and 1 column. Plot a linear function in the top subplot and a cubic function in the bottom one."
   ]
  },
  {
   "cell_type": "code",
   "execution_count": null,
   "id": "ec210903-34bd-4eb8-990f-5916eca217a8",
   "metadata": {},
   "outputs": [],
   "source": [
    "import matplotlib.pyplot as plt\n",
    "\n",
    "x = list(range(5))\n",
    "y1 = [i for i in x]\n",
    "y2 = [i**3 for i in x]\n",
    "\n",
    "# Use plt.subplot() to create two subplots (2 rows, 1 column)\n",
    "# Don't forget plt.tight_layout()"
   ]
  },
  {
   "cell_type": "code",
   "execution_count": null,
   "id": "672494c4-9b62-4f2f-9cec-66a35aac5549",
   "metadata": {
    "jupyter": {
     "source_hidden": true
    }
   },
   "outputs": [],
   "source": [
    "# Solution:\n",
    "\n",
    "import matplotlib.pyplot as plt\n",
    "\n",
    "x = list(range(5))\n",
    "y1 = [i for i in x]\n",
    "y2 = [i**3 for i in x]\n",
    "\n",
    "plt.subplot(2, 1, 1)\n",
    "plt.plot(x, y1)\n",
    "plt.title(\"Linear\")\n",
    "\n",
    "plt.subplot(2, 1, 2)\n",
    "plt.plot(x, y2)\n",
    "plt.title(\"Cubic\")\n",
    "\n",
    "plt.tight_layout()\n",
    "plt.show()"
   ]
  },
  {
   "cell_type": "markdown",
   "id": "22b61c8c-06ed-404d-89fe-dbf974d1f181",
   "metadata": {},
   "source": [
    "## Saving Charts as PNG Files\n",
    "\n",
    "To save a plot as an image file, use `plt.savefig(\"filename.png\")` before `plt.show()`.\n",
    "\n",
    "```python\n",
    "x = [0, 1, 2, 3, 4]\n",
    "y = [i**2 for i in x]\n",
    "\n",
    "plt.plot(x, y)\n",
    "plt.title(\"Save Example\")\n",
    "plt.savefig(\"my_plot.png\")  # Saves in current directory\n",
    "plt.show()\n",
    "```\n",
    "\n",
    "- On Windows, files are saved relative to your script or notebook directory.\n",
    "- You can use full paths like `\"C:\\\\Users\\\\YourName\\\\Documents\\\\plot.png\"` or use `os.path.join()` for cross-platform code."
   ]
  },
  {
   "cell_type": "markdown",
   "id": "04493308-fdab-4e01-8a80-403dfc91b879",
   "metadata": {},
   "source": [
    "### Exercise: Save Trig Plot\n",
    "Plot `sin(x)` from 0 to 2π (100 points), add a title, and save it as \"sine_plot.png\". Then display the plot."
   ]
  },
  {
   "cell_type": "code",
   "execution_count": null,
   "id": "8ef26c77-ef27-414b-8e76-6ca51d414f8f",
   "metadata": {},
   "outputs": [],
   "source": [
    "import matplotlib.pyplot as plt\n",
    "import numpy as np\n",
    "\n",
    "x = np.linspace(0, 2 * np.pi, 100)\n",
    "y = np.sin(x)\n",
    "\n",
    "# Save the plot before calling plt.show()\n",
    "# Use plt.savefig(\"sine_plot.png\")"
   ]
  },
  {
   "cell_type": "code",
   "execution_count": null,
   "id": "d2e86f51-cb77-432f-a83b-85355be32f7a",
   "metadata": {
    "jupyter": {
     "source_hidden": true
    }
   },
   "outputs": [],
   "source": [
    "# Solution:\n",
    "\n",
    "import matplotlib.pyplot as plt\n",
    "import numpy as np\n",
    "\n",
    "x = np.linspace(0, 2 * np.pi, 100)\n",
    "y = np.sin(x)\n",
    "\n",
    "plt.plot(x, y)\n",
    "plt.title(\"Sine Function\")\n",
    "plt.savefig(\"sine_plot.png\")\n",
    "plt.show()"
   ]
  },
  {
   "cell_type": "markdown",
   "id": "9d589040-c882-4cfc-8447-47e0663eda3a",
   "metadata": {},
   "source": [
    "---"
   ]
  },
  {
   "cell_type": "markdown",
   "id": "520d751c-28e8-43f3-9b54-4663b9d32d4d",
   "metadata": {},
   "source": [
    "# Advanced Flask System Monitor Exercise\n",
    "\n",
    "This notebook contains a complete advanced exercise integrating:\n",
    "\n",
    "- Flask app with login/register\n",
    "- SQLAlchemy + SQLite user management\n",
    "- `hashlib` for password hashing\n",
    "- `flask-login` for session management\n",
    "- Background system monitoring using `shutil`, `psutil`, and `threading`\n",
    "- JSONL logging and `matplotlib` plotting\n",
    "- Protected endpoint serving a live resource usage chart\n",
    "\n",
    "---\n",
    "\n",
    "## Install Requirements\n",
    "\n",
    "Run the following in your terminal to install dependencies:\n",
    "\n",
    "```bash\n",
    "pip install flask flask-login flask_sqlalchemy matplotlib psutil\n",
    "```\n"
   ]
  },
  {
   "cell_type": "markdown",
   "id": "ba0fd84e-645c-4b17-a40b-c10cf99db33f",
   "metadata": {},
   "source": [
    "Flask is a micro web framework used to build web applications in Python. `Flask-Login` simplifies user session management. For persistent storage, SQLAlchemy and SQLite provide ORM and database support.\n",
    "\n",
    "To hash passwords securely, use `hashlib.sha256`. For example:\n",
    "\n",
    "```python\n",
    "import hashlib\n",
    "hashed_pw = hashlib.sha256(\"mypassword\".encode()).hexdigest()\n",
    "```\n",
    "\n",
    "To define models with SQLAlchemy:\n",
    "\n",
    "```python\n",
    "from flask_sqlalchemy import SQLAlchemy\n",
    "db = SQLAlchemy()\n",
    "\n",
    "class User(db.Model):\n",
    "    id = db.Column(db.Integer, primary_key=True)\n",
    "    username = db.Column(db.String(80), unique=True, nullable=False)\n",
    "    password_hash = db.Column(db.String(120), nullable=False)\n",
    "```\n",
    "\n",
    "Flask-Login requires a `UserMixin` class and a user loader:\n",
    "\n",
    "```python\n",
    "from flask_login import LoginManager, UserMixin\n",
    "\n",
    "login_manager = LoginManager()\n",
    "\n",
    "class User(UserMixin, db.Model):\n",
    "    # ... your fields ...\n",
    "\n",
    "@login_manager.user_loader\n",
    "def load_user(user_id):\n",
    "    return User.query.get(int(user_id))\n",
    "```\n",
    "\n",
    "To record system stats in a thread using `shutil` and `psutil`:\n",
    "\n",
    "```python\n",
    "import shutil, psutil, json, time, threading\n",
    "\n",
    "def record_usage():\n",
    "    while True:\n",
    "        with open(\"usage.jsonl\", \"a\") as f:\n",
    "            json.dump({\n",
    "                \"disk\": shutil.disk_usage(\"/\").used,\n",
    "                \"cpu\": psutil.cpu_percent(),\n",
    "                \"mem\": psutil.virtual_memory().used\n",
    "            }, f)\n",
    "            f.write(\"\\n\")\n",
    "        time.sleep(1)\n",
    "\n",
    "threading.Thread(target=record_usage, daemon=True).start()\n",
    "```\n",
    "\n",
    "Finally, use `matplotlib` to read and plot the usage from the JSONL file:\n",
    "\n",
    "```python\n",
    "import matplotlib.pyplot as plt\n",
    "import json\n",
    "\n",
    "with open(\"usage.jsonl\") as f:\n",
    "    data = [json.loads(line) for line in f]\n",
    "\n",
    "cpu_vals = [d[\"cpu\"] for d in data]\n",
    "plt.plot(cpu_vals)\n",
    "plt.savefig(\"static/plot.png\")"
   ]
  },
  {
   "cell_type": "markdown",
   "id": "27bb7b5b-5c0d-4832-8264-eabe8e5a5db6",
   "metadata": {},
   "source": [
    "### Exercise: Secure System Monitor with Login Access\n",
    "Build a secure Flask application that includes:\n",
    "- A `/register` route to register a new user, hashing the password with `hashlib`.\n",
    "- A `/login` route to authenticate users using `flask-login`.\n",
    "- A background thread that saves disk, CPU, and memory usage every second to `usage.jsonl`.\n",
    "- A `/usage` route that:\n",
    "  - Plots the JSONL contents using `matplotlib`.\n",
    "  - Saves the plot to a static file.\n",
    "  - Returns the image using `send_file`.\n",
    "  - Is protected so that only logged-in users can access it.\n",
    "\n",
    "**Constraints:**\n",
    "- Use Flask, Flask-Login, SQLAlchemy (with SQLite), and hashlib.\n",
    "- The system stats thread must run continuously in the background.\n",
    "- The JSONL file must grow over time, not be overwritten.\n",
    "- Show a line plot of CPU usage for at least the last 60 seconds.\n",
    "\n",
    "Optional bonus: Create a logout route and restrict access to `/usage` until login."
   ]
  },
  {
   "cell_type": "code",
   "execution_count": null,
   "id": "7b997923-2615-4f9e-a8f3-b0b5065ae800",
   "metadata": {},
   "outputs": [],
   "source": [
    "# Hints:\n",
    "# - Define the User model with SQLAlchemy, extending UserMixin.\n",
    "# - Use `hashlib.sha256` to hash passwords before storing.\n",
    "# - Use flask-login's `login_user()` and `login_required`.\n",
    "# - Use `threading.Thread(..., daemon=True).start()` to run the monitor.\n",
    "# - Use matplotlib to generate and save the plot.\n",
    "# - Use Flask's `send_file()` to serve the image.\n",
    "# - For continuous logging, consider using `time.sleep(1)` and opening the file in append mode."
   ]
  },
  {
   "cell_type": "code",
   "execution_count": null,
   "id": "bfcde868-7626-4791-baf4-ef8ba2afc516",
   "metadata": {
    "jupyter": {
     "source_hidden": true
    }
   },
   "outputs": [],
   "source": [
    "# Solution:\n",
    "\n",
    "from flask import Flask, request, redirect, url_for, render_template_string, send_file\n",
    "from flask_sqlalchemy import SQLAlchemy\n",
    "from flask_login import LoginManager, login_user, login_required, logout_user, current_user, UserMixin\n",
    "import hashlib, threading, time, json, shutil, psutil, os\n",
    "import matplotlib.pyplot as plt\n",
    "\n",
    "app = Flask(__name__)\n",
    "app.secret_key = 'supersecret'\n",
    "app.config['SQLALCHEMY_DATABASE_URI'] = 'sqlite:///users.db'\n",
    "db = SQLAlchemy(app)\n",
    "\n",
    "login_manager = LoginManager(app)\n",
    "\n",
    "class User(UserMixin, db.Model):\n",
    "    id = db.Column(db.Integer, primary_key=True)\n",
    "    username = db.Column(db.String(80), unique=True)\n",
    "    password_hash = db.Column(db.String(128))\n",
    "\n",
    "db.create_all()\n",
    "\n",
    "@login_manager.user_loader\n",
    "def load_user(user_id):\n",
    "    return User.query.get(int(user_id))\n",
    "\n",
    "@app.route('/register', methods=['GET', 'POST'])\n",
    "def register():\n",
    "    if request.method == 'POST':\n",
    "        username = request.form['username']\n",
    "        password = hashlib.sha256(request.form['password'].encode()).hexdigest()\n",
    "        if not User.query.filter_by(username=username).first():\n",
    "            db.session.add(User(username=username, password_hash=password))\n",
    "            db.session.commit()\n",
    "            return redirect(url_for('login'))\n",
    "    return render_template_string('''<form method=\"post\">\n",
    "        Username: <input name=\"username\"><br>\n",
    "        Password: <input name=\"password\" type=\"password\"><br>\n",
    "        <input type=\"submit\">\n",
    "    </form>''')\n",
    "\n",
    "@app.route('/login', methods=['GET', 'POST'])\n",
    "def login():\n",
    "    if request.method == 'POST':\n",
    "        user = User.query.filter_by(username=request.form['username']).first()\n",
    "        pw_hash = hashlib.sha256(request.form['password'].encode()).hexdigest()\n",
    "        if user and user.password_hash == pw_hash:\n",
    "            login_user(user)\n",
    "            return redirect(url_for('usage'))\n",
    "    return render_template_string('''<form method=\"post\">\n",
    "        Username: <input name=\"username\"><br>\n",
    "        Password: <input name=\"password\" type=\"password\"><br>\n",
    "        <input type=\"submit\">\n",
    "    </form>''')\n",
    "\n",
    "@app.route('/logout')\n",
    "@login_required\n",
    "def logout():\n",
    "    logout_user()\n",
    "    return redirect(url_for('login'))\n",
    "\n",
    "@app.route('/usage')\n",
    "@login_required\n",
    "def usage():\n",
    "    with open(\"usage.jsonl\") as f:\n",
    "        lines = [json.loads(line) for line in f.readlines()[-60:]]\n",
    "    cpu_vals = [entry[\"cpu\"] for entry in lines]\n",
    "    plt.figure()\n",
    "    plt.plot(cpu_vals)\n",
    "    plt.title(\"CPU Usage (last 60s)\")\n",
    "    plt.ylabel(\"%\")\n",
    "    plt.xlabel(\"Seconds ago\")\n",
    "    plot_path = \"static/plot.png\"\n",
    "    plt.savefig(plot_path)\n",
    "    plt.close()\n",
    "    return send_file(plot_path, mimetype='image/png')\n",
    "\n",
    "def monitor_usage():\n",
    "    while True:\n",
    "        usage = {\n",
    "            \"disk\": shutil.disk_usage(\"/\").used,\n",
    "            \"cpu\": psutil.cpu_percent(),\n",
    "            \"mem\": psutil.virtual_memory().used\n",
    "        }\n",
    "        with open(\"usage.jsonl\", \"a\") as f:\n",
    "            f.write(json.dumps(usage) + \"\\n\")\n",
    "        time.sleep(1)\n",
    "\n",
    "if not os.path.exists(\"usage.jsonl\"):\n",
    "    open(\"usage.jsonl\", \"w\").close()\n",
    "\n",
    "threading.Thread(target=monitor_usage, daemon=True).start()\n",
    "\n",
    "if __name__ == '__main__':\n",
    "    app.run(debug=True)"
   ]
  },
  {
   "cell_type": "markdown",
   "id": "1ea2b351-c01b-4d36-8d7a-47c39c93234b",
   "metadata": {},
   "source": [
    "---"
   ]
  },
  {
   "cell_type": "code",
   "execution_count": null,
   "id": "7ea540d5-d17d-48ba-b898-6b22c1a5f763",
   "metadata": {},
   "outputs": [],
   "source": []
  },
  {
   "cell_type": "markdown",
   "id": "9e74b65c-927c-43e7-9c90-504e2658bba5",
   "metadata": {},
   "source": [
    "# Python Course: MicroPython, Executables, and Tkinter (Cross-Platform)\n",
    "\n",
    "## MicroPython Hardware Recommendations\n",
    "\n",
    "To use MicroPython effectively, you need a compatible microcontroller board. Here are some beginner-friendly and widely supported options:\n",
    "\n",
    "### Recommended Boards:\n",
    "- **ESP8266** (e.g., NodeMCU): Cheap and great for basic IoT projects.\n",
    "- **ESP32**: More powerful, with built-in Bluetooth, dual cores, and more I/O.\n",
    "- **Raspberry Pi Pico**: Based on the RP2040 chip, also officially supports MicroPython.\n",
    "- **Pyboard**: Official MicroPython board, best for full compatibility.\n",
    "\n",
    "### Basic Accessories:\n",
    "- Micro USB or USB-C cable (depending on board)\n",
    "- Breadboard and jumper wires\n",
    "- LEDs, resistors (e.g., 220Ω), buttons for practice circuits\n",
    "\n",
    "Make sure to install a serial driver if your board needs one (e.g., CP210x or CH340).\n"
   ]
  },
  {
   "cell_type": "markdown",
   "id": "a0df7141-6d5a-4abc-a340-788d79d981d9",
   "metadata": {},
   "source": [
    "MicroPython is a lean implementation of Python 3 designed to run on microcontrollers like the ESP8266, ESP32, and others. It supports a subset of the standard Python library and is ideal for embedded projects.\n",
    "\n",
    "To interact with a board:\n",
    "- Install `mpremote`: `pip install mpremote`\n",
    "- Connect: `mpremote connect COM3` (replace `COM3` with the actual port)\n",
    "- Run a script: `mpremote run your_script.py`\n",
    "\n",
    "Example:\n",
    "\n",
    "```python\n",
    "# This toggles an onboard LED on a microcontroller:\n",
    "import machine\n",
    "import time\n",
    "\n",
    "led = machine.Pin(2, machine.Pin.OUT)  # GPIO2 is often used for onboard LEDs\n",
    "\n",
    "while True:\n",
    "    led.toggle()\n",
    "    time.sleep(0.5)\n",
    "```\n",
    "\n",
    "Avoid infinite loops in your main script unless you're deploying — for testing, it's better to control duration or loop count."
   ]
  },
  {
   "cell_type": "markdown",
   "id": "b94d198f-4ed8-44da-98a6-05357213cbe6",
   "metadata": {},
   "source": [
    "### Exercise: Blink Two LEDs Alternately\n",
    "Write a MicroPython script that blinks two LEDs on GPIO5 and GPIO4 alternately every 300 milliseconds.\n"
   ]
  },
  {
   "cell_type": "code",
   "execution_count": null,
   "id": "779f0cce-fcb5-43dd-8050-e921fd1828a8",
   "metadata": {},
   "outputs": [],
   "source": [
    "# Use the `machine.Pin` class to set up both GPIO pins as output.\n",
    "# Use a loop and `time.sleep_ms` for the blinking interval.\n",
    "# Toggle one pin on and the other off in each loop iteration.\n"
   ]
  },
  {
   "cell_type": "code",
   "execution_count": null,
   "id": "15431108-624c-43c8-aebb-7d2e49adf9dd",
   "metadata": {
    "jupyter": {
     "source_hidden": true
    }
   },
   "outputs": [],
   "source": [
    "# Solution:\n",
    "\n",
    "import machine\n",
    "import time\n",
    "\n",
    "led1 = machine.Pin(5, machine.Pin.OUT)\n",
    "led2 = machine.Pin(4, machine.Pin.OUT)\n",
    "\n",
    "while True:\n",
    "    led1.on()\n",
    "    led2.off()\n",
    "    time.sleep_ms(300)\n",
    "    led1.off()\n",
    "    led2.on()\n",
    "    time.sleep_ms(300)\n"
   ]
  },
  {
   "cell_type": "markdown",
   "id": "f02c046f-20f3-4ddf-a0e9-03fb1ae5f689",
   "metadata": {},
   "source": [
    "# PyInstaller\n",
    "\n",
    "To distribute your Python apps on Windows, you can bundle them into `.exe` files using `pyinstaller`.\n",
    "\n",
    "Installation:\n",
    "```\n",
    "pip install pyinstaller\n",
    "```\n",
    "\n",
    "Usage:\n",
    "```\n",
    "pyinstaller your_script.py\n",
    "```\n",
    "\n",
    "Useful options:\n",
    "- `--onefile`: bundle everything into one executable\n",
    "- `--noconsole`: no terminal window (for GUI apps)\n",
    "- `--icon=myicon.ico`: include a custom icon\n",
    "\n",
    "Example:\n",
    "```bash\n",
    "pyinstaller --onefile --noconsole --icon=app.ico my_gui_app.py\n",
    "```\n",
    "\n",
    "After running, check the `dist/` folder for the `.exe` file."
   ]
  },
  {
   "cell_type": "markdown",
   "id": "08fd78d8-d5a5-4012-8a84-7483315bf1dd",
   "metadata": {},
   "source": [
    "### Exercise: Package a Console Script\n",
    "Create a simple Python script that asks the user for their name and prints a greeting. Then package it into a `.exe` using `pyinstaller` with the `--onefile` flag.\n"
   ]
  },
  {
   "cell_type": "code",
   "execution_count": null,
   "id": "9ecc9004-604d-4116-bed7-0b85b0fe9743",
   "metadata": {},
   "outputs": [],
   "source": [
    "# Write a script using `input()` and `print()`.\n",
    "# Run `pyinstaller` from the command line (you can add notes here on that).\n",
    "# Ensure the script works correctly before packaging.\n"
   ]
  },
  {
   "cell_type": "code",
   "execution_count": null,
   "id": "d4f5dd84-b311-423c-9719-9db320aa44fe",
   "metadata": {
    "jupyter": {
     "source_hidden": true
    }
   },
   "outputs": [],
   "source": [
    "# Solution:\n",
    "\n",
    "name = input(\"What is your name? \")\n",
    "print(f\"Hello, {name}!\")\n"
   ]
  },
  {
   "cell_type": "markdown",
   "id": "94a9bb7b-217f-498c-81a7-5895eab43edb",
   "metadata": {},
   "source": [
    "# Tkinter\n",
    "\n",
    "Tkinter is the built-in GUI toolkit in Python. It's cross-platform and great for quick GUI apps.\n",
    "\n",
    "Example:\n",
    "\n",
    "```python\n",
    "import tkinter as tk\n",
    "\n",
    "def say_hello():\n",
    "    label.config(text=\"Hello, World!\")\n",
    "\n",
    "root = tk.Tk()\n",
    "root.title(\"Demo App\")\n",
    "\n",
    "label = tk.Label(root, text=\"Click the button!\")\n",
    "label.pack()\n",
    "\n",
    "button = tk.Button(root, text=\"Greet\", command=say_hello)\n",
    "button.pack()\n",
    "\n",
    "root.mainloop()\n",
    "```\n",
    "\n",
    "The `command` argument lets you bind a function to a button click. Use `Label`, `Button`, and other widgets to build your interface."
   ]
  },
  {
   "cell_type": "markdown",
   "id": "187679bf-96ac-4b98-91a1-818dabc30394",
   "metadata": {},
   "source": [
    "### Exercise: Entry and Greeting App\n",
    "Create a GUI with an Entry field and a Button. When the Button is clicked, the app should display a personalized greeting using the text from the Entry widget.\n"
   ]
  },
  {
   "cell_type": "code",
   "execution_count": null,
   "id": "8c7131f0-a055-43c1-8bca-b83e09fd9e72",
   "metadata": {},
   "outputs": [],
   "source": [
    "# Use `tk.Entry` for input and `tk.Label` to show the greeting.\n",
    "# Bind a function to the button using the `command=` argument.\n",
    "# You can use `.get()` on the Entry widget to get the user input.\n"
   ]
  },
  {
   "cell_type": "code",
   "execution_count": null,
   "id": "5ccc3574-6f3b-4aa3-a206-02f6e52c0962",
   "metadata": {
    "jupyter": {
     "source_hidden": true
    }
   },
   "outputs": [],
   "source": [
    "# Solution:\n",
    "\n",
    "import tkinter as tk\n",
    "\n",
    "def greet():\n",
    "    name = entry.get()\n",
    "    label.config(text=f\"Hello, {name}!\")\n",
    "\n",
    "root = tk.Tk()\n",
    "root.title(\"Greeting App\")\n",
    "\n",
    "entry = tk.Entry(root)\n",
    "entry.pack()\n",
    "\n",
    "button = tk.Button(root, text=\"Greet\", command=greet)\n",
    "button.pack()\n",
    "\n",
    "label = tk.Label(root, text=\"\")\n",
    "label.pack()\n",
    "\n",
    "root.mainloop()\n"
   ]
  }
 ],
 "metadata": {
  "kernelspec": {
   "display_name": "Python 3 (ipykernel)",
   "language": "python",
   "name": "python3"
  },
  "language_info": {
   "codemirror_mode": {
    "name": "ipython",
    "version": 3
   },
   "file_extension": ".py",
   "mimetype": "text/x-python",
   "name": "python",
   "nbconvert_exporter": "python",
   "pygments_lexer": "ipython3",
   "version": "3.12.9"
  }
 },
 "nbformat": 4,
 "nbformat_minor": 5
}
