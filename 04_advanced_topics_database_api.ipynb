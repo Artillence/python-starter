{
 "cells": [
  {
   "cell_type": "markdown",
   "id": "514e6272-f3f8-4333-8a66-67b52792e1e8",
   "metadata": {},
   "source": [
    "# List, Dict and Set Comprehensions\n",
    "\n",
    "Comprehensions are a concise way to create new collections from iterables.\n",
    "\n",
    "## List Comprehension"
   ]
  },
  {
   "cell_type": "code",
   "execution_count": 5,
   "id": "0e152139-65f6-49e9-a918-ed66f6e1c1ae",
   "metadata": {},
   "outputs": [
    {
     "name": "stdout",
     "output_type": "stream",
     "text": [
      "[1, 4, 9, 16, 25]\n"
     ]
    }
   ],
   "source": [
    "numbers = [1, 2, 3, 4, 5]\n",
    "squares = [x ** 2 for x in numbers]\n",
    "print(squares)"
   ]
  },
  {
   "cell_type": "markdown",
   "id": "396424fa-de59-4e18-996b-739c06a24511",
   "metadata": {},
   "source": [
    "### Exercise\n",
    "Create a list of even numbers from 1 to 20 using list comprehension."
   ]
  },
  {
   "cell_type": "code",
   "execution_count": null,
   "id": "cc8e0acb-b960-42c3-ade6-3b5a14abdc02",
   "metadata": {},
   "outputs": [],
   "source": []
  },
  {
   "cell_type": "code",
   "execution_count": null,
   "id": "36f07871-9cc0-4c0c-8990-2fcc6633aac9",
   "metadata": {},
   "outputs": [],
   "source": []
  },
  {
   "cell_type": "markdown",
   "id": "bb7d7b28-f84e-443d-8bd4-aaedd7367db1",
   "metadata": {},
   "source": [
    "## Dictionary Comprehension"
   ]
  },
  {
   "cell_type": "code",
   "execution_count": 2,
   "id": "29790db1-1d29-44a5-9f92-0e00b7966dc2",
   "metadata": {},
   "outputs": [
    {
     "name": "stdout",
     "output_type": "stream",
     "text": [
      "{'Anna': 4, 'Ben': 3, 'Cara': 4}\n"
     ]
    }
   ],
   "source": [
    "names = [\"Anna\", \"Ben\", \"Cara\"]\n",
    "lengths = {name: len(name) for name in names}\n",
    "print(lengths)"
   ]
  },
  {
   "cell_type": "markdown",
   "id": "746e2c73-4a97-48b3-8b50-0ae93522129f",
   "metadata": {},
   "source": [
    "### Exercise\n",
    "Create a dictionary of numbers from 1 to 5 and their cubes."
   ]
  },
  {
   "cell_type": "code",
   "execution_count": null,
   "id": "77da3a44-eb19-4ff6-8a95-cb102a4ea773",
   "metadata": {},
   "outputs": [],
   "source": []
  },
  {
   "cell_type": "code",
   "execution_count": null,
   "id": "5c59a635-8851-4807-8f61-70d51739e484",
   "metadata": {},
   "outputs": [],
   "source": []
  },
  {
   "cell_type": "markdown",
   "id": "26fa71d0-dee5-4c7d-abea-3fab077cf42f",
   "metadata": {},
   "source": [
    "## Set Comprehension"
   ]
  },
  {
   "cell_type": "code",
   "execution_count": 6,
   "id": "d0432c3a-26b4-4e6a-813e-81a190710ad8",
   "metadata": {},
   "outputs": [
    {
     "name": "stdout",
     "output_type": "stream",
     "text": [
      "{5, 6}\n"
     ]
    }
   ],
   "source": [
    "words = [\"apple\", \"banana\", \"apple\"]\n",
    "unique_lengths = {len(word) for word in words}\n",
    "print(unique_lengths)"
   ]
  },
  {
   "cell_type": "markdown",
   "id": "34cc03d8-f1f3-463a-ad05-0f2ef7e64b2d",
   "metadata": {},
   "source": [
    "# Generators: Lazy Iteration with `yield`\n",
    "\n",
    "Generators allow you to produce values one at a time, saving memory.\n",
    "\n",
    "## Simple Generator Example"
   ]
  },
  {
   "cell_type": "code",
   "execution_count": 7,
   "id": "179cdec0-468a-458c-a949-f3006f371491",
   "metadata": {},
   "outputs": [
    {
     "name": "stdout",
     "output_type": "stream",
     "text": [
      "1\n",
      "2\n",
      "3\n",
      "4\n",
      "5\n"
     ]
    }
   ],
   "source": [
    "def count_up_to(n):\n",
    "    i = 1\n",
    "    while i <= n:\n",
    "        yield i\n",
    "        i += 1\n",
    "\n",
    "for number in count_up_to(5):\n",
    "    print(number)\n"
   ]
  },
  {
   "cell_type": "markdown",
   "id": "cec8b029-d791-4abe-8467-5b580e1d3a4d",
   "metadata": {},
   "source": [
    "### Exercise\n",
    "Write a generator that yields even numbers up to a limit. Compare it with a list-based version in terms of memory (sys.getsizeof())."
   ]
  },
  {
   "cell_type": "code",
   "execution_count": null,
   "id": "03e15c26-b4c2-4bbc-82c2-0e3f22056c34",
   "metadata": {},
   "outputs": [],
   "source": []
  },
  {
   "cell_type": "code",
   "execution_count": null,
   "id": "d10f4328-1d76-44e1-aa84-eea89429e2d0",
   "metadata": {},
   "outputs": [],
   "source": []
  },
  {
   "cell_type": "markdown",
   "id": "70861f54-3d1c-4f5c-9a3b-4f287443b7a9",
   "metadata": {},
   "source": [
    "---\n",
    "\n",
    "# Decorators: Reusable Function Wrappers\n",
    "\n",
    "A decorator is a function that takes another function and extends its behavior.\n",
    "\n",
    "## Example: Logging Decorator"
   ]
  },
  {
   "cell_type": "code",
   "execution_count": 8,
   "id": "db4538fc-c792-466d-9065-a637aed3644d",
   "metadata": {},
   "outputs": [
    {
     "name": "stdout",
     "output_type": "stream",
     "text": [
      "Calling add\n",
      "add returned 8\n"
     ]
    },
    {
     "data": {
      "text/plain": [
       "8"
      ]
     },
     "execution_count": 8,
     "metadata": {},
     "output_type": "execute_result"
    }
   ],
   "source": [
    "def log(func):\n",
    "    def wrapper(*args, **kwargs):\n",
    "        print(f\"Calling {func.__name__}\")\n",
    "        result = func(*args, **kwargs)\n",
    "        print(f\"{func.__name__} returned {result}\")\n",
    "        return result\n",
    "    return wrapper\n",
    "\n",
    "@log\n",
    "def add(a, b):\n",
    "    return a + b\n",
    "\n",
    "add(3, 5)"
   ]
  },
  {
   "cell_type": "markdown",
   "id": "75fe9577-3445-41b0-806a-1609ed808ca4",
   "metadata": {},
   "source": [
    "### Exercise\n",
    "\n",
    "- Write a decorator that measures the execution time of a function."
   ]
  },
  {
   "cell_type": "code",
   "execution_count": null,
   "id": "35c724cd-20d9-479a-81b5-c06eb17f5ad6",
   "metadata": {},
   "outputs": [],
   "source": []
  },
  {
   "cell_type": "code",
   "execution_count": null,
   "id": "8ab99ee3-b283-45f1-b478-3655587075ee",
   "metadata": {},
   "outputs": [],
   "source": []
  },
  {
   "cell_type": "markdown",
   "id": "6db01a8e-1d24-4bff-b6cb-6bf528614273",
   "metadata": {},
   "source": [
    "---\n",
    "\n",
    "# Working with SQLite in Python\n",
    "\n",
    "We'll use Python's built-in `sqlite3` module.\n",
    "\n",
    "## Step 1: Connect to a database (file or memory)"
   ]
  },
  {
   "cell_type": "code",
   "execution_count": null,
   "id": "92dada07-2e83-4e5b-92f2-8e1c11b6a124",
   "metadata": {},
   "outputs": [],
   "source": [
    "import sqlite3\n",
    "\n",
    "conn = sqlite3.connect(\"people.db\")  # or \":memory:\"\n",
    "cursor = conn.cursor()"
   ]
  },
  {
   "cell_type": "markdown",
   "id": "5212f3cf-a751-490a-8f63-3698bc5f74f7",
   "metadata": {},
   "source": [
    "## Step 2: Create a table"
   ]
  },
  {
   "cell_type": "code",
   "execution_count": null,
   "id": "6e38ba5b-7a91-4caf-9b31-fc5e0b008f7c",
   "metadata": {},
   "outputs": [],
   "source": [
    "cursor.execute(\"\"\"\n",
    "CREATE TABLE IF NOT EXISTS users (\n",
    "    id INTEGER PRIMARY KEY,\n",
    "    name TEXT,\n",
    "    age INTEGER\n",
    ")\n",
    "\"\"\")"
   ]
  },
  {
   "cell_type": "markdown",
   "id": "101b1045-4fdb-4af2-94d2-f6c26cd00a33",
   "metadata": {},
   "source": [
    "## Step 3: Insert and query data"
   ]
  },
  {
   "cell_type": "code",
   "execution_count": null,
   "id": "aa700491-7401-45c6-94a1-453cdd9c4ea9",
   "metadata": {},
   "outputs": [],
   "source": [
    "cursor.execute(\"INSERT INTO users (name, age) VALUES (?, ?)\", (\"Alice\", 30))\n",
    "conn.commit()\n",
    "\n",
    "cursor.execute(\"SELECT * FROM users\")\n",
    "for row in cursor.fetchall():\n",
    "    print(row)"
   ]
  },
  {
   "cell_type": "markdown",
   "id": "7f74b8f2-47fe-4086-9c6d-8c8d90b70576",
   "metadata": {},
   "source": [
    "### Exercise\n",
    "- Insert multiple users using a loop.\n",
    "- Query all users above a certain age.\n",
    "- Count how many users are in the table."
   ]
  },
  {
   "cell_type": "code",
   "execution_count": null,
   "id": "27fba228-6d76-4bb7-aa22-245067981cb3",
   "metadata": {},
   "outputs": [],
   "source": []
  }
 ],
 "metadata": {
  "kernelspec": {
   "display_name": "Python 3 (ipykernel)",
   "language": "python",
   "name": "python3"
  },
  "language_info": {
   "codemirror_mode": {
    "name": "ipython",
    "version": 3
   },
   "file_extension": ".py",
   "mimetype": "text/x-python",
   "name": "python",
   "nbconvert_exporter": "python",
   "pygments_lexer": "ipython3",
   "version": "3.12.9"
  }
 },
 "nbformat": 4,
 "nbformat_minor": 5
}
