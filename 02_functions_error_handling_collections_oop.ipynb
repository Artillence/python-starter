{
 "cells": [
  {
   "cell_type": "markdown",
   "id": "ea886bcc-515a-4ecf-b0a6-9a18b88da6c6",
   "metadata": {},
   "source": [
    "# Functions\n",
    "\n",
    "A **function** is a reusable block of code that performs a specific task.\n",
    "\n",
    "## Why use functions?\n",
    "- Organize code into logical sections\n",
    "- Avoid repetition\n",
    "- Make your code easier to test and reuse\n",
    "\n",
    "## Function Syntax:\n",
    "\n",
    "```python\n",
    "def function_name(parameters):\n",
    "    # code block\n",
    "    return result\n",
    "```"
   ]
  },
  {
   "cell_type": "code",
   "execution_count": 1,
   "id": "ca954691-23d0-43fc-868f-11b79ea7444d",
   "metadata": {},
   "outputs": [
    {
     "name": "stdout",
     "output_type": "stream",
     "text": [
      "Hello, Anna!\n"
     ]
    }
   ],
   "source": [
    "# Example: Greet the user\n",
    "def greet(name):\n",
    "    print(f\"Hello, {name}!\")\n",
    "\n",
    "greet(\"Anna\")"
   ]
  },
  {
   "cell_type": "markdown",
   "id": "9aa45e76-62dc-4e00-9c9a-5ad040a69a34",
   "metadata": {},
   "source": [
    "# Built-in Functions in Python\n",
    "\n",
    "Python comes with many **built-in functions** that you can use right away — no imports needed.\n",
    "\n",
    "Here are a few commonly used ones:\n",
    "\n",
    "- `print()` – displays output\n",
    "- `len()` – returns the number of elements in a sequence\n",
    "- `type()` – shows the data type of a value\n",
    "- `range()` – generates a sequence of numbers\n",
    "- `sum()` – returns the sum of all elements in an iterable\n",
    "\n",
    "[Python Built-in Functions](https://docs.python.org/3/library/functions.html)\n"
   ]
  },
  {
   "cell_type": "markdown",
   "id": "0c84c5e0-143f-4f40-8534-7474735922e4",
   "metadata": {},
   "source": [
    "### Exercise:\n",
    "\n",
    "Write a function that takes a number and returns its square."
   ]
  },
  {
   "cell_type": "code",
   "execution_count": null,
   "id": "ab053c57-01b8-494c-ba6f-7826b3ca8b12",
   "metadata": {},
   "outputs": [],
   "source": [
    "def # ...\n",
    "\n",
    "print(...)"
   ]
  },
  {
   "cell_type": "code",
   "execution_count": 3,
   "id": "d5cbf9fa-8dd9-4cdd-aa79-a3e602be6871",
   "metadata": {
    "jupyter": {
     "source_hidden": true
    }
   },
   "outputs": [
    {
     "name": "stdout",
     "output_type": "stream",
     "text": [
      "25\n"
     ]
    }
   ],
   "source": [
    "# Solution:\n",
    "\n",
    "def square(x):\n",
    "    return x * x\n",
    "\n",
    "print(square(5))\n"
   ]
  },
  {
   "cell_type": "markdown",
   "id": "62fa0862-faff-447e-9f42-cba286904509",
   "metadata": {},
   "source": [
    "# Default Parameters\n",
    "\n",
    "You can give default values to function parameters."
   ]
  },
  {
   "cell_type": "code",
   "execution_count": 5,
   "id": "a391ea5e-2203-463d-a189-5ab133efd3ff",
   "metadata": {},
   "outputs": [
    {
     "name": "stdout",
     "output_type": "stream",
     "text": [
      "Hello, friend!\n",
      "Hello, David!\n"
     ]
    }
   ],
   "source": [
    "def greet(name=\"friend\"):\n",
    "    print(f\"Hello, {name}!\")\n",
    "\n",
    "greet()            # Uses default\n",
    "greet(\"David\")     # Overrides default"
   ]
  },
  {
   "cell_type": "markdown",
   "id": "26e0ae33-590d-40b8-8424-a317181bfd48",
   "metadata": {},
   "source": [
    "## Anti-pattern: Mutable Default Parameters\n",
    "\n",
    "Using a **mutable object** (like a list or dict) as a default can lead to unexpected behavior."
   ]
  },
  {
   "cell_type": "code",
   "execution_count": 7,
   "id": "dd134c72-c467-4ee4-8a78-d9e56efbaaaf",
   "metadata": {},
   "outputs": [
    {
     "name": "stdout",
     "output_type": "stream",
     "text": [
      "[1]\n",
      "[1, 2]\n"
     ]
    }
   ],
   "source": [
    "def append_item(item, container=[]):\n",
    "    container.append(item)\n",
    "    return container\n",
    "\n",
    "print(append_item(1))  # [1]\n",
    "print(append_item(2))  # [1, 2] ← Not what you expect!"
   ]
  },
  {
   "cell_type": "markdown",
   "id": "047360f6-80e7-48db-b456-6d31b34bc6c8",
   "metadata": {},
   "source": [
    "**Correct way:**"
   ]
  },
  {
   "cell_type": "code",
   "execution_count": 9,
   "id": "a8f0cca5-ae85-4fbc-9ed4-386b86780a8b",
   "metadata": {},
   "outputs": [
    {
     "name": "stdout",
     "output_type": "stream",
     "text": [
      "[1]\n",
      "[2]\n"
     ]
    }
   ],
   "source": [
    "def append_item(item, container=None):\n",
    "    if container is None:\n",
    "        container = []\n",
    "    container.append(item)\n",
    "    return container\n",
    "\n",
    "print(append_item(1))  # [1]\n",
    "print(append_item(2))  # [2]"
   ]
  },
  {
   "cell_type": "markdown",
   "id": "1ccaced6-b2f6-4ad2-a316-e88981429692",
   "metadata": {},
   "source": [
    "# Lambda (Anonymous) Functions\n",
    "\n",
    "A **lambda function** is a short, throwaway function defined without a name.\n",
    "\n",
    "Syntax:\n",
    "```python\n",
    "lambda parameters: expression\n",
    "```"
   ]
  },
  {
   "cell_type": "code",
   "execution_count": 10,
   "id": "b5397e98-8da4-4e78-b0fb-cd2588ca8c4b",
   "metadata": {},
   "outputs": [
    {
     "name": "stdout",
     "output_type": "stream",
     "text": [
      "8\n",
      "[1, 4, 9, 16]\n"
     ]
    }
   ],
   "source": [
    "double = lambda x: x * 2\n",
    "print(double(4))  # 8\n",
    "\n",
    "# Used often with functions like map(), filter()\n",
    "numbers = [1, 2, 3, 4]\n",
    "squared = list(map(lambda x: x**2, numbers))\n",
    "print(squared)"
   ]
  },
  {
   "cell_type": "markdown",
   "id": "917e867a-1fec-4396-82fe-e3bb3876c85a",
   "metadata": {},
   "source": [
    "# Recursive Functions\n",
    "\n",
    "A **recursive function** is one that calls itself to solve smaller instances of a problem.\n",
    "\n",
    "Example: Factorial calculation"
   ]
  },
  {
   "cell_type": "code",
   "execution_count": 11,
   "id": "8cb0c112-1127-4106-b02f-9c5eaeeac7fb",
   "metadata": {},
   "outputs": [
    {
     "name": "stdout",
     "output_type": "stream",
     "text": [
      "120\n"
     ]
    }
   ],
   "source": [
    "def factorial(n):\n",
    "    if n == 0:\n",
    "        return 1\n",
    "    else:\n",
    "        return n * factorial(n - 1)\n",
    "\n",
    "print(factorial(5))  # 120"
   ]
  },
  {
   "cell_type": "markdown",
   "id": "269262e3-0123-4d2c-bb33-aacbea00c993",
   "metadata": {},
   "source": [
    "# Higher-Order Functions\n",
    "\n",
    "A function is **higher-order** if it takes another function as an argument or returns a function.\n",
    "\n",
    "Python has many built-in higher-order functions: `map()`, `filter()`, `sorted()`, etc.\n"
   ]
  },
  {
   "cell_type": "code",
   "execution_count": 12,
   "id": "b24ed872-9bf5-443d-b9b9-213c1c2b8c94",
   "metadata": {},
   "outputs": [
    {
     "name": "stdout",
     "output_type": "stream",
     "text": [
      "HELLO\n",
      "hello\n"
     ]
    }
   ],
   "source": [
    "def shout(text):\n",
    "    return text.upper()\n",
    "\n",
    "def whisper(text):\n",
    "    return text.lower()\n",
    "\n",
    "def speak(func, message):\n",
    "    return func(message)\n",
    "\n",
    "print(speak(shout, \"hello\"))\n",
    "print(speak(whisper, \"HELLO\"))"
   ]
  },
  {
   "cell_type": "markdown",
   "id": "520cb8b8-b626-4d80-ad6b-95148904bd01",
   "metadata": {},
   "source": [
    "# Pure vs. Impure Functions\n",
    "\n",
    "A **pure function**:\n",
    "- Depends only on its inputs\n",
    "- Produces no side effects (doesn't modify external state)\n",
    "\n",
    "An **impure function**:\n",
    "- May rely on or modify external variables\n",
    "- Can produce side effects (e.g., printing, file I/O)\n"
   ]
  },
  {
   "cell_type": "code",
   "execution_count": 15,
   "id": "cc8b6f3b-3f75-4f4d-9f66-91a2f0622ce9",
   "metadata": {},
   "outputs": [
    {
     "name": "stdout",
     "output_type": "stream",
     "text": [
      "7\n",
      "5\n",
      "10\n"
     ]
    }
   ],
   "source": [
    "# Pure function\n",
    "def add(a, b):\n",
    "    return a + b\n",
    "\n",
    "# Impure function\n",
    "total = 0\n",
    "\n",
    "def add_to_total(x):\n",
    "    global total\n",
    "    total += x\n",
    "    return total\n",
    "\n",
    "print(add(3, 4))        # always 7\n",
    "print(add_to_total(5))  # depends on external state\n",
    "print(add_to_total(5))  # depends on external state"
   ]
  },
  {
   "cell_type": "markdown",
   "id": "8fbd9f37-9f49-4506-8630-9acbafa60063",
   "metadata": {},
   "source": [
    "---\n",
    "\n",
    "## Introduction to Error Handling\n",
    "\n",
    "### Understanding Exceptions\n",
    "\n",
    "In Python, an error is an issue that occurs during the execution of a program. Errors can be syntax errors or exceptions. Exceptions are errors that occur at runtime and can be handled to prevent the program from crashing."
   ]
  },
  {
   "cell_type": "code",
   "execution_count": 16,
   "id": "9a4efd16-3e9b-42c7-97b1-9915e45da1f6",
   "metadata": {},
   "outputs": [
    {
     "ename": "ZeroDivisionError",
     "evalue": "division by zero",
     "output_type": "error",
     "traceback": [
      "\u001b[31m---------------------------------------------------------------------------\u001b[39m",
      "\u001b[31mZeroDivisionError\u001b[39m                         Traceback (most recent call last)",
      "\u001b[36mCell\u001b[39m\u001b[36m \u001b[39m\u001b[32mIn[16]\u001b[39m\u001b[32m, line 2\u001b[39m\n\u001b[32m      1\u001b[39m \u001b[38;5;66;03m# Example of a runtime error (exception)\u001b[39;00m\n\u001b[32m----> \u001b[39m\u001b[32m2\u001b[39m \u001b[38;5;28mprint\u001b[39m(\u001b[32;43m10\u001b[39;49m\u001b[43m \u001b[49m\u001b[43m/\u001b[49m\u001b[43m \u001b[49m\u001b[32;43m0\u001b[39;49m)  \u001b[38;5;66;03m# This will raise a ZeroDivisionError\u001b[39;00m\n",
      "\u001b[31mZeroDivisionError\u001b[39m: division by zero"
     ]
    }
   ],
   "source": [
    "# Example of a runtime error (exception)\n",
    "print(10 / 0)  # This will raise a ZeroDivisionError"
   ]
  },
  {
   "cell_type": "markdown",
   "id": "5bab5704-77e4-423c-ba9b-536267213c4b",
   "metadata": {},
   "source": [
    "### Built-in Exceptions\n",
    "\n",
    "Python provides many built-in exceptions, such as `ZeroDivisionError`, `TypeError`, `ValueError`, `KeyError`, and [more](https://docs.python.org/3/library/exceptions.html#exception-hierarchy)."
   ]
  },
  {
   "cell_type": "code",
   "execution_count": 3,
   "id": "a507aca4-df14-4ab4-b3e8-eef98e619391",
   "metadata": {},
   "outputs": [
    {
     "ename": "ValueError",
     "evalue": "invalid literal for int() with base 10: 'a'",
     "output_type": "error",
     "traceback": [
      "\u001b[1;31m---------------------------------------------------------------------------\u001b[0m",
      "\u001b[1;31mValueError\u001b[0m                                Traceback (most recent call last)",
      "Cell \u001b[1;32mIn[3], line 2\u001b[0m\n\u001b[0;32m      1\u001b[0m \u001b[38;5;66;03m# Examples of built-in exceptions\u001b[39;00m\n\u001b[1;32m----> 2\u001b[0m \u001b[38;5;28;43mint\u001b[39;49m\u001b[43m(\u001b[49m\u001b[38;5;124;43m'\u001b[39;49m\u001b[38;5;124;43ma\u001b[39;49m\u001b[38;5;124;43m'\u001b[39;49m\u001b[43m)\u001b[49m  \u001b[38;5;66;03m# Raises ValueError\u001b[39;00m\n",
      "\u001b[1;31mValueError\u001b[0m: invalid literal for int() with base 10: 'a'"
     ]
    }
   ],
   "source": [
    "# Examples of built-in exceptions\n",
    "int('a')  # Raises ValueError"
   ]
  },
  {
   "cell_type": "code",
   "execution_count": 4,
   "id": "8ac21f2a-0986-42af-b885-d6afe6965fd4",
   "metadata": {},
   "outputs": [
    {
     "ename": "IndexError",
     "evalue": "list index out of range",
     "output_type": "error",
     "traceback": [
      "\u001b[1;31m---------------------------------------------------------------------------\u001b[0m",
      "\u001b[1;31mIndexError\u001b[0m                                Traceback (most recent call last)",
      "Cell \u001b[1;32mIn[4], line 1\u001b[0m\n\u001b[1;32m----> 1\u001b[0m \u001b[43m[\u001b[49m\u001b[38;5;241;43m1\u001b[39;49m\u001b[43m,\u001b[49m\u001b[43m \u001b[49m\u001b[38;5;241;43m2\u001b[39;49m\u001b[43m,\u001b[49m\u001b[43m \u001b[49m\u001b[38;5;241;43m3\u001b[39;49m\u001b[43m]\u001b[49m\u001b[43m[\u001b[49m\u001b[38;5;241;43m5\u001b[39;49m\u001b[43m]\u001b[49m  \u001b[38;5;66;03m# Raises IndexError\u001b[39;00m\n",
      "\u001b[1;31mIndexError\u001b[0m: list index out of range"
     ]
    }
   ],
   "source": [
    "[1, 2, 3][5]  # Raises IndexError"
   ]
  },
  {
   "cell_type": "markdown",
   "id": "c82526e7-45cb-4af9-bd66-8b7a2d47d67b",
   "metadata": {},
   "source": [
    "### Raising Exceptions\n",
    "\n",
    "You can raise exceptions using the `raise` statement."
   ]
  },
  {
   "cell_type": "code",
   "execution_count": 7,
   "id": "0e612374-f372-414c-b8c6-23d6f3a62528",
   "metadata": {},
   "outputs": [
    {
     "ename": "ValueError",
     "evalue": "This is a custom error message",
     "output_type": "error",
     "traceback": [
      "\u001b[1;31m---------------------------------------------------------------------------\u001b[0m",
      "\u001b[1;31mValueError\u001b[0m                                Traceback (most recent call last)",
      "Cell \u001b[1;32mIn[7], line 2\u001b[0m\n\u001b[0;32m      1\u001b[0m \u001b[38;5;66;03m# Example of raising an exception\u001b[39;00m\n\u001b[1;32m----> 2\u001b[0m \u001b[38;5;28;01mraise\u001b[39;00m \u001b[38;5;167;01mValueError\u001b[39;00m(\u001b[38;5;124m\"\u001b[39m\u001b[38;5;124mThis is a custom error message\u001b[39m\u001b[38;5;124m\"\u001b[39m)\n\u001b[0;32m      4\u001b[0m \u001b[38;5;28mprint\u001b[39m(\u001b[38;5;124m\"\u001b[39m\u001b[38;5;124mThis code does not run\u001b[39m\u001b[38;5;124m\"\u001b[39m)\n",
      "\u001b[1;31mValueError\u001b[0m: This is a custom error message"
     ]
    }
   ],
   "source": [
    "# Example of raising an exception\n",
    "raise ValueError(\"This is a custom error message\")\n",
    "\n",
    "print(\"This code does not run\")"
   ]
  },
  {
   "cell_type": "markdown",
   "id": "cdcdf955-d99d-4f6b-a141-f4a25b8f2e04",
   "metadata": {},
   "source": [
    "## Handling Exceptions\n",
    "\n",
    "### The `try` Statement\n",
    "\n",
    "To handle exceptions, use the `try` statement to wrap the code that might raise an exception."
   ]
  },
  {
   "cell_type": "code",
   "execution_count": 8,
   "id": "10f7f28f-bb8c-4d26-ae19-128b9ddc7b84",
   "metadata": {},
   "outputs": [
    {
     "name": "stdout",
     "output_type": "stream",
     "text": [
      "Cannot divide by zero\n",
      "This code runs\n"
     ]
    }
   ],
   "source": [
    "try:\n",
    "    # Code that might raise an exception\n",
    "    result = 10 / 0\n",
    "    print(\"This code does not run\")\n",
    "except ZeroDivisionError:\n",
    "    print(\"Cannot divide by zero\")\n",
    "\n",
    "print(\"This code runs\")"
   ]
  },
  {
   "cell_type": "markdown",
   "id": "5fe2c835-f20e-4fe4-baef-8a132070be20",
   "metadata": {},
   "source": [
    "### The `except` Block\n",
    "\n",
    "The `except` block catches and handles the exception."
   ]
  },
  {
   "cell_type": "code",
   "execution_count": 9,
   "id": "ec199f74-3217-41d5-bdb4-0383b99b5421",
   "metadata": {},
   "outputs": [
    {
     "name": "stdout",
     "output_type": "stream",
     "text": [
      "Cannot convert string to integer\n"
     ]
    }
   ],
   "source": [
    "try:\n",
    "    result = int('a')\n",
    "except ValueError:\n",
    "    print(\"Cannot convert string to integer\")"
   ]
  },
  {
   "cell_type": "markdown",
   "id": "82c25ef3-348a-4079-a948-076edc5723fb",
   "metadata": {},
   "source": [
    "### Multiple `except` Blocks\n",
    "\n",
    "You can use multiple `except` blocks to handle different exceptions."
   ]
  },
  {
   "cell_type": "code",
   "execution_count": 10,
   "id": "1989dbd2-1b04-4148-94ef-9fc632d81e02",
   "metadata": {},
   "outputs": [
    {
     "name": "stdout",
     "output_type": "stream",
     "text": [
      "ValueError: Cannot convert string to integer\n"
     ]
    }
   ],
   "source": [
    "try:\n",
    "    result = int('a')\n",
    "except ValueError:\n",
    "    print(\"ValueError: Cannot convert string to integer\")\n",
    "except TypeError:\n",
    "    print(\"TypeError: Invalid type\")"
   ]
  },
  {
   "cell_type": "markdown",
   "id": "6412101b-cca5-4710-96b9-2535476d6def",
   "metadata": {},
   "source": [
    "In some situations, you may want to print or log the exception without actually halting execution. To save the exact error message along with the stack trace, you can use Python's `traceback` module.\n",
    "\n",
    "The [traceback](https://docs.python.org/3/library/traceback.html) module in Python provides a way to extract, format, and print stack traces of Python programs. This is particularly useful when you're dealing with exceptions and want to get more detailed information about where an error occurred."
   ]
  },
  {
   "cell_type": "code",
   "execution_count": 17,
   "id": "45f9885d-3a4b-4f1c-beb8-32a2d27db08d",
   "metadata": {},
   "outputs": [
    {
     "name": "stdout",
     "output_type": "stream",
     "text": [
      "Traceback (most recent call last):\n",
      "  File \"C:\\Users\\gregk\\AppData\\Local\\Temp\\ipykernel_12048\\1764533044.py\", line 9, in main\n",
      "    risky_function()\n",
      "  File \"C:\\Users\\gregk\\AppData\\Local\\Temp\\ipykernel_12048\\1764533044.py\", line 5, in risky_function\n",
      "    return 1 / 0\n",
      "           ~~^~~\n",
      "ZeroDivisionError: division by zero\n",
      "\n"
     ]
    }
   ],
   "source": [
    "import traceback\n",
    "\n",
    "def risky_function():\n",
    "    # This function will intentionally raise a ZeroDivisionError\n",
    "    return 1 / 0\n",
    "\n",
    "def main():\n",
    "    try:\n",
    "        risky_function()\n",
    "    except ZeroDivisionError as e:\n",
    "        print(traceback.format_exc())\n",
    "\n",
    "main()\n"
   ]
  },
  {
   "cell_type": "markdown",
   "id": "b1f6f09c-2d9c-4bf2-8132-5880e9a868d8",
   "metadata": {},
   "source": [
    "### Re-Raising Exceptions as Different Exceptions\n",
    "\n",
    "Sometimes, you may need to catch an exception, perform some actions (e.g., logging or additional processing), and then re-raise it as a different type of exception. This can be useful for abstracting away implementation details and providing a more meaningful error context.\n",
    "\n",
    "#### Example: Re-Raising Exceptions"
   ]
  },
  {
   "cell_type": "code",
   "execution_count": 18,
   "id": "037b8ada-0aba-4dbc-922e-d6714f481c3a",
   "metadata": {},
   "outputs": [
    {
     "name": "stdout",
     "output_type": "stream",
     "text": [
      "Logging original error: An error occurred with the data\n",
      "Handled custom error: A custom error occurred during processing\n",
      "Original exception: An error occurred with the data\n"
     ]
    }
   ],
   "source": [
    "class CustomError(Exception):\n",
    "    \"\"\"A custom exception type.\"\"\"\n",
    "    pass\n",
    "\n",
    "class AnotherError(Exception):\n",
    "    \"\"\"Another custom exception type.\"\"\"\n",
    "    pass\n",
    "\n",
    "def process_data(data):\n",
    "    if data == \"bad\":\n",
    "        raise ValueError(\"An error occurred with the data\")\n",
    "\n",
    "def main():\n",
    "    try:\n",
    "        process_data(\"bad\")\n",
    "    except ValueError as e:\n",
    "        # Log the original exception (could also perform other actions)\n",
    "        print(f\"Logging original error: {e}\")\n",
    "        # Re-raise a different exception with a custom message\n",
    "        raise CustomError(\"A custom error occurred during processing\") from e\n",
    "\n",
    "try:\n",
    "    main()\n",
    "except CustomError as e:\n",
    "    print(f\"Handled custom error: {e}\")\n",
    "    print(f\"Original exception: {e.__cause__}\")"
   ]
  },
  {
   "cell_type": "markdown",
   "id": "e8d9af82-1e60-47b3-90be-2ab14b2a2621",
   "metadata": {},
   "source": [
    "**Explanation:**\n",
    "\n",
    "- `process_data` raises a `ValueError`.\n",
    "- In the `main` function, the `ValueError` is caught, and a `CustomError` is raised instead, using the `raise ... from e` syntax to retain the context of the original exception.\n",
    "- `e.__cause__` provides access to the original `ValueError`.\n",
    "\n",
    "### Re-Raising the same Exception\n",
    "\n",
    "You can also re-raise an exception in the `except` block:"
   ]
  },
  {
   "cell_type": "code",
   "execution_count": 19,
   "id": "09fb9595-345d-421b-81f4-7eef7db30b59",
   "metadata": {},
   "outputs": [
    {
     "name": "stdout",
     "output_type": "stream",
     "text": [
      "Caught an exception: division by zero\n"
     ]
    },
    {
     "ename": "ZeroDivisionError",
     "evalue": "division by zero",
     "output_type": "error",
     "traceback": [
      "\u001b[31m---------------------------------------------------------------------------\u001b[39m",
      "\u001b[31mZeroDivisionError\u001b[39m                         Traceback (most recent call last)",
      "\u001b[36mCell\u001b[39m\u001b[36m \u001b[39m\u001b[32mIn[19]\u001b[39m\u001b[32m, line 11\u001b[39m\n\u001b[32m      8\u001b[39m         \u001b[38;5;66;03m# Re-raise the same exception\u001b[39;00m\n\u001b[32m      9\u001b[39m         \u001b[38;5;28;01mraise\u001b[39;00m\n\u001b[32m---> \u001b[39m\u001b[32m11\u001b[39m result = \u001b[43mdivide_numbers\u001b[49m\u001b[43m(\u001b[49m\u001b[32;43m10\u001b[39;49m\u001b[43m,\u001b[49m\u001b[43m \u001b[49m\u001b[32;43m0\u001b[39;49m\u001b[43m)\u001b[49m\n",
      "\u001b[36mCell\u001b[39m\u001b[36m \u001b[39m\u001b[32mIn[19]\u001b[39m\u001b[32m, line 3\u001b[39m, in \u001b[36mdivide_numbers\u001b[39m\u001b[34m(a, b)\u001b[39m\n\u001b[32m      1\u001b[39m \u001b[38;5;28;01mdef\u001b[39;00m\u001b[38;5;250m \u001b[39m\u001b[34mdivide_numbers\u001b[39m(a, b):\n\u001b[32m      2\u001b[39m     \u001b[38;5;28;01mtry\u001b[39;00m:\n\u001b[32m----> \u001b[39m\u001b[32m3\u001b[39m         result = \u001b[43ma\u001b[49m\u001b[43m \u001b[49m\u001b[43m/\u001b[49m\u001b[43m \u001b[49m\u001b[43mb\u001b[49m\n\u001b[32m      4\u001b[39m         \u001b[38;5;28;01mreturn\u001b[39;00m result\n\u001b[32m      5\u001b[39m     \u001b[38;5;28;01mexcept\u001b[39;00m \u001b[38;5;167;01mZeroDivisionError\u001b[39;00m \u001b[38;5;28;01mas\u001b[39;00m e:\n\u001b[32m      6\u001b[39m         \u001b[38;5;66;03m# Handle the ZeroDivisionError\u001b[39;00m\n",
      "\u001b[31mZeroDivisionError\u001b[39m: division by zero"
     ]
    }
   ],
   "source": [
    "def divide_numbers(a, b):\n",
    "    try:\n",
    "        result = a / b\n",
    "        return result\n",
    "    except ZeroDivisionError as e:\n",
    "        # Handle the ZeroDivisionError\n",
    "        print(f\"Caught an exception: {e}\")\n",
    "        # Re-raise the same exception\n",
    "        raise\n",
    "\n",
    "result = divide_numbers(10, 0)"
   ]
  },
  {
   "cell_type": "markdown",
   "id": "4ac20bb2-b1f0-47fc-8380-5ff4a9c0eef2",
   "metadata": {},
   "source": [
    "### Exception Chaining\n",
    "\n",
    "When re-raising exceptions, Python allows you to chain exceptions to maintain the context of the original exception. This is done using the `raise ... from ...` syntax, as shown in the previous example. \n",
    "\n",
    "#### Example: Exception Chaining"
   ]
  },
  {
   "cell_type": "code",
   "execution_count": 20,
   "id": "60b44046-5699-464d-8fba-0d9835a53804",
   "metadata": {},
   "outputs": [
    {
     "name": "stdout",
     "output_type": "stream",
     "text": [
      "Logging original ZeroDivisionError: division by zero\n",
      "Handled ValueError: Failed to perform division\n",
      "Original exception: division by zero\n"
     ]
    }
   ],
   "source": [
    "def divide(a, b):\n",
    "    try:\n",
    "        return a / b\n",
    "    except ZeroDivisionError as e:\n",
    "        # Handle or log the original exception\n",
    "        print(f\"Logging original ZeroDivisionError: {e}\")\n",
    "        # Re-raise a new exception with additional context\n",
    "        raise ValueError(\"Failed to perform division\") from e\n",
    "\n",
    "try:\n",
    "    result = divide(10, 0)\n",
    "except ValueError as e:\n",
    "    print(f\"Handled ValueError: {e}\")\n",
    "    print(f\"Original exception: {e.__cause__}\")"
   ]
  },
  {
   "cell_type": "markdown",
   "id": "c24d2408-cf99-4eab-abbf-caef92364f24",
   "metadata": {},
   "source": [
    "**Explanation:**\n",
    "\n",
    "- `divide` catches `ZeroDivisionError` and re-raises it as a `ValueError`.\n",
    "- The `ValueError` retains the context of the `ZeroDivisionError`, which can be accessed through `e.__cause__`."
   ]
  },
  {
   "cell_type": "markdown",
   "id": "db3ead0d-ffd1-4b06-894b-e28f4efc9cb0",
   "metadata": {},
   "source": [
    "### The `else` Block\n",
    "\n",
    "The `else` block is executed if no exceptions are raised in the `try` block."
   ]
  },
  {
   "cell_type": "code",
   "execution_count": 21,
   "id": "3b202df6-7a09-45b9-adc1-4c59f4a331d3",
   "metadata": {},
   "outputs": [
    {
     "name": "stdout",
     "output_type": "stream",
     "text": [
      "Conversion successful: 10\n"
     ]
    }
   ],
   "source": [
    "try:\n",
    "    result = int('10')\n",
    "except ValueError:\n",
    "    print(\"Cannot convert string to integer\")\n",
    "else:\n",
    "    print(\"Conversion successful:\", result)"
   ]
  },
  {
   "cell_type": "markdown",
   "id": "c4a07d62-5ecb-4bb1-b070-cf16923b7a3a",
   "metadata": {},
   "source": [
    "Practical example:"
   ]
  },
  {
   "cell_type": "code",
   "execution_count": 22,
   "id": "a5241fbb-99c7-49a5-ab82-3789f86ae07a",
   "metadata": {},
   "outputs": [
    {
     "name": "stdout",
     "output_type": "stream",
     "text": [
      "Error: The file was not found.\n",
      "End of script.\n"
     ]
    }
   ],
   "source": [
    "try:\n",
    "    # Try to open and read the file\n",
    "    with open('myfile.txt', 'r') as file:\n",
    "        content = file.read()\n",
    "except FileNotFoundError:\n",
    "    # Handle the case where the file does not exist\n",
    "    print(\"Error: The file was not found.\")\n",
    "except IOError:\n",
    "    # Handle other I/O errors\n",
    "    print(\"Error: An I/O error occurred.\")\n",
    "else:\n",
    "    # This block will execute if no exceptions were raised\n",
    "    # Process the file content\n",
    "    print(\"File content successfully read. Processing content...\")\n",
    "    # Example processing: count the number of lines in the file\n",
    "    num_lines = len(content.splitlines())\n",
    "    print(f\"The file has {num_lines} lines.\")\n",
    "\n",
    "# Output message indicating the end of the script\n",
    "print(\"End of script.\")\n"
   ]
  },
  {
   "cell_type": "markdown",
   "id": "3e0f1cfc-7cde-4155-88b6-d58a218af210",
   "metadata": {},
   "source": [
    "### The `finally` Block\n",
    "\n",
    "The `finally` block is always executed, regardless of whether an exception was raised or not. This is particularly useful for resource cleanup tasks such as closing files or releasing locks."
   ]
  },
  {
   "cell_type": "code",
   "execution_count": 15,
   "id": "a4645bd4-ab91-461a-bf14-8904e83cf534",
   "metadata": {},
   "outputs": [
    {
     "name": "stdout",
     "output_type": "stream",
     "text": [
      "Cannot divide by zero\n",
      "This will always execute\n"
     ]
    }
   ],
   "source": [
    "try:\n",
    "    result = 10 / 0\n",
    "except ZeroDivisionError:\n",
    "    print(\"Cannot divide by zero\")\n",
    "finally:\n",
    "    print(\"This will always execute\")"
   ]
  },
  {
   "cell_type": "markdown",
   "id": "65ab96e0-0a29-4193-aed1-98b79153c5d4",
   "metadata": {},
   "source": [
    "A more practical example:"
   ]
  },
  {
   "cell_type": "code",
   "execution_count": 16,
   "id": "9630bb45-b5c8-44a8-a89b-437f63c68447",
   "metadata": {},
   "outputs": [
    {
     "name": "stdout",
     "output_type": "stream",
     "text": [
      "File content successfully read.\n",
      "File closed.\n"
     ]
    }
   ],
   "source": [
    "def read_file(file_path):\n",
    "    try:\n",
    "        # Try to open and read the file\n",
    "        file = open(file_path, 'r')\n",
    "        content = file.read()\n",
    "        print(\"File content successfully read.\")\n",
    "        return content\n",
    "    except FileNotFoundError:\n",
    "        # Handle the case where the file does not exist\n",
    "        print(f\"Error: The file at {file_path} was not found.\")\n",
    "    except Exception as e:\n",
    "        # Handle any other exceptions that may occur\n",
    "        print(f\"An error occurred: {e}\")\n",
    "    finally:\n",
    "        # This block will always execute, regardless of whether an exception was raised or not\n",
    "        try:\n",
    "            file.close()\n",
    "            print(\"File closed.\")\n",
    "        except NameError:\n",
    "            # Handle the case where 'file' was never opened\n",
    "            print(\"File was never opened, so it cannot be closed.\")\n",
    "        except Exception as e:\n",
    "            # Handle any other exceptions that may occur during file closing\n",
    "            print(f\"An error occurred while closing the file: {e}\")\n",
    "\n",
    "# Example usage\n",
    "file_path = \"myfile.txt\"\n",
    "content = read_file(file_path)\n"
   ]
  },
  {
   "cell_type": "markdown",
   "id": "09202945-7684-4942-a015-2fcd78b6d34a",
   "metadata": {},
   "source": [
    "**Note on file handling using context managers**\n",
    "\n",
    "Python provides a more concise and reliable way to handle files using the `with` statement, which simplifies file handling and ensures that files are properly closed without needing explicit exception handling for closing the file. This method automatically takes care of closing the file even if an error occurs.\n",
    "\n",
    "Here’s how you can use the `with` statement for file handling:"
   ]
  },
  {
   "cell_type": "code",
   "execution_count": 17,
   "id": "2470c4d0-9ab7-4418-88e2-199d7a1c8e60",
   "metadata": {},
   "outputs": [
    {
     "name": "stdout",
     "output_type": "stream",
     "text": [
      "Error: The file at example.txt was not found.\n"
     ]
    }
   ],
   "source": [
    "def read_file(file_path):\n",
    "    try:\n",
    "        # Using 'with' statement to open and read the file\n",
    "        with open(file_path, 'r') as file:\n",
    "            content = file.read()\n",
    "            print(\"File content successfully read.\")\n",
    "            return content\n",
    "    except FileNotFoundError:\n",
    "        # Handle the case where the file does not exist\n",
    "        print(f\"Error: The file at {file_path} was not found.\")\n",
    "    except Exception as e:\n",
    "        # Handle any other exceptions that may occur\n",
    "        print(f\"An error occurred: {e}\")\n",
    "\n",
    "# Example usage\n",
    "file_path = \"example.txt\"\n",
    "content = read_file(file_path)\n"
   ]
  },
  {
   "cell_type": "markdown",
   "id": "8816fc79-09fc-436d-81fe-f080e12c6399",
   "metadata": {},
   "source": [
    "## Custom Exceptions\n",
    "\n",
    "### Creating Custom Exceptions\n",
    "\n",
    "You can create custom exceptions by defining a new class that inherits from the `Exception` class."
   ]
  },
  {
   "cell_type": "code",
   "execution_count": 23,
   "id": "65afb18c-7910-4eac-9e1a-714c65a8657d",
   "metadata": {},
   "outputs": [
    {
     "ename": "CustomError",
     "evalue": "This is a custom error",
     "output_type": "error",
     "traceback": [
      "\u001b[31m---------------------------------------------------------------------------\u001b[39m",
      "\u001b[31mCustomError\u001b[39m                               Traceback (most recent call last)",
      "\u001b[36mCell\u001b[39m\u001b[36m \u001b[39m\u001b[32mIn[23]\u001b[39m\u001b[32m, line 5\u001b[39m\n\u001b[32m      2\u001b[39m     \u001b[38;5;28;01mpass\u001b[39;00m\n\u001b[32m      4\u001b[39m \u001b[38;5;66;03m# Raising a custom exception\u001b[39;00m\n\u001b[32m----> \u001b[39m\u001b[32m5\u001b[39m \u001b[38;5;28;01mraise\u001b[39;00m CustomError(\u001b[33m\"\u001b[39m\u001b[33mThis is a custom error\u001b[39m\u001b[33m\"\u001b[39m)\n",
      "\u001b[31mCustomError\u001b[39m: This is a custom error"
     ]
    }
   ],
   "source": [
    "class CustomError(Exception):\n",
    "    pass\n",
    "\n",
    "# Raising a custom exception\n",
    "raise CustomError(\"This is a custom error\")"
   ]
  },
  {
   "cell_type": "markdown",
   "id": "89db03e4-61c1-4223-8036-6c08d092b4ca",
   "metadata": {},
   "source": [
    "### Using Custom Exceptions\n",
    "\n",
    "Custom exceptions can be used just like built-in exceptions."
   ]
  },
  {
   "cell_type": "code",
   "execution_count": 24,
   "id": "489fb550-d49d-4c4a-a4a9-8179b17258d1",
   "metadata": {},
   "outputs": [
    {
     "name": "stdout",
     "output_type": "stream",
     "text": [
      "This is a custom error\n"
     ]
    }
   ],
   "source": [
    "try:\n",
    "    raise CustomError(\"This is a custom error\")\n",
    "except CustomError as e:\n",
    "    print(e)"
   ]
  },
  {
   "cell_type": "markdown",
   "id": "0c24e05f-7fbb-4abb-8d18-99ecfc2be8dc",
   "metadata": {},
   "source": [
    "### Exercise\n",
    "\n",
    "Create a function `safe_divide(a, b)` that divides two numbers but returns `\"Error\"` if b is zero."
   ]
  },
  {
   "cell_type": "code",
   "execution_count": null,
   "id": "df893960-5784-4bca-ab62-8a799dcc1732",
   "metadata": {},
   "outputs": [],
   "source": [
    "def # ...\n",
    "\n",
    "print(safe_divide(10, 2))\n",
    "print(safe_divide(10, 0))"
   ]
  },
  {
   "cell_type": "code",
   "execution_count": 25,
   "id": "c07e631f-77bf-4431-9c22-6946791f1700",
   "metadata": {
    "jupyter": {
     "source_hidden": true
    }
   },
   "outputs": [
    {
     "name": "stdout",
     "output_type": "stream",
     "text": [
      "5.0\n",
      "Error: Division by zero\n"
     ]
    }
   ],
   "source": [
    "# Solution:\n",
    "\n",
    "def safe_divide(a, b):\n",
    "    try:\n",
    "        return a / b\n",
    "    except ZeroDivisionError:\n",
    "        return \"Error: Division by zero\"\n",
    "\n",
    "print(safe_divide(10, 2))\n",
    "print(safe_divide(10, 0))"
   ]
  },
  {
   "cell_type": "markdown",
   "id": "cdd74f79-8cf7-49b9-b6a6-64a07d06f54a",
   "metadata": {},
   "source": [
    "---\n",
    "\n",
    "# Python Collection Types (Built-ins)\n",
    "\n",
    "Python has several built-in collection types:\n",
    "\n",
    "| Type      | Ordered | Mutable | Duplicates Allowed | Syntax Example         |\n",
    "|-----------|---------|---------|---------------------|-------------------------|\n",
    "| `list`    | ✅      | ✅      | ✅                  | `[1, 2, 3]`             |\n",
    "| `tuple`   | ✅      | ❌      | ✅                  | `(1, 2, 3)`             |\n",
    "| `set`     | ❌      | ✅      | ❌                  | `{1, 2, 3}`             |\n",
    "| `dict`    | ✅      | ✅      | ❌ (unique keys)    | `{\"a\": 1, \"b\": 2}`      |\n"
   ]
  },
  {
   "cell_type": "code",
   "execution_count": 26,
   "id": "98033d5b-39ba-4b0a-a884-768e47a6b18d",
   "metadata": {},
   "outputs": [
    {
     "name": "stdout",
     "output_type": "stream",
     "text": [
      "green\n",
      "10\n",
      "{'apple', 'banana'}\n",
      "Alice\n"
     ]
    }
   ],
   "source": [
    "# List\n",
    "colors = [\"red\", \"green\", \"blue\"]\n",
    "print(colors[1])\n",
    "\n",
    "# Tuple\n",
    "point = (10, 20)\n",
    "print(point[0])\n",
    "\n",
    "# Set\n",
    "fruits = {\"apple\", \"banana\", \"apple\"}\n",
    "print(fruits)  # no duplicates\n",
    "\n",
    "# Dictionary\n",
    "person = {\"name\": \"Alice\", \"age\": 30}\n",
    "print(person[\"name\"])"
   ]
  },
  {
   "cell_type": "markdown",
   "id": "7205e5e4-92c9-4913-9d11-95732112193d",
   "metadata": {},
   "source": [
    "# Iterating through Collections\n",
    "\n",
    "Use `for` or `while` loops to process multiple elements.\n",
    "\n",
    "- `for` is used for known-size iteration\n",
    "- `while` is used for condition-based iteration\n"
   ]
  },
  {
   "cell_type": "code",
   "execution_count": 28,
   "id": "1fefbdd5-0c30-4198-b298-8b094124b52d",
   "metadata": {},
   "outputs": [
    {
     "name": "stdout",
     "output_type": "stream",
     "text": [
      "Color: red\n",
      "Color: green\n",
      "Color: blue\n"
     ]
    }
   ],
   "source": [
    "# List loop\n",
    "colors = [\"red\", \"green\", \"blue\"]\n",
    "for color in colors:\n",
    "    print(\"Color:\", color)\n"
   ]
  },
  {
   "cell_type": "code",
   "execution_count": 29,
   "id": "474501c3-9587-442a-9230-58dd5103b47d",
   "metadata": {},
   "outputs": [
    {
     "name": "stdout",
     "output_type": "stream",
     "text": [
      "name → Alice\n",
      "age → 30\n"
     ]
    }
   ],
   "source": [
    "# Dictionary loop\n",
    "person = {\"name\": \"Alice\", \"age\": 30}\n",
    "for key, value in person.items():\n",
    "    print(key, \"→\", value)\n"
   ]
  },
  {
   "cell_type": "code",
   "execution_count": 30,
   "id": "b6320d4b-0016-47a9-8958-e198dfc89ee7",
   "metadata": {},
   "outputs": [
    {
     "name": "stdout",
     "output_type": "stream",
     "text": [
      "10\n",
      "20\n",
      "30\n"
     ]
    }
   ],
   "source": [
    "# While loop over a list\n",
    "i = 0\n",
    "numbers = [10, 20, 30]\n",
    "while i < len(numbers):\n",
    "    print(numbers[i])\n",
    "    i += 1\n"
   ]
  },
  {
   "cell_type": "markdown",
   "id": "f77d93ec-fef1-41bf-9523-77c72b9d247f",
   "metadata": {},
   "source": [
    "# Useful Built-in Functions\n",
    "\n",
    "## Common for lists, sets, and dicts:\n",
    "- `len()` – number of items\n",
    "- `sum()` – total (only numeric values)\n",
    "- `max()` / `min()` – highest / lowest value\n"
   ]
  },
  {
   "cell_type": "code",
   "execution_count": 31,
   "id": "98d0a21f-8f11-4280-b155-487a7295b82d",
   "metadata": {},
   "outputs": [
    {
     "name": "stdout",
     "output_type": "stream",
     "text": [
      "Length: 3\n",
      "Sum: 30\n",
      "Max: 15\n"
     ]
    }
   ],
   "source": [
    "numbers = [5, 10, 15]\n",
    "\n",
    "print(\"Length:\", len(numbers))\n",
    "print(\"Sum:\", sum(numbers))\n",
    "print(\"Max:\", max(numbers))\n"
   ]
  },
  {
   "cell_type": "markdown",
   "id": "32f3048b-4c30-4342-a87f-67a32e0939b6",
   "metadata": {},
   "source": [
    "# Dictionary Methods\n",
    "\n",
    "- `dict.keys()` → list of keys  \n",
    "- `dict.values()` → list of values  \n",
    "- `dict.items()` → list of (key, value) pairs"
   ]
  },
  {
   "cell_type": "code",
   "execution_count": 33,
   "id": "5c371e76-6f9f-4a18-8ee7-9c09992c3928",
   "metadata": {},
   "outputs": [
    {
     "name": "stdout",
     "output_type": "stream",
     "text": [
      "Keys: dict_keys(['Anna', 'Ben', 'Cara'])\n",
      "Values: dict_values([90, 85, 88])\n",
      "Items: dict_items([('Anna', 90), ('Ben', 85), ('Cara', 88)])\n"
     ]
    }
   ],
   "source": [
    "grades = {\"Anna\": 90, \"Ben\": 85, \"Cara\": 88}\n",
    "\n",
    "print(\"Keys:\", grades.keys())\n",
    "print(\"Values:\", grades.values())\n",
    "print(\"Items:\", grades.items())\n"
   ]
  },
  {
   "cell_type": "markdown",
   "id": "2ae331b4-eb16-4bcd-93f2-d868fffe6402",
   "metadata": {},
   "source": [
    "# List Methods\n",
    "\n",
    "- `append(x)` – add item\n",
    "- `sort()` – sort in-place\n",
    "- `del list[i]` – delete item at index\n",
    "- `remove(x)` – remove by value"
   ]
  },
  {
   "cell_type": "code",
   "execution_count": 34,
   "id": "459eed81-0a03-467e-92ad-b6bc5b6634a6",
   "metadata": {},
   "outputs": [
    {
     "name": "stdout",
     "output_type": "stream",
     "text": [
      "After append: [4, 2, 7, 5]\n",
      "After sort: [2, 4, 5, 7]\n",
      "After delete: [2, 5, 7]\n"
     ]
    }
   ],
   "source": [
    "numbers = [4, 2, 7]\n",
    "\n",
    "numbers.append(5)\n",
    "print(\"After append:\", numbers)\n",
    "\n",
    "numbers.sort()\n",
    "print(\"After sort:\", numbers)\n",
    "\n",
    "del numbers[1]\n",
    "print(\"After delete:\", numbers)"
   ]
  },
  {
   "cell_type": "markdown",
   "id": "fddfff1c-6f8e-4588-8cf4-b98f155a9322",
   "metadata": {},
   "source": [
    "## Exercise 1: Iterate and Print\n",
    "- Create a list of your 5 favorite movies\n",
    "- Print each one on a new line using a `for` loop"
   ]
  },
  {
   "cell_type": "code",
   "execution_count": null,
   "id": "453ae66d-d89e-4ec3-b2e5-91a129e28b48",
   "metadata": {},
   "outputs": [],
   "source": [
    "movies = # ...\n",
    "\n",
    "# ..."
   ]
  },
  {
   "cell_type": "code",
   "execution_count": 36,
   "id": "d1499ade-b5ac-435f-a0da-720a05265832",
   "metadata": {
    "jupyter": {
     "source_hidden": true
    }
   },
   "outputs": [
    {
     "name": "stdout",
     "output_type": "stream",
     "text": [
      "🎬 Inception\n",
      "🎬 The Matrix\n",
      "🎬 Interstellar\n",
      "🎬 Gladiator\n",
      "🎬 Tenet\n"
     ]
    }
   ],
   "source": [
    "# Solution:\n",
    "\n",
    "movies = [\"Inception\", \"The Matrix\", \"Interstellar\", \"Gladiator\", \"Tenet\"]\n",
    "\n",
    "for movie in movies:\n",
    "    print(\"🎬\", movie)\n"
   ]
  },
  {
   "cell_type": "markdown",
   "id": "805faf29-f285-44a0-b686-f23835a98fa7",
   "metadata": {},
   "source": [
    "## Exercise 2: Find the Best Grade\n",
    "- Create a dictionary of students and their grades\n",
    "- Use `.items()` to find the top student\n",
    "\n",
    "| Student  | Grade |\n",
    "|----------|-------|\n",
    "| Anna     | 88    |\n",
    "| Ben      | 92    |\n",
    "| Cara     | 85    |\n",
    "| Charlie  | 75    |\n"
   ]
  },
  {
   "cell_type": "code",
   "execution_count": null,
   "id": "4bfdeca0-395a-4962-80ac-abfc2a90fdd3",
   "metadata": {},
   "outputs": [],
   "source": [
    "grades = # ...\n",
    "\n",
    "# ..."
   ]
  },
  {
   "cell_type": "code",
   "execution_count": 40,
   "id": "396edbe8-618c-4a94-90e6-705216821328",
   "metadata": {
    "jupyter": {
     "source_hidden": true
    }
   },
   "outputs": [
    {
     "name": "stdout",
     "output_type": "stream",
     "text": [
      "Top student: Ben\n",
      "Top grade: 92\n"
     ]
    }
   ],
   "source": [
    "# Solution:\n",
    "\n",
    "grades = {\n",
    "    \"Anna\": 88,\n",
    "    \"Ben\": 92,\n",
    "    \"Cara\": 85,\n",
    "    \"Charlie\": 75,\n",
    "}\n",
    "\n",
    "top_student = None\n",
    "\n",
    "for student in grades.items():\n",
    "    if top_student is None or student[1] > top_student[1]:\n",
    "        top_student = student\n",
    "\n",
    "print(\"Top student:\", top_student[0])\n",
    "print(\"Top grade:\", top_student[1])"
   ]
  },
  {
   "cell_type": "markdown",
   "id": "55b9589f-77f4-4209-b8e2-1fd95a054e90",
   "metadata": {},
   "source": [
    "---\n",
    "\n",
    "# Practice examples from day #1"
   ]
  },
  {
   "cell_type": "code",
   "execution_count": 71,
   "id": "75d62646-206b-4fa3-b328-5bf65ccda06d",
   "metadata": {},
   "outputs": [
    {
     "name": "stdout",
     "output_type": "stream",
     "text": [
      "24157817\n"
     ]
    }
   ],
   "source": [
    "from functools import cache\n",
    "\n",
    "#@cache\n",
    "def fibonacci(n):\n",
    "    if n < 2:\n",
    "        return n\n",
    "    return fibonacci(n - 1) + fibonacci(n - 2)\n",
    "\n",
    "# Example usage\n",
    "print(fibonacci(37))"
   ]
  },
  {
   "cell_type": "markdown",
   "id": "3297963f-5750-4314-aaf4-92dbac816954",
   "metadata": {},
   "source": [
    "## Exercise: Extract Even Numbers Using Slicing\n",
    "Given a list of integers from 1 to 20, use slicing to extract only the even numbers into a new list."
   ]
  },
  {
   "cell_type": "code",
   "execution_count": null,
   "id": "8abfd202-15cc-45e2-8394-e00114b5a922",
   "metadata": {},
   "outputs": [],
   "source": [
    "numbers = list(range(1, 21))\n",
    "# Try slicing with appropriate start, stop, and step values\n"
   ]
  },
  {
   "cell_type": "code",
   "execution_count": 48,
   "id": "561feefd-4473-4bf0-ae22-01d03709f20f",
   "metadata": {
    "jupyter": {
     "source_hidden": true
    }
   },
   "outputs": [
    {
     "data": {
      "text/plain": [
       "[2, 4, 6, 8, 10, 12, 14, 16, 18, 20]"
      ]
     },
     "execution_count": 48,
     "metadata": {},
     "output_type": "execute_result"
    }
   ],
   "source": [
    "# Solution:\n",
    "\n",
    "numbers = list(range(1, 21))\n",
    "even_numbers = numbers[1::2]\n",
    "even_numbers"
   ]
  },
  {
   "cell_type": "markdown",
   "id": "c92bc087-553c-4377-8680-17569b2e6503",
   "metadata": {},
   "source": [
    "## Exercise: Square Numbers Using Map\n",
    "Given a list of numbers `[1, 2, 3, 4, 5]`, use `map` to create a new list that contains the square of each number.\n"
   ]
  },
  {
   "cell_type": "code",
   "execution_count": 49,
   "id": "a28ed241-199a-45a6-b40f-ae71b386af0d",
   "metadata": {},
   "outputs": [],
   "source": [
    "numbers = [1, 2, 3, 4, 5]\n",
    "# Use map with a lambda function or a defined function to square each number\n"
   ]
  },
  {
   "cell_type": "code",
   "execution_count": 50,
   "id": "2031c335-5399-4cc9-a9fc-ed703a223597",
   "metadata": {
    "jupyter": {
     "source_hidden": true
    }
   },
   "outputs": [
    {
     "data": {
      "text/plain": [
       "[1, 4, 9, 16, 25]"
      ]
     },
     "execution_count": 50,
     "metadata": {},
     "output_type": "execute_result"
    }
   ],
   "source": [
    "# Solution:\n",
    "\n",
    "numbers = [1, 2, 3, 4, 5]\n",
    "squared = list(map(lambda x: x**2, numbers))\n",
    "squared"
   ]
  },
  {
   "cell_type": "markdown",
   "id": "b7f6ab3f-cea1-4ec0-8d25-25f2d9978061",
   "metadata": {},
   "source": [
    "## Exercise: Filter Out Negative Numbers\n",
    "Given a list of integers `[-2, 4, -1, 0, 3, -5]`, use `filter` to create a list of only the non-negative numbers.\n"
   ]
  },
  {
   "cell_type": "code",
   "execution_count": 51,
   "id": "3cb1335e-5afa-4858-a176-5127d3c5f385",
   "metadata": {},
   "outputs": [],
   "source": [
    "numbers = [-2, 4, -1, 0, 3, -5]\n",
    "# Use filter with a lambda function to exclude negative numbers\n"
   ]
  },
  {
   "cell_type": "code",
   "execution_count": 52,
   "id": "a562be60-5cb8-49d4-ab7d-381d0b99780d",
   "metadata": {},
   "outputs": [
    {
     "data": {
      "text/plain": [
       "[4, 0, 3]"
      ]
     },
     "execution_count": 52,
     "metadata": {},
     "output_type": "execute_result"
    }
   ],
   "source": [
    "# Solution:\n",
    "\n",
    "numbers = [-2, 4, -1, 0, 3, -5]\n",
    "non_negatives = list(filter(lambda x: x >= 0, numbers))\n",
    "non_negatives\n"
   ]
  },
  {
   "cell_type": "markdown",
   "id": "e1f15199-9df0-4f59-bbf2-890125afa45e",
   "metadata": {},
   "source": [
    "---\n",
    "\n",
    "# Practice Lab - Mini Projects\n",
    "\n",
    "## Mini Project 1: Student Grades Analyzer\n",
    "\n",
    "You’re building a small app to analyze student grades. You'll use:\n",
    "\n",
    " - Functions\n",
    " - Dictionaries\n",
    " - Loops\n",
    " - Built-in functions like `sum()`, `len()`, `max()`\n",
    "\n",
    "---\n",
    "\n",
    "### Features to implement:\n",
    "1. Store student names and grades in a dictionary.\n",
    "2. Calculate the average grade.\n",
    "3. Find the student with the highest grade.\n",
    "4. Allow the user to search for a student by name.\n",
    "\n",
    "Use the student data from the last exercise."
   ]
  },
  {
   "cell_type": "code",
   "execution_count": null,
   "id": "91bd3adf-47b4-4ac8-a661-535465852d97",
   "metadata": {},
   "outputs": [],
   "source": [
    "# Step 1: Initial data\n",
    "grades = # ...\n",
    "\n",
    "# Step 2: Functions\n",
    "def average(grades_dict):\n",
    "    # ...\n",
    "\n",
    "# ...\n",
    "\n",
    "# Step 3: Outputs\n",
    "\n",
    "# Step 4: Search\n",
    "name = input(...)\n",
    "# ..."
   ]
  },
  {
   "cell_type": "code",
   "execution_count": 44,
   "id": "524257f9-c9ce-4fee-b316-c3b6a4b4594f",
   "metadata": {
    "jupyter": {
     "source_hidden": true
    }
   },
   "outputs": [
    {
     "name": "stdout",
     "output_type": "stream",
     "text": [
      "Average grade: 85.75\n",
      "Top student: Ben with grade 92\n"
     ]
    },
    {
     "name": "stdin",
     "output_type": "stream",
     "text": [
      "Enter a student's name to look up their grade:  Cara\n"
     ]
    },
    {
     "name": "stdout",
     "output_type": "stream",
     "text": [
      "Result: 78\n"
     ]
    }
   ],
   "source": [
    "# Solution:\n",
    "\n",
    "# Step 1: Initial data\n",
    "grades = {\n",
    "    \"Anna\": 85,\n",
    "    \"Ben\": 92,\n",
    "    \"Cara\": 78,\n",
    "    \"David\": 88\n",
    "}\n",
    "\n",
    "# Step 2: Functions\n",
    "def average(grades_dict):\n",
    "    return sum(grades_dict.values()) / len(grades_dict)\n",
    "\n",
    "def best_student(grades_dict):\n",
    "    return max(grades_dict.items(), key=lambda item: item[1])\n",
    "\n",
    "def find_grade(name):\n",
    "    return grades.get(name, \"Student not found.\")\n",
    "\n",
    "# Step 3: Outputs\n",
    "print(\"Average grade:\", round(average(grades), 2))\n",
    "\n",
    "top = best_student(grades)\n",
    "print(\"Top student:\", top[0], \"with grade\", top[1])\n",
    "\n",
    "# Step 4: Search\n",
    "name = input(\"Enter a student's name to look up their grade: \")\n",
    "print(\"Result:\", find_grade(name))"
   ]
  },
  {
   "cell_type": "markdown",
   "id": "c7813645-cabb-430c-9532-750161ae9662",
   "metadata": {},
   "source": [
    "# Mini Project 2: Inventory Tracker\n",
    "\n",
    "You're creating a basic inventory system to manage stock of items in a shop.\n",
    "\n",
    "---\n",
    "\n",
    "### Features to implement:\n",
    "1. Store product names and quantities using a dictionary.\n",
    "2. Functions to:\n",
    "   - Add a product\n",
    "   - Update stock\n",
    "   - Remove a product\n",
    "   - Print all inventory items\n",
    "3. A loop to let the user choose what to do.\n"
   ]
  },
  {
   "cell_type": "code",
   "execution_count": null,
   "id": "6a74a0a6-2d79-45d6-86cd-e0b1576d7d4f",
   "metadata": {},
   "outputs": [],
   "source": [
    "inventory = {}\n",
    "\n",
    "def add_product(name, quantity):\n",
    "    # ...\n",
    "\n",
    "def remove_product(name):\n",
    "    # ...\n",
    "\n",
    "def update_stock(name, quantity):\n",
    "    # ...\n",
    "\n",
    "def print_inventory():\n",
    "    # ...\n",
    "\n",
    "# Menu loop\n",
    "while True:\n",
    "    print(\"\\n--- Inventory Menu ---\")\n",
    "    print(\"1. Add product\")\n",
    "    print(\"2. Update stock\")\n",
    "    print(\"3. Remove product\")\n",
    "    print(\"4. View inventory\")\n",
    "    print(\"5. Exit\")\n",
    "\n",
    "    choice = input(\"Choose an option (1-5): \")\n",
    "\n",
    "    if choice == \"1\":\n",
    "        # ...\n",
    "    elif choice == \"2\":\n",
    "        # ...\n",
    "    # ...\n",
    "    elif choice == \"5\":\n",
    "        print(\"Goodbye!\")\n",
    "        break\n",
    "    else:\n",
    "        print(\"Invalid choice.\")"
   ]
  },
  {
   "cell_type": "code",
   "execution_count": 46,
   "id": "eda67ee2-4e97-48d4-beb9-011eedb51f93",
   "metadata": {
    "jupyter": {
     "source_hidden": true
    }
   },
   "outputs": [
    {
     "name": "stdout",
     "output_type": "stream",
     "text": [
      "\n",
      "--- Inventory Menu ---\n",
      "1. Add product\n",
      "2. Update stock\n",
      "3. Remove product\n",
      "4. View inventory\n",
      "5. Exit\n"
     ]
    },
    {
     "name": "stdin",
     "output_type": "stream",
     "text": [
      "Choose an option (1-5):  1\n",
      "Product name:  Apple\n",
      "Quantity to add:  10\n"
     ]
    },
    {
     "name": "stdout",
     "output_type": "stream",
     "text": [
      "\n",
      "--- Inventory Menu ---\n",
      "1. Add product\n",
      "2. Update stock\n",
      "3. Remove product\n",
      "4. View inventory\n",
      "5. Exit\n"
     ]
    },
    {
     "name": "stdin",
     "output_type": "stream",
     "text": [
      "Choose an option (1-5):  1\n",
      "Product name:  Banana\n",
      "Quantity to add:  12\n"
     ]
    },
    {
     "name": "stdout",
     "output_type": "stream",
     "text": [
      "\n",
      "--- Inventory Menu ---\n",
      "1. Add product\n",
      "2. Update stock\n",
      "3. Remove product\n",
      "4. View inventory\n",
      "5. Exit\n"
     ]
    },
    {
     "name": "stdin",
     "output_type": "stream",
     "text": [
      "Choose an option (1-5):  4\n"
     ]
    },
    {
     "name": "stdout",
     "output_type": "stream",
     "text": [
      "Apple: 10 pcs\n",
      "Banana: 12 pcs\n",
      "\n",
      "--- Inventory Menu ---\n",
      "1. Add product\n",
      "2. Update stock\n",
      "3. Remove product\n",
      "4. View inventory\n",
      "5. Exit\n"
     ]
    },
    {
     "name": "stdin",
     "output_type": "stream",
     "text": [
      "Choose an option (1-5):  5\n"
     ]
    },
    {
     "name": "stdout",
     "output_type": "stream",
     "text": [
      "Goodbye!\n"
     ]
    }
   ],
   "source": [
    "# Solution:\n",
    "\n",
    "inventory = {}\n",
    "\n",
    "def add_product(name, quantity):\n",
    "    inventory[name] = inventory.get(name, 0) + quantity\n",
    "\n",
    "def remove_product(name):\n",
    "    if name in inventory:\n",
    "        del inventory[name]\n",
    "\n",
    "def update_stock(name, quantity):\n",
    "    if name in inventory:\n",
    "        inventory[name] = quantity\n",
    "\n",
    "def print_inventory():\n",
    "    if not inventory:\n",
    "        print(\"Inventory is empty.\")\n",
    "    else:\n",
    "        for item, qty in inventory.items():\n",
    "            print(f\"{item}: {qty} pcs\")\n",
    "\n",
    "# Menu loop\n",
    "while True:\n",
    "    print(\"\\n--- Inventory Menu ---\")\n",
    "    print(\"1. Add product\")\n",
    "    print(\"2. Update stock\")\n",
    "    print(\"3. Remove product\")\n",
    "    print(\"4. View inventory\")\n",
    "    print(\"5. Exit\")\n",
    "    \n",
    "    choice = input(\"Choose an option (1-5): \")\n",
    "\n",
    "    if choice == \"1\":\n",
    "        name = input(\"Product name: \")\n",
    "        qty = int(input(\"Quantity to add: \"))\n",
    "        add_product(name, qty)\n",
    "    elif choice == \"2\":\n",
    "        name = input(\"Product name: \")\n",
    "        qty = int(input(\"New quantity: \"))\n",
    "        update_stock(name, qty)\n",
    "    elif choice == \"3\":\n",
    "        name = input(\"Product name to remove: \")\n",
    "        remove_product(name)\n",
    "    elif choice == \"4\":\n",
    "        print_inventory()\n",
    "    elif choice == \"5\":\n",
    "        print(\"Goodbye!\")\n",
    "        break\n",
    "    else:\n",
    "        print(\"Invalid choice.\")\n"
   ]
  },
  {
   "cell_type": "markdown",
   "id": "b4cd6c55-bc08-435a-b071-621c8cfd0797",
   "metadata": {},
   "source": [
    "---\n",
    "\n",
    "# Some notes on functions and unpacking"
   ]
  },
  {
   "cell_type": "markdown",
   "id": "a89b2926-1840-4dd3-b147-57e671c6dcec",
   "metadata": {},
   "source": [
    "## [*elems, 1, 2, 3]"
   ]
  },
  {
   "cell_type": "markdown",
   "id": "5a8cba1c-ea9d-4284-b3dc-4e2bdb8b77fe",
   "metadata": {},
   "source": [
    "This syntax is used to unpack elements from a list (or other iterable) and merge them into a new list. The `*` operator unpacks the contents of the iterable at that location in the list. This is useful for combining multiple lists or appending elements in a clean way.\n",
    "\n",
    "Example:\n",
    "```python\n",
    "elems = [10, 20]\n",
    "combined = [*elems, 1, 2, 3]  # [10, 20, 1, 2, 3]\n",
    "```"
   ]
  },
  {
   "cell_type": "markdown",
   "id": "371ba928-fbda-4112-bd3d-a131089fe567",
   "metadata": {},
   "source": [
    "### Exercise: Combine lists with additional values"
   ]
  },
  {
   "cell_type": "markdown",
   "id": "4a3d56cc-cf40-411d-862e-21966c524685",
   "metadata": {},
   "source": [
    "Create a function `append_defaults(values)` that takes a list and returns a new list with `-1, 0, 1` appended at the end using unpacking syntax. Do not use `+` or `.extend()`!"
   ]
  },
  {
   "cell_type": "code",
   "execution_count": null,
   "id": "ba499a88-7f60-4171-b353-bb1e2fc51939",
   "metadata": {},
   "outputs": [],
   "source": [
    "def append_defaults(values):\n",
    "    # Use unpacking to return a new list with -1, 0, 1 at the end\n",
    "    pass"
   ]
  },
  {
   "cell_type": "code",
   "execution_count": null,
   "id": "4748b52b-ad2d-48f6-8653-a93d15a5f89c",
   "metadata": {
    "jupyter": {
     "source_hidden": true
    }
   },
   "outputs": [],
   "source": [
    "# Solution:\n",
    "\n",
    "def append_defaults(values):\n",
    "    return [*values, -1, 0, 1]"
   ]
  },
  {
   "cell_type": "markdown",
   "id": "35386782-28d7-49ea-89db-7219245363a6",
   "metadata": {},
   "source": [
    "## *args"
   ]
  },
  {
   "cell_type": "markdown",
   "id": "9fb8d375-c8e7-41fa-aa36-37c7d20b36f5",
   "metadata": {},
   "source": [
    "`*args` allows a function to accept any number of positional arguments as a tuple. Useful when the number of arguments isn't known in advance.\n",
    "\n",
    "Example:\n",
    "```python\n",
    "def add_all(*args):\n",
    "    return sum(args)\n",
    "\n",
    "add_all(1, 2, 3)  # 6\n",
    "```"
   ]
  },
  {
   "cell_type": "markdown",
   "id": "d80cb686-bbaf-43af-935e-eb8fb91d4d7a",
   "metadata": {},
   "source": [
    "### Exercise: Flexible summer"
   ]
  },
  {
   "cell_type": "markdown",
   "id": "45320580-9fd9-44ac-ba31-cadb2cd7eab9",
   "metadata": {},
   "source": [
    "Create a function `multiply_and_sum(multiplier, *numbers)` that multiplies each number by `multiplier` and returns their sum."
   ]
  },
  {
   "cell_type": "code",
   "execution_count": null,
   "id": "826762d3-d691-46ea-bb1e-621d17ef1f16",
   "metadata": {},
   "outputs": [],
   "source": [
    "def multiply_and_sum(multiplier, *numbers):\n",
    "    # Multiply each number in *numbers by multiplier and return the sum\n",
    "    pass"
   ]
  },
  {
   "cell_type": "code",
   "execution_count": null,
   "id": "3ca42d91-3b57-48b1-96bf-2ea579dad001",
   "metadata": {
    "jupyter": {
     "source_hidden": true
    }
   },
   "outputs": [],
   "source": [
    "# Solution:\n",
    "\n",
    "def multiply_and_sum(multiplier, *numbers):\n",
    "    return sum(multiplier * n for n in numbers)"
   ]
  },
  {
   "cell_type": "markdown",
   "id": "7b251a1c-e1ca-4878-863d-e7f69eb14b97",
   "metadata": {},
   "source": [
    "## {**dict, \"a\": 1, \"b\": 3}"
   ]
  },
  {
   "cell_type": "markdown",
   "id": "3df0f6a4-d97a-464c-a777-40f1bc6a8aca",
   "metadata": {},
   "source": [
    "The `**` operator is used to unpack key-value pairs from dictionaries. It allows you to merge multiple dictionaries. When there are overlapping keys, later values override earlier ones.\n",
    "\n",
    "Example:\n",
    "```python\n",
    "d1 = {\"x\": 10, \"y\": 20}\n",
    "merged = {**d1, \"y\": 99, \"z\": 100}  # {'x': 10, 'y': 99, 'z': 100}\n",
    "```"
   ]
  },
  {
   "cell_type": "markdown",
   "id": "fed66cc7-526b-47b3-9954-4c85f031c358",
   "metadata": {},
   "source": [
    "### Exercise: Merge user configs"
   ]
  },
  {
   "cell_type": "markdown",
   "id": "939a7e23-1ecf-46c0-b72e-908a8dff31c5",
   "metadata": {},
   "source": [
    "Write a function `merge_with_defaults(user_config)` that merges a default config `{\"theme\": \"light\", \"lang\": \"en\"}` with a user-provided config using dictionary unpacking."
   ]
  },
  {
   "cell_type": "code",
   "execution_count": null,
   "id": "2665008c-2072-4ac2-b0d7-45f22ae45cbb",
   "metadata": {},
   "outputs": [],
   "source": [
    "def merge_with_defaults(user_config):\n",
    "    # Merge with default config using ** unpacking\n",
    "    pass"
   ]
  },
  {
   "cell_type": "code",
   "execution_count": null,
   "id": "2ee754b1-70db-41df-8841-d437382a243c",
   "metadata": {
    "jupyter": {
     "source_hidden": true
    }
   },
   "outputs": [],
   "source": [
    "# Solution:\n",
    "\n",
    "def merge_with_defaults(user_config):\n",
    "    defaults = {\"theme\": \"light\", \"lang\": \"en\"}\n",
    "    return {**defaults, **user_config}"
   ]
  },
  {
   "cell_type": "markdown",
   "id": "1d64a0f3-28f0-4a12-b79e-1e6e5d6d8616",
   "metadata": {},
   "source": [
    "## **kwargs"
   ]
  },
  {
   "cell_type": "markdown",
   "id": "aecb352f-f2f6-4290-a35a-98db8a13b00a",
   "metadata": {},
   "source": [
    "`**kwargs` allows a function to accept any number of keyword arguments as a dictionary. It's useful when you want to pass dynamic or optional named parameters.\n",
    "\n",
    "Example:\n",
    "```python\n",
    "def greet(**kwargs):\n",
    "    print(f\"Hello, {kwargs.get('name', 'Guest')}!\")\n",
    "\n",
    "greet(name=\"Alice\")  # Hello, Alice!\n",
    "```"
   ]
  },
  {
   "cell_type": "markdown",
   "id": "f8b1abf5-160b-4ecb-8ee5-21dc47b1cc6a",
   "metadata": {},
   "source": [
    "### Exercise: Pretty printer"
   ]
  },
  {
   "cell_type": "markdown",
   "id": "368af781-6cb0-4958-a67b-dd78bf600ea5",
   "metadata": {},
   "source": [
    "Implement a function `debug_print(**kwargs)` that prints each key-value pair on its own line in the format `key = value`."
   ]
  },
  {
   "cell_type": "code",
   "execution_count": null,
   "id": "8896f328-ca8b-4252-85c6-6f36bb0bde49",
   "metadata": {},
   "outputs": [],
   "source": [
    "def debug_print(**kwargs):\n",
    "    # Print each key-value pair using a for loop\n",
    "    pass"
   ]
  },
  {
   "cell_type": "code",
   "execution_count": null,
   "id": "93ecfd62-a2b6-4091-8263-cc5792076399",
   "metadata": {
    "jupyter": {
     "source_hidden": true
    }
   },
   "outputs": [],
   "source": [
    "# Solution:\n",
    "\n",
    "def debug_print(**kwargs):\n",
    "    for k, v in kwargs.items():\n",
    "        print(f\"{k} = {v}\")"
   ]
  },
  {
   "cell_type": "markdown",
   "id": "86788904-a7a0-4713-863b-7a285b681601",
   "metadata": {},
   "source": [
    "## \"*\" as a \"function parameter\""
   ]
  },
  {
   "cell_type": "markdown",
   "id": "302c17f6-cbc9-4978-a055-70646ae15940",
   "metadata": {},
   "source": [
    "Placing `*` in a function definition forces the caller to use keyword arguments for parameters that follow it. It helps clarify function calls and prevent positional errors.\n",
    "\n",
    "Example:\n",
    "```python\n",
    "def configure(*, host, port=80):\n",
    "    print(f\"Connecting to {host}:{port}\")\n",
    "\n",
    "configure(host=\"localhost\", port=8080)  # OK\n",
    "configure(\"localhost\", 8080)  # Error\n",
    "```"
   ]
  },
  {
   "cell_type": "markdown",
   "id": "faf549c5-233f-45cb-9a6d-0413525fb29e",
   "metadata": {},
   "source": [
    "### Exercise: Force keyword-only arguments"
   ]
  },
  {
   "cell_type": "markdown",
   "id": "1b237fc4-34a9-41b7-8087-6c885b9878f8",
   "metadata": {},
   "source": [
    "Write a function `create_user(...)` that returns a dict with `{\"name\": ..., \"age\": ...}`. Make sure both arguments must be passed as keyword arguments."
   ]
  },
  {
   "cell_type": "code",
   "execution_count": null,
   "id": "4ad146be-58c2-4870-af73-9668665b2f28",
   "metadata": {},
   "outputs": [],
   "source": [
    "def create_user(...):\n",
    "    # Return a dictionary with keys 'name' and 'age'\n",
    "    pass"
   ]
  },
  {
   "cell_type": "code",
   "execution_count": null,
   "id": "1142eae9-32d0-4e05-b16e-6eb95303c9da",
   "metadata": {
    "jupyter": {
     "source_hidden": true
    }
   },
   "outputs": [],
   "source": [
    "# Solution:\n",
    "\n",
    "def create_user(*, name, age):\n",
    "    return {\"name\": name, \"age\": age}"
   ]
  },
  {
   "cell_type": "markdown",
   "id": "e0331dba-c299-40a1-8f3e-1e0c8b505fb1",
   "metadata": {},
   "source": [
    "# Object-Oriented Programming: Classes and Objects\n",
    "\n",
    "In Python, classes let you model real-world concepts as programmable objects. The `__init__` method is a special method (dunder method) that runs when a new instance is created. It’s commonly used to initialize instance variables.\n",
    "\n",
    "A **class** defines the structure and behavior.  \n",
    "An **object** is a concrete instance of a class.\n",
    "\n",
    "### Class variables\n",
    "\n",
    "Class variables are shared across all instances of a class, unlike instance variables which are specific to each object.\n",
    "\n",
    "Example:\n",
    "```python\n",
    "class Spaceship:\n",
    "    fleet_count = 0  # Class variable\n",
    "\n",
    "    def __init__(self, name, max_speed):\n",
    "        self.name = name  # Instance variable\n",
    "        self.max_speed = max_speed\n",
    "        Spaceship.fleet_count += 1  # Increase global fleet size on creation\n",
    "```\n"
   ]
  },
  {
   "cell_type": "code",
   "execution_count": 1,
   "id": "fb354d71-63be-4f5f-9fc9-635f3c00792e",
   "metadata": {},
   "outputs": [
    {
     "name": "stdout",
     "output_type": "stream",
     "text": [
      "Rex says woof!\n"
     ]
    }
   ],
   "source": [
    "# A simple class\n",
    "class Dog:\n",
    "    def __init__(self, name, age):\n",
    "        self.name = name\n",
    "        self.age = age\n",
    "\n",
    "    def bark(self):\n",
    "        print(f\"{self.name} says woof!\")\n",
    "\n",
    "# Creating an object\n",
    "my_dog = Dog(\"Rex\", 5)\n",
    "my_dog.bark()\n"
   ]
  },
  {
   "cell_type": "markdown",
   "id": "5aab3d9b-c76d-4d25-8198-bd2cf89c541e",
   "metadata": {},
   "source": [
    "## Key Concepts:\n",
    "- `__init__`: constructor (called when the object is created)\n",
    "- `self`: refers to the instance itself\n",
    "- attributes: stored data (e.g. name, age)\n",
    "- methods: functions inside the class"
   ]
  },
  {
   "cell_type": "markdown",
   "id": "d9bd5099-d923-46b8-bff2-db0d228f4c8a",
   "metadata": {},
   "source": [
    "\n",
    "### Exercise: Spaceship Counter\n",
    "Create a `Spaceship` class with:\n",
    "- A class variable `fleet_count` initialized to 0\n",
    "- An `__init__` method that accepts `name` and `crew_size`, stores them, and increments `fleet_count`\n",
    "- Create 3 spaceships and print `fleet_count` after each creation\n"
   ]
  },
  {
   "cell_type": "code",
   "execution_count": null,
   "id": "9654c13b-ca28-47f5-bfa4-37c9003fc554",
   "metadata": {},
   "outputs": [],
   "source": [
    "\n",
    "class Spaceship:\n",
    "    pass\n"
   ]
  },
  {
   "cell_type": "code",
   "execution_count": 72,
   "id": "23087dd7-82a7-4d65-b1ec-530cf9367012",
   "metadata": {
    "jupyter": {
     "source_hidden": true
    }
   },
   "outputs": [
    {
     "name": "stdout",
     "output_type": "stream",
     "text": [
      "1\n",
      "2\n",
      "3\n"
     ]
    }
   ],
   "source": [
    "# Solution:\n",
    "\n",
    "class Spaceship:\n",
    "    fleet_count = 0\n",
    "\n",
    "    def __init__(self, name, crew_size):\n",
    "        self.name = name\n",
    "        self.crew_size = crew_size\n",
    "        Spaceship.fleet_count += 1\n",
    "\n",
    "s1 = Spaceship(\"Apollo\", 5)\n",
    "print(Spaceship.fleet_count)\n",
    "s2 = Spaceship(\"Orion\", 7)\n",
    "print(Spaceship.fleet_count)\n",
    "s3 = Spaceship(\"Falcon\", 10)\n",
    "print(Spaceship.fleet_count)\n"
   ]
  },
  {
   "cell_type": "markdown",
   "id": "16e660fb-c3e5-417c-a23c-78ab31f70225",
   "metadata": {},
   "source": [
    "\n",
    "### Methods and `self`\n",
    "\n",
    "A method is a function defined inside a class. It always takes `self` as the first argument, which refers to the instance calling the method. Use it to access or modify instance variables.\n",
    "\n",
    "Example:\n",
    "```python\n",
    "class Spaceship:\n",
    "    def __init__(self, name):\n",
    "        self.name = name\n",
    "\n",
    "    def launch(self):\n",
    "        print(f\"{self.name} is launching into space!\")\n",
    "```\n"
   ]
  },
  {
   "cell_type": "markdown",
   "id": "62346adc-4d83-46c0-9ec6-2f2dedfbb690",
   "metadata": {},
   "source": [
    "\n",
    "### Exercise: Ship Status Reporter\n",
    "Extend the `Spaceship` class:\n",
    "- Add a method `report_status()` that prints:\n",
    "  \"`<name>` has `<crew_size>` crew members on board.\"\n",
    "- Create 2 ships and call `report_status()` on both\n"
   ]
  },
  {
   "cell_type": "code",
   "execution_count": null,
   "id": "c5b19780-c968-425e-a62a-ddd8b5b1ced8",
   "metadata": {},
   "outputs": [],
   "source": [
    "\n",
    "class Spaceship:\n",
    "    def __init__(self, name, crew_size):\n",
    "        self.name = name\n",
    "        self.crew_size = crew_size\n"
   ]
  },
  {
   "cell_type": "code",
   "execution_count": 73,
   "id": "241da1bd-c4fc-43cc-a0c7-610fba847c20",
   "metadata": {
    "jupyter": {
     "source_hidden": true
    }
   },
   "outputs": [
    {
     "name": "stdout",
     "output_type": "stream",
     "text": [
      "Voyager has 8 crew members on board.\n",
      "Enterprise has 15 crew members on board.\n"
     ]
    }
   ],
   "source": [
    "# Solution:\n",
    "\n",
    "class Spaceship:\n",
    "    def __init__(self, name, crew_size):\n",
    "        self.name = name\n",
    "        self.crew_size = crew_size\n",
    "\n",
    "    def report_status(self):\n",
    "        print(f\"{self.name} has {self.crew_size} crew members on board.\")\n",
    "\n",
    "ship1 = Spaceship(\"Voyager\", 8)\n",
    "ship2 = Spaceship(\"Enterprise\", 15)\n",
    "\n",
    "ship1.report_status()\n",
    "ship2.report_status()\n"
   ]
  },
  {
   "cell_type": "markdown",
   "id": "b17f4a6b-010c-4619-b25d-6a891bb8fb86",
   "metadata": {},
   "source": [
    "## Dunder Methods\n",
    "\n",
    "\"Dunder\" methods (short for double-underscore) let you define behavior for built-in operations, such as `str()`, `len()`, `+`, etc.\n",
    "\n",
    "Example:\n",
    "```python\n",
    "class Spaceship:\n",
    "    def __init__(self, name):\n",
    "        self.name = name\n",
    "\n",
    "    def __str__(self):\n",
    "        return f\"Spaceship named {self.name}\"\n",
    "```\n",
    "\n",
    "\n",
    "Here are some of the most commonly used dunder methods:\n",
    "\n",
    "| Method        | Triggered by                | Purpose                             |\n",
    "|---------------|-----------------------------|-------------------------------------|\n",
    "| `__init__`    | `ClassName(...)`            | Constructor, initializes object     |\n",
    "| `__str__`     | `str(obj)` or `print(obj)`  | Human-readable string representation|\n",
    "| `__repr__`    | `repr(obj)` or REPL         | Debugging-friendly representation   |\n",
    "| `__len__`     | `len(obj)`                  | Length of object                    |\n",
    "| `__eq__`      | `obj1 == obj2`              | Equality comparison                 |\n",
    "| `__lt__`      | `obj1 < obj2`               | Less-than comparison                |\n",
    "| `__add__`     | `obj1 + obj2`               | Addition behavior                   |\n",
    "\n",
    "Full list: [Python Data Model Docs](https://docs.python.org/3/reference/datamodel.html)"
   ]
  },
  {
   "cell_type": "code",
   "execution_count": 3,
   "id": "621e7093-6c11-4b43-9a8d-87afa54a9f1c",
   "metadata": {},
   "outputs": [
    {
     "name": "stdout",
     "output_type": "stream",
     "text": [
      "Python 101 (250 pages)\n",
      "Pages: 250\n",
      "True\n"
     ]
    }
   ],
   "source": [
    "class Book:\n",
    "    def __init__(self, title, pages):\n",
    "        self.title = title\n",
    "        self.pages = pages\n",
    "\n",
    "    def __str__(self):\n",
    "        return f\"{self.title} ({self.pages} pages)\"\n",
    "\n",
    "    def __len__(self):\n",
    "        return self.pages\n",
    "\n",
    "    def __eq__(self, other):\n",
    "        return self.pages == other.pages\n",
    "\n",
    "b1 = Book(\"Python 101\", 250)\n",
    "b2 = Book(\"Fluent Python\", 250)\n",
    "\n",
    "print(str(b1))           # Calls __str__\n",
    "print(\"Pages:\", len(b1)) # Calls __len__\n",
    "print(b1 == b2)          # Calls __eq__"
   ]
  },
  {
   "cell_type": "markdown",
   "id": "25d86599-f758-4295-b110-64d3a128f219",
   "metadata": {},
   "source": [
    "\n",
    "## Exercise: Stringify a Ship\n",
    "Add a `__str__()` method to your `Spaceship` class that returns a readable description:\n",
    "\"`<name>` spaceship with `<crew_size>` crew members\"\n",
    "\n",
    "- Create an instance\n",
    "- Print the instance (should invoke `__str__`)\n"
   ]
  },
  {
   "cell_type": "code",
   "execution_count": null,
   "id": "7a68e49e-b5c4-4503-b9a4-1c7ca2bc2992",
   "metadata": {},
   "outputs": [],
   "source": [
    "\n",
    "class Spaceship:\n",
    "    def __init__(self, name, crew_size):\n",
    "        self.name = name\n",
    "        self.crew_size = crew_size\n"
   ]
  },
  {
   "cell_type": "code",
   "execution_count": 74,
   "id": "b67ae6ed-939b-4ed2-8d50-3a21c43d4bb4",
   "metadata": {
    "jupyter": {
     "source_hidden": true
    }
   },
   "outputs": [
    {
     "name": "stdout",
     "output_type": "stream",
     "text": [
      "Atlantis spaceship with 6 crew members\n"
     ]
    }
   ],
   "source": [
    "# Solution:\n",
    "\n",
    "class Spaceship:\n",
    "    def __init__(self, name, crew_size):\n",
    "        self.name = name\n",
    "        self.crew_size = crew_size\n",
    "\n",
    "    def __str__(self):\n",
    "        return f\"{self.name} spaceship with {self.crew_size} crew members\"\n",
    "\n",
    "s = Spaceship(\"Atlantis\", 6)\n",
    "print(s)\n"
   ]
  },
  {
   "cell_type": "markdown",
   "id": "08dff388-f1ca-4d62-86bb-970e6dcb8c58",
   "metadata": {},
   "source": [
    "## Inheritance\n",
    "\n",
    "Inheritance allows one class (child) to reuse the properties and methods of another (parent).\n",
    "\n",
    "This helps avoid code duplication and supports hierarchical relationships.\n",
    "\n",
    "### Key points:\n",
    "- Use `class SubClass(ParentClass):` to define inheritance.\n",
    "- Use `super().__init__()` to call the parent’s constructor.\n",
    "- You can override parent methods in the child class."
   ]
  },
  {
   "cell_type": "code",
   "execution_count": 4,
   "id": "f1371eae-668a-40e6-b05d-ecfcb678c16e",
   "metadata": {},
   "outputs": [
    {
     "name": "stdout",
     "output_type": "stream",
     "text": [
      "Generic vehicle started.\n",
      "Toyota Corolla engine started.\n"
     ]
    }
   ],
   "source": [
    "class Vehicle:\n",
    "    def __init__(self, brand):\n",
    "        self.brand = brand\n",
    "\n",
    "    def start(self):\n",
    "        print(f\"{self.brand} vehicle started.\")\n",
    "\n",
    "class Car(Vehicle):  # Car inherits from Vehicle\n",
    "    def __init__(self, brand, model):\n",
    "        super().__init__(brand)  # Call parent constructor\n",
    "        self.model = model\n",
    "\n",
    "    def start(self):\n",
    "        print(f\"{self.brand} {self.model} engine started.\")\n",
    "\n",
    "v = Vehicle(\"Generic\")\n",
    "v.start()\n",
    "\n",
    "c = Car(\"Toyota\", \"Corolla\")\n",
    "c.start()\n"
   ]
  },
  {
   "cell_type": "markdown",
   "id": "018f7c70-5266-4ee6-862c-66ee870537c9",
   "metadata": {},
   "source": [
    "### Exercise: Build Your Own Animal Class\n",
    "\n",
    "Create two classes: `Animal` and `Dog`.\n",
    "\n",
    "- `Animal` should have:\n",
    "  - `name` and `species` attributes\n",
    "  - `speak()` method that prints a generic sound\n",
    "\n",
    "- `Dog` should:\n",
    "  - Inherit from `Animal`\n",
    "  - Override the `speak()` method to print \"Woof!\"\n",
    "  - Use `__str__` to return a string like: `\"Dog named Max\"`\n",
    "\n",
    "Test your classes by creating and printing a `Dog` object."
   ]
  },
  {
   "cell_type": "code",
   "execution_count": null,
   "id": "da8b773a-b7e6-4ce1-898b-cc097500f126",
   "metadata": {},
   "outputs": [],
   "source": [
    "class # ...\n",
    "\n",
    "# ...\n",
    "\n",
    "# Test\n",
    "d = Dog(\"Max\")\n",
    "d.speak()\n",
    "print(d)"
   ]
  },
  {
   "cell_type": "code",
   "execution_count": 6,
   "id": "5f822e55-4b16-4473-ba41-5d0fa3341b7c",
   "metadata": {
    "jupyter": {
     "source_hidden": true
    }
   },
   "outputs": [
    {
     "name": "stdout",
     "output_type": "stream",
     "text": [
      "Woof!\n",
      "Dog named Max\n"
     ]
    }
   ],
   "source": [
    "# Solution:\n",
    "\n",
    "class Animal:\n",
    "    def __init__(self, name, species):\n",
    "        self.name = name\n",
    "        self.species = species\n",
    "\n",
    "    def speak(self):\n",
    "        print(\"Some generic animal sound.\")\n",
    "\n",
    "    def __str__(self):\n",
    "        return f\"{self.species} named {self.name}\"\n",
    "\n",
    "class Dog(Animal):\n",
    "    def __init__(self, name):\n",
    "        super().__init__(name, \"Dog\")\n",
    "\n",
    "    def speak(self):\n",
    "        print(\"Woof!\")\n",
    "\n",
    "# Test\n",
    "d = Dog(\"Max\")\n",
    "d.speak()\n",
    "print(d)"
   ]
  },
  {
   "cell_type": "markdown",
   "id": "3d84fe79-eefc-4e27-82b7-6b7725e41d99",
   "metadata": {},
   "source": [
    "### 3. Multiple Inheritance\n",
    "\n",
    "#### Understanding Inheritance\n",
    "\n",
    "Inheritance allows a class to inherit attributes and methods from another class. Multiple inheritance extends this concept, allowing a class to inherit from more than one base class.\n",
    "\n",
    "#### Basics of Multiple Inheritance\n",
    "\n",
    "**Example:**"
   ]
  },
  {
   "cell_type": "code",
   "execution_count": 17,
   "id": "2a847ff3-700d-493f-a4a1-0bdb55142c49",
   "metadata": {},
   "outputs": [
    {
     "name": "stdout",
     "output_type": "stream",
     "text": [
      "Method from Base1\n",
      "Method from Base2\n"
     ]
    }
   ],
   "source": [
    "class Base1:\n",
    "    def method1(self):\n",
    "        print(\"Method from Base1\")\n",
    "\n",
    "class Base2:\n",
    "    def method2(self):\n",
    "        print(\"Method from Base2\")\n",
    "\n",
    "class Derived(Base1, Base2):\n",
    "    pass\n",
    "\n",
    "obj = Derived()\n",
    "obj.method1()\n",
    "obj.method2()"
   ]
  },
  {
   "cell_type": "markdown",
   "id": "ee891087-0744-421e-baad-ec64c8872ef9",
   "metadata": {},
   "source": [
    "#### Method Resolution Order (MRO)\n",
    "\n",
    "The Method Resolution Order (MRO) determines the order in which base classes are searched when executing a method. Python uses the [C3 linearization algorithm](https://en.wikipedia.org/wiki/C3_linearization) for this.\n",
    "\n",
    "The following example demonstrates Python's MRO using [diamond problem](https://en.wikipedia.org/wiki/Multiple_inheritance#The_diamond_problem):"
   ]
  },
  {
   "cell_type": "code",
   "execution_count": 21,
   "id": "f7eabf4c-954a-4f83-b72f-0cd411a85714",
   "metadata": {},
   "outputs": [
    {
     "name": "stdout",
     "output_type": "stream",
     "text": [
      "Method from B\n",
      "[<class '__main__.D'>, <class '__main__.B'>, <class '__main__.C'>, <class '__main__.A'>, <class 'object'>]\n"
     ]
    }
   ],
   "source": [
    "class A:\n",
    "    def method(self):\n",
    "        print(\"Method from A\")\n",
    "\n",
    "class B(A):\n",
    "    def method(self):\n",
    "        print(\"Method from B\")\n",
    "\n",
    "class C(A):\n",
    "    def method(self):\n",
    "        print(\"Method from C\")\n",
    "\n",
    "class D(B, C):\n",
    "    pass\n",
    "\n",
    "d = D()\n",
    "d.method()\n",
    "print(D.mro())"
   ]
  },
  {
   "cell_type": "markdown",
   "id": "65a3c106-5eb9-437b-b1cb-781d17121dc8",
   "metadata": {},
   "source": [
    "#### The C3 linearization algorithm\n",
    "\n",
    "The C3 linearization algorithm is used in object-oriented programming to determine the method resolution order (MRO) in languages that support multiple inheritance, such as Python. It ensures that the order of method inheritance is both consistent and predictable. The algorithm is designed to maintain three key properties:\n",
    "\n",
    "1. **Preservation of Local Precedence Order:** The order of classes in the MRO of a class should respect the order of its immediate superclasses.\n",
    "2. **Monotonicity:** The MRO must be linear, meaning if class A is a subclass of class B, then B must appear before A in the MRO.\n",
    "3. **Resolution of Ties:** When multiple classes are candidates for the next position in the MRO, the earliest one in the linearizations of the classes involved is chosen.\n",
    "\n",
    "C3 linearization works by combining the MROs of the parent classes in a specific way. The algorithm proceeds as follows:\n",
    "\n",
    "1. **Start with the current class.**\n",
    "2. **Iterate over each parent class in the order they are listed in the class definition.**\n",
    "3. **For each parent class, merge its MRO with the MROs of its ancestors.**\n",
    "4. **Select the first class in the merged lists that does not appear later in any of the lists (to maintain the precedence order).**\n",
    "5. **Repeat until all classes are processed.**\n",
    "\n",
    "This method ensures that all dependencies and inheritance relationships are respected while resolving ambiguities that can arise from multiple inheritance."
   ]
  },
  {
   "cell_type": "markdown",
   "id": "93e63edd-4510-49a2-a0de-3c0d8bcdec7b",
   "metadata": {},
   "source": [
    "---\n",
    "\n",
    "# Python Iterators\n",
    "\n",
    "Python iterators are a fundamental concept for handling sequences of data efficiently. They are widely used due to their memory efficiency and clear, readable syntax. This tutorial will cover:\n",
    "\n",
    "1. **What are Iterators?**\n",
    "2. **The Iterator Protocol**\n",
    "3. **Built-in Iterators and Iterable Objects**\n",
    "4. **Custom Iterators**\n",
    "5. **Generator Functions and Expressions**\n",
    "6. **Performance Characteristics**\n",
    "7. **Comparisons with Other Constructs**\n",
    "\n",
    "#### 1. What are Iterators?\n",
    "\n",
    "An iterator is an object that contains a countable number of values and can be iterated upon, meaning you can traverse through all the values. In Python, an iterator implements two essential methods: `__iter__()` and `__next__()`.\n",
    "\n",
    "**Example:**"
   ]
  },
  {
   "cell_type": "code",
   "execution_count": 1,
   "id": "aff2807b-da20-49fa-98c3-c537b427a7d0",
   "metadata": {},
   "outputs": [
    {
     "name": "stdout",
     "output_type": "stream",
     "text": [
      "1\n",
      "2\n",
      "3\n"
     ]
    },
    {
     "ename": "StopIteration",
     "evalue": "",
     "output_type": "error",
     "traceback": [
      "\u001b[1;31m---------------------------------------------------------------------------\u001b[0m",
      "\u001b[1;31mStopIteration\u001b[0m                             Traceback (most recent call last)",
      "Cell \u001b[1;32mIn[1], line 7\u001b[0m\n\u001b[0;32m      5\u001b[0m \u001b[38;5;28mprint\u001b[39m(\u001b[38;5;28mnext\u001b[39m(iterator))  \u001b[38;5;66;03m# Output: 2\u001b[39;00m\n\u001b[0;32m      6\u001b[0m \u001b[38;5;28mprint\u001b[39m(\u001b[38;5;28mnext\u001b[39m(iterator))  \u001b[38;5;66;03m# Output: 3\u001b[39;00m\n\u001b[1;32m----> 7\u001b[0m \u001b[38;5;28mprint\u001b[39m(\u001b[38;5;28;43mnext\u001b[39;49m\u001b[43m(\u001b[49m\u001b[43miterator\u001b[49m\u001b[43m)\u001b[49m)  \u001b[38;5;66;03m# Output: 3\u001b[39;00m\n",
      "\u001b[1;31mStopIteration\u001b[0m: "
     ]
    }
   ],
   "source": [
    "my_list = [1, 2, 3]\n",
    "iterator = iter(my_list)  # Creates an iterator from the list\n",
    "\n",
    "print(next(iterator))  # Output: 1\n",
    "print(next(iterator))  # Output: 2\n",
    "print(next(iterator))  # Output: 3\n",
    "print(next(iterator))  # Output: StopIteration exception: the iterator has been exhausted"
   ]
  },
  {
   "cell_type": "markdown",
   "id": "ce86e5c4-d9e3-4123-acc2-79e49bc38d71",
   "metadata": {},
   "source": [
    "#### 2. The Iterator Protocol\n",
    "\n",
    "The Iterator Protocol is a fancy-sounding term that means \"the way Python's for loops work\". The iterator protocol consists of two methods:\n",
    "\n",
    "- `__iter__()`: This method returns the iterator object itself and is called once.\n",
    "- `__next__()`: This method returns the next value and raises a `StopIteration` exception when no more values are available.\n",
    "\n",
    "**Example of a simple iterator class:**"
   ]
  },
  {
   "cell_type": "code",
   "execution_count": 31,
   "id": "15f51ee1-eb3d-4ba8-81d2-36cdf17ba794",
   "metadata": {},
   "outputs": [
    {
     "name": "stdout",
     "output_type": "stream",
     "text": [
      "1\n",
      "2\n",
      "3\n"
     ]
    }
   ],
   "source": [
    "class MyIterator:\n",
    "    def __init__(self, data):\n",
    "        self.data = data\n",
    "        self.index = 0\n",
    "\n",
    "    def __iter__(self):\n",
    "        return self\n",
    "\n",
    "    def __next__(self):\n",
    "        if self.index < len(self.data):\n",
    "            result = self.data[self.index]\n",
    "            self.index += 1\n",
    "            return result\n",
    "        else:\n",
    "            raise StopIteration\n",
    "\n",
    "my_iter = MyIterator([1, 2, 3])\n",
    "for item in my_iter:\n",
    "    print(item)"
   ]
  },
  {
   "cell_type": "markdown",
   "id": "d32c8db9-9d9f-46f4-b13d-86f5cc4ca3c7",
   "metadata": {},
   "source": [
    "### Exercise: Fractional Range Iterator\n",
    "\n",
    "#### Objective:\n",
    "Build an advanced iterator class that generates fractional numbers within a given range. This exercise will help you practice creating custom iterators.\n",
    "\n",
    "#### Exercise Description:\n",
    "You are to create a custom iterator class `FractionalRange` that behaves similarly to Python's built-in `range()` [function](https://docs.python.org/3/library/functions.html#func-range) but supports fractional values. This class should accept three parameters: `start`, `stop`, and `step`. It should generate numbers starting from `start` up to but not including `stop`, with increments of `step`.\n",
    "\n",
    "1. **Initialization (`__init__`)**:\n",
    "   - `start`: The starting value of the sequence.\n",
    "   - `stop`: The end value of the sequence (not inclusive).\n",
    "   - `step`: The increment value for each step.\n",
    "\n",
    "2. **Iteration Methods**:\n",
    "   - `__iter__`: Should return the iterator object itself.\n",
    "   - `__next__`: Should return the next value in the sequence and raise `StopIteration` when the end of the range is reached.\n",
    "\n",
    "3. **Edge Cases**:\n",
    "   - Handle cases where `step` is zero (which should raise a `ValueError`).\n",
    "   - Ensure that if `start` is equal to `stop`, the iterator doesn't generate any values.\n",
    "\n",
    "#### Requirements:\n",
    "- Implement the `FractionalRange` class based on the above specifications.\n",
    "- Test the code using the presented test-cases to verify that the iterator works correctly with integer and fractional steps.\n",
    "- Make sure to handle potential edge cases and errors."
   ]
  },
  {
   "cell_type": "code",
   "execution_count": null,
   "id": "e4b5fc6a-fa70-4b6b-8f28-d8d0c9a340f0",
   "metadata": {},
   "outputs": [],
   "source": [
    "\n",
    "# Step 1: implement the iterator class\n",
    "class FractionalRange:\n",
    "    # ...\n",
    "\n",
    "# Test code:\n",
    "print(\"Fractional range with integer step:\")\n",
    "for num in FractionalRange(0, 5, 1):\n",
    "    print(num)\n",
    "\n",
    "# Expected output:\n",
    "# Fractional range with integer step:\n",
    "# 0\n",
    "# 1\n",
    "# 2\n",
    "# 3\n",
    "# 4\n",
    "\n",
    "print(\"\\nFractional range with fractional step:\")\n",
    "for num in FractionalRange(0.5, 2.0, 0.5):\n",
    "    print(num)\n",
    "\n",
    "# Expected output:\n",
    "# Fractional range with fractional step:\n",
    "# 0.5\n",
    "# 1.0\n",
    "# 1.5\n",
    "\n",
    "print(\"\\nFractional range with negative step:\")\n",
    "for num in FractionalRange(5, 0, -1):\n",
    "    print(num)\n",
    "\n",
    "# Expected output:\n",
    "# Fractional range with negative step:\n",
    "# 5\n",
    "# 4\n",
    "# 3\n",
    "# 2\n",
    "# 1\n",
    "\n",
    "print(\"\\nEdge case with zero step:\")\n",
    "try:\n",
    "    for num in FractionalRange(0, 5, 0):\n",
    "        print(num)\n",
    "except ValueError as e:\n",
    "    print(e)\n",
    "\n",
    "# Expected output:\n",
    "# Edge case with zero step:\n",
    "# Step cannot be zero."
   ]
  },
  {
   "cell_type": "code",
   "execution_count": 6,
   "id": "63807441-42fb-4c2b-82e8-186c8cedbbec",
   "metadata": {
    "jupyter": {
     "source_hidden": true
    }
   },
   "outputs": [
    {
     "name": "stdout",
     "output_type": "stream",
     "text": [
      "Fractional range with integer step:\n",
      "0\n",
      "1\n",
      "2\n",
      "3\n",
      "4\n",
      "\n",
      "Fractional range with fractional step:\n",
      "0.5\n",
      "1.0\n",
      "1.5\n",
      "\n",
      "Fractional range with negative step:\n",
      "5\n",
      "4\n",
      "3\n",
      "2\n",
      "1\n",
      "\n",
      "Edge case with zero step:\n",
      "Step cannot be zero.\n"
     ]
    }
   ],
   "source": [
    "# Solution\n",
    "\n",
    "# Step 1: implement the iterator class\n",
    "class FractionalRange:\n",
    "    def __init__(self, start, stop, step):\n",
    "        if step == 0:\n",
    "            raise ValueError(\"Step cannot be zero.\")\n",
    "        self.start = start\n",
    "        self.stop = stop\n",
    "        self.step = step\n",
    "        self.current = start\n",
    "\n",
    "    def __iter__(self):\n",
    "        return self\n",
    "\n",
    "    def __next__(self):\n",
    "        if (self.step > 0 and self.current >= self.stop) or (self.step < 0 and self.current <= self.stop):\n",
    "            raise StopIteration\n",
    "        result = self.current\n",
    "        self.current += self.step\n",
    "        return result\n",
    "\n",
    "# Test code:\n",
    "print(\"Fractional range with integer step:\")\n",
    "for num in FractionalRange(0, 5, 1):\n",
    "    print(num)\n",
    "\n",
    "print(\"\\nFractional range with fractional step:\")\n",
    "for num in FractionalRange(0.5, 2.0, 0.5):\n",
    "    print(num)\n",
    "\n",
    "print(\"\\nFractional range with negative step:\")\n",
    "for num in FractionalRange(5, 0, -1):\n",
    "    print(num)\n",
    "\n",
    "print(\"\\nEdge case with zero step:\")\n",
    "try:\n",
    "    for num in FractionalRange(0, 5, 0):\n",
    "        print(num)\n",
    "except ValueError as e:\n",
    "    print(e)"
   ]
  },
  {
   "cell_type": "markdown",
   "id": "1033c474-7714-4556-b34c-5e2e26d229f5",
   "metadata": {},
   "source": [
    "#### 3. Built-in Iterators and Iterable Objects\n",
    "\n",
    "Python provides several built-in iterable objects such as lists, tuples, and dictionaries. The `iter()` function can be used to obtain an iterator from these objects.\n",
    "\n",
    "**Example:**"
   ]
  },
  {
   "cell_type": "code",
   "execution_count": 7,
   "id": "138e3903-76fc-417e-b82f-c9d386ca22fc",
   "metadata": {},
   "outputs": [
    {
     "name": "stdout",
     "output_type": "stream",
     "text": [
      "1\n",
      "2\n",
      "3\n"
     ]
    }
   ],
   "source": [
    "my_list = [1, 2, 3]\n",
    "my_iter = iter(my_list)\n",
    "\n",
    "while True:\n",
    "    try:\n",
    "        print(next(my_iter))\n",
    "    except StopIteration:\n",
    "        break"
   ]
  },
  {
   "cell_type": "markdown",
   "id": "37e9b38b-5a44-4490-be9e-4e38a2c290a4",
   "metadata": {},
   "source": [
    "Iterating over dictionaries can be done through keys, values, or key-value pairs:"
   ]
  },
  {
   "cell_type": "code",
   "execution_count": 9,
   "id": "62de6e0d-3d82-495c-8104-d8debc97f69e",
   "metadata": {},
   "outputs": [
    {
     "name": "stdout",
     "output_type": "stream",
     "text": [
      "a\n",
      "b\n",
      "1\n",
      "2\n",
      "('a', 1)\n",
      "('b', 2)\n"
     ]
    }
   ],
   "source": [
    "my_dict = {'a': 1, 'b': 2}\n",
    "\n",
    "# Iterating over keys\n",
    "for key in my_dict:\n",
    "    print(key)\n",
    "\n",
    "# Iterating over values\n",
    "for value in my_dict.values():\n",
    "    print(value)\n",
    "\n",
    "# Iterating over key-value pairs\n",
    "for item in my_dict.items():\n",
    "    print(item)"
   ]
  },
  {
   "cell_type": "markdown",
   "id": "8e303cff-0e1f-42aa-a684-017ad88fd065",
   "metadata": {},
   "source": [
    "### Files in Python are also iterable. You can loop through lines in a file:"
   ]
  },
  {
   "cell_type": "code",
   "execution_count": 11,
   "id": "5e7995b0-e616-476b-af35-a28f25a2e1a2",
   "metadata": {},
   "outputs": [
    {
     "name": "stdout",
     "output_type": "stream",
     "text": [
      "0 \t Hello, World!\n",
      "1 \t This is a test file.\n",
      "2 \t Each line will be printed separately.\n"
     ]
    }
   ],
   "source": [
    "# Step 1: Create and write to 'myfile.txt'\n",
    "with open('myfile.txt', 'w') as f:\n",
    "    f.write(\"Hello, World!\\n\")\n",
    "    f.write(\"This is a test file.\\n\")\n",
    "    f.write(\"Each line will be printed separately.\\n\")\n",
    "\n",
    "# Step 2: Read from 'myfile.txt' and print each line\n",
    "with open('myfile.txt', 'r') as f:\n",
    "    for idx, line in enumerate(f):\n",
    "        print(idx, \"\\t\", line.strip())"
   ]
  },
  {
   "cell_type": "markdown",
   "id": "bdc18bb1-7320-41ce-8a2c-5dad985cfede",
   "metadata": {},
   "source": [
    "#### 4. Custom Iterators\n",
    "\n",
    "You can create your own iterators by implementing the iterator protocol.\n",
    "\n",
    "**Example of a Fibonacci sequence iterator:**"
   ]
  },
  {
   "cell_type": "code",
   "execution_count": 44,
   "id": "518d9ee9-a676-4da9-b53d-0778fcf65c36",
   "metadata": {},
   "outputs": [
    {
     "name": "stdout",
     "output_type": "stream",
     "text": [
      "1\n",
      "1\n",
      "2\n",
      "3\n",
      "5\n",
      "8\n",
      "13\n",
      "21\n",
      "34\n",
      "55\n",
      "89\n",
      "144\n"
     ]
    }
   ],
   "source": [
    "class Fibonacci:\n",
    "    def __init__(self, max_value):\n",
    "        self.max_value = max_value\n",
    "        self.a, self.b = 0, 1\n",
    "\n",
    "    def __iter__(self):\n",
    "        return self\n",
    "\n",
    "    def __next__(self):\n",
    "        if self.a > self.max_value:\n",
    "            raise StopIteration\n",
    "        else:\n",
    "            self.a, self.b = self.b, self.a + self.b\n",
    "            return self.a\n",
    "\n",
    "# Using the custom iterable\n",
    "for num in Fibonacci(100):\n",
    "    print(num)"
   ]
  },
  {
   "cell_type": "markdown",
   "id": "91d24550-2d96-4168-b66d-206e6af953c7",
   "metadata": {},
   "source": [
    "#### 5. Generator Functions and Expressions\n",
    "\n",
    "Generators are a simple way to create iterators using functions and the `yield` statement.\n",
    "\n",
    "**Example of a generator function:**"
   ]
  },
  {
   "cell_type": "code",
   "execution_count": 48,
   "id": "e6ec14d4-d6bc-4a71-9e18-13b9ed6fe9fb",
   "metadata": {},
   "outputs": [
    {
     "name": "stdout",
     "output_type": "stream",
     "text": [
      "0\n",
      "1\n",
      "2\n",
      "3\n",
      "4\n",
      "5\n",
      "6\n",
      "7\n",
      "8\n",
      "9\n",
      "10\n"
     ]
    }
   ],
   "source": [
    "def infinite_sequence():\n",
    "    num = 0\n",
    "    while True:\n",
    "        yield num\n",
    "        num += 1\n",
    "\n",
    "for idx, number in enumerate(infinite_sequence()):\n",
    "    print(number)\n",
    "    if idx == 10:\n",
    "        break"
   ]
  },
  {
   "cell_type": "markdown",
   "id": "2a91f56c-e2c8-44c5-b255-7ada6f7291a0",
   "metadata": {},
   "source": [
    "### Exercise: Create a Generator Function\n",
    "\n",
    "#### Objective:\n",
    "\n",
    "Define a generator function named `fibonacci_sequence` that yields an infinite sequence of Fibonacci numbers. The Fibonacci sequence starts with 0 and 1, and each subsequent number is the sum of the previous two numbers. For example: 0, 1, 1, 2, 3, 5, 8, 13, ..."
   ]
  },
  {
   "cell_type": "code",
   "execution_count": 14,
   "id": "aab0a9c1-9395-4f67-a21a-13dbaf2ba6e7",
   "metadata": {},
   "outputs": [
    {
     "name": "stdout",
     "output_type": "stream",
     "text": [
      "0\n",
      "1\n",
      "1\n",
      "2\n",
      "3\n",
      "5\n",
      "8\n",
      "13\n",
      "21\n",
      "34\n"
     ]
    }
   ],
   "source": [
    "# Implement the `fibonacci_sequence` generator function:\n",
    "def fibonacci_sequence():\n",
    "    # ...\n",
    "\n",
    "for idx, number in enumerate(fibonacci_sequence()):\n",
    "    print(number)\n",
    "    if idx == 9:\n",
    "        break\n",
    "\n",
    "# Expected output:\n",
    "# 0\n",
    "# 1\n",
    "# 1\n",
    "# 2\n",
    "# 3\n",
    "# 5\n",
    "# 8\n",
    "# 13\n",
    "# 21\n",
    "# 34"
   ]
  },
  {
   "cell_type": "code",
   "execution_count": 15,
   "id": "53454fb6-69c5-40d2-a9ce-c211f2402e09",
   "metadata": {
    "jupyter": {
     "source_hidden": true
    }
   },
   "outputs": [
    {
     "name": "stdout",
     "output_type": "stream",
     "text": [
      "0\n",
      "1\n",
      "1\n",
      "2\n",
      "3\n",
      "5\n",
      "8\n",
      "13\n",
      "21\n",
      "34\n"
     ]
    }
   ],
   "source": [
    "# Solution\n",
    "\n",
    "def fibonacci_sequence():\n",
    "    a, b = 0, 1\n",
    "    while True:\n",
    "        yield a\n",
    "        a, b = b, a + b\n",
    "\n",
    "for idx, number in enumerate(fibonacci_sequence()):\n",
    "    print(number)\n",
    "    if idx == 9:\n",
    "        break"
   ]
  },
  {
   "cell_type": "markdown",
   "id": "19a73395-52a0-4646-8038-ad024175dde6",
   "metadata": {},
   "source": [
    "##### Generator expressions provide a concise way to create generators.\n",
    "\n",
    "**Example of a generator expression:**"
   ]
  },
  {
   "cell_type": "code",
   "execution_count": 18,
   "id": "4ef513ab-37f1-41f5-b19a-4c836faf7a0b",
   "metadata": {},
   "outputs": [
    {
     "name": "stdout",
     "output_type": "stream",
     "text": [
      "0\n",
      "1\n",
      "4\n",
      "9\n",
      "16\n"
     ]
    }
   ],
   "source": [
    "gen_exp = (x * x for x in range(5))\n",
    "for num in gen_exp:\n",
    "    print(num)"
   ]
  },
  {
   "cell_type": "markdown",
   "id": "f2b49173-b7bf-432c-96b2-46a8162dccfa",
   "metadata": {},
   "source": [
    "### Exercise:\n",
    "\n",
    "#### Objective:\n",
    "Write a generator expression that yields tuples containing each number from 1 to 10 and its square. Use this generator expression to print the tuples."
   ]
  },
  {
   "cell_type": "code",
   "execution_count": null,
   "id": "78048742-cf5d-4c98-895a-0afad463e534",
   "metadata": {},
   "outputs": [],
   "source": [
    "# Complete the following code:\n",
    "number_and_squares = # ...\n",
    "\n",
    "for number, square in number_and_squares:\n",
    "    print(f'Number: {number}, Square: {square}')\n",
    "\n",
    "# Expected output:\n",
    "# Number: 1, Square: 1\n",
    "# Number: 2, Square: 4\n",
    "# Number: 3, Square: 9\n",
    "# Number: 4, Square: 16\n",
    "# Number: 5, Square: 25\n",
    "# Number: 6, Square: 36\n",
    "# Number: 7, Square: 49\n",
    "# Number: 8, Square: 64\n",
    "# Number: 9, Square: 81\n",
    "# Number: 10, Square: 100"
   ]
  },
  {
   "cell_type": "code",
   "execution_count": 13,
   "id": "2934297c-18c5-4ed0-a68a-a1a352835876",
   "metadata": {
    "jupyter": {
     "source_hidden": true
    }
   },
   "outputs": [
    {
     "name": "stdout",
     "output_type": "stream",
     "text": [
      "Number: 1, Square: 1\n",
      "Number: 2, Square: 4\n",
      "Number: 3, Square: 9\n",
      "Number: 4, Square: 16\n",
      "Number: 5, Square: 25\n",
      "Number: 6, Square: 36\n",
      "Number: 7, Square: 49\n",
      "Number: 8, Square: 64\n",
      "Number: 9, Square: 81\n",
      "Number: 10, Square: 100\n"
     ]
    }
   ],
   "source": [
    "# Solution\n",
    "\n",
    "number_and_squares = ((x, x**2) for x in range(1, 11))\n",
    "\n",
    "for number, square in number_and_squares:\n",
    "    print(f'Number: {number}, Square: {square}')\n"
   ]
  },
  {
   "cell_type": "markdown",
   "id": "0fc64496-356a-4d3f-a8ca-25cc5063f036",
   "metadata": {},
   "source": [
    "#### 6. Performance Characteristics\n",
    "\n",
    "Iterators, especially generators, are memory efficient because they yield items one at a time rather than generating the entire list at once. This can be contrasted with list comprehensions, which generate the entire list in memory.\n",
    "\n",
    "**Memory usage comparison:**"
   ]
  },
  {
   "cell_type": "code",
   "execution_count": 19,
   "id": "a2223463-de19-4be9-ac8a-6f27ae3c2a2d",
   "metadata": {},
   "outputs": [
    {
     "name": "stdout",
     "output_type": "stream",
     "text": [
      "Size of list comprehension 8448728\n",
      "Size of generator expression 200\n"
     ]
    }
   ],
   "source": [
    "import sys\n",
    "\n",
    "# List comprehension\n",
    "list_comp = [x * x for x in range(1000000)]\n",
    "print(\"Size of list comprehension\", sys.getsizeof(list_comp))\n",
    "\n",
    "# Generator expression\n",
    "gen_exp = (x * x for x in range(1000000))\n",
    "print(\"Size of generator expression\", sys.getsizeof(gen_exp))"
   ]
  },
  {
   "cell_type": "markdown",
   "id": "c47b0803-3452-491d-b3c9-268c4e56adfe",
   "metadata": {},
   "source": [
    "In the above example, the list comprehension creates a list of a million items in memory, whereas the generator expression yields one item at a time."
   ]
  },
  {
   "cell_type": "code",
   "execution_count": 30,
   "id": "aa4c5ec9-edab-4d35-a1b7-5c6aaf773c14",
   "metadata": {},
   "outputs": [
    {
     "name": "stdout",
     "output_type": "stream",
     "text": [
      "sum_list_comp()\n",
      " Real time: 2.33 seconds\n",
      " CPU time: 2.30 seconds\n",
      "\n",
      "sum_gen_exp()\n",
      " Real time: 2.13 seconds\n",
      " CPU time: 2.05 seconds\n",
      "\n"
     ]
    }
   ],
   "source": [
    "import time\n",
    "\n",
    "def measure_performance(func):\n",
    "    def wrapper(*args, **kwargs):\n",
    "        t1 = time.perf_counter(), time.process_time()\n",
    "        result = func(*args, **kwargs)\n",
    "        t2 = time.perf_counter(), time.process_time()\n",
    "        print(f\"{func.__name__}()\")\n",
    "        print(f\" Real time: {t2[0] - t1[0]:.2f} seconds\")\n",
    "        print(f\" CPU time: {t2[1] - t1[1]:.2f} seconds\")\n",
    "        print()\n",
    "        return result\n",
    "    return wrapper\n",
    "\n",
    "@measure_performance\n",
    "def sum_list_comp(n=10000000):\n",
    "    list_comp = [x * x for x in range(n)]\n",
    "    return sum(list_comp)\n",
    "\n",
    "@measure_performance\n",
    "def sum_gen_exp(n=10000000):\n",
    "    gen_exp = (x * x for x in range(n))\n",
    "    return sum(gen_exp)\n",
    "\n",
    "# Test the functions\n",
    "n = 10000000\n",
    "_ = sum_list_comp(n)\n",
    "_ = sum_gen_exp(n)"
   ]
  },
  {
   "cell_type": "markdown",
   "id": "4e9b3b73-85e6-4296-8a11-f455a7300d13",
   "metadata": {},
   "source": [
    "In this example:\n",
    "\n",
    " - `sum_list_comp` takes more real time because of the overhead of generating and storing the entire list in memory.\n",
    " - `sum_gen_exp` is faster in terms of real time because it processes items one at a time, thus requiring less memory and potentially less time overall."
   ]
  },
  {
   "cell_type": "markdown",
   "id": "81f9672f-e9c7-4d1d-a4b8-a5e3771713a1",
   "metadata": {},
   "source": [
    "---\n",
    "\n",
    "# Python comprehensions\n",
    "\n",
    "Comprehensions are a concise way to create new sequences (like lists, sets, or dictionaries) by transforming or filtering items from an existing iterable (like a list or a range).\n",
    "\n",
    "They make your code shorter, cleaner, and often faster than using loops.\n",
    "\n",
    "## List comprehension\n",
    "\n",
    "List comprehension is a concise way to create lists using a single line of code. It typically takes the form:\n",
    "\n",
    "```python\n",
    "[expression for item in iterable if condition]\n",
    "```\n",
    "\n",
    "It can replace loops that build lists using `append()`, resulting in more readable and compact code.\n"
   ]
  },
  {
   "cell_type": "markdown",
   "id": "d64a6a2d-e5d9-4137-8d27-202d3a182622",
   "metadata": {},
   "source": [
    "\n",
    "### Exercise: Square the Even Numbers\n",
    "Create a list of the squares of even numbers from 0 to 20 using list comprehension.\n"
   ]
  },
  {
   "cell_type": "code",
   "execution_count": null,
   "id": "ca2477d2-6f3e-41e2-ab34-2cb8044ea000",
   "metadata": {},
   "outputs": [],
   "source": [
    "numbers = list(range(21))\n",
    "# Hint: Use list comprehension with an if condition to filter even numbers, then square them.\n"
   ]
  },
  {
   "cell_type": "code",
   "execution_count": 1,
   "id": "b4249050-a193-412e-9670-bb22619940df",
   "metadata": {
    "jupyter": {
     "source_hidden": true
    }
   },
   "outputs": [
    {
     "data": {
      "text/plain": [
       "[0, 4, 16, 36, 64, 100, 144, 196, 256, 324, 400]"
      ]
     },
     "execution_count": 1,
     "metadata": {},
     "output_type": "execute_result"
    }
   ],
   "source": [
    "# Solution:\n",
    "\n",
    "squares_of_even = [x**2 for x in range(21) if x % 2 == 0]\n",
    "squares_of_even\n"
   ]
  },
  {
   "cell_type": "markdown",
   "id": "df928285-3b67-4778-a0a2-dcb4969482f6",
   "metadata": {},
   "source": [
    "## Set comprehension\n",
    "Set comprehension allows you to create a set using a similar syntax to list comprehension. It helps eliminate duplicates automatically and is generally used when the order is not important and uniqueness is desired.\n",
    "\n",
    "```python\n",
    "{expression for item in iterable if condition}\n",
    "```\n"
   ]
  },
  {
   "cell_type": "markdown",
   "id": "04937198-ebb2-4050-9aae-9aad02f9292f",
   "metadata": {},
   "source": [
    "\n",
    "### Exercise: Unique First Letters\n",
    "Extract the set of unique first letters from a list of words.\n"
   ]
  },
  {
   "cell_type": "code",
   "execution_count": null,
   "id": "6aca045c-9c5a-4e62-9c7b-65293d6a29e1",
   "metadata": {},
   "outputs": [],
   "source": [
    "words = [\"apple\", \"banana\", \"avocado\", \"blueberry\", \"cherry\", \"apricot\"]\n",
    "# Hint: Use set comprehension to collect the first letter of each word.\n"
   ]
  },
  {
   "cell_type": "code",
   "execution_count": 3,
   "id": "c143bfe1-2902-40ff-9ee3-ed634d42cb22",
   "metadata": {
    "jupyter": {
     "source_hidden": true
    }
   },
   "outputs": [
    {
     "data": {
      "text/plain": [
       "{'a', 'b', 'c'}"
      ]
     },
     "execution_count": 3,
     "metadata": {},
     "output_type": "execute_result"
    }
   ],
   "source": [
    "# Solution:\n",
    "\n",
    "words = [\"apple\", \"banana\", \"avocado\", \"blueberry\", \"cherry\", \"apricot\"]\n",
    "\n",
    "first_letters = {word[0] for word in words}\n",
    "first_letters\n"
   ]
  },
  {
   "cell_type": "markdown",
   "id": "c45c3cf8-e05c-4fe1-8c14-4c32e199bb6e",
   "metadata": {},
   "source": [
    "## Dictionary comprehension\n",
    "\n",
    "Dictionary comprehension is used to construct dictionaries in a concise way. It follows this syntax:\n",
    "\n",
    "```python\n",
    "{key_expression: value_expression for item in iterable if condition}\n",
    "```\n",
    "\n",
    "It is useful for transforming data or building mappings dynamically.\n"
   ]
  },
  {
   "cell_type": "markdown",
   "id": "5233963a-95d2-4d6c-a020-c62e4bc0524f",
   "metadata": {},
   "source": [
    "### Exercise: Number Squared Mapping\n",
    "Create a dictionary where the keys are numbers from 0 to 10 and the values are their squares.\n"
   ]
  },
  {
   "cell_type": "code",
   "execution_count": null,
   "id": "c6b37740-56dc-4e37-b606-0bcbb9a9a291",
   "metadata": {},
   "outputs": [],
   "source": [
    "# Hint: Use dict comprehension with the number as key and its square as value.\n"
   ]
  },
  {
   "cell_type": "code",
   "execution_count": 4,
   "id": "bbbe7a9b-66bf-4a10-90fa-4c2853b3ecb0",
   "metadata": {
    "jupyter": {
     "source_hidden": true
    }
   },
   "outputs": [
    {
     "data": {
      "text/plain": [
       "{0: 0, 1: 1, 2: 4, 3: 9, 4: 16, 5: 25, 6: 36, 7: 49, 8: 64, 9: 81, 10: 100}"
      ]
     },
     "execution_count": 4,
     "metadata": {},
     "output_type": "execute_result"
    }
   ],
   "source": [
    "# Solution:\n",
    "\n",
    "squares_dict = {x: x**2 for x in range(11)}\n",
    "squares_dict\n"
   ]
  }
 ],
 "metadata": {
  "kernelspec": {
   "display_name": "Python 3 (ipykernel)",
   "language": "python",
   "name": "python3"
  },
  "language_info": {
   "codemirror_mode": {
    "name": "ipython",
    "version": 3
   },
   "file_extension": ".py",
   "mimetype": "text/x-python",
   "name": "python",
   "nbconvert_exporter": "python",
   "pygments_lexer": "ipython3",
   "version": "3.12.9"
  }
 },
 "nbformat": 4,
 "nbformat_minor": 5
}
